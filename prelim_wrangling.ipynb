{
 "cells": [
  {
   "cell_type": "markdown",
   "id": "d8bdfb00",
   "metadata": {},
   "source": [
    "# This file of code outlines the framework for the following project.\n",
    "### This shows a block of code for each year that cleans and merges all the data into a single file to be analyzed. This code will serve as an outline to automate this cleaning and merging with a for loop. \n",
    "\n",
    "The Data Wrangling of VAERS vaccine reports from 1990 to 2022. Vaccine injuries are reported to the CDC and the FDA via VAERS. VAERS is an early warning system to detect potential safety problems with vaccine.  \n",
    "\n",
    "The data used can be found at https://vaers.hhs.gov/data.html\n",
    "\n",
    "The data consists of 3 files for each year since 1990: YEARVAERSVAX, YEARVAERSDATA and YEARVAERSSYMPTOMS. For the purpose of this analysis I did not find the data in VAERSSYMPTOMS to be quantifiable so that data was dropped. "
   ]
  },
  {
   "cell_type": "code",
   "execution_count": 2,
   "id": "e4b5c514",
   "metadata": {},
   "outputs": [],
   "source": [
    "import pandas as pd"
   ]
  },
  {
   "cell_type": "markdown",
   "id": "5c1e2f28",
   "metadata": {},
   "source": [
    "# 1990:\n",
    "\n",
    "### Import the data sets"
   ]
  },
  {
   "cell_type": "code",
   "execution_count": 106,
   "id": "78a8c920",
   "metadata": {},
   "outputs": [],
   "source": [
    "vaersdata90 = pd.read_csv('C:/Users/chris/Desktop/WozU_Data_Science/VAERS-data/1990/1990VAERSDATA.csv',encoding = 'cp1252')"
   ]
  },
  {
   "cell_type": "code",
   "execution_count": 107,
   "id": "b19db524",
   "metadata": {},
   "outputs": [],
   "source": [
    "vaersvax90 = pd.read_csv('C:/Users/chris/Desktop/WozU_Data_Science/VAERS-data/1990/1990VAERSVAX.csv',encoding = 'cp1252')"
   ]
  },
  {
   "cell_type": "markdown",
   "id": "e000714e",
   "metadata": {},
   "source": [
    "### Condense the two data sets down to useful information for analysis"
   ]
  },
  {
   "cell_type": "code",
   "execution_count": 108,
   "id": "6d010be7",
   "metadata": {},
   "outputs": [],
   "source": [
    "vax90 = vaersvax90[['VAERS_ID', 'VAX_TYPE', 'VAX_MANU', 'VAX_LOT', 'VAX_NAME']]"
   ]
  },
  {
   "cell_type": "code",
   "execution_count": 109,
   "id": "e2ceed22",
   "metadata": {},
   "outputs": [],
   "source": [
    "data90 = vaersdata90[['VAERS_ID', 'AGE_YRS', 'STATE', 'SYMPTOM_TEXT', 'DIED', 'ER_VISIT']]"
   ]
  },
  {
   "cell_type": "markdown",
   "id": "af0b6458",
   "metadata": {},
   "source": [
    "### Merge the condensed datasets"
   ]
  },
  {
   "cell_type": "code",
   "execution_count": 110,
   "id": "c3e62f71",
   "metadata": {},
   "outputs": [],
   "source": [
    "vaers1990 = pd.merge(vax90, data90, on= 'VAERS_ID')"
   ]
  },
  {
   "cell_type": "code",
   "execution_count": 111,
   "id": "2d7221be",
   "metadata": {},
   "outputs": [],
   "source": [
    "vaers1990['Year'] = 1990"
   ]
  },
  {
   "cell_type": "markdown",
   "id": "71629d31",
   "metadata": {},
   "source": [
    "### Saved merged dataset by year as UTF-8 Encoding"
   ]
  },
  {
   "cell_type": "code",
   "execution_count": 112,
   "id": "50525363",
   "metadata": {},
   "outputs": [],
   "source": [
    "vaers1990.to_csv('C:/Users/chris/Desktop/WozU_Data_Science/VAERS_CleanData/vaers1991.csv', encoding = 'utf-8')"
   ]
  },
  {
   "cell_type": "markdown",
   "id": "02e90171",
   "metadata": {},
   "source": [
    "# 1991:\n",
    "\n",
    "### Import the data sets"
   ]
  },
  {
   "cell_type": "code",
   "execution_count": 113,
   "id": "0824a182",
   "metadata": {},
   "outputs": [],
   "source": [
    "vaersdata91 = pd.read_csv('C:/Users/chris/Desktop/WozU_Data_Science/VAERS-data/1991/1991VAERSDATA.csv',encoding = 'cp1252')"
   ]
  },
  {
   "cell_type": "code",
   "execution_count": 114,
   "id": "c5c30829",
   "metadata": {},
   "outputs": [],
   "source": [
    "vaersvax91 = pd.read_csv('C:/Users/chris/Desktop/WozU_Data_Science/VAERS-data/1991/1991VAERSVAX.csv',encoding = 'cp1252')"
   ]
  },
  {
   "cell_type": "markdown",
   "id": "9054d754",
   "metadata": {},
   "source": [
    "### Condense the two data sets down to useful information for analysis"
   ]
  },
  {
   "cell_type": "code",
   "execution_count": 115,
   "id": "6b58c05c",
   "metadata": {},
   "outputs": [],
   "source": [
    "vax91 = vaersvax91[['VAERS_ID', 'VAX_TYPE', 'VAX_MANU', 'VAX_LOT', 'VAX_NAME']]"
   ]
  },
  {
   "cell_type": "code",
   "execution_count": 116,
   "id": "40a8dc54",
   "metadata": {},
   "outputs": [],
   "source": [
    "data91 = vaersdata91[['VAERS_ID', 'AGE_YRS', 'STATE', 'SYMPTOM_TEXT', 'DIED', 'ER_VISIT']]"
   ]
  },
  {
   "cell_type": "markdown",
   "id": "befc654c",
   "metadata": {},
   "source": [
    "### Merge the condensed datasets"
   ]
  },
  {
   "cell_type": "code",
   "execution_count": 117,
   "id": "e0c151eb",
   "metadata": {},
   "outputs": [],
   "source": [
    "vaers1991 = pd.merge(vax91, data91, on= 'VAERS_ID')"
   ]
  },
  {
   "cell_type": "code",
   "execution_count": 118,
   "id": "0ff88cf9",
   "metadata": {},
   "outputs": [],
   "source": [
    "# The combined datasets do not have a vairable to identify them by year\n",
    "# This adds the respective year to each file that is combined by year\n",
    "vaers1991['Year'] = 1991"
   ]
  },
  {
   "cell_type": "code",
   "execution_count": 119,
   "id": "bd81b0c8",
   "metadata": {},
   "outputs": [],
   "source": [
    "# Saving the progress of each year combined file\n",
    "vaers1991.to_csv('C:/Users/chris/Desktop/WozU_Data_Science/VAERS_CleanData/vaers1991.csv', encoding = 'utf-8')"
   ]
  },
  {
   "cell_type": "code",
   "execution_count": 120,
   "id": "44dc87d0",
   "metadata": {},
   "outputs": [],
   "source": [
    "# Concatenating the newly combined year to the cumulative CSV\n",
    "vaers90_91 = pd.concat([vaers1990, vaers1991])"
   ]
  },
  {
   "cell_type": "markdown",
   "id": "02093fc7",
   "metadata": {},
   "source": [
    "# 1992:\n",
    "\n",
    "### Import the data sets"
   ]
  },
  {
   "cell_type": "code",
   "execution_count": 121,
   "id": "4c89ab07",
   "metadata": {},
   "outputs": [],
   "source": [
    "vaersdata92 = pd.read_csv('C:/Users/chris/Desktop/WozU_Data_Science/VAERS-data/1992/1992VAERSDATA.csv',encoding = 'cp1252')"
   ]
  },
  {
   "cell_type": "code",
   "execution_count": 122,
   "id": "d8db7b75",
   "metadata": {},
   "outputs": [],
   "source": [
    "vaersvax92 = pd.read_csv('C:/Users/chris/Desktop/WozU_Data_Science/VAERS-data/1992/1992VAERSVAX.csv',encoding = 'cp1252')"
   ]
  },
  {
   "cell_type": "markdown",
   "id": "dac750d4",
   "metadata": {},
   "source": [
    "### Condense the two data sets down to useful information for analysis"
   ]
  },
  {
   "cell_type": "code",
   "execution_count": 123,
   "id": "1be7f088",
   "metadata": {},
   "outputs": [],
   "source": [
    "vax92 = vaersvax92[['VAERS_ID', 'VAX_TYPE', 'VAX_MANU', 'VAX_LOT', 'VAX_NAME']]"
   ]
  },
  {
   "cell_type": "code",
   "execution_count": 124,
   "id": "557d91ac",
   "metadata": {},
   "outputs": [],
   "source": [
    "data92 = vaersdata92[['VAERS_ID', 'AGE_YRS', 'STATE', 'SYMPTOM_TEXT', 'DIED', 'ER_VISIT']]"
   ]
  },
  {
   "cell_type": "markdown",
   "id": "d3e322ea",
   "metadata": {},
   "source": [
    "### Merge the condensed datasets"
   ]
  },
  {
   "cell_type": "code",
   "execution_count": 125,
   "id": "f5a2d1bb",
   "metadata": {},
   "outputs": [],
   "source": [
    "vaers1992 = pd.merge(vax92, data92, on= 'VAERS_ID')"
   ]
  },
  {
   "cell_type": "code",
   "execution_count": 126,
   "id": "39232d73",
   "metadata": {},
   "outputs": [],
   "source": [
    "vaers1992['Year'] = 1992"
   ]
  },
  {
   "cell_type": "code",
   "execution_count": 127,
   "id": "4572e6ad",
   "metadata": {},
   "outputs": [],
   "source": [
    "vaers1992.to_csv('C:/Users/chris/Desktop/WozU_Data_Science/VAERS_CleanData/vaers1992.csv', encoding = 'utf-8')"
   ]
  },
  {
   "cell_type": "code",
   "execution_count": 128,
   "id": "641a4909",
   "metadata": {},
   "outputs": [],
   "source": [
    "vaers90_92 = pd.concat([vaers90_91, vaers1992])"
   ]
  },
  {
   "cell_type": "markdown",
   "id": "e091337f",
   "metadata": {},
   "source": [
    "# 1993:\n",
    "\n",
    "### Import the data sets"
   ]
  },
  {
   "cell_type": "code",
   "execution_count": 129,
   "id": "40c1e490",
   "metadata": {},
   "outputs": [],
   "source": [
    "vaersdata93 = pd.read_csv('C:/Users/chris/Desktop/WozU_Data_Science/VAERS-data/1993/1993VAERSDATA.csv',encoding = 'cp1252')"
   ]
  },
  {
   "cell_type": "code",
   "execution_count": 130,
   "id": "06186415",
   "metadata": {},
   "outputs": [],
   "source": [
    "vaersvax93 = pd.read_csv('C:/Users/chris/Desktop/WozU_Data_Science/VAERS-data/1993/1993VAERSVAX.csv',encoding = 'cp1252')"
   ]
  },
  {
   "cell_type": "markdown",
   "id": "13b29102",
   "metadata": {},
   "source": [
    "### Condense the two data sets down to useful information for analysis"
   ]
  },
  {
   "cell_type": "code",
   "execution_count": 131,
   "id": "c78150ec",
   "metadata": {},
   "outputs": [],
   "source": [
    "vax93 = vaersvax93[['VAERS_ID', 'VAX_TYPE', 'VAX_MANU', 'VAX_LOT', 'VAX_NAME']]"
   ]
  },
  {
   "cell_type": "code",
   "execution_count": 132,
   "id": "131e991c",
   "metadata": {},
   "outputs": [],
   "source": [
    "data93 = vaersdata93[['VAERS_ID', 'AGE_YRS', 'STATE', 'SYMPTOM_TEXT', 'DIED', 'ER_VISIT']]"
   ]
  },
  {
   "cell_type": "markdown",
   "id": "f1d97914",
   "metadata": {},
   "source": [
    "### Merge the condensed datasets"
   ]
  },
  {
   "cell_type": "code",
   "execution_count": 133,
   "id": "6a6fe390",
   "metadata": {},
   "outputs": [],
   "source": [
    "vaers1993 = pd.merge(vax93, data93, on= 'VAERS_ID')"
   ]
  },
  {
   "cell_type": "code",
   "execution_count": 134,
   "id": "b03ca483",
   "metadata": {},
   "outputs": [],
   "source": [
    "vaers1993['Year'] = 1993"
   ]
  },
  {
   "cell_type": "code",
   "execution_count": 135,
   "id": "9f66006c",
   "metadata": {},
   "outputs": [],
   "source": [
    "vaers1993.to_csv('C:/Users/chris/Desktop/WozU_Data_Science/VAERS_CleanData/vaers1993.csv', encoding = 'utf-8')"
   ]
  },
  {
   "cell_type": "code",
   "execution_count": 136,
   "id": "e1dbdfb6",
   "metadata": {},
   "outputs": [],
   "source": [
    "vaers90_93 = pd.concat([vaers90_92, vaers1993])"
   ]
  },
  {
   "cell_type": "markdown",
   "id": "5a127cfb",
   "metadata": {},
   "source": [
    "# 1994:\n",
    "\n",
    "### Import the data sets"
   ]
  },
  {
   "cell_type": "code",
   "execution_count": 137,
   "id": "9d3e9045",
   "metadata": {},
   "outputs": [],
   "source": [
    "vaersdata94 = pd.read_csv('C:/Users/chris/Desktop/WozU_Data_Science/VAERS-data/1994/1994VAERSDATA.csv',encoding = 'cp1252')"
   ]
  },
  {
   "cell_type": "code",
   "execution_count": 138,
   "id": "ce661bc4",
   "metadata": {},
   "outputs": [],
   "source": [
    "vaersvax94 = pd.read_csv('C:/Users/chris/Desktop/WozU_Data_Science/VAERS-data/1994/1994VAERSVAX.csv',encoding = 'cp1252')"
   ]
  },
  {
   "cell_type": "markdown",
   "id": "14b37c3c",
   "metadata": {},
   "source": [
    "### Condense the two data sets down to useful information for analysis"
   ]
  },
  {
   "cell_type": "code",
   "execution_count": 139,
   "id": "5fad93c8",
   "metadata": {},
   "outputs": [],
   "source": [
    "vax94 = vaersvax94[['VAERS_ID', 'VAX_TYPE', 'VAX_MANU', 'VAX_LOT', 'VAX_NAME']]"
   ]
  },
  {
   "cell_type": "code",
   "execution_count": 140,
   "id": "f070652e",
   "metadata": {},
   "outputs": [],
   "source": [
    "data94 = vaersdata94[['VAERS_ID', 'AGE_YRS', 'STATE', 'SYMPTOM_TEXT', 'DIED', 'ER_VISIT']]"
   ]
  },
  {
   "cell_type": "markdown",
   "id": "af3c8218",
   "metadata": {},
   "source": [
    "### Merge the condensed datasets"
   ]
  },
  {
   "cell_type": "code",
   "execution_count": 141,
   "id": "3e2b78e5",
   "metadata": {},
   "outputs": [],
   "source": [
    "vaers1994 = pd.merge(vax94, data94, on= 'VAERS_ID')"
   ]
  },
  {
   "cell_type": "code",
   "execution_count": 142,
   "id": "4d812da6",
   "metadata": {},
   "outputs": [],
   "source": [
    "vaers1994['Year'] = 1994"
   ]
  },
  {
   "cell_type": "code",
   "execution_count": 143,
   "id": "42949e01",
   "metadata": {},
   "outputs": [],
   "source": [
    "vaers1994.to_csv('C:/Users/chris/Desktop/WozU_Data_Science/VAERS_CleanData/vaers1994.csv', encoding = 'utf-8')"
   ]
  },
  {
   "cell_type": "code",
   "execution_count": 144,
   "id": "23ac4b26",
   "metadata": {},
   "outputs": [],
   "source": [
    "vaers90_94 = pd.concat([vaers90_93, vaers1994])"
   ]
  },
  {
   "cell_type": "markdown",
   "id": "f6e80986",
   "metadata": {},
   "source": [
    "# 1995:\n",
    "\n",
    "### Import the data sets"
   ]
  },
  {
   "cell_type": "code",
   "execution_count": 145,
   "id": "e345ee03",
   "metadata": {},
   "outputs": [],
   "source": [
    "vaersdata95 = pd.read_csv('C:/Users/chris/Desktop/WozU_Data_Science/VAERS-data/1995/1995VAERSDATA.csv',encoding = 'cp1252')"
   ]
  },
  {
   "cell_type": "code",
   "execution_count": 146,
   "id": "ed53aecb",
   "metadata": {},
   "outputs": [],
   "source": [
    "vaersvax95 = pd.read_csv('C:/Users/chris/Desktop/WozU_Data_Science/VAERS-data/1995/1995VAERSVAX.csv',encoding = 'cp1252')"
   ]
  },
  {
   "cell_type": "markdown",
   "id": "d2b5f07b",
   "metadata": {},
   "source": [
    "### Condense the two data sets down to useful information for analysis"
   ]
  },
  {
   "cell_type": "code",
   "execution_count": 147,
   "id": "53942fe7",
   "metadata": {},
   "outputs": [],
   "source": [
    "vax95 = vaersvax95[['VAERS_ID', 'VAX_TYPE', 'VAX_MANU', 'VAX_LOT', 'VAX_NAME']]"
   ]
  },
  {
   "cell_type": "code",
   "execution_count": 148,
   "id": "9d15c999",
   "metadata": {},
   "outputs": [],
   "source": [
    "data95 = vaersdata95[['VAERS_ID', 'AGE_YRS', 'STATE', 'SYMPTOM_TEXT', 'DIED', 'ER_VISIT']]"
   ]
  },
  {
   "cell_type": "markdown",
   "id": "3420af23",
   "metadata": {},
   "source": [
    "### Merge the condensed datasets"
   ]
  },
  {
   "cell_type": "code",
   "execution_count": 149,
   "id": "5a8dca0e",
   "metadata": {},
   "outputs": [],
   "source": [
    "vaers1995 = pd.merge(vax95, data95, on= 'VAERS_ID')"
   ]
  },
  {
   "cell_type": "code",
   "execution_count": 150,
   "id": "e6ea897f",
   "metadata": {},
   "outputs": [],
   "source": [
    "vaers1995['Year'] = 1991"
   ]
  },
  {
   "cell_type": "code",
   "execution_count": 151,
   "id": "7bbf6f8b",
   "metadata": {},
   "outputs": [],
   "source": [
    "vaers1995.to_csv('C:/Users/chris/Desktop/WozU_Data_Science/VAERS_CleanData/vaers1995.csv', encoding = 'utf-8')"
   ]
  },
  {
   "cell_type": "code",
   "execution_count": 152,
   "id": "fa1ef311",
   "metadata": {},
   "outputs": [],
   "source": [
    "vaers90_95 = pd.concat([vaers90_94, vaers1995])"
   ]
  },
  {
   "cell_type": "markdown",
   "id": "3173a6e4",
   "metadata": {},
   "source": [
    "# 1996:\n",
    "\n",
    "### Import the data sets"
   ]
  },
  {
   "cell_type": "code",
   "execution_count": 153,
   "id": "b2947e58",
   "metadata": {},
   "outputs": [],
   "source": [
    "vaersdata96 = pd.read_csv('C:/Users/chris/Desktop/WozU_Data_Science/VAERS-data/1996/1996VAERSDATA.csv',encoding = 'cp1252')"
   ]
  },
  {
   "cell_type": "code",
   "execution_count": 154,
   "id": "3e8f247e",
   "metadata": {},
   "outputs": [],
   "source": [
    "vaersvax96 = pd.read_csv('C:/Users/chris/Desktop/WozU_Data_Science/VAERS-data/1996/1996VAERSVAX.csv',encoding = 'cp1252')"
   ]
  },
  {
   "cell_type": "markdown",
   "id": "ec526946",
   "metadata": {},
   "source": [
    "### Condense the two data sets down to useful information for analysis"
   ]
  },
  {
   "cell_type": "code",
   "execution_count": 155,
   "id": "53173044",
   "metadata": {},
   "outputs": [],
   "source": [
    "vax96 = vaersvax96[['VAERS_ID', 'VAX_TYPE', 'VAX_MANU', 'VAX_LOT', 'VAX_NAME']]"
   ]
  },
  {
   "cell_type": "code",
   "execution_count": 156,
   "id": "6a499219",
   "metadata": {},
   "outputs": [],
   "source": [
    "data96 = vaersdata96[['VAERS_ID', 'AGE_YRS', 'STATE', 'SYMPTOM_TEXT', 'DIED', 'ER_VISIT']]"
   ]
  },
  {
   "cell_type": "markdown",
   "id": "5a836aa4",
   "metadata": {},
   "source": [
    "### Merge the condensed datasets"
   ]
  },
  {
   "cell_type": "code",
   "execution_count": 157,
   "id": "cc6e8aca",
   "metadata": {},
   "outputs": [],
   "source": [
    "vaers1996 = pd.merge(vax96, data96, on= 'VAERS_ID')"
   ]
  },
  {
   "cell_type": "code",
   "execution_count": 158,
   "id": "660c0564",
   "metadata": {},
   "outputs": [],
   "source": [
    "vaers1996['Year'] = 1996"
   ]
  },
  {
   "cell_type": "code",
   "execution_count": 159,
   "id": "9db1e74b",
   "metadata": {},
   "outputs": [],
   "source": [
    "vaers1996.to_csv('C:/Users/chris/Desktop/WozU_Data_Science/VAERS_CleanData/vaers1996.csv', encoding = 'utf-8')"
   ]
  },
  {
   "cell_type": "code",
   "execution_count": 160,
   "id": "db1a1580",
   "metadata": {},
   "outputs": [],
   "source": [
    "vaers90_96 = pd.concat([vaers90_95, vaers1996])"
   ]
  },
  {
   "cell_type": "markdown",
   "id": "f6cdcd33",
   "metadata": {},
   "source": [
    "# 1997:\n",
    "\n",
    "### Import the data sets"
   ]
  },
  {
   "cell_type": "code",
   "execution_count": 161,
   "id": "75b855d1",
   "metadata": {},
   "outputs": [],
   "source": [
    "vaersdata97 = pd.read_csv('C:/Users/chris/Desktop/WozU_Data_Science/VAERS-data/1997/1997VAERSDATA.csv',encoding = 'cp1252')"
   ]
  },
  {
   "cell_type": "code",
   "execution_count": 162,
   "id": "2d5ea8cb",
   "metadata": {},
   "outputs": [],
   "source": [
    "vaersvax97 = pd.read_csv('C:/Users/chris/Desktop/WozU_Data_Science/VAERS-data/1997/1997VAERSVAX.csv',encoding = 'cp1252')"
   ]
  },
  {
   "cell_type": "markdown",
   "id": "797e03fd",
   "metadata": {},
   "source": [
    "### Condense the two data sets down to useful information for analysis"
   ]
  },
  {
   "cell_type": "code",
   "execution_count": 163,
   "id": "60c6e9ee",
   "metadata": {},
   "outputs": [],
   "source": [
    "vax97 = vaersvax97[['VAERS_ID', 'VAX_TYPE', 'VAX_MANU', 'VAX_LOT', 'VAX_NAME']]"
   ]
  },
  {
   "cell_type": "code",
   "execution_count": 164,
   "id": "1061fd34",
   "metadata": {},
   "outputs": [],
   "source": [
    "data97 = vaersdata97[['VAERS_ID', 'AGE_YRS', 'STATE', 'SYMPTOM_TEXT', 'DIED', 'ER_VISIT']]"
   ]
  },
  {
   "cell_type": "markdown",
   "id": "ad1980b0",
   "metadata": {},
   "source": [
    "### Merge the condensed datasets"
   ]
  },
  {
   "cell_type": "code",
   "execution_count": 165,
   "id": "3d575b3d",
   "metadata": {},
   "outputs": [],
   "source": [
    "vaers1997 = pd.merge(vax97, data97, on= 'VAERS_ID')"
   ]
  },
  {
   "cell_type": "code",
   "execution_count": 166,
   "id": "17894526",
   "metadata": {},
   "outputs": [],
   "source": [
    "vaers1997['Year'] = 1997"
   ]
  },
  {
   "cell_type": "code",
   "execution_count": 167,
   "id": "e594d925",
   "metadata": {},
   "outputs": [],
   "source": [
    "vaers1997.to_csv('C:/Users/chris/Desktop/WozU_Data_Science/VAERS_CleanData/vaers1997.csv', encoding = 'utf-8')"
   ]
  },
  {
   "cell_type": "code",
   "execution_count": 168,
   "id": "deb9e38c",
   "metadata": {},
   "outputs": [],
   "source": [
    "vaers90_97 = pd.concat([vaers90_96, vaers1997])"
   ]
  },
  {
   "cell_type": "markdown",
   "id": "c28305ff",
   "metadata": {},
   "source": [
    "# 1998:\n",
    "\n",
    "### Import the data sets"
   ]
  },
  {
   "cell_type": "code",
   "execution_count": 169,
   "id": "f423dfab",
   "metadata": {},
   "outputs": [],
   "source": [
    "vaersdata98 = pd.read_csv('C:/Users/chris/Desktop/WozU_Data_Science/VAERS-data/1998/1998VAERSDATA.csv',encoding = 'cp1252')"
   ]
  },
  {
   "cell_type": "code",
   "execution_count": 170,
   "id": "dc68388a",
   "metadata": {},
   "outputs": [],
   "source": [
    "vaersvax98 = pd.read_csv('C:/Users/chris/Desktop/WozU_Data_Science/VAERS-data/1998/1998VAERSVAX.csv',encoding = 'cp1252')"
   ]
  },
  {
   "cell_type": "markdown",
   "id": "4e082d3c",
   "metadata": {},
   "source": [
    "### Condense the two data sets down to useful information for analysis"
   ]
  },
  {
   "cell_type": "code",
   "execution_count": 171,
   "id": "54a35bf9",
   "metadata": {},
   "outputs": [],
   "source": [
    "vax98 = vaersvax98[['VAERS_ID', 'VAX_TYPE', 'VAX_MANU', 'VAX_LOT', 'VAX_NAME']]"
   ]
  },
  {
   "cell_type": "code",
   "execution_count": 172,
   "id": "80ed9df6",
   "metadata": {},
   "outputs": [],
   "source": [
    "data98 = vaersdata98[['VAERS_ID', 'AGE_YRS', 'STATE', 'SYMPTOM_TEXT', 'DIED', 'ER_VISIT']]"
   ]
  },
  {
   "cell_type": "markdown",
   "id": "c4e835fe",
   "metadata": {},
   "source": [
    "### Merge the condensed datasets"
   ]
  },
  {
   "cell_type": "code",
   "execution_count": 173,
   "id": "03a0d1a8",
   "metadata": {},
   "outputs": [],
   "source": [
    "vaers1998 = pd.merge(vax98, data98, on= 'VAERS_ID')"
   ]
  },
  {
   "cell_type": "code",
   "execution_count": 174,
   "id": "9501f2a8",
   "metadata": {},
   "outputs": [],
   "source": [
    "vaers1998['Year'] = 1998"
   ]
  },
  {
   "cell_type": "code",
   "execution_count": 175,
   "id": "2f091c2a",
   "metadata": {},
   "outputs": [],
   "source": [
    "vaers1998.to_csv('C:/Users/chris/Desktop/WozU_Data_Science/VAERS_CleanData/vaers1998.csv', encoding = 'utf-8')"
   ]
  },
  {
   "cell_type": "code",
   "execution_count": 176,
   "id": "b04559f7",
   "metadata": {},
   "outputs": [],
   "source": [
    "vaers90_98 = pd.concat([vaers90_97, vaers1998])"
   ]
  },
  {
   "cell_type": "markdown",
   "id": "203fac65",
   "metadata": {},
   "source": [
    "# 1999:\n",
    "\n",
    "### Import the data sets"
   ]
  },
  {
   "cell_type": "code",
   "execution_count": 177,
   "id": "b1503943",
   "metadata": {},
   "outputs": [],
   "source": [
    "vaersdata99 = pd.read_csv('C:/Users/chris/Desktop/WozU_Data_Science/VAERS-data/1999/1999VAERSDATA.csv',encoding = 'cp1252')"
   ]
  },
  {
   "cell_type": "code",
   "execution_count": 178,
   "id": "4082672a",
   "metadata": {},
   "outputs": [],
   "source": [
    "vaersvax99 = pd.read_csv('C:/Users/chris/Desktop/WozU_Data_Science/VAERS-data/1999/1999VAERSVAX.csv',encoding = 'cp1252')"
   ]
  },
  {
   "cell_type": "markdown",
   "id": "b3a415fb",
   "metadata": {},
   "source": [
    "### Condense the two data sets down to useful information for analysis"
   ]
  },
  {
   "cell_type": "code",
   "execution_count": 179,
   "id": "b90d7c0b",
   "metadata": {},
   "outputs": [],
   "source": [
    "vax99 = vaersvax99[['VAERS_ID', 'VAX_TYPE', 'VAX_MANU', 'VAX_LOT', 'VAX_NAME']]"
   ]
  },
  {
   "cell_type": "code",
   "execution_count": 180,
   "id": "ff9efca2",
   "metadata": {},
   "outputs": [],
   "source": [
    "data99 = vaersdata99[['VAERS_ID', 'AGE_YRS', 'STATE', 'SYMPTOM_TEXT', 'DIED', 'ER_VISIT']]"
   ]
  },
  {
   "cell_type": "markdown",
   "id": "90fc7601",
   "metadata": {},
   "source": [
    "### Merge the condensed datasets"
   ]
  },
  {
   "cell_type": "code",
   "execution_count": 181,
   "id": "fdba31ac",
   "metadata": {},
   "outputs": [],
   "source": [
    "vaers1999 = pd.merge(vax99, data99, on= 'VAERS_ID')"
   ]
  },
  {
   "cell_type": "code",
   "execution_count": 182,
   "id": "140f05c1",
   "metadata": {},
   "outputs": [],
   "source": [
    "vaers1999['Year'] = 1999"
   ]
  },
  {
   "cell_type": "code",
   "execution_count": 183,
   "id": "5d051936",
   "metadata": {},
   "outputs": [],
   "source": [
    "vaers1999.to_csv('C:/Users/chris/Desktop/WozU_Data_Science/VAERS_CleanData/vaers1999.csv', encoding = 'utf-8')"
   ]
  },
  {
   "cell_type": "code",
   "execution_count": 184,
   "id": "b5b7324f",
   "metadata": {},
   "outputs": [],
   "source": [
    "vaers90_99 = pd.concat([vaers90_98, vaers1999])"
   ]
  },
  {
   "cell_type": "markdown",
   "id": "f2933bc9",
   "metadata": {},
   "source": [
    "# 2000:\n",
    "\n",
    "### Import the data sets"
   ]
  },
  {
   "cell_type": "code",
   "execution_count": 185,
   "id": "a8e03a4f",
   "metadata": {},
   "outputs": [],
   "source": [
    "vaersdata00 = pd.read_csv('C:/Users/chris/Desktop/WozU_Data_Science/VAERS-data/2000/2000VAERSDATA.csv',encoding = 'cp1252')"
   ]
  },
  {
   "cell_type": "code",
   "execution_count": 186,
   "id": "ddff85a8",
   "metadata": {},
   "outputs": [],
   "source": [
    "vaersvax00 = pd.read_csv('C:/Users/chris/Desktop/WozU_Data_Science/VAERS-data/2000/2000VAERSVAX.csv',encoding = 'cp1252')"
   ]
  },
  {
   "cell_type": "markdown",
   "id": "2ff6c443",
   "metadata": {},
   "source": [
    "### Condense the two data sets down to useful information for analysis"
   ]
  },
  {
   "cell_type": "code",
   "execution_count": 187,
   "id": "13532067",
   "metadata": {},
   "outputs": [],
   "source": [
    "vax00 = vaersvax00[['VAERS_ID', 'VAX_TYPE', 'VAX_MANU', 'VAX_LOT', 'VAX_NAME']]"
   ]
  },
  {
   "cell_type": "code",
   "execution_count": 188,
   "id": "f83f3f81",
   "metadata": {},
   "outputs": [],
   "source": [
    "data00 = vaersdata00[['VAERS_ID', 'AGE_YRS', 'STATE', 'SYMPTOM_TEXT', 'DIED', 'ER_VISIT']]"
   ]
  },
  {
   "cell_type": "markdown",
   "id": "6011e33a",
   "metadata": {},
   "source": [
    "### Merge the condensed datasets"
   ]
  },
  {
   "cell_type": "code",
   "execution_count": 189,
   "id": "ffba6bed",
   "metadata": {},
   "outputs": [],
   "source": [
    "vaers2000 = pd.merge(vax00, data00, on= 'VAERS_ID')"
   ]
  },
  {
   "cell_type": "code",
   "execution_count": 190,
   "id": "2bab80c2",
   "metadata": {},
   "outputs": [],
   "source": [
    "vaers2000['Year'] = 2000"
   ]
  },
  {
   "cell_type": "code",
   "execution_count": 191,
   "id": "aadc0dd5",
   "metadata": {},
   "outputs": [],
   "source": [
    "vaers2000.to_csv('C:/Users/chris/Desktop/WozU_Data_Science/VAERS_CleanData/vaers2000.csv', encoding = 'utf-8')"
   ]
  },
  {
   "cell_type": "code",
   "execution_count": 192,
   "id": "43f7d7bd",
   "metadata": {},
   "outputs": [],
   "source": [
    "vaers90_00 = pd.concat([vaers90_99, vaers2000])"
   ]
  },
  {
   "cell_type": "markdown",
   "id": "67ed1843",
   "metadata": {},
   "source": [
    "# 2001:\n",
    "\n",
    "### Import the data sets"
   ]
  },
  {
   "cell_type": "code",
   "execution_count": 193,
   "id": "9f5e993f",
   "metadata": {},
   "outputs": [],
   "source": [
    "vaersdata01 = pd.read_csv('C:/Users/chris/Desktop/WozU_Data_Science/VAERS-data/2001/2001VAERSDATA.csv',encoding = 'cp1252')"
   ]
  },
  {
   "cell_type": "code",
   "execution_count": 194,
   "id": "251293ab",
   "metadata": {},
   "outputs": [],
   "source": [
    "vaersvax01 = pd.read_csv('C:/Users/chris/Desktop/WozU_Data_Science/VAERS-data/2001/2001VAERSVAX.csv',encoding = 'cp1252')"
   ]
  },
  {
   "cell_type": "markdown",
   "id": "1f369a4a",
   "metadata": {},
   "source": [
    "### Condense the two data sets down to useful information for analysis"
   ]
  },
  {
   "cell_type": "code",
   "execution_count": 195,
   "id": "67ea6a8e",
   "metadata": {},
   "outputs": [],
   "source": [
    "vax01 = vaersvax01[['VAERS_ID', 'VAX_TYPE', 'VAX_MANU', 'VAX_LOT', 'VAX_NAME']]"
   ]
  },
  {
   "cell_type": "code",
   "execution_count": 196,
   "id": "f74f8f57",
   "metadata": {},
   "outputs": [],
   "source": [
    "data01 = vaersdata01[['VAERS_ID', 'AGE_YRS', 'STATE', 'SYMPTOM_TEXT', 'DIED', 'ER_VISIT']]"
   ]
  },
  {
   "cell_type": "markdown",
   "id": "ddb9c7ac",
   "metadata": {},
   "source": [
    "### Merge the condensed datasets"
   ]
  },
  {
   "cell_type": "code",
   "execution_count": 197,
   "id": "5e5ab702",
   "metadata": {},
   "outputs": [],
   "source": [
    "vaers2001 = pd.merge(vax01, data01, on= 'VAERS_ID')"
   ]
  },
  {
   "cell_type": "code",
   "execution_count": 198,
   "id": "c710b385",
   "metadata": {},
   "outputs": [],
   "source": [
    "vaers2001['Year'] = 2001"
   ]
  },
  {
   "cell_type": "code",
   "execution_count": 199,
   "id": "09f45cb9",
   "metadata": {},
   "outputs": [],
   "source": [
    "vaers2001.to_csv('C:/Users/chris/Desktop/WozU_Data_Science/VAERS_CleanData/vaers2001.csv', encoding = 'utf-8')"
   ]
  },
  {
   "cell_type": "code",
   "execution_count": 200,
   "id": "a070563e",
   "metadata": {},
   "outputs": [],
   "source": [
    "vaers90_01 = pd.concat([vaers90_00, vaers2001])"
   ]
  },
  {
   "cell_type": "markdown",
   "id": "5d0241f4",
   "metadata": {},
   "source": [
    "# 2002:\n",
    "\n",
    "### Import the data sets"
   ]
  },
  {
   "cell_type": "code",
   "execution_count": 201,
   "id": "42ff6ed3",
   "metadata": {},
   "outputs": [],
   "source": [
    "vaersdata02 = pd.read_csv('C:/Users/chris/Desktop/WozU_Data_Science/VAERS-data/2002/2002VAERSDATA.csv',encoding = 'cp1252')"
   ]
  },
  {
   "cell_type": "code",
   "execution_count": 202,
   "id": "236df85f",
   "metadata": {},
   "outputs": [],
   "source": [
    "vaersvax02 = pd.read_csv('C:/Users/chris/Desktop/WozU_Data_Science/VAERS-data/2002/2002VAERSVAX.csv',encoding = 'cp1252')"
   ]
  },
  {
   "cell_type": "markdown",
   "id": "9c17b281",
   "metadata": {},
   "source": [
    "### Condense the two data sets down to useful information for analysis"
   ]
  },
  {
   "cell_type": "code",
   "execution_count": 203,
   "id": "0ea50f4c",
   "metadata": {},
   "outputs": [],
   "source": [
    "vax02 = vaersvax02[['VAERS_ID', 'VAX_TYPE', 'VAX_MANU', 'VAX_LOT', 'VAX_NAME']]"
   ]
  },
  {
   "cell_type": "code",
   "execution_count": 204,
   "id": "cfd607c4",
   "metadata": {},
   "outputs": [],
   "source": [
    "data02 = vaersdata02[['VAERS_ID', 'AGE_YRS', 'STATE', 'SYMPTOM_TEXT', 'DIED', 'ER_VISIT']]"
   ]
  },
  {
   "cell_type": "markdown",
   "id": "1dad903b",
   "metadata": {},
   "source": [
    "### Merge the condensed datasets"
   ]
  },
  {
   "cell_type": "code",
   "execution_count": 205,
   "id": "8a20059b",
   "metadata": {},
   "outputs": [],
   "source": [
    "vaers2002 = pd.merge(vax02, data02, on= 'VAERS_ID')"
   ]
  },
  {
   "cell_type": "code",
   "execution_count": 206,
   "id": "50daf41f",
   "metadata": {},
   "outputs": [],
   "source": [
    "vaers2002['Year'] = 2002"
   ]
  },
  {
   "cell_type": "code",
   "execution_count": 207,
   "id": "22ea864f",
   "metadata": {},
   "outputs": [],
   "source": [
    "vaers2002.to_csv('C:/Users/chris/Desktop/WozU_Data_Science/VAERS_CleanData/vaers2002.csv', encoding = 'utf-8')"
   ]
  },
  {
   "cell_type": "code",
   "execution_count": 208,
   "id": "8d6f262c",
   "metadata": {},
   "outputs": [],
   "source": [
    "vaers90_02 = pd.concat([vaers90_01, vaers2002])"
   ]
  },
  {
   "cell_type": "markdown",
   "id": "507a3789",
   "metadata": {},
   "source": [
    "# 2003:\n",
    "\n",
    "### Import the data sets"
   ]
  },
  {
   "cell_type": "code",
   "execution_count": 209,
   "id": "3f2cdecd",
   "metadata": {},
   "outputs": [],
   "source": [
    "vaersdata03 = pd.read_csv('C:/Users/chris/Desktop/WozU_Data_Science/VAERS-data/2003/2003VAERSDATA.csv',encoding = 'cp1252')"
   ]
  },
  {
   "cell_type": "code",
   "execution_count": 210,
   "id": "624a194b",
   "metadata": {},
   "outputs": [],
   "source": [
    "vaersvax03 = pd.read_csv('C:/Users/chris/Desktop/WozU_Data_Science/VAERS-data/2003/2003VAERSVAX.csv',encoding = 'cp1252')"
   ]
  },
  {
   "cell_type": "markdown",
   "id": "9a64c965",
   "metadata": {},
   "source": [
    "### Condense the two data sets down to useful information for analysis"
   ]
  },
  {
   "cell_type": "code",
   "execution_count": 211,
   "id": "e960987d",
   "metadata": {},
   "outputs": [],
   "source": [
    "vax03 = vaersvax03[['VAERS_ID', 'VAX_TYPE', 'VAX_MANU', 'VAX_LOT', 'VAX_NAME']]"
   ]
  },
  {
   "cell_type": "code",
   "execution_count": 212,
   "id": "3e1d8562",
   "metadata": {},
   "outputs": [],
   "source": [
    "data03 = vaersdata03[['VAERS_ID', 'AGE_YRS', 'STATE', 'SYMPTOM_TEXT', 'DIED', 'ER_VISIT']]"
   ]
  },
  {
   "cell_type": "markdown",
   "id": "a6d6f54e",
   "metadata": {},
   "source": [
    "### Merge the condensed datasets"
   ]
  },
  {
   "cell_type": "code",
   "execution_count": 213,
   "id": "84c5e62f",
   "metadata": {},
   "outputs": [],
   "source": [
    "vaers2003 = pd.merge(vax03, data03, on= 'VAERS_ID')"
   ]
  },
  {
   "cell_type": "code",
   "execution_count": 214,
   "id": "70a67f7e",
   "metadata": {},
   "outputs": [],
   "source": [
    "vaers2003['Year'] = 2003"
   ]
  },
  {
   "cell_type": "code",
   "execution_count": 215,
   "id": "1285346a",
   "metadata": {},
   "outputs": [],
   "source": [
    "vaers2003.to_csv('C:/Users/chris/Desktop/WozU_Data_Science/VAERS_CleanData/vaers2003.csv', encoding = 'utf-8')"
   ]
  },
  {
   "cell_type": "code",
   "execution_count": 216,
   "id": "18f0a863",
   "metadata": {},
   "outputs": [],
   "source": [
    "vaers90_03 = pd.concat([vaers90_02, vaers2003])"
   ]
  },
  {
   "cell_type": "markdown",
   "id": "888053c1",
   "metadata": {},
   "source": [
    "# 2004:\n",
    "\n",
    "### Import the data sets"
   ]
  },
  {
   "cell_type": "code",
   "execution_count": 217,
   "id": "1cc5a6a6",
   "metadata": {},
   "outputs": [],
   "source": [
    "vaersdata04 = pd.read_csv('C:/Users/chris/Desktop/WozU_Data_Science/VAERS-data/2004/2004VAERSDATA.csv',encoding = 'cp1252')"
   ]
  },
  {
   "cell_type": "code",
   "execution_count": 218,
   "id": "697c6fca",
   "metadata": {},
   "outputs": [],
   "source": [
    "vaersvax04 = pd.read_csv('C:/Users/chris/Desktop/WozU_Data_Science/VAERS-data/2004/2004VAERSVAX.csv',encoding = 'cp1252')"
   ]
  },
  {
   "cell_type": "markdown",
   "id": "20c9a109",
   "metadata": {},
   "source": [
    "### Condense the two data sets down to useful information for analysis"
   ]
  },
  {
   "cell_type": "code",
   "execution_count": 219,
   "id": "f2baa441",
   "metadata": {},
   "outputs": [],
   "source": [
    "vax04 = vaersvax04[['VAERS_ID', 'VAX_TYPE', 'VAX_MANU', 'VAX_LOT', 'VAX_NAME']]"
   ]
  },
  {
   "cell_type": "code",
   "execution_count": 220,
   "id": "39400eb9",
   "metadata": {},
   "outputs": [],
   "source": [
    "data04 = vaersdata04[['VAERS_ID', 'AGE_YRS', 'STATE', 'SYMPTOM_TEXT', 'DIED', 'ER_VISIT']]"
   ]
  },
  {
   "cell_type": "markdown",
   "id": "8c0ae7c4",
   "metadata": {},
   "source": [
    "### Merge the condensed datasets"
   ]
  },
  {
   "cell_type": "code",
   "execution_count": 221,
   "id": "d2fb7141",
   "metadata": {},
   "outputs": [],
   "source": [
    "vaers2004 = pd.merge(vax04, data04, on= 'VAERS_ID')"
   ]
  },
  {
   "cell_type": "code",
   "execution_count": 222,
   "id": "d06d98e6",
   "metadata": {},
   "outputs": [],
   "source": [
    "vaers2004['Year'] = 2004"
   ]
  },
  {
   "cell_type": "code",
   "execution_count": 223,
   "id": "2fd422bf",
   "metadata": {},
   "outputs": [],
   "source": [
    "vaers2004.to_csv('C:/Users/chris/Desktop/WozU_Data_Science/VAERS_CleanData/vaers2004.csv', encoding = 'utf-8')"
   ]
  },
  {
   "cell_type": "code",
   "execution_count": 224,
   "id": "936dcf20",
   "metadata": {},
   "outputs": [],
   "source": [
    "vaers90_04 = pd.concat([vaers90_03, vaers2004])"
   ]
  },
  {
   "cell_type": "markdown",
   "id": "256eecd3",
   "metadata": {},
   "source": [
    "# 2005:\n",
    "\n",
    "### Import the data sets"
   ]
  },
  {
   "cell_type": "code",
   "execution_count": 225,
   "id": "a34af86b",
   "metadata": {},
   "outputs": [],
   "source": [
    "vaersdata05 = pd.read_csv('C:/Users/chris/Desktop/WozU_Data_Science/VAERS-data/2005/2005VAERSDATA.csv',encoding = 'cp1252')"
   ]
  },
  {
   "cell_type": "code",
   "execution_count": 226,
   "id": "75d19d53",
   "metadata": {},
   "outputs": [],
   "source": [
    "vaersvax05 = pd.read_csv('C:/Users/chris/Desktop/WozU_Data_Science/VAERS-data/2005/2005VAERSVAX.csv',encoding = 'cp1252')"
   ]
  },
  {
   "cell_type": "markdown",
   "id": "19e13a72",
   "metadata": {},
   "source": [
    "### Condense the two data sets down to useful information for analysis"
   ]
  },
  {
   "cell_type": "code",
   "execution_count": 227,
   "id": "5f525a74",
   "metadata": {},
   "outputs": [],
   "source": [
    "vax05 = vaersvax05[['VAERS_ID', 'VAX_TYPE', 'VAX_MANU', 'VAX_LOT', 'VAX_NAME']]"
   ]
  },
  {
   "cell_type": "code",
   "execution_count": 228,
   "id": "dcfd275a",
   "metadata": {},
   "outputs": [],
   "source": [
    "data05 = vaersdata05[['VAERS_ID', 'AGE_YRS', 'STATE', 'SYMPTOM_TEXT', 'DIED', 'ER_VISIT']]"
   ]
  },
  {
   "cell_type": "markdown",
   "id": "208993f8",
   "metadata": {},
   "source": [
    "### Merge the condensed datasets"
   ]
  },
  {
   "cell_type": "code",
   "execution_count": 229,
   "id": "443b51df",
   "metadata": {},
   "outputs": [],
   "source": [
    "vaers2005 = pd.merge(vax05, data05, on= 'VAERS_ID')"
   ]
  },
  {
   "cell_type": "code",
   "execution_count": 230,
   "id": "ab7d2353",
   "metadata": {},
   "outputs": [],
   "source": [
    "vaers2005['Year'] = 2005"
   ]
  },
  {
   "cell_type": "code",
   "execution_count": 231,
   "id": "91b9b7f8",
   "metadata": {},
   "outputs": [],
   "source": [
    "vaers2005.to_csv('C:/Users/chris/Desktop/WozU_Data_Science/VAERS_CleanData/vaers2005.csv', encoding = 'utf-8')"
   ]
  },
  {
   "cell_type": "code",
   "execution_count": 232,
   "id": "7c7be721",
   "metadata": {},
   "outputs": [],
   "source": [
    "vaers90_05 = pd.concat([vaers90_04, vaers2005])"
   ]
  },
  {
   "cell_type": "markdown",
   "id": "3425af0d",
   "metadata": {},
   "source": [
    "# 2006:\n",
    "\n",
    "### Import the data sets"
   ]
  },
  {
   "cell_type": "code",
   "execution_count": 233,
   "id": "a2784f20",
   "metadata": {},
   "outputs": [],
   "source": [
    "vaersdata06 = pd.read_csv('C:/Users/chris/Desktop/WozU_Data_Science/VAERS-data/2006/2006VAERSDATA.csv',encoding = 'cp1252')"
   ]
  },
  {
   "cell_type": "code",
   "execution_count": 234,
   "id": "1ebc53a2",
   "metadata": {},
   "outputs": [],
   "source": [
    "vaersvax06 = pd.read_csv('C:/Users/chris/Desktop/WozU_Data_Science/VAERS-data/2006/2006VAERSVAX.csv',encoding = 'cp1252')"
   ]
  },
  {
   "cell_type": "markdown",
   "id": "e4bbe096",
   "metadata": {},
   "source": [
    "### Condense the two data sets down to useful information for analysis"
   ]
  },
  {
   "cell_type": "code",
   "execution_count": 235,
   "id": "66d058de",
   "metadata": {},
   "outputs": [],
   "source": [
    "vax06 = vaersvax06[['VAERS_ID', 'VAX_TYPE', 'VAX_MANU', 'VAX_LOT', 'VAX_NAME']]"
   ]
  },
  {
   "cell_type": "code",
   "execution_count": 236,
   "id": "45ff2f50",
   "metadata": {},
   "outputs": [],
   "source": [
    "data06 = vaersdata06[['VAERS_ID', 'AGE_YRS', 'STATE', 'SYMPTOM_TEXT', 'DIED', 'ER_VISIT']]"
   ]
  },
  {
   "cell_type": "markdown",
   "id": "9a0f428a",
   "metadata": {},
   "source": [
    "### Merge the condensed datasets"
   ]
  },
  {
   "cell_type": "code",
   "execution_count": 237,
   "id": "52ca7592",
   "metadata": {},
   "outputs": [],
   "source": [
    "vaers2006 = pd.merge(vax06, data06, on= 'VAERS_ID')"
   ]
  },
  {
   "cell_type": "code",
   "execution_count": 238,
   "id": "27865860",
   "metadata": {},
   "outputs": [],
   "source": [
    "vaers2006['Year'] = 2006"
   ]
  },
  {
   "cell_type": "code",
   "execution_count": 239,
   "id": "cb877038",
   "metadata": {},
   "outputs": [],
   "source": [
    "vaers2006.to_csv('C:/Users/chris/Desktop/WozU_Data_Science/VAERS_CleanData/vaers2006.csv', encoding = 'utf-8')"
   ]
  },
  {
   "cell_type": "code",
   "execution_count": 240,
   "id": "3e8a89eb",
   "metadata": {},
   "outputs": [],
   "source": [
    "vaers90_06 = pd.concat([vaers90_05, vaers2006])"
   ]
  },
  {
   "cell_type": "markdown",
   "id": "31c26235",
   "metadata": {},
   "source": [
    "# 2007:\n",
    "\n",
    "### Import the data sets"
   ]
  },
  {
   "cell_type": "code",
   "execution_count": 241,
   "id": "c4b90b96",
   "metadata": {},
   "outputs": [],
   "source": [
    "vaersdata07 = pd.read_csv('C:/Users/chris/Desktop/WozU_Data_Science/VAERS-data/2007/2007VAERSDATA.csv',encoding = 'cp1252')"
   ]
  },
  {
   "cell_type": "code",
   "execution_count": 242,
   "id": "f5fbf534",
   "metadata": {},
   "outputs": [],
   "source": [
    "vaersvax07 = pd.read_csv('C:/Users/chris/Desktop/WozU_Data_Science/VAERS-data/2007/2007VAERSVAX.csv',encoding = 'cp1252')"
   ]
  },
  {
   "cell_type": "markdown",
   "id": "a7346c82",
   "metadata": {},
   "source": [
    "### Condense the two data sets down to useful information for analysis"
   ]
  },
  {
   "cell_type": "code",
   "execution_count": 243,
   "id": "6c9393ec",
   "metadata": {},
   "outputs": [],
   "source": [
    "vax07 = vaersvax07[['VAERS_ID', 'VAX_TYPE', 'VAX_MANU', 'VAX_LOT', 'VAX_NAME']]"
   ]
  },
  {
   "cell_type": "code",
   "execution_count": 244,
   "id": "b3d2559b",
   "metadata": {},
   "outputs": [],
   "source": [
    "data07 = vaersdata07[['VAERS_ID', 'AGE_YRS', 'STATE', 'SYMPTOM_TEXT', 'DIED', 'ER_VISIT']]"
   ]
  },
  {
   "cell_type": "markdown",
   "id": "1148b213",
   "metadata": {},
   "source": [
    "### Merge the condensed datasets"
   ]
  },
  {
   "cell_type": "code",
   "execution_count": 245,
   "id": "f82dea00",
   "metadata": {},
   "outputs": [],
   "source": [
    "vaers2007 = pd.merge(vax07, data07, on= 'VAERS_ID')"
   ]
  },
  {
   "cell_type": "code",
   "execution_count": 246,
   "id": "7fab7d05",
   "metadata": {},
   "outputs": [],
   "source": [
    "vaers2007['Year'] = 2007"
   ]
  },
  {
   "cell_type": "code",
   "execution_count": 247,
   "id": "a7db9cd4",
   "metadata": {},
   "outputs": [],
   "source": [
    "vaers2007.to_csv('C:/Users/chris/Desktop/WozU_Data_Science/VAERS_CleanData/vaers2007.csv', encoding = 'utf-8')"
   ]
  },
  {
   "cell_type": "code",
   "execution_count": 248,
   "id": "f151e7cd",
   "metadata": {},
   "outputs": [],
   "source": [
    "vaers90_07 = pd.concat([vaers90_06, vaers2007])"
   ]
  },
  {
   "cell_type": "markdown",
   "id": "a02e8a29",
   "metadata": {},
   "source": [
    "# 2008:\n",
    "\n",
    "### Import the data sets"
   ]
  },
  {
   "cell_type": "code",
   "execution_count": 249,
   "id": "7ea11353",
   "metadata": {},
   "outputs": [],
   "source": [
    "vaersdata08 = pd.read_csv('C:/Users/chris/Desktop/WozU_Data_Science/VAERS-data/2008/2008VAERSDATA.csv',encoding = 'cp1252')"
   ]
  },
  {
   "cell_type": "code",
   "execution_count": 250,
   "id": "08e38c34",
   "metadata": {},
   "outputs": [],
   "source": [
    "vaersvax08 = pd.read_csv('C:/Users/chris/Desktop/WozU_Data_Science/VAERS-data/2008/2008VAERSVAX.csv',encoding = 'cp1252')"
   ]
  },
  {
   "cell_type": "markdown",
   "id": "339105cd",
   "metadata": {},
   "source": [
    "### Condense the two data sets down to useful information for analysis"
   ]
  },
  {
   "cell_type": "code",
   "execution_count": 251,
   "id": "0a1a593f",
   "metadata": {},
   "outputs": [],
   "source": [
    "vax08 = vaersvax08[['VAERS_ID', 'VAX_TYPE', 'VAX_MANU', 'VAX_LOT', 'VAX_NAME']]"
   ]
  },
  {
   "cell_type": "code",
   "execution_count": 252,
   "id": "f4f238de",
   "metadata": {},
   "outputs": [],
   "source": [
    "data08 = vaersdata08[['VAERS_ID', 'AGE_YRS', 'STATE', 'SYMPTOM_TEXT', 'DIED', 'ER_VISIT']]"
   ]
  },
  {
   "cell_type": "markdown",
   "id": "a1ee837d",
   "metadata": {},
   "source": [
    "### Merge the condensed datasets"
   ]
  },
  {
   "cell_type": "code",
   "execution_count": 253,
   "id": "933da060",
   "metadata": {},
   "outputs": [],
   "source": [
    "vaers2008 = pd.merge(vax08, data08, on= 'VAERS_ID')"
   ]
  },
  {
   "cell_type": "code",
   "execution_count": 254,
   "id": "6b42a3aa",
   "metadata": {},
   "outputs": [],
   "source": [
    "vaers2008['Year'] = 2008"
   ]
  },
  {
   "cell_type": "code",
   "execution_count": 255,
   "id": "39af22a4",
   "metadata": {},
   "outputs": [],
   "source": [
    "vaers2008.to_csv('C:/Users/chris/Desktop/WozU_Data_Science/VAERS_CleanData/vaers2008.csv', encoding = 'utf-8')"
   ]
  },
  {
   "cell_type": "code",
   "execution_count": 256,
   "id": "c6537722",
   "metadata": {},
   "outputs": [],
   "source": [
    "vaers90_08 = pd.concat([vaers90_07, vaers2008])"
   ]
  },
  {
   "cell_type": "markdown",
   "id": "52d235d7",
   "metadata": {},
   "source": [
    "# 2009:\n",
    "\n",
    "### Import the data sets"
   ]
  },
  {
   "cell_type": "code",
   "execution_count": 257,
   "id": "d1d30c38",
   "metadata": {},
   "outputs": [
    {
     "name": "stderr",
     "output_type": "stream",
     "text": [
      "C:\\Users\\chris\\AppData\\Local\\Temp\\ipykernel_13184\\853617532.py:1: DtypeWarning: Columns (9,10,11,13,15,16,27) have mixed types. Specify dtype option on import or set low_memory=False.\n",
      "  vaersdata09 = pd.read_csv('C:/Users/chris/Desktop/WozU_Data_Science/VAERS-data/2009/2009VAERSDATA.csv',encoding = 'cp1252')\n"
     ]
    }
   ],
   "source": [
    "vaersdata09 = pd.read_csv('C:/Users/chris/Desktop/WozU_Data_Science/VAERS-data/2009/2009VAERSDATA.csv',encoding = 'cp1252')"
   ]
  },
  {
   "cell_type": "code",
   "execution_count": 258,
   "id": "1b00ed55",
   "metadata": {},
   "outputs": [],
   "source": [
    "vaersvax09 = pd.read_csv('C:/Users/chris/Desktop/WozU_Data_Science/VAERS-data/2009/2009VAERSVAX.csv',encoding = 'cp1252')"
   ]
  },
  {
   "cell_type": "markdown",
   "id": "2d5ccdda",
   "metadata": {},
   "source": [
    "### Condense the two data sets down to useful information for analysis"
   ]
  },
  {
   "cell_type": "code",
   "execution_count": 259,
   "id": "fd8a5afd",
   "metadata": {},
   "outputs": [],
   "source": [
    "vax09 = vaersvax09[['VAERS_ID', 'VAX_TYPE', 'VAX_MANU', 'VAX_LOT', 'VAX_NAME']]"
   ]
  },
  {
   "cell_type": "code",
   "execution_count": 260,
   "id": "575c7afd",
   "metadata": {},
   "outputs": [],
   "source": [
    "data09 = vaersdata09[['VAERS_ID', 'AGE_YRS', 'STATE', 'SYMPTOM_TEXT', 'DIED', 'ER_VISIT']]"
   ]
  },
  {
   "cell_type": "markdown",
   "id": "7c0af69a",
   "metadata": {},
   "source": [
    "### Merge the condensed datasets"
   ]
  },
  {
   "cell_type": "code",
   "execution_count": 261,
   "id": "2d82b510",
   "metadata": {},
   "outputs": [],
   "source": [
    "vaers2009 = pd.merge(vax09, data09, on= 'VAERS_ID')"
   ]
  },
  {
   "cell_type": "code",
   "execution_count": 262,
   "id": "ceb4712d",
   "metadata": {},
   "outputs": [],
   "source": [
    "vaers2009['Year'] = 2009"
   ]
  },
  {
   "cell_type": "code",
   "execution_count": 263,
   "id": "af63e3ef",
   "metadata": {},
   "outputs": [],
   "source": [
    "vaers2009.to_csv('C:/Users/chris/Desktop/WozU_Data_Science/VAERS_CleanData/vaers2009.csv', encoding = 'utf-8')"
   ]
  },
  {
   "cell_type": "code",
   "execution_count": 264,
   "id": "2fddf8e9",
   "metadata": {},
   "outputs": [],
   "source": [
    "vaers90_09 = pd.concat([vaers90_08, vaers2009])"
   ]
  },
  {
   "cell_type": "markdown",
   "id": "f64407c3",
   "metadata": {},
   "source": [
    "# 2010:\n",
    "\n",
    "### Import the data sets"
   ]
  },
  {
   "cell_type": "code",
   "execution_count": 265,
   "id": "8714aad2",
   "metadata": {},
   "outputs": [],
   "source": [
    "vaersdata10 = pd.read_csv('C:/Users/chris/Desktop/WozU_Data_Science/VAERS-data/2010/2010VAERSDATA.csv',encoding = 'cp1252')"
   ]
  },
  {
   "cell_type": "code",
   "execution_count": 266,
   "id": "cad3c333",
   "metadata": {},
   "outputs": [],
   "source": [
    "vaersvax10 = pd.read_csv('C:/Users/chris/Desktop/WozU_Data_Science/VAERS-data/2010/2010VAERSVAX.csv',encoding = 'cp1252')"
   ]
  },
  {
   "cell_type": "markdown",
   "id": "eee9e253",
   "metadata": {},
   "source": [
    "### Condense the two data sets down to useful information for analysis"
   ]
  },
  {
   "cell_type": "code",
   "execution_count": 267,
   "id": "70dd6d0a",
   "metadata": {},
   "outputs": [],
   "source": [
    "vax10 = vaersvax10[['VAERS_ID', 'VAX_TYPE', 'VAX_MANU', 'VAX_LOT', 'VAX_NAME']]"
   ]
  },
  {
   "cell_type": "code",
   "execution_count": 268,
   "id": "a2169b71",
   "metadata": {},
   "outputs": [],
   "source": [
    "data10 = vaersdata10[['VAERS_ID', 'AGE_YRS', 'STATE', 'SYMPTOM_TEXT', 'DIED', 'ER_VISIT']]"
   ]
  },
  {
   "cell_type": "markdown",
   "id": "36b9ead6",
   "metadata": {},
   "source": [
    "### Merge the condensed datasets"
   ]
  },
  {
   "cell_type": "code",
   "execution_count": 269,
   "id": "083ad5e9",
   "metadata": {},
   "outputs": [],
   "source": [
    "vaers2010 = pd.merge(vax10, data10, on= 'VAERS_ID')"
   ]
  },
  {
   "cell_type": "code",
   "execution_count": 270,
   "id": "c3e894b7",
   "metadata": {},
   "outputs": [],
   "source": [
    "vaers2010['Year'] = 2010"
   ]
  },
  {
   "cell_type": "code",
   "execution_count": 271,
   "id": "d3aad5b2",
   "metadata": {},
   "outputs": [],
   "source": [
    "vaers2010.to_csv('C:/Users/chris/Desktop/WozU_Data_Science/VAERS_CleanData/vaers2010.csv', encoding = 'utf-8')"
   ]
  },
  {
   "cell_type": "code",
   "execution_count": 272,
   "id": "e6459084",
   "metadata": {},
   "outputs": [],
   "source": [
    "vaers90_10 = pd.concat([vaers90_09, vaers2010])"
   ]
  },
  {
   "cell_type": "markdown",
   "id": "763d8003",
   "metadata": {},
   "source": [
    "# 2011:\n",
    "\n",
    "### Import the data sets"
   ]
  },
  {
   "cell_type": "code",
   "execution_count": 273,
   "id": "698ce0c4",
   "metadata": {},
   "outputs": [],
   "source": [
    "vaersdata11 = pd.read_csv('C:/Users/chris/Desktop/WozU_Data_Science/VAERS-data/2011/2011VAERSDATA.csv',encoding = 'cp1252')"
   ]
  },
  {
   "cell_type": "code",
   "execution_count": 274,
   "id": "6a902b5a",
   "metadata": {},
   "outputs": [],
   "source": [
    "vaersvax11 = pd.read_csv('C:/Users/chris/Desktop/WozU_Data_Science/VAERS-data/2011/2011VAERSVAX.csv',encoding = 'cp1252')"
   ]
  },
  {
   "cell_type": "markdown",
   "id": "bb3eb0d3",
   "metadata": {},
   "source": [
    "### Condense the two data sets down to useful information for analysis"
   ]
  },
  {
   "cell_type": "code",
   "execution_count": 275,
   "id": "0da31009",
   "metadata": {},
   "outputs": [],
   "source": [
    "vax11 = vaersvax11[['VAERS_ID', 'VAX_TYPE', 'VAX_MANU', 'VAX_LOT', 'VAX_NAME']]"
   ]
  },
  {
   "cell_type": "code",
   "execution_count": 276,
   "id": "64b061d1",
   "metadata": {},
   "outputs": [],
   "source": [
    "data11 = vaersdata11[['VAERS_ID', 'AGE_YRS', 'STATE', 'SYMPTOM_TEXT', 'DIED', 'ER_VISIT']]"
   ]
  },
  {
   "cell_type": "markdown",
   "id": "dd48ec17",
   "metadata": {},
   "source": [
    "### Merge the condensed datasets"
   ]
  },
  {
   "cell_type": "code",
   "execution_count": 277,
   "id": "85b13408",
   "metadata": {},
   "outputs": [],
   "source": [
    "vaers2011 = pd.merge(vax11, data11, on= 'VAERS_ID')"
   ]
  },
  {
   "cell_type": "code",
   "execution_count": 278,
   "id": "228fe2d6",
   "metadata": {},
   "outputs": [],
   "source": [
    "vaers2011['Year'] = 2011"
   ]
  },
  {
   "cell_type": "code",
   "execution_count": 279,
   "id": "3c81738c",
   "metadata": {},
   "outputs": [],
   "source": [
    "vaers2011.to_csv('C:/Users/chris/Desktop/WozU_Data_Science/VAERS_CleanData/vaers2011.csv', encoding = 'utf-8')"
   ]
  },
  {
   "cell_type": "code",
   "execution_count": 280,
   "id": "3b7d75bb",
   "metadata": {},
   "outputs": [],
   "source": [
    "vaers90_11 = pd.concat([vaers90_10, vaers2011])"
   ]
  },
  {
   "cell_type": "markdown",
   "id": "ef066c11",
   "metadata": {},
   "source": [
    "# 2012:\n",
    "\n",
    "### Import the data sets"
   ]
  },
  {
   "cell_type": "code",
   "execution_count": 281,
   "id": "c9aa82be",
   "metadata": {},
   "outputs": [
    {
     "name": "stderr",
     "output_type": "stream",
     "text": [
      "C:\\Users\\chris\\AppData\\Local\\Temp\\ipykernel_13184\\2981105337.py:1: DtypeWarning: Columns (30) have mixed types. Specify dtype option on import or set low_memory=False.\n",
      "  vaersdata12 = pd.read_csv('C:/Users/chris/Desktop/WozU_Data_Science/VAERS-data/2012/2012VAERSDATA.csv',encoding = 'cp1252')\n"
     ]
    }
   ],
   "source": [
    "vaersdata12 = pd.read_csv('C:/Users/chris/Desktop/WozU_Data_Science/VAERS-data/2012/2012VAERSDATA.csv',encoding = 'cp1252')"
   ]
  },
  {
   "cell_type": "code",
   "execution_count": 282,
   "id": "da39e7b5",
   "metadata": {},
   "outputs": [],
   "source": [
    "vaersvax12 = pd.read_csv('C:/Users/chris/Desktop/WozU_Data_Science/VAERS-data/2012/2012VAERSVAX.csv',encoding = 'cp1252')"
   ]
  },
  {
   "cell_type": "markdown",
   "id": "0ad49019",
   "metadata": {},
   "source": [
    "### Condense the two data sets down to useful information for analysis"
   ]
  },
  {
   "cell_type": "code",
   "execution_count": 283,
   "id": "deb8369a",
   "metadata": {},
   "outputs": [],
   "source": [
    "vax12 = vaersvax12[['VAERS_ID', 'VAX_TYPE', 'VAX_MANU', 'VAX_LOT', 'VAX_NAME']]"
   ]
  },
  {
   "cell_type": "code",
   "execution_count": 284,
   "id": "0ebc8c8f",
   "metadata": {},
   "outputs": [],
   "source": [
    "data12 = vaersdata12[['VAERS_ID', 'AGE_YRS', 'STATE', 'SYMPTOM_TEXT', 'DIED', 'ER_VISIT']]"
   ]
  },
  {
   "cell_type": "markdown",
   "id": "d027f85a",
   "metadata": {},
   "source": [
    "### Merge the condensed datasets"
   ]
  },
  {
   "cell_type": "code",
   "execution_count": 285,
   "id": "c03be0a4",
   "metadata": {},
   "outputs": [],
   "source": [
    "vaers2012 = pd.merge(vax12, data12, on= 'VAERS_ID')"
   ]
  },
  {
   "cell_type": "code",
   "execution_count": 286,
   "id": "ecd6c587",
   "metadata": {},
   "outputs": [],
   "source": [
    "vaers2012['Year'] = 2012"
   ]
  },
  {
   "cell_type": "code",
   "execution_count": 287,
   "id": "45bb3439",
   "metadata": {},
   "outputs": [],
   "source": [
    "vaers2012.to_csv('C:/Users/chris/Desktop/WozU_Data_Science/VAERS_CleanData/vaers2012.csv', encoding = 'utf-8')"
   ]
  },
  {
   "cell_type": "code",
   "execution_count": 288,
   "id": "6140c214",
   "metadata": {},
   "outputs": [],
   "source": [
    "vaers90_12 = pd.concat([vaers90_11, vaers2012])"
   ]
  },
  {
   "cell_type": "markdown",
   "id": "c6b7c433",
   "metadata": {},
   "source": [
    "# 2013:\n",
    "\n",
    "### Import the data sets"
   ]
  },
  {
   "cell_type": "code",
   "execution_count": 289,
   "id": "83a43dbb",
   "metadata": {},
   "outputs": [],
   "source": [
    "vaersdata13 = pd.read_csv('C:/Users/chris/Desktop/WozU_Data_Science/VAERS-data/2013/2013VAERSDATA.csv',encoding = 'cp1252')"
   ]
  },
  {
   "cell_type": "code",
   "execution_count": 290,
   "id": "418c04af",
   "metadata": {},
   "outputs": [],
   "source": [
    "vaersvax13 = pd.read_csv('C:/Users/chris/Desktop/WozU_Data_Science/VAERS-data/2013/2013VAERSVAX.csv',encoding = 'cp1252')"
   ]
  },
  {
   "cell_type": "markdown",
   "id": "57eefdf9",
   "metadata": {},
   "source": [
    "### Condense the two data sets down to useful information for analysis"
   ]
  },
  {
   "cell_type": "code",
   "execution_count": 291,
   "id": "b469ccff",
   "metadata": {},
   "outputs": [],
   "source": [
    "vax13 = vaersvax13[['VAERS_ID', 'VAX_TYPE', 'VAX_MANU', 'VAX_LOT', 'VAX_NAME']]"
   ]
  },
  {
   "cell_type": "code",
   "execution_count": 292,
   "id": "06588cfa",
   "metadata": {},
   "outputs": [],
   "source": [
    "data13 = vaersdata13[['VAERS_ID', 'AGE_YRS', 'STATE', 'SYMPTOM_TEXT', 'DIED', 'ER_VISIT']]"
   ]
  },
  {
   "cell_type": "markdown",
   "id": "ba12e530",
   "metadata": {},
   "source": [
    "### Merge the condensed datasets"
   ]
  },
  {
   "cell_type": "code",
   "execution_count": 293,
   "id": "0f5eafc0",
   "metadata": {},
   "outputs": [],
   "source": [
    "vaers2013 = pd.merge(vax13, data13, on= 'VAERS_ID')"
   ]
  },
  {
   "cell_type": "code",
   "execution_count": 294,
   "id": "16555ac1",
   "metadata": {},
   "outputs": [],
   "source": [
    "vaers2013['Year'] = 2013"
   ]
  },
  {
   "cell_type": "code",
   "execution_count": 295,
   "id": "4c75027d",
   "metadata": {},
   "outputs": [],
   "source": [
    "vaers2013.to_csv('C:/Users/chris/Desktop/WozU_Data_Science/VAERS_CleanData/vaers2013.csv', encoding = 'utf-8')"
   ]
  },
  {
   "cell_type": "code",
   "execution_count": 296,
   "id": "942fbc88",
   "metadata": {},
   "outputs": [],
   "source": [
    "vaers90_13 = pd.concat([vaers90_12, vaers2013])"
   ]
  },
  {
   "cell_type": "markdown",
   "id": "da59ef6a",
   "metadata": {},
   "source": [
    "# 2014:\n",
    "\n",
    "### Import the data sets"
   ]
  },
  {
   "cell_type": "code",
   "execution_count": 297,
   "id": "306d4564",
   "metadata": {},
   "outputs": [],
   "source": [
    "vaersdata14 = pd.read_csv('C:/Users/chris/Desktop/WozU_Data_Science/VAERS-data/2014/2014VAERSDATA.csv',encoding = 'cp1252')"
   ]
  },
  {
   "cell_type": "code",
   "execution_count": 298,
   "id": "f4134806",
   "metadata": {},
   "outputs": [],
   "source": [
    "vaersvax14 = pd.read_csv('C:/Users/chris/Desktop/WozU_Data_Science/VAERS-data/2014/2014VAERSVAX.csv',encoding = 'cp1252')"
   ]
  },
  {
   "cell_type": "markdown",
   "id": "031e7015",
   "metadata": {},
   "source": [
    "### Condense the two data sets down to useful information for analysis"
   ]
  },
  {
   "cell_type": "code",
   "execution_count": 299,
   "id": "2b24ed0e",
   "metadata": {},
   "outputs": [],
   "source": [
    "vax14 = vaersvax14[['VAERS_ID', 'VAX_TYPE', 'VAX_MANU', 'VAX_LOT', 'VAX_NAME']]"
   ]
  },
  {
   "cell_type": "code",
   "execution_count": 300,
   "id": "ddc36102",
   "metadata": {},
   "outputs": [],
   "source": [
    "data14 = vaersdata14[['VAERS_ID', 'AGE_YRS', 'STATE', 'SYMPTOM_TEXT', 'DIED', 'ER_VISIT']]"
   ]
  },
  {
   "cell_type": "markdown",
   "id": "e2073ffe",
   "metadata": {},
   "source": [
    "### Merge the condensed datasets"
   ]
  },
  {
   "cell_type": "code",
   "execution_count": 301,
   "id": "a0d1b4a1",
   "metadata": {},
   "outputs": [],
   "source": [
    "vaers2014 = pd.merge(vax14, data14, on= 'VAERS_ID')"
   ]
  },
  {
   "cell_type": "code",
   "execution_count": 302,
   "id": "85441dc6",
   "metadata": {},
   "outputs": [],
   "source": [
    "vaers2014['Year'] = 2014"
   ]
  },
  {
   "cell_type": "code",
   "execution_count": 303,
   "id": "2e86b4ff",
   "metadata": {},
   "outputs": [],
   "source": [
    "vaers2014.to_csv('C:/Users/chris/Desktop/WozU_Data_Science/VAERS_CleanData/vaers2014.csv', encoding = 'utf-8')"
   ]
  },
  {
   "cell_type": "code",
   "execution_count": 304,
   "id": "dbafbda8",
   "metadata": {},
   "outputs": [],
   "source": [
    "vaers90_14 = pd.concat([vaers90_13, vaers2014])"
   ]
  },
  {
   "cell_type": "markdown",
   "id": "c82b5e91",
   "metadata": {},
   "source": [
    "# 2015:\n",
    "\n",
    "### Import the data sets"
   ]
  },
  {
   "cell_type": "code",
   "execution_count": 305,
   "id": "e317d341",
   "metadata": {},
   "outputs": [],
   "source": [
    "vaersdata15 = pd.read_csv('C:/Users/chris/Desktop/WozU_Data_Science/VAERS-data/2015/2015VAERSDATA.csv',encoding = 'cp1252')"
   ]
  },
  {
   "cell_type": "code",
   "execution_count": 306,
   "id": "72034b1c",
   "metadata": {},
   "outputs": [],
   "source": [
    "vaersvax15 = pd.read_csv('C:/Users/chris/Desktop/WozU_Data_Science/VAERS-data/2015/2015VAERSVAX.csv',encoding = 'cp1252')"
   ]
  },
  {
   "cell_type": "markdown",
   "id": "42afd0d9",
   "metadata": {},
   "source": [
    "### Condense the two data sets down to useful information for analysis"
   ]
  },
  {
   "cell_type": "code",
   "execution_count": 307,
   "id": "88f1e918",
   "metadata": {},
   "outputs": [],
   "source": [
    "vax15 = vaersvax15[['VAERS_ID', 'VAX_TYPE', 'VAX_MANU', 'VAX_LOT', 'VAX_NAME']]"
   ]
  },
  {
   "cell_type": "code",
   "execution_count": 308,
   "id": "145eee91",
   "metadata": {},
   "outputs": [],
   "source": [
    "data15 = vaersdata15[['VAERS_ID', 'AGE_YRS', 'STATE', 'SYMPTOM_TEXT', 'DIED', 'ER_VISIT']]"
   ]
  },
  {
   "cell_type": "markdown",
   "id": "e4e8b858",
   "metadata": {},
   "source": [
    "### Merge the condensed datasets"
   ]
  },
  {
   "cell_type": "code",
   "execution_count": 309,
   "id": "19e9c711",
   "metadata": {},
   "outputs": [],
   "source": [
    "vaers2015 = pd.merge(vax15, data15, on= 'VAERS_ID')"
   ]
  },
  {
   "cell_type": "code",
   "execution_count": 310,
   "id": "e3b3f2f4",
   "metadata": {},
   "outputs": [],
   "source": [
    "vaers2015['Year'] = 2015"
   ]
  },
  {
   "cell_type": "code",
   "execution_count": 311,
   "id": "305883e6",
   "metadata": {},
   "outputs": [],
   "source": [
    "vaers2015.to_csv('C:/Users/chris/Desktop/WozU_Data_Science/VAERS_CleanData/vaers2015.csv', encoding = 'utf-8')"
   ]
  },
  {
   "cell_type": "code",
   "execution_count": 312,
   "id": "1a4a16bf",
   "metadata": {},
   "outputs": [],
   "source": [
    "vaers90_15 = pd.concat([vaers90_14, vaers2015])"
   ]
  },
  {
   "cell_type": "markdown",
   "id": "bf32feb5",
   "metadata": {},
   "source": [
    "# 2016:\n",
    "\n",
    "### Import the data sets"
   ]
  },
  {
   "cell_type": "code",
   "execution_count": 313,
   "id": "85a600b3",
   "metadata": {},
   "outputs": [],
   "source": [
    "vaersdata16 = pd.read_csv('C:/Users/chris/Desktop/WozU_Data_Science/VAERS-data/2016/2016VAERSDATA.csv',encoding = 'cp1252')"
   ]
  },
  {
   "cell_type": "code",
   "execution_count": 314,
   "id": "01837644",
   "metadata": {},
   "outputs": [],
   "source": [
    "vaersvax16 = pd.read_csv('C:/Users/chris/Desktop/WozU_Data_Science/VAERS-data/2016/2016VAERSVAX.csv',encoding = 'cp1252')"
   ]
  },
  {
   "cell_type": "markdown",
   "id": "837927d2",
   "metadata": {},
   "source": [
    "### Condense the two data sets down to useful information for analysis"
   ]
  },
  {
   "cell_type": "code",
   "execution_count": 315,
   "id": "4db504cc",
   "metadata": {},
   "outputs": [],
   "source": [
    "vax16 = vaersvax16[['VAERS_ID', 'VAX_TYPE', 'VAX_MANU', 'VAX_LOT', 'VAX_NAME']]"
   ]
  },
  {
   "cell_type": "code",
   "execution_count": 316,
   "id": "bcd76d6a",
   "metadata": {},
   "outputs": [],
   "source": [
    "data16 = vaersdata16[['VAERS_ID', 'AGE_YRS', 'STATE', 'SYMPTOM_TEXT', 'DIED', 'ER_VISIT']]"
   ]
  },
  {
   "cell_type": "markdown",
   "id": "60ab368e",
   "metadata": {},
   "source": [
    "### Merge the condensed datasets"
   ]
  },
  {
   "cell_type": "code",
   "execution_count": 317,
   "id": "1dd58709",
   "metadata": {},
   "outputs": [],
   "source": [
    "vaers2016 = pd.merge(vax16, data16, on= 'VAERS_ID')"
   ]
  },
  {
   "cell_type": "code",
   "execution_count": 318,
   "id": "854a4c33",
   "metadata": {},
   "outputs": [],
   "source": [
    "vaers2016['Year'] = 2016"
   ]
  },
  {
   "cell_type": "code",
   "execution_count": 319,
   "id": "8589e4bd",
   "metadata": {},
   "outputs": [],
   "source": [
    "vaers2016.to_csv('C:/Users/chris/Desktop/WozU_Data_Science/VAERS_CleanData/vaers2016.csv', encoding = 'utf-8')"
   ]
  },
  {
   "cell_type": "code",
   "execution_count": 320,
   "id": "34a26f53",
   "metadata": {},
   "outputs": [],
   "source": [
    "vaers90_16 = pd.concat([vaers90_15, vaers2016])"
   ]
  },
  {
   "cell_type": "markdown",
   "id": "21a8e288",
   "metadata": {},
   "source": [
    "# 2017:\n",
    "\n",
    "### Import the data sets"
   ]
  },
  {
   "cell_type": "code",
   "execution_count": 321,
   "id": "2171a1a7",
   "metadata": {},
   "outputs": [
    {
     "name": "stderr",
     "output_type": "stream",
     "text": [
      "C:\\Users\\chris\\AppData\\Local\\Temp\\ipykernel_13184\\3888179113.py:1: DtypeWarning: Columns (31) have mixed types. Specify dtype option on import or set low_memory=False.\n",
      "  vaersdata17 = pd.read_csv('C:/Users/chris/Desktop/WozU_Data_Science/VAERS-data/2017/2017VAERSDATA.csv',encoding = 'cp1252')\n"
     ]
    }
   ],
   "source": [
    "vaersdata17 = pd.read_csv('C:/Users/chris/Desktop/WozU_Data_Science/VAERS-data/2017/2017VAERSDATA.csv',encoding = 'cp1252')"
   ]
  },
  {
   "cell_type": "code",
   "execution_count": 322,
   "id": "411c8c6a",
   "metadata": {},
   "outputs": [],
   "source": [
    "vaersvax17 = pd.read_csv('C:/Users/chris/Desktop/WozU_Data_Science/VAERS-data/2017/2017VAERSVAX.csv',encoding = 'cp1252')"
   ]
  },
  {
   "cell_type": "markdown",
   "id": "b0a02411",
   "metadata": {},
   "source": [
    "### Condense the two data sets down to useful information for analysis"
   ]
  },
  {
   "cell_type": "code",
   "execution_count": 323,
   "id": "84851919",
   "metadata": {},
   "outputs": [],
   "source": [
    "vax17 = vaersvax17[['VAERS_ID', 'VAX_TYPE', 'VAX_MANU', 'VAX_LOT', 'VAX_NAME']]"
   ]
  },
  {
   "cell_type": "code",
   "execution_count": 324,
   "id": "211340be",
   "metadata": {},
   "outputs": [],
   "source": [
    "data17 = vaersdata17[['VAERS_ID', 'AGE_YRS', 'STATE', 'SYMPTOM_TEXT', 'DIED', 'ER_VISIT']]"
   ]
  },
  {
   "cell_type": "markdown",
   "id": "bb6dd264",
   "metadata": {},
   "source": [
    "### Merge the condensed datasets"
   ]
  },
  {
   "cell_type": "code",
   "execution_count": 325,
   "id": "0d288d43",
   "metadata": {},
   "outputs": [],
   "source": [
    "vaers2017 = pd.merge(vax17, data17, on= 'VAERS_ID')"
   ]
  },
  {
   "cell_type": "code",
   "execution_count": 326,
   "id": "c26cbe1b",
   "metadata": {},
   "outputs": [],
   "source": [
    "vaers2017['Year'] = 2017"
   ]
  },
  {
   "cell_type": "code",
   "execution_count": 327,
   "id": "59522910",
   "metadata": {},
   "outputs": [],
   "source": [
    "vaers2017.to_csv('C:/Users/chris/Desktop/WozU_Data_Science/VAERS_CleanData/vaers2017.csv', encoding = 'utf-8')"
   ]
  },
  {
   "cell_type": "code",
   "execution_count": 328,
   "id": "4066f705",
   "metadata": {},
   "outputs": [],
   "source": [
    "vaers90_17 = pd.concat([vaers90_16, vaers2017])"
   ]
  },
  {
   "cell_type": "markdown",
   "id": "5a0a4ec1",
   "metadata": {},
   "source": [
    "# 2018:\n",
    "\n",
    "### Import the data sets"
   ]
  },
  {
   "cell_type": "code",
   "execution_count": 329,
   "id": "f03859ab",
   "metadata": {},
   "outputs": [],
   "source": [
    "vaersdata18 = pd.read_csv('C:/Users/chris/Desktop/WozU_Data_Science/VAERS-data/2018/2018VAERSDATA.csv',encoding = 'cp1252')"
   ]
  },
  {
   "cell_type": "code",
   "execution_count": 330,
   "id": "c7f75d84",
   "metadata": {},
   "outputs": [],
   "source": [
    "vaersvax18 = pd.read_csv('C:/Users/chris/Desktop/WozU_Data_Science/VAERS-data/2018/2018VAERSVAX.csv',encoding = 'cp1252')"
   ]
  },
  {
   "cell_type": "markdown",
   "id": "fd25b9f8",
   "metadata": {},
   "source": [
    "### Condense the two data sets down to useful information for analysis"
   ]
  },
  {
   "cell_type": "code",
   "execution_count": 331,
   "id": "4912c456",
   "metadata": {},
   "outputs": [],
   "source": [
    "vax18 = vaersvax18[['VAERS_ID', 'VAX_TYPE', 'VAX_MANU', 'VAX_LOT', 'VAX_NAME']]"
   ]
  },
  {
   "cell_type": "code",
   "execution_count": 332,
   "id": "0bb3c75c",
   "metadata": {},
   "outputs": [],
   "source": [
    "data18 = vaersdata18[['VAERS_ID', 'AGE_YRS', 'STATE', 'SYMPTOM_TEXT', 'DIED', 'ER_VISIT']]"
   ]
  },
  {
   "cell_type": "markdown",
   "id": "43310610",
   "metadata": {},
   "source": [
    "### Merge the condensed datasets"
   ]
  },
  {
   "cell_type": "code",
   "execution_count": 333,
   "id": "443836da",
   "metadata": {},
   "outputs": [],
   "source": [
    "vaers2018 = pd.merge(vax18, data18, on= 'VAERS_ID')"
   ]
  },
  {
   "cell_type": "code",
   "execution_count": 334,
   "id": "3844b979",
   "metadata": {},
   "outputs": [],
   "source": [
    "vaers2018['Year'] = 2018"
   ]
  },
  {
   "cell_type": "code",
   "execution_count": 335,
   "id": "68d43c1c",
   "metadata": {},
   "outputs": [],
   "source": [
    "vaers2018.to_csv('C:/Users/chris/Desktop/WozU_Data_Science/VAERS_CleanData/vaers2018.csv', encoding = 'utf-8')"
   ]
  },
  {
   "cell_type": "code",
   "execution_count": 336,
   "id": "acb5a30f",
   "metadata": {},
   "outputs": [],
   "source": [
    "vaers90_18 = pd.concat([vaers90_17, vaers2018])"
   ]
  },
  {
   "cell_type": "markdown",
   "id": "4fb5f909",
   "metadata": {},
   "source": [
    "# 2019:\n",
    "\n",
    "### Import the data sets"
   ]
  },
  {
   "cell_type": "code",
   "execution_count": 337,
   "id": "8694428c",
   "metadata": {},
   "outputs": [],
   "source": [
    "vaersdata19 = pd.read_csv('C:/Users/chris/Desktop/WozU_Data_Science/VAERS-data/2019/2019VAERSDATA.csv',encoding = 'cp1252')"
   ]
  },
  {
   "cell_type": "code",
   "execution_count": 338,
   "id": "e53bcb4a",
   "metadata": {},
   "outputs": [],
   "source": [
    "vaersvax19 = pd.read_csv('C:/Users/chris/Desktop/WozU_Data_Science/VAERS-data/2019/2019VAERSVAX.csv',encoding = 'cp1252')"
   ]
  },
  {
   "cell_type": "markdown",
   "id": "c5de5386",
   "metadata": {},
   "source": [
    "### Condense the two data sets down to useful information for analysis"
   ]
  },
  {
   "cell_type": "code",
   "execution_count": 339,
   "id": "356081f2",
   "metadata": {},
   "outputs": [],
   "source": [
    "vax19 = vaersvax19[['VAERS_ID', 'VAX_TYPE', 'VAX_MANU', 'VAX_LOT', 'VAX_NAME']]"
   ]
  },
  {
   "cell_type": "code",
   "execution_count": 340,
   "id": "5f51aa6b",
   "metadata": {},
   "outputs": [],
   "source": [
    "data19 = vaersdata19[['VAERS_ID', 'AGE_YRS', 'STATE', 'SYMPTOM_TEXT', 'DIED', 'ER_VISIT']]"
   ]
  },
  {
   "cell_type": "markdown",
   "id": "da1e80d5",
   "metadata": {},
   "source": [
    "### Merge the condensed datasets"
   ]
  },
  {
   "cell_type": "code",
   "execution_count": 341,
   "id": "0c50fdd7",
   "metadata": {},
   "outputs": [],
   "source": [
    "vaers2019 = pd.merge(vax19, data19, on= 'VAERS_ID')"
   ]
  },
  {
   "cell_type": "code",
   "execution_count": 342,
   "id": "3c1d6ce6",
   "metadata": {},
   "outputs": [],
   "source": [
    "vaers2019['Year'] = 2019"
   ]
  },
  {
   "cell_type": "code",
   "execution_count": 343,
   "id": "d03e86cc",
   "metadata": {},
   "outputs": [],
   "source": [
    "vaers2019.to_csv('C:/Users/chris/Desktop/WozU_Data_Science/VAERS_CleanData/vaers2019.csv', encoding = 'utf-8')"
   ]
  },
  {
   "cell_type": "code",
   "execution_count": 344,
   "id": "d01cbcc3",
   "metadata": {},
   "outputs": [],
   "source": [
    "vaers90_19 = pd.concat([vaers90_18, vaers2019])"
   ]
  },
  {
   "cell_type": "markdown",
   "id": "62d6e84e",
   "metadata": {},
   "source": [
    "# 2020:\n",
    "\n",
    "### Import the data sets"
   ]
  },
  {
   "cell_type": "code",
   "execution_count": 345,
   "id": "b92c605e",
   "metadata": {},
   "outputs": [
    {
     "name": "stderr",
     "output_type": "stream",
     "text": [
      "C:\\Users\\chris\\AppData\\Local\\Temp\\ipykernel_13184\\506286160.py:1: DtypeWarning: Columns (7,9,10,12,15,16,23,31) have mixed types. Specify dtype option on import or set low_memory=False.\n",
      "  vaersdata20 = pd.read_csv('C:/Users/chris/Desktop/WozU_Data_Science/VAERS-data/2020/2020VAERSDATA.csv',encoding = 'cp1252')\n"
     ]
    }
   ],
   "source": [
    "vaersdata20 = pd.read_csv('C:/Users/chris/Desktop/WozU_Data_Science/VAERS-data/2020/2020VAERSDATA.csv',encoding = 'cp1252')"
   ]
  },
  {
   "cell_type": "code",
   "execution_count": 346,
   "id": "65f40765",
   "metadata": {},
   "outputs": [],
   "source": [
    "vaersvax20 = pd.read_csv('C:/Users/chris/Desktop/WozU_Data_Science/VAERS-data/2020/2020VAERSVAX.csv',encoding = 'cp1252')"
   ]
  },
  {
   "cell_type": "markdown",
   "id": "f3d6cc98",
   "metadata": {},
   "source": [
    "### Condense the two data sets down to useful information for analysis"
   ]
  },
  {
   "cell_type": "code",
   "execution_count": 347,
   "id": "8cbb920c",
   "metadata": {},
   "outputs": [],
   "source": [
    "vax20 = vaersvax20[['VAERS_ID', 'VAX_TYPE', 'VAX_MANU', 'VAX_LOT', 'VAX_NAME']]"
   ]
  },
  {
   "cell_type": "code",
   "execution_count": 348,
   "id": "852ccb79",
   "metadata": {},
   "outputs": [],
   "source": [
    "data20 = vaersdata20[['VAERS_ID', 'AGE_YRS', 'STATE', 'SYMPTOM_TEXT', 'DIED', 'ER_VISIT']]"
   ]
  },
  {
   "cell_type": "markdown",
   "id": "6c59cc09",
   "metadata": {},
   "source": [
    "### Merge the condensed datasets"
   ]
  },
  {
   "cell_type": "code",
   "execution_count": 349,
   "id": "8019ee42",
   "metadata": {},
   "outputs": [],
   "source": [
    "vaers2020 = pd.merge(vax20, data20, on= 'VAERS_ID')"
   ]
  },
  {
   "cell_type": "code",
   "execution_count": 350,
   "id": "f5a49c24",
   "metadata": {},
   "outputs": [],
   "source": [
    "vaers2020['Year'] = 2020"
   ]
  },
  {
   "cell_type": "code",
   "execution_count": 351,
   "id": "475e7489",
   "metadata": {},
   "outputs": [],
   "source": [
    "vaers2020.to_csv('C:/Users/chris/Desktop/WozU_Data_Science/VAERS_CleanData/vaers2020.csv', encoding = 'utf-8')"
   ]
  },
  {
   "cell_type": "code",
   "execution_count": 352,
   "id": "341e5f50",
   "metadata": {},
   "outputs": [],
   "source": [
    "vaers90_20 = pd.concat([vaers90_19, vaers2020])"
   ]
  },
  {
   "cell_type": "markdown",
   "id": "f93f7604",
   "metadata": {},
   "source": [
    "# 2021:\n",
    "\n",
    "### Import the data sets"
   ]
  },
  {
   "cell_type": "code",
   "execution_count": 3,
   "id": "be42f6ab",
   "metadata": {},
   "outputs": [
    {
     "ename": "FileNotFoundError",
     "evalue": "[Errno 2] No such file or directory: 'C:/Users/chris/Desktop/WozU_Data_Science/VAERS-data/2021/2021VAERSDATA.csv'",
     "output_type": "error",
     "traceback": [
      "\u001b[1;31m---------------------------------------------------------------------------\u001b[0m",
      "\u001b[1;31mFileNotFoundError\u001b[0m                         Traceback (most recent call last)",
      "Cell \u001b[1;32mIn [3], line 1\u001b[0m\n\u001b[1;32m----> 1\u001b[0m vaersdata21 \u001b[38;5;241m=\u001b[39m \u001b[43mpd\u001b[49m\u001b[38;5;241;43m.\u001b[39;49m\u001b[43mread_csv\u001b[49m\u001b[43m(\u001b[49m\u001b[38;5;124;43m'\u001b[39;49m\u001b[38;5;124;43mC:/Users/chris/Desktop/WozU_Data_Science/VAERS-data/2021/2021VAERSDATA.csv\u001b[39;49m\u001b[38;5;124;43m'\u001b[39;49m\u001b[43m)\u001b[49m\n",
      "File \u001b[1;32mC:\\Python3\\Lib\\site-packages\\pandas\\util\\_decorators.py:211\u001b[0m, in \u001b[0;36mdeprecate_kwarg.<locals>._deprecate_kwarg.<locals>.wrapper\u001b[1;34m(*args, **kwargs)\u001b[0m\n\u001b[0;32m    209\u001b[0m     \u001b[38;5;28;01melse\u001b[39;00m:\n\u001b[0;32m    210\u001b[0m         kwargs[new_arg_name] \u001b[38;5;241m=\u001b[39m new_arg_value\n\u001b[1;32m--> 211\u001b[0m \u001b[38;5;28;01mreturn\u001b[39;00m \u001b[43mfunc\u001b[49m\u001b[43m(\u001b[49m\u001b[38;5;241;43m*\u001b[39;49m\u001b[43margs\u001b[49m\u001b[43m,\u001b[49m\u001b[43m \u001b[49m\u001b[38;5;241;43m*\u001b[39;49m\u001b[38;5;241;43m*\u001b[39;49m\u001b[43mkwargs\u001b[49m\u001b[43m)\u001b[49m\n",
      "File \u001b[1;32mC:\\Python3\\Lib\\site-packages\\pandas\\util\\_decorators.py:331\u001b[0m, in \u001b[0;36mdeprecate_nonkeyword_arguments.<locals>.decorate.<locals>.wrapper\u001b[1;34m(*args, **kwargs)\u001b[0m\n\u001b[0;32m    325\u001b[0m \u001b[38;5;28;01mif\u001b[39;00m \u001b[38;5;28mlen\u001b[39m(args) \u001b[38;5;241m>\u001b[39m num_allow_args:\n\u001b[0;32m    326\u001b[0m     warnings\u001b[38;5;241m.\u001b[39mwarn(\n\u001b[0;32m    327\u001b[0m         msg\u001b[38;5;241m.\u001b[39mformat(arguments\u001b[38;5;241m=\u001b[39m_format_argument_list(allow_args)),\n\u001b[0;32m    328\u001b[0m         \u001b[38;5;167;01mFutureWarning\u001b[39;00m,\n\u001b[0;32m    329\u001b[0m         stacklevel\u001b[38;5;241m=\u001b[39mfind_stack_level(),\n\u001b[0;32m    330\u001b[0m     )\n\u001b[1;32m--> 331\u001b[0m \u001b[38;5;28;01mreturn\u001b[39;00m \u001b[43mfunc\u001b[49m\u001b[43m(\u001b[49m\u001b[38;5;241;43m*\u001b[39;49m\u001b[43margs\u001b[49m\u001b[43m,\u001b[49m\u001b[43m \u001b[49m\u001b[38;5;241;43m*\u001b[39;49m\u001b[38;5;241;43m*\u001b[39;49m\u001b[43mkwargs\u001b[49m\u001b[43m)\u001b[49m\n",
      "File \u001b[1;32mC:\\Python3\\Lib\\site-packages\\pandas\\io\\parsers\\readers.py:950\u001b[0m, in \u001b[0;36mread_csv\u001b[1;34m(filepath_or_buffer, sep, delimiter, header, names, index_col, usecols, squeeze, prefix, mangle_dupe_cols, dtype, engine, converters, true_values, false_values, skipinitialspace, skiprows, skipfooter, nrows, na_values, keep_default_na, na_filter, verbose, skip_blank_lines, parse_dates, infer_datetime_format, keep_date_col, date_parser, dayfirst, cache_dates, iterator, chunksize, compression, thousands, decimal, lineterminator, quotechar, quoting, doublequote, escapechar, comment, encoding, encoding_errors, dialect, error_bad_lines, warn_bad_lines, on_bad_lines, delim_whitespace, low_memory, memory_map, float_precision, storage_options)\u001b[0m\n\u001b[0;32m    935\u001b[0m kwds_defaults \u001b[38;5;241m=\u001b[39m _refine_defaults_read(\n\u001b[0;32m    936\u001b[0m     dialect,\n\u001b[0;32m    937\u001b[0m     delimiter,\n\u001b[1;32m   (...)\u001b[0m\n\u001b[0;32m    946\u001b[0m     defaults\u001b[38;5;241m=\u001b[39m{\u001b[38;5;124m\"\u001b[39m\u001b[38;5;124mdelimiter\u001b[39m\u001b[38;5;124m\"\u001b[39m: \u001b[38;5;124m\"\u001b[39m\u001b[38;5;124m,\u001b[39m\u001b[38;5;124m\"\u001b[39m},\n\u001b[0;32m    947\u001b[0m )\n\u001b[0;32m    948\u001b[0m kwds\u001b[38;5;241m.\u001b[39mupdate(kwds_defaults)\n\u001b[1;32m--> 950\u001b[0m \u001b[38;5;28;01mreturn\u001b[39;00m \u001b[43m_read\u001b[49m\u001b[43m(\u001b[49m\u001b[43mfilepath_or_buffer\u001b[49m\u001b[43m,\u001b[49m\u001b[43m \u001b[49m\u001b[43mkwds\u001b[49m\u001b[43m)\u001b[49m\n",
      "File \u001b[1;32mC:\\Python3\\Lib\\site-packages\\pandas\\io\\parsers\\readers.py:605\u001b[0m, in \u001b[0;36m_read\u001b[1;34m(filepath_or_buffer, kwds)\u001b[0m\n\u001b[0;32m    602\u001b[0m _validate_names(kwds\u001b[38;5;241m.\u001b[39mget(\u001b[38;5;124m\"\u001b[39m\u001b[38;5;124mnames\u001b[39m\u001b[38;5;124m\"\u001b[39m, \u001b[38;5;28;01mNone\u001b[39;00m))\n\u001b[0;32m    604\u001b[0m \u001b[38;5;66;03m# Create the parser.\u001b[39;00m\n\u001b[1;32m--> 605\u001b[0m parser \u001b[38;5;241m=\u001b[39m \u001b[43mTextFileReader\u001b[49m\u001b[43m(\u001b[49m\u001b[43mfilepath_or_buffer\u001b[49m\u001b[43m,\u001b[49m\u001b[43m \u001b[49m\u001b[38;5;241;43m*\u001b[39;49m\u001b[38;5;241;43m*\u001b[39;49m\u001b[43mkwds\u001b[49m\u001b[43m)\u001b[49m\n\u001b[0;32m    607\u001b[0m \u001b[38;5;28;01mif\u001b[39;00m chunksize \u001b[38;5;129;01mor\u001b[39;00m iterator:\n\u001b[0;32m    608\u001b[0m     \u001b[38;5;28;01mreturn\u001b[39;00m parser\n",
      "File \u001b[1;32mC:\\Python3\\Lib\\site-packages\\pandas\\io\\parsers\\readers.py:1442\u001b[0m, in \u001b[0;36mTextFileReader.__init__\u001b[1;34m(self, f, engine, **kwds)\u001b[0m\n\u001b[0;32m   1439\u001b[0m     \u001b[38;5;28mself\u001b[39m\u001b[38;5;241m.\u001b[39moptions[\u001b[38;5;124m\"\u001b[39m\u001b[38;5;124mhas_index_names\u001b[39m\u001b[38;5;124m\"\u001b[39m] \u001b[38;5;241m=\u001b[39m kwds[\u001b[38;5;124m\"\u001b[39m\u001b[38;5;124mhas_index_names\u001b[39m\u001b[38;5;124m\"\u001b[39m]\n\u001b[0;32m   1441\u001b[0m \u001b[38;5;28mself\u001b[39m\u001b[38;5;241m.\u001b[39mhandles: IOHandles \u001b[38;5;241m|\u001b[39m \u001b[38;5;28;01mNone\u001b[39;00m \u001b[38;5;241m=\u001b[39m \u001b[38;5;28;01mNone\u001b[39;00m\n\u001b[1;32m-> 1442\u001b[0m \u001b[38;5;28mself\u001b[39m\u001b[38;5;241m.\u001b[39m_engine \u001b[38;5;241m=\u001b[39m \u001b[38;5;28;43mself\u001b[39;49m\u001b[38;5;241;43m.\u001b[39;49m\u001b[43m_make_engine\u001b[49m\u001b[43m(\u001b[49m\u001b[43mf\u001b[49m\u001b[43m,\u001b[49m\u001b[43m \u001b[49m\u001b[38;5;28;43mself\u001b[39;49m\u001b[38;5;241;43m.\u001b[39;49m\u001b[43mengine\u001b[49m\u001b[43m)\u001b[49m\n",
      "File \u001b[1;32mC:\\Python3\\Lib\\site-packages\\pandas\\io\\parsers\\readers.py:1735\u001b[0m, in \u001b[0;36mTextFileReader._make_engine\u001b[1;34m(self, f, engine)\u001b[0m\n\u001b[0;32m   1733\u001b[0m     \u001b[38;5;28;01mif\u001b[39;00m \u001b[38;5;124m\"\u001b[39m\u001b[38;5;124mb\u001b[39m\u001b[38;5;124m\"\u001b[39m \u001b[38;5;129;01mnot\u001b[39;00m \u001b[38;5;129;01min\u001b[39;00m mode:\n\u001b[0;32m   1734\u001b[0m         mode \u001b[38;5;241m+\u001b[39m\u001b[38;5;241m=\u001b[39m \u001b[38;5;124m\"\u001b[39m\u001b[38;5;124mb\u001b[39m\u001b[38;5;124m\"\u001b[39m\n\u001b[1;32m-> 1735\u001b[0m \u001b[38;5;28mself\u001b[39m\u001b[38;5;241m.\u001b[39mhandles \u001b[38;5;241m=\u001b[39m \u001b[43mget_handle\u001b[49m\u001b[43m(\u001b[49m\n\u001b[0;32m   1736\u001b[0m \u001b[43m    \u001b[49m\u001b[43mf\u001b[49m\u001b[43m,\u001b[49m\n\u001b[0;32m   1737\u001b[0m \u001b[43m    \u001b[49m\u001b[43mmode\u001b[49m\u001b[43m,\u001b[49m\n\u001b[0;32m   1738\u001b[0m \u001b[43m    \u001b[49m\u001b[43mencoding\u001b[49m\u001b[38;5;241;43m=\u001b[39;49m\u001b[38;5;28;43mself\u001b[39;49m\u001b[38;5;241;43m.\u001b[39;49m\u001b[43moptions\u001b[49m\u001b[38;5;241;43m.\u001b[39;49m\u001b[43mget\u001b[49m\u001b[43m(\u001b[49m\u001b[38;5;124;43m\"\u001b[39;49m\u001b[38;5;124;43mencoding\u001b[39;49m\u001b[38;5;124;43m\"\u001b[39;49m\u001b[43m,\u001b[49m\u001b[43m \u001b[49m\u001b[38;5;28;43;01mNone\u001b[39;49;00m\u001b[43m)\u001b[49m\u001b[43m,\u001b[49m\n\u001b[0;32m   1739\u001b[0m \u001b[43m    \u001b[49m\u001b[43mcompression\u001b[49m\u001b[38;5;241;43m=\u001b[39;49m\u001b[38;5;28;43mself\u001b[39;49m\u001b[38;5;241;43m.\u001b[39;49m\u001b[43moptions\u001b[49m\u001b[38;5;241;43m.\u001b[39;49m\u001b[43mget\u001b[49m\u001b[43m(\u001b[49m\u001b[38;5;124;43m\"\u001b[39;49m\u001b[38;5;124;43mcompression\u001b[39;49m\u001b[38;5;124;43m\"\u001b[39;49m\u001b[43m,\u001b[49m\u001b[43m \u001b[49m\u001b[38;5;28;43;01mNone\u001b[39;49;00m\u001b[43m)\u001b[49m\u001b[43m,\u001b[49m\n\u001b[0;32m   1740\u001b[0m \u001b[43m    \u001b[49m\u001b[43mmemory_map\u001b[49m\u001b[38;5;241;43m=\u001b[39;49m\u001b[38;5;28;43mself\u001b[39;49m\u001b[38;5;241;43m.\u001b[39;49m\u001b[43moptions\u001b[49m\u001b[38;5;241;43m.\u001b[39;49m\u001b[43mget\u001b[49m\u001b[43m(\u001b[49m\u001b[38;5;124;43m\"\u001b[39;49m\u001b[38;5;124;43mmemory_map\u001b[39;49m\u001b[38;5;124;43m\"\u001b[39;49m\u001b[43m,\u001b[49m\u001b[43m \u001b[49m\u001b[38;5;28;43;01mFalse\u001b[39;49;00m\u001b[43m)\u001b[49m\u001b[43m,\u001b[49m\n\u001b[0;32m   1741\u001b[0m \u001b[43m    \u001b[49m\u001b[43mis_text\u001b[49m\u001b[38;5;241;43m=\u001b[39;49m\u001b[43mis_text\u001b[49m\u001b[43m,\u001b[49m\n\u001b[0;32m   1742\u001b[0m \u001b[43m    \u001b[49m\u001b[43merrors\u001b[49m\u001b[38;5;241;43m=\u001b[39;49m\u001b[38;5;28;43mself\u001b[39;49m\u001b[38;5;241;43m.\u001b[39;49m\u001b[43moptions\u001b[49m\u001b[38;5;241;43m.\u001b[39;49m\u001b[43mget\u001b[49m\u001b[43m(\u001b[49m\u001b[38;5;124;43m\"\u001b[39;49m\u001b[38;5;124;43mencoding_errors\u001b[39;49m\u001b[38;5;124;43m\"\u001b[39;49m\u001b[43m,\u001b[49m\u001b[43m \u001b[49m\u001b[38;5;124;43m\"\u001b[39;49m\u001b[38;5;124;43mstrict\u001b[39;49m\u001b[38;5;124;43m\"\u001b[39;49m\u001b[43m)\u001b[49m\u001b[43m,\u001b[49m\n\u001b[0;32m   1743\u001b[0m \u001b[43m    \u001b[49m\u001b[43mstorage_options\u001b[49m\u001b[38;5;241;43m=\u001b[39;49m\u001b[38;5;28;43mself\u001b[39;49m\u001b[38;5;241;43m.\u001b[39;49m\u001b[43moptions\u001b[49m\u001b[38;5;241;43m.\u001b[39;49m\u001b[43mget\u001b[49m\u001b[43m(\u001b[49m\u001b[38;5;124;43m\"\u001b[39;49m\u001b[38;5;124;43mstorage_options\u001b[39;49m\u001b[38;5;124;43m\"\u001b[39;49m\u001b[43m,\u001b[49m\u001b[43m \u001b[49m\u001b[38;5;28;43;01mNone\u001b[39;49;00m\u001b[43m)\u001b[49m\u001b[43m,\u001b[49m\n\u001b[0;32m   1744\u001b[0m \u001b[43m\u001b[49m\u001b[43m)\u001b[49m\n\u001b[0;32m   1745\u001b[0m \u001b[38;5;28;01massert\u001b[39;00m \u001b[38;5;28mself\u001b[39m\u001b[38;5;241m.\u001b[39mhandles \u001b[38;5;129;01mis\u001b[39;00m \u001b[38;5;129;01mnot\u001b[39;00m \u001b[38;5;28;01mNone\u001b[39;00m\n\u001b[0;32m   1746\u001b[0m f \u001b[38;5;241m=\u001b[39m \u001b[38;5;28mself\u001b[39m\u001b[38;5;241m.\u001b[39mhandles\u001b[38;5;241m.\u001b[39mhandle\n",
      "File \u001b[1;32mC:\\Python3\\Lib\\site-packages\\pandas\\io\\common.py:856\u001b[0m, in \u001b[0;36mget_handle\u001b[1;34m(path_or_buf, mode, encoding, compression, memory_map, is_text, errors, storage_options)\u001b[0m\n\u001b[0;32m    851\u001b[0m \u001b[38;5;28;01melif\u001b[39;00m \u001b[38;5;28misinstance\u001b[39m(handle, \u001b[38;5;28mstr\u001b[39m):\n\u001b[0;32m    852\u001b[0m     \u001b[38;5;66;03m# Check whether the filename is to be opened in binary mode.\u001b[39;00m\n\u001b[0;32m    853\u001b[0m     \u001b[38;5;66;03m# Binary mode does not support 'encoding' and 'newline'.\u001b[39;00m\n\u001b[0;32m    854\u001b[0m     \u001b[38;5;28;01mif\u001b[39;00m ioargs\u001b[38;5;241m.\u001b[39mencoding \u001b[38;5;129;01mand\u001b[39;00m \u001b[38;5;124m\"\u001b[39m\u001b[38;5;124mb\u001b[39m\u001b[38;5;124m\"\u001b[39m \u001b[38;5;129;01mnot\u001b[39;00m \u001b[38;5;129;01min\u001b[39;00m ioargs\u001b[38;5;241m.\u001b[39mmode:\n\u001b[0;32m    855\u001b[0m         \u001b[38;5;66;03m# Encoding\u001b[39;00m\n\u001b[1;32m--> 856\u001b[0m         handle \u001b[38;5;241m=\u001b[39m \u001b[38;5;28;43mopen\u001b[39;49m\u001b[43m(\u001b[49m\n\u001b[0;32m    857\u001b[0m \u001b[43m            \u001b[49m\u001b[43mhandle\u001b[49m\u001b[43m,\u001b[49m\n\u001b[0;32m    858\u001b[0m \u001b[43m            \u001b[49m\u001b[43mioargs\u001b[49m\u001b[38;5;241;43m.\u001b[39;49m\u001b[43mmode\u001b[49m\u001b[43m,\u001b[49m\n\u001b[0;32m    859\u001b[0m \u001b[43m            \u001b[49m\u001b[43mencoding\u001b[49m\u001b[38;5;241;43m=\u001b[39;49m\u001b[43mioargs\u001b[49m\u001b[38;5;241;43m.\u001b[39;49m\u001b[43mencoding\u001b[49m\u001b[43m,\u001b[49m\n\u001b[0;32m    860\u001b[0m \u001b[43m            \u001b[49m\u001b[43merrors\u001b[49m\u001b[38;5;241;43m=\u001b[39;49m\u001b[43merrors\u001b[49m\u001b[43m,\u001b[49m\n\u001b[0;32m    861\u001b[0m \u001b[43m            \u001b[49m\u001b[43mnewline\u001b[49m\u001b[38;5;241;43m=\u001b[39;49m\u001b[38;5;124;43m\"\u001b[39;49m\u001b[38;5;124;43m\"\u001b[39;49m\u001b[43m,\u001b[49m\n\u001b[0;32m    862\u001b[0m \u001b[43m        \u001b[49m\u001b[43m)\u001b[49m\n\u001b[0;32m    863\u001b[0m     \u001b[38;5;28;01melse\u001b[39;00m:\n\u001b[0;32m    864\u001b[0m         \u001b[38;5;66;03m# Binary mode\u001b[39;00m\n\u001b[0;32m    865\u001b[0m         handle \u001b[38;5;241m=\u001b[39m \u001b[38;5;28mopen\u001b[39m(handle, ioargs\u001b[38;5;241m.\u001b[39mmode)\n",
      "\u001b[1;31mFileNotFoundError\u001b[0m: [Errno 2] No such file or directory: 'C:/Users/chris/Desktop/WozU_Data_Science/VAERS-data/2021/2021VAERSDATA.csv'"
     ]
    }
   ],
   "source": [
    "vaersdata21 = pd.read_csv('C:/Users/chris/Desktop/WozU_Data_Science/VAERS-data/2021/2021VAERSDATA.csv')"
   ]
  },
  {
   "cell_type": "code",
   "execution_count": null,
   "id": "8f2b9328",
   "metadata": {},
   "outputs": [],
   "source": [
    "vaersvax21 = pd.read_csv('C:/Users/chris/Desktop/WozU_Data_Science/VAERS-data/2021/2021VAERSVAX.csv',encoding = 'cp1252')"
   ]
  },
  {
   "cell_type": "markdown",
   "id": "20b02536",
   "metadata": {},
   "source": [
    "### Condense the two data sets down to useful information for analysis"
   ]
  },
  {
   "cell_type": "code",
   "execution_count": null,
   "id": "7e185af8",
   "metadata": {},
   "outputs": [],
   "source": [
    "vax21 = vaersvax21[['VAERS_ID', 'VAX_TYPE', 'VAX_MANU', 'VAX_LOT', 'VAX_NAME']]"
   ]
  },
  {
   "cell_type": "code",
   "execution_count": null,
   "id": "6e5d6ac1",
   "metadata": {},
   "outputs": [],
   "source": [
    "data21 = vaersdata21[['VAERS_ID', 'AGE_YRS', 'STATE', 'SYMPTOM_TEXT', 'DIED', 'ER_VISIT']]"
   ]
  },
  {
   "cell_type": "markdown",
   "id": "c2ee11e2",
   "metadata": {},
   "source": [
    "### Merge the condensed datasets"
   ]
  },
  {
   "cell_type": "code",
   "execution_count": null,
   "id": "f209f45f",
   "metadata": {},
   "outputs": [],
   "source": [
    "vaers2021 = pd.merge(vax21, data21, on= 'VAERS_ID')"
   ]
  },
  {
   "cell_type": "code",
   "execution_count": null,
   "id": "dc0186a5",
   "metadata": {},
   "outputs": [],
   "source": [
    "vaers2021['Year'] = 2021"
   ]
  },
  {
   "cell_type": "code",
   "execution_count": null,
   "id": "22999a0d",
   "metadata": {},
   "outputs": [],
   "source": [
    "vaers2021.to_csv('C:/Users/chris/Desktop/WozU_Data_Science/VAERS_CleanData/vaers2021.csv', encoding = 'utf-8')"
   ]
  },
  {
   "cell_type": "code",
   "execution_count": null,
   "id": "9a956d1d",
   "metadata": {},
   "outputs": [],
   "source": [
    "vaers90_21 = pd.concat([vaers90_20, vaers2021])"
   ]
  },
  {
   "cell_type": "markdown",
   "id": "be06abc5",
   "metadata": {},
   "source": [
    "# 2022:\n",
    "\n",
    "### Import the data sets"
   ]
  },
  {
   "cell_type": "code",
   "execution_count": null,
   "id": "4044b4c4",
   "metadata": {},
   "outputs": [],
   "source": [
    "vaersdata22 = pd.read_csv('C:/Users/chris/Desktop/WozU_Data_Science/VAERS-data/2022/2022VAERSDATA.csv',encoding = 'cp1252')"
   ]
  },
  {
   "cell_type": "code",
   "execution_count": null,
   "id": "bc783f1f",
   "metadata": {},
   "outputs": [],
   "source": [
    "vaersvax22 = pd.read_csv('C:/Users/chris/Desktop/WozU_Data_Science/VAERS-data/2022/2022VAERSVAX.csv',encoding = 'cp1252')"
   ]
  },
  {
   "cell_type": "markdown",
   "id": "c97a7d14",
   "metadata": {},
   "source": [
    "### Condense the two data sets down to useful information for analysis"
   ]
  },
  {
   "cell_type": "code",
   "execution_count": null,
   "id": "979ba207",
   "metadata": {},
   "outputs": [],
   "source": [
    "vax22 = vaersvax22[['VAERS_ID', 'VAX_TYPE', 'VAX_MANU', 'VAX_LOT', 'VAX_NAME']]"
   ]
  },
  {
   "cell_type": "code",
   "execution_count": null,
   "id": "b5b930aa",
   "metadata": {},
   "outputs": [],
   "source": [
    "data22 = vaersdata22[['VAERS_ID', 'AGE_YRS', 'STATE', 'SYMPTOM_TEXT', 'DIED', 'ER_VISIT']]"
   ]
  },
  {
   "cell_type": "markdown",
   "id": "efc611c6",
   "metadata": {},
   "source": [
    "### Merge the condensed datasets"
   ]
  },
  {
   "cell_type": "code",
   "execution_count": null,
   "id": "0e989c91",
   "metadata": {},
   "outputs": [],
   "source": [
    "vaers2022 = pd.merge(vax22, data22, on= 'VAERS_ID')"
   ]
  },
  {
   "cell_type": "code",
   "execution_count": null,
   "id": "6ddec6c4",
   "metadata": {},
   "outputs": [],
   "source": [
    "vaers2022['Year'] = 2022"
   ]
  },
  {
   "cell_type": "code",
   "execution_count": null,
   "id": "6051a0b3",
   "metadata": {},
   "outputs": [],
   "source": [
    "vaers2022.to_csv('C:/Users/chris/Desktop/WozU_Data_Science/VAERS_CleanData/vaers2022.csv', encoding = 'utf-8')"
   ]
  },
  {
   "cell_type": "code",
   "execution_count": null,
   "id": "3a2aa77a",
   "metadata": {},
   "outputs": [],
   "source": [
    "vaers90_22 = pd.concat([vaers90_21, vaers2022])"
   ]
  },
  {
   "cell_type": "code",
   "execution_count": null,
   "id": "4c1635f3",
   "metadata": {},
   "outputs": [],
   "source": []
  }
 ],
 "metadata": {
  "kernelspec": {
   "display_name": "Python 3 (ipykernel)",
   "language": "python",
   "name": "python3"
  },
  "language_info": {
   "codemirror_mode": {
    "name": "ipython",
    "version": 3
   },
   "file_extension": ".py",
   "mimetype": "text/x-python",
   "name": "python",
   "nbconvert_exporter": "python",
   "pygments_lexer": "ipython3",
   "version": "3.11.0"
  }
 },
 "nbformat": 4,
 "nbformat_minor": 5
}
