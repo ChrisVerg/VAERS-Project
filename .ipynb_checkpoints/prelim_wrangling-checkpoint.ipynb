{
 "cells": [
  {
   "cell_type": "markdown",
   "id": "d8bdfb00",
   "metadata": {},
   "source": [
    "# This file of code outlines the framework for the following project.\n",
    "### This shows a block of code for each year that cleans and merges all the data into a single file to be analyzed. This code will serve as an outline to automate this cleaning and merging with a for loop. \n",
    "\n",
    "The Data Wrangling of VAERS vaccine reports from 1990 to 2022. Vaccine injuries are reported to the CDC and the FDA via VAERS. VAERS is an early warning system to detect potential safety problems with vaccine.  \n",
    "\n",
    "The data used can be found at https://vaers.hhs.gov/data.html\n",
    "\n",
    "The data consists of 3 files for each year since 1990: YEARVAERSVAX, YEARVAERSDATA and YEARVAERSSYMPTOMS. For the purpose of this analysis I did not find the data in VAERSSYMPTOMS to be quantifiable so that data was dropped. "
   ]
  },
  {
   "cell_type": "code",
   "execution_count": 1,
   "id": "e4b5c514",
   "metadata": {},
   "outputs": [],
   "source": [
    "import pandas as pd"
   ]
  },
  {
   "cell_type": "markdown",
   "id": "5c1e2f28",
   "metadata": {},
   "source": [
    "# 1990:\n",
    "\n",
    "### Import the data sets"
   ]
  },
  {
   "cell_type": "code",
   "execution_count": 2,
   "id": "78a8c920",
   "metadata": {},
   "outputs": [],
   "source": [
    "vaersdata90 = pd.read_csv('C:/Users/chris/Desktop/WozU_Data_Science/VAERS-data/1990/1990VAERSDATA.csv',encoding = 'cp1252')"
   ]
  },
  {
   "cell_type": "code",
   "execution_count": 3,
   "id": "b19db524",
   "metadata": {},
   "outputs": [],
   "source": [
    "vaersvax90 = pd.read_csv('C:/Users/chris/Desktop/WozU_Data_Science/VAERS-data/1990/1990VAERSVAX.csv',encoding = 'cp1252')"
   ]
  },
  {
   "cell_type": "markdown",
   "id": "e000714e",
   "metadata": {},
   "source": [
    "### Condense the two data sets down to useful information for analysis"
   ]
  },
  {
   "cell_type": "code",
   "execution_count": 4,
   "id": "6d010be7",
   "metadata": {},
   "outputs": [],
   "source": [
    "vax90 = vaersvax90[['VAERS_ID', 'VAX_TYPE', 'VAX_MANU', 'VAX_LOT', 'VAX_NAME']]"
   ]
  },
  {
   "cell_type": "code",
   "execution_count": 5,
   "id": "e2ceed22",
   "metadata": {},
   "outputs": [],
   "source": [
    "data90 = vaersdata90[['VAERS_ID', 'AGE_YRS', 'STATE', 'SYMPTOM_TEXT', 'DIED', 'ER_VISIT']]"
   ]
  },
  {
   "cell_type": "markdown",
   "id": "af0b6458",
   "metadata": {},
   "source": [
    "### Merge the condensed datasets"
   ]
  },
  {
   "cell_type": "code",
   "execution_count": 6,
   "id": "c3e62f71",
   "metadata": {},
   "outputs": [],
   "source": [
    "vaers1990 = pd.merge(vax90, data90, on= 'VAERS_ID')"
   ]
  },
  {
   "cell_type": "code",
   "execution_count": 7,
   "id": "2d7221be",
   "metadata": {},
   "outputs": [],
   "source": [
    "vaers1990['Year'] = 1990"
   ]
  },
  {
   "cell_type": "markdown",
   "id": "71629d31",
   "metadata": {},
   "source": [
    "### Saved merged dataset by year as UTF-8 Encoding"
   ]
  },
  {
   "cell_type": "code",
   "execution_count": 8,
   "id": "50525363",
   "metadata": {},
   "outputs": [],
   "source": [
    "vaers1990.to_csv('C:/Users/chris/Desktop/WozU_Data_Science/VAERS_CleanData/vaers1991.csv', encoding = 'utf-8')"
   ]
  },
  {
   "cell_type": "markdown",
   "id": "02e90171",
   "metadata": {},
   "source": [
    "# 1991:\n",
    "\n",
    "### Import the data sets"
   ]
  },
  {
   "cell_type": "code",
   "execution_count": 9,
   "id": "0824a182",
   "metadata": {},
   "outputs": [],
   "source": [
    "vaersdata91 = pd.read_csv('C:/Users/chris/Desktop/WozU_Data_Science/VAERS-data/1991/1991VAERSDATA.csv',encoding = 'cp1252')"
   ]
  },
  {
   "cell_type": "code",
   "execution_count": 10,
   "id": "c5c30829",
   "metadata": {},
   "outputs": [],
   "source": [
    "vaersvax91 = pd.read_csv('C:/Users/chris/Desktop/WozU_Data_Science/VAERS-data/1991/1991VAERSVAX.csv',encoding = 'cp1252')"
   ]
  },
  {
   "cell_type": "markdown",
   "id": "9054d754",
   "metadata": {},
   "source": [
    "### Condense the two data sets down to useful information for analysis"
   ]
  },
  {
   "cell_type": "code",
   "execution_count": 11,
   "id": "6b58c05c",
   "metadata": {},
   "outputs": [],
   "source": [
    "vax91 = vaersvax91[['VAERS_ID', 'VAX_TYPE', 'VAX_MANU', 'VAX_LOT', 'VAX_NAME']]"
   ]
  },
  {
   "cell_type": "code",
   "execution_count": 12,
   "id": "40a8dc54",
   "metadata": {},
   "outputs": [],
   "source": [
    "data91 = vaersdata91[['VAERS_ID', 'AGE_YRS', 'STATE', 'SYMPTOM_TEXT', 'DIED', 'ER_VISIT']]"
   ]
  },
  {
   "cell_type": "markdown",
   "id": "befc654c",
   "metadata": {},
   "source": [
    "### Merge the condensed datasets"
   ]
  },
  {
   "cell_type": "code",
   "execution_count": 13,
   "id": "e0c151eb",
   "metadata": {},
   "outputs": [],
   "source": [
    "vaers1991 = pd.merge(vax91, data91, on= 'VAERS_ID')"
   ]
  },
  {
   "cell_type": "code",
   "execution_count": 14,
   "id": "0ff88cf9",
   "metadata": {},
   "outputs": [],
   "source": [
    "# The combined datasets do not have a vairable to identify them by year\n",
    "# This adds the respective year to each file that is combined by year\n",
    "vaers1991['Year'] = 1991"
   ]
  },
  {
   "cell_type": "code",
   "execution_count": 15,
   "id": "bd81b0c8",
   "metadata": {},
   "outputs": [],
   "source": [
    "# Saving the progress of each year combined file\n",
    "vaers1991.to_csv('C:/Users/chris/Desktop/WozU_Data_Science/VAERS_CleanData/vaers1991.csv', encoding = 'utf-8')"
   ]
  },
  {
   "cell_type": "code",
   "execution_count": 16,
   "id": "44dc87d0",
   "metadata": {},
   "outputs": [],
   "source": [
    "# Concatenating the newly combined year to the cumulative CSV\n",
    "vaers90_91 = pd.concat([vaers1990, vaers1991])"
   ]
  },
  {
   "cell_type": "markdown",
   "id": "02093fc7",
   "metadata": {},
   "source": [
    "# 1992:\n",
    "\n",
    "### Import the data sets"
   ]
  },
  {
   "cell_type": "code",
   "execution_count": 17,
   "id": "4c89ab07",
   "metadata": {},
   "outputs": [],
   "source": [
    "vaersdata92 = pd.read_csv('C:/Users/chris/Desktop/WozU_Data_Science/VAERS-data/1992/1992VAERSDATA.csv',encoding = 'cp1252')"
   ]
  },
  {
   "cell_type": "code",
   "execution_count": 18,
   "id": "d8db7b75",
   "metadata": {},
   "outputs": [],
   "source": [
    "vaersvax92 = pd.read_csv('C:/Users/chris/Desktop/WozU_Data_Science/VAERS-data/1992/1992VAERSVAX.csv',encoding = 'cp1252')"
   ]
  },
  {
   "cell_type": "markdown",
   "id": "dac750d4",
   "metadata": {},
   "source": [
    "### Condense the two data sets down to useful information for analysis"
   ]
  },
  {
   "cell_type": "code",
   "execution_count": 19,
   "id": "1be7f088",
   "metadata": {},
   "outputs": [],
   "source": [
    "vax92 = vaersvax92[['VAERS_ID', 'VAX_TYPE', 'VAX_MANU', 'VAX_LOT', 'VAX_NAME']]"
   ]
  },
  {
   "cell_type": "code",
   "execution_count": 20,
   "id": "557d91ac",
   "metadata": {},
   "outputs": [],
   "source": [
    "data92 = vaersdata92[['VAERS_ID', 'AGE_YRS', 'STATE', 'SYMPTOM_TEXT', 'DIED', 'ER_VISIT']]"
   ]
  },
  {
   "cell_type": "markdown",
   "id": "d3e322ea",
   "metadata": {},
   "source": [
    "### Merge the condensed datasets"
   ]
  },
  {
   "cell_type": "code",
   "execution_count": 21,
   "id": "f5a2d1bb",
   "metadata": {},
   "outputs": [],
   "source": [
    "vaers1992 = pd.merge(vax92, data92, on= 'VAERS_ID')"
   ]
  },
  {
   "cell_type": "code",
   "execution_count": 22,
   "id": "39232d73",
   "metadata": {},
   "outputs": [],
   "source": [
    "vaers1992['Year'] = 1992"
   ]
  },
  {
   "cell_type": "code",
   "execution_count": 23,
   "id": "4572e6ad",
   "metadata": {},
   "outputs": [],
   "source": [
    "vaers1992.to_csv('C:/Users/chris/Desktop/WozU_Data_Science/VAERS_CleanData/vaers1992.csv', encoding = 'utf-8')"
   ]
  },
  {
   "cell_type": "code",
   "execution_count": 24,
   "id": "641a4909",
   "metadata": {},
   "outputs": [],
   "source": [
    "vaers90_92 = pd.concat([vaers90_91, vaers1992])"
   ]
  },
  {
   "cell_type": "markdown",
   "id": "e091337f",
   "metadata": {},
   "source": [
    "# 1993:\n",
    "\n",
    "### Import the data sets"
   ]
  },
  {
   "cell_type": "code",
   "execution_count": 25,
   "id": "40c1e490",
   "metadata": {},
   "outputs": [],
   "source": [
    "vaersdata93 = pd.read_csv('C:/Users/chris/Desktop/WozU_Data_Science/VAERS-data/1993/1993VAERSDATA.csv',encoding = 'cp1252')"
   ]
  },
  {
   "cell_type": "code",
   "execution_count": 26,
   "id": "06186415",
   "metadata": {},
   "outputs": [],
   "source": [
    "vaersvax93 = pd.read_csv('C:/Users/chris/Desktop/WozU_Data_Science/VAERS-data/1993/1993VAERSVAX.csv',encoding = 'cp1252')"
   ]
  },
  {
   "cell_type": "markdown",
   "id": "13b29102",
   "metadata": {},
   "source": [
    "### Condense the two data sets down to useful information for analysis"
   ]
  },
  {
   "cell_type": "code",
   "execution_count": 27,
   "id": "c78150ec",
   "metadata": {},
   "outputs": [],
   "source": [
    "vax93 = vaersvax93[['VAERS_ID', 'VAX_TYPE', 'VAX_MANU', 'VAX_LOT', 'VAX_NAME']]"
   ]
  },
  {
   "cell_type": "code",
   "execution_count": 28,
   "id": "131e991c",
   "metadata": {},
   "outputs": [],
   "source": [
    "data93 = vaersdata93[['VAERS_ID', 'AGE_YRS', 'STATE', 'SYMPTOM_TEXT', 'DIED', 'ER_VISIT']]"
   ]
  },
  {
   "cell_type": "markdown",
   "id": "f1d97914",
   "metadata": {},
   "source": [
    "### Merge the condensed datasets"
   ]
  },
  {
   "cell_type": "code",
   "execution_count": 29,
   "id": "6a6fe390",
   "metadata": {},
   "outputs": [],
   "source": [
    "vaers1993 = pd.merge(vax93, data93, on= 'VAERS_ID')"
   ]
  },
  {
   "cell_type": "code",
   "execution_count": 30,
   "id": "b03ca483",
   "metadata": {},
   "outputs": [],
   "source": [
    "vaers1993['Year'] = 1993"
   ]
  },
  {
   "cell_type": "code",
   "execution_count": 31,
   "id": "9f66006c",
   "metadata": {},
   "outputs": [],
   "source": [
    "vaers1993.to_csv('C:/Users/chris/Desktop/WozU_Data_Science/VAERS_CleanData/vaers1993.csv', encoding = 'utf-8')"
   ]
  },
  {
   "cell_type": "code",
   "execution_count": 32,
   "id": "e1dbdfb6",
   "metadata": {},
   "outputs": [],
   "source": [
    "vaers90_93 = pd.concat([vaers90_92, vaers1993])"
   ]
  },
  {
   "cell_type": "markdown",
   "id": "5a127cfb",
   "metadata": {},
   "source": [
    "# 1994:\n",
    "\n",
    "### Import the data sets"
   ]
  },
  {
   "cell_type": "code",
   "execution_count": 33,
   "id": "9d3e9045",
   "metadata": {},
   "outputs": [],
   "source": [
    "vaersdata94 = pd.read_csv('C:/Users/chris/Desktop/WozU_Data_Science/VAERS-data/1994/1994VAERSDATA.csv',encoding = 'cp1252')"
   ]
  },
  {
   "cell_type": "code",
   "execution_count": 34,
   "id": "ce661bc4",
   "metadata": {},
   "outputs": [],
   "source": [
    "vaersvax94 = pd.read_csv('C:/Users/chris/Desktop/WozU_Data_Science/VAERS-data/1994/1994VAERSVAX.csv',encoding = 'cp1252')"
   ]
  },
  {
   "cell_type": "markdown",
   "id": "14b37c3c",
   "metadata": {},
   "source": [
    "### Condense the two data sets down to useful information for analysis"
   ]
  },
  {
   "cell_type": "code",
   "execution_count": 35,
   "id": "5fad93c8",
   "metadata": {},
   "outputs": [],
   "source": [
    "vax94 = vaersvax94[['VAERS_ID', 'VAX_TYPE', 'VAX_MANU', 'VAX_LOT', 'VAX_NAME']]"
   ]
  },
  {
   "cell_type": "code",
   "execution_count": 36,
   "id": "f070652e",
   "metadata": {},
   "outputs": [],
   "source": [
    "data94 = vaersdata94[['VAERS_ID', 'AGE_YRS', 'STATE', 'SYMPTOM_TEXT', 'DIED', 'ER_VISIT']]"
   ]
  },
  {
   "cell_type": "markdown",
   "id": "af3c8218",
   "metadata": {},
   "source": [
    "### Merge the condensed datasets"
   ]
  },
  {
   "cell_type": "code",
   "execution_count": 37,
   "id": "3e2b78e5",
   "metadata": {},
   "outputs": [],
   "source": [
    "vaers1994 = pd.merge(vax94, data94, on= 'VAERS_ID')"
   ]
  },
  {
   "cell_type": "code",
   "execution_count": 38,
   "id": "4d812da6",
   "metadata": {},
   "outputs": [],
   "source": [
    "vaers1994['Year'] = 1994"
   ]
  },
  {
   "cell_type": "code",
   "execution_count": 39,
   "id": "42949e01",
   "metadata": {},
   "outputs": [],
   "source": [
    "vaers1994.to_csv('C:/Users/chris/Desktop/WozU_Data_Science/VAERS_CleanData/vaers1994.csv', encoding = 'utf-8')"
   ]
  },
  {
   "cell_type": "code",
   "execution_count": 40,
   "id": "23ac4b26",
   "metadata": {},
   "outputs": [],
   "source": [
    "vaers90_94 = pd.concat([vaers90_93, vaers1994])"
   ]
  },
  {
   "cell_type": "markdown",
   "id": "f6e80986",
   "metadata": {},
   "source": [
    "# 1995:\n",
    "\n",
    "### Import the data sets"
   ]
  },
  {
   "cell_type": "code",
   "execution_count": 41,
   "id": "e345ee03",
   "metadata": {},
   "outputs": [],
   "source": [
    "vaersdata95 = pd.read_csv('C:/Users/chris/Desktop/WozU_Data_Science/VAERS-data/1995/1995VAERSDATA.csv',encoding = 'cp1252')"
   ]
  },
  {
   "cell_type": "code",
   "execution_count": 42,
   "id": "ed53aecb",
   "metadata": {},
   "outputs": [],
   "source": [
    "vaersvax95 = pd.read_csv('C:/Users/chris/Desktop/WozU_Data_Science/VAERS-data/1995/1995VAERSVAX.csv',encoding = 'cp1252')"
   ]
  },
  {
   "cell_type": "markdown",
   "id": "d2b5f07b",
   "metadata": {},
   "source": [
    "### Condense the two data sets down to useful information for analysis"
   ]
  },
  {
   "cell_type": "code",
   "execution_count": 43,
   "id": "53942fe7",
   "metadata": {},
   "outputs": [],
   "source": [
    "vax95 = vaersvax95[['VAERS_ID', 'VAX_TYPE', 'VAX_MANU', 'VAX_LOT', 'VAX_NAME']]"
   ]
  },
  {
   "cell_type": "code",
   "execution_count": 44,
   "id": "9d15c999",
   "metadata": {},
   "outputs": [],
   "source": [
    "data95 = vaersdata95[['VAERS_ID', 'AGE_YRS', 'STATE', 'SYMPTOM_TEXT', 'DIED', 'ER_VISIT']]"
   ]
  },
  {
   "cell_type": "markdown",
   "id": "3420af23",
   "metadata": {},
   "source": [
    "### Merge the condensed datasets"
   ]
  },
  {
   "cell_type": "code",
   "execution_count": 45,
   "id": "5a8dca0e",
   "metadata": {},
   "outputs": [],
   "source": [
    "vaers1995 = pd.merge(vax95, data95, on= 'VAERS_ID')"
   ]
  },
  {
   "cell_type": "code",
   "execution_count": 46,
   "id": "e6ea897f",
   "metadata": {},
   "outputs": [],
   "source": [
    "vaers1995['Year'] = 1991"
   ]
  },
  {
   "cell_type": "code",
   "execution_count": 47,
   "id": "7bbf6f8b",
   "metadata": {},
   "outputs": [],
   "source": [
    "vaers1995.to_csv('C:/Users/chris/Desktop/WozU_Data_Science/VAERS_CleanData/vaers1995.csv', encoding = 'utf-8')"
   ]
  },
  {
   "cell_type": "code",
   "execution_count": 48,
   "id": "fa1ef311",
   "metadata": {},
   "outputs": [],
   "source": [
    "vaers90_95 = pd.concat([vaers90_94, vaers1995])"
   ]
  },
  {
   "cell_type": "markdown",
   "id": "3173a6e4",
   "metadata": {},
   "source": [
    "# 1996:\n",
    "\n",
    "### Import the data sets"
   ]
  },
  {
   "cell_type": "code",
   "execution_count": 49,
   "id": "b2947e58",
   "metadata": {},
   "outputs": [],
   "source": [
    "vaersdata96 = pd.read_csv('C:/Users/chris/Desktop/WozU_Data_Science/VAERS-data/1996/1996VAERSDATA.csv',encoding = 'cp1252')"
   ]
  },
  {
   "cell_type": "code",
   "execution_count": 50,
   "id": "3e8f247e",
   "metadata": {},
   "outputs": [],
   "source": [
    "vaersvax96 = pd.read_csv('C:/Users/chris/Desktop/WozU_Data_Science/VAERS-data/1996/1996VAERSVAX.csv',encoding = 'cp1252')"
   ]
  },
  {
   "cell_type": "markdown",
   "id": "ec526946",
   "metadata": {},
   "source": [
    "### Condense the two data sets down to useful information for analysis"
   ]
  },
  {
   "cell_type": "code",
   "execution_count": 51,
   "id": "53173044",
   "metadata": {},
   "outputs": [],
   "source": [
    "vax96 = vaersvax96[['VAERS_ID', 'VAX_TYPE', 'VAX_MANU', 'VAX_LOT', 'VAX_NAME']]"
   ]
  },
  {
   "cell_type": "code",
   "execution_count": 52,
   "id": "6a499219",
   "metadata": {},
   "outputs": [],
   "source": [
    "data96 = vaersdata96[['VAERS_ID', 'AGE_YRS', 'STATE', 'SYMPTOM_TEXT', 'DIED', 'ER_VISIT']]"
   ]
  },
  {
   "cell_type": "markdown",
   "id": "5a836aa4",
   "metadata": {},
   "source": [
    "### Merge the condensed datasets"
   ]
  },
  {
   "cell_type": "code",
   "execution_count": 53,
   "id": "cc6e8aca",
   "metadata": {},
   "outputs": [],
   "source": [
    "vaers1996 = pd.merge(vax96, data96, on= 'VAERS_ID')"
   ]
  },
  {
   "cell_type": "code",
   "execution_count": 54,
   "id": "660c0564",
   "metadata": {},
   "outputs": [],
   "source": [
    "vaers1996['Year'] = 1996"
   ]
  },
  {
   "cell_type": "code",
   "execution_count": 55,
   "id": "9db1e74b",
   "metadata": {},
   "outputs": [],
   "source": [
    "vaers1996.to_csv('C:/Users/chris/Desktop/WozU_Data_Science/VAERS_CleanData/vaers1996.csv', encoding = 'utf-8')"
   ]
  },
  {
   "cell_type": "code",
   "execution_count": 56,
   "id": "db1a1580",
   "metadata": {},
   "outputs": [],
   "source": [
    "vaers90_96 = pd.concat([vaers90_95, vaers1996])"
   ]
  },
  {
   "cell_type": "markdown",
   "id": "f6cdcd33",
   "metadata": {},
   "source": [
    "# 1997:\n",
    "\n",
    "### Import the data sets"
   ]
  },
  {
   "cell_type": "code",
   "execution_count": 57,
   "id": "75b855d1",
   "metadata": {},
   "outputs": [],
   "source": [
    "vaersdata97 = pd.read_csv('C:/Users/chris/Desktop/WozU_Data_Science/VAERS-data/1997/1997VAERSDATA.csv',encoding = 'cp1252')"
   ]
  },
  {
   "cell_type": "code",
   "execution_count": 58,
   "id": "2d5ea8cb",
   "metadata": {},
   "outputs": [],
   "source": [
    "vaersvax97 = pd.read_csv('C:/Users/chris/Desktop/WozU_Data_Science/VAERS-data/1997/1997VAERSVAX.csv',encoding = 'cp1252')"
   ]
  },
  {
   "cell_type": "markdown",
   "id": "797e03fd",
   "metadata": {},
   "source": [
    "### Condense the two data sets down to useful information for analysis"
   ]
  },
  {
   "cell_type": "code",
   "execution_count": 59,
   "id": "60c6e9ee",
   "metadata": {},
   "outputs": [],
   "source": [
    "vax97 = vaersvax97[['VAERS_ID', 'VAX_TYPE', 'VAX_MANU', 'VAX_LOT', 'VAX_NAME']]"
   ]
  },
  {
   "cell_type": "code",
   "execution_count": 60,
   "id": "1061fd34",
   "metadata": {},
   "outputs": [],
   "source": [
    "data97 = vaersdata97[['VAERS_ID', 'AGE_YRS', 'STATE', 'SYMPTOM_TEXT', 'DIED', 'ER_VISIT']]"
   ]
  },
  {
   "cell_type": "markdown",
   "id": "ad1980b0",
   "metadata": {},
   "source": [
    "### Merge the condensed datasets"
   ]
  },
  {
   "cell_type": "code",
   "execution_count": 61,
   "id": "3d575b3d",
   "metadata": {},
   "outputs": [],
   "source": [
    "vaers1997 = pd.merge(vax97, data97, on= 'VAERS_ID')"
   ]
  },
  {
   "cell_type": "code",
   "execution_count": 62,
   "id": "17894526",
   "metadata": {},
   "outputs": [],
   "source": [
    "vaers1997['Year'] = 1997"
   ]
  },
  {
   "cell_type": "code",
   "execution_count": 63,
   "id": "e594d925",
   "metadata": {},
   "outputs": [],
   "source": [
    "vaers1997.to_csv('C:/Users/chris/Desktop/WozU_Data_Science/VAERS_CleanData/vaers1997.csv', encoding = 'utf-8')"
   ]
  },
  {
   "cell_type": "code",
   "execution_count": 64,
   "id": "deb9e38c",
   "metadata": {},
   "outputs": [],
   "source": [
    "vaers90_97 = pd.concat([vaers90_96, vaers1997])"
   ]
  },
  {
   "cell_type": "markdown",
   "id": "c28305ff",
   "metadata": {},
   "source": [
    "# 1998:\n",
    "\n",
    "### Import the data sets"
   ]
  },
  {
   "cell_type": "code",
   "execution_count": 65,
   "id": "f423dfab",
   "metadata": {},
   "outputs": [],
   "source": [
    "vaersdata98 = pd.read_csv('C:/Users/chris/Desktop/WozU_Data_Science/VAERS-data/1998/1998VAERSDATA.csv',encoding = 'cp1252')"
   ]
  },
  {
   "cell_type": "code",
   "execution_count": 66,
   "id": "dc68388a",
   "metadata": {},
   "outputs": [],
   "source": [
    "vaersvax98 = pd.read_csv('C:/Users/chris/Desktop/WozU_Data_Science/VAERS-data/1998/1998VAERSVAX.csv',encoding = 'cp1252')"
   ]
  },
  {
   "cell_type": "markdown",
   "id": "4e082d3c",
   "metadata": {},
   "source": [
    "### Condense the two data sets down to useful information for analysis"
   ]
  },
  {
   "cell_type": "code",
   "execution_count": 67,
   "id": "54a35bf9",
   "metadata": {},
   "outputs": [],
   "source": [
    "vax98 = vaersvax98[['VAERS_ID', 'VAX_TYPE', 'VAX_MANU', 'VAX_LOT', 'VAX_NAME']]"
   ]
  },
  {
   "cell_type": "code",
   "execution_count": 68,
   "id": "80ed9df6",
   "metadata": {},
   "outputs": [],
   "source": [
    "data98 = vaersdata98[['VAERS_ID', 'AGE_YRS', 'STATE', 'SYMPTOM_TEXT', 'DIED', 'ER_VISIT']]"
   ]
  },
  {
   "cell_type": "markdown",
   "id": "c4e835fe",
   "metadata": {},
   "source": [
    "### Merge the condensed datasets"
   ]
  },
  {
   "cell_type": "code",
   "execution_count": 69,
   "id": "03a0d1a8",
   "metadata": {},
   "outputs": [],
   "source": [
    "vaers1998 = pd.merge(vax98, data98, on= 'VAERS_ID')"
   ]
  },
  {
   "cell_type": "code",
   "execution_count": 70,
   "id": "9501f2a8",
   "metadata": {},
   "outputs": [],
   "source": [
    "vaers1998['Year'] = 1998"
   ]
  },
  {
   "cell_type": "code",
   "execution_count": 71,
   "id": "2f091c2a",
   "metadata": {},
   "outputs": [],
   "source": [
    "vaers1998.to_csv('C:/Users/chris/Desktop/WozU_Data_Science/VAERS_CleanData/vaers1998.csv', encoding = 'utf-8')"
   ]
  },
  {
   "cell_type": "code",
   "execution_count": 72,
   "id": "b04559f7",
   "metadata": {},
   "outputs": [],
   "source": [
    "vaers90_98 = pd.concat([vaers90_97, vaers1998])"
   ]
  },
  {
   "cell_type": "markdown",
   "id": "203fac65",
   "metadata": {},
   "source": [
    "# 1999:\n",
    "\n",
    "### Import the data sets"
   ]
  },
  {
   "cell_type": "code",
   "execution_count": 73,
   "id": "b1503943",
   "metadata": {},
   "outputs": [],
   "source": [
    "vaersdata99 = pd.read_csv('C:/Users/chris/Desktop/WozU_Data_Science/VAERS-data/1999/1999VAERSDATA.csv',encoding = 'cp1252')"
   ]
  },
  {
   "cell_type": "code",
   "execution_count": 74,
   "id": "4082672a",
   "metadata": {},
   "outputs": [],
   "source": [
    "vaersvax99 = pd.read_csv('C:/Users/chris/Desktop/WozU_Data_Science/VAERS-data/1999/1999VAERSVAX.csv',encoding = 'cp1252')"
   ]
  },
  {
   "cell_type": "markdown",
   "id": "b3a415fb",
   "metadata": {},
   "source": [
    "### Condense the two data sets down to useful information for analysis"
   ]
  },
  {
   "cell_type": "code",
   "execution_count": 75,
   "id": "b90d7c0b",
   "metadata": {},
   "outputs": [],
   "source": [
    "vax99 = vaersvax99[['VAERS_ID', 'VAX_TYPE', 'VAX_MANU', 'VAX_LOT', 'VAX_NAME']]"
   ]
  },
  {
   "cell_type": "code",
   "execution_count": 76,
   "id": "ff9efca2",
   "metadata": {},
   "outputs": [],
   "source": [
    "data99 = vaersdata99[['VAERS_ID', 'AGE_YRS', 'STATE', 'SYMPTOM_TEXT', 'DIED', 'ER_VISIT']]"
   ]
  },
  {
   "cell_type": "markdown",
   "id": "90fc7601",
   "metadata": {},
   "source": [
    "### Merge the condensed datasets"
   ]
  },
  {
   "cell_type": "code",
   "execution_count": 77,
   "id": "fdba31ac",
   "metadata": {},
   "outputs": [],
   "source": [
    "vaers1999 = pd.merge(vax99, data99, on= 'VAERS_ID')"
   ]
  },
  {
   "cell_type": "code",
   "execution_count": 78,
   "id": "140f05c1",
   "metadata": {},
   "outputs": [],
   "source": [
    "vaers1999['Year'] = 1999"
   ]
  },
  {
   "cell_type": "code",
   "execution_count": 79,
   "id": "5d051936",
   "metadata": {},
   "outputs": [],
   "source": [
    "vaers1999.to_csv('C:/Users/chris/Desktop/WozU_Data_Science/VAERS_CleanData/vaers1999.csv', encoding = 'utf-8')"
   ]
  },
  {
   "cell_type": "code",
   "execution_count": 80,
   "id": "b5b7324f",
   "metadata": {},
   "outputs": [],
   "source": [
    "vaers90_99 = pd.concat([vaers90_98, vaers1999])"
   ]
  },
  {
   "cell_type": "markdown",
   "id": "f2933bc9",
   "metadata": {},
   "source": [
    "# 2000:\n",
    "\n",
    "### Import the data sets"
   ]
  },
  {
   "cell_type": "code",
   "execution_count": 81,
   "id": "a8e03a4f",
   "metadata": {},
   "outputs": [],
   "source": [
    "vaersdata00 = pd.read_csv('C:/Users/chris/Desktop/WozU_Data_Science/VAERS-data/2000/2000VAERSDATA.csv',encoding = 'cp1252')"
   ]
  },
  {
   "cell_type": "code",
   "execution_count": 82,
   "id": "ddff85a8",
   "metadata": {},
   "outputs": [],
   "source": [
    "vaersvax00 = pd.read_csv('C:/Users/chris/Desktop/WozU_Data_Science/VAERS-data/2000/2000VAERSVAX.csv',encoding = 'cp1252')"
   ]
  },
  {
   "cell_type": "markdown",
   "id": "2ff6c443",
   "metadata": {},
   "source": [
    "### Condense the two data sets down to useful information for analysis"
   ]
  },
  {
   "cell_type": "code",
   "execution_count": 83,
   "id": "13532067",
   "metadata": {},
   "outputs": [],
   "source": [
    "vax00 = vaersvax00[['VAERS_ID', 'VAX_TYPE', 'VAX_MANU', 'VAX_LOT', 'VAX_NAME']]"
   ]
  },
  {
   "cell_type": "code",
   "execution_count": 84,
   "id": "f83f3f81",
   "metadata": {},
   "outputs": [],
   "source": [
    "data00 = vaersdata00[['VAERS_ID', 'AGE_YRS', 'STATE', 'SYMPTOM_TEXT', 'DIED', 'ER_VISIT']]"
   ]
  },
  {
   "cell_type": "markdown",
   "id": "6011e33a",
   "metadata": {},
   "source": [
    "### Merge the condensed datasets"
   ]
  },
  {
   "cell_type": "code",
   "execution_count": 85,
   "id": "ffba6bed",
   "metadata": {},
   "outputs": [],
   "source": [
    "vaers2000 = pd.merge(vax00, data00, on= 'VAERS_ID')"
   ]
  },
  {
   "cell_type": "code",
   "execution_count": 86,
   "id": "2bab80c2",
   "metadata": {},
   "outputs": [],
   "source": [
    "vaers2000['Year'] = 2000"
   ]
  },
  {
   "cell_type": "code",
   "execution_count": 87,
   "id": "aadc0dd5",
   "metadata": {},
   "outputs": [],
   "source": [
    "vaers2000.to_csv('C:/Users/chris/Desktop/WozU_Data_Science/VAERS_CleanData/vaers2000.csv', encoding = 'utf-8')"
   ]
  },
  {
   "cell_type": "code",
   "execution_count": 88,
   "id": "43f7d7bd",
   "metadata": {},
   "outputs": [],
   "source": [
    "vaers90_00 = pd.concat([vaers90_99, vaers2000])"
   ]
  },
  {
   "cell_type": "markdown",
   "id": "67ed1843",
   "metadata": {},
   "source": [
    "# 2001:\n",
    "\n",
    "### Import the data sets"
   ]
  },
  {
   "cell_type": "code",
   "execution_count": 89,
   "id": "9f5e993f",
   "metadata": {},
   "outputs": [],
   "source": [
    "vaersdata01 = pd.read_csv('C:/Users/chris/Desktop/WozU_Data_Science/VAERS-data/2001/2001VAERSDATA.csv',encoding = 'cp1252')"
   ]
  },
  {
   "cell_type": "code",
   "execution_count": 90,
   "id": "251293ab",
   "metadata": {},
   "outputs": [],
   "source": [
    "vaersvax01 = pd.read_csv('C:/Users/chris/Desktop/WozU_Data_Science/VAERS-data/2001/2001VAERSVAX.csv',encoding = 'cp1252')"
   ]
  },
  {
   "cell_type": "markdown",
   "id": "1f369a4a",
   "metadata": {},
   "source": [
    "### Condense the two data sets down to useful information for analysis"
   ]
  },
  {
   "cell_type": "code",
   "execution_count": 91,
   "id": "67ea6a8e",
   "metadata": {},
   "outputs": [],
   "source": [
    "vax01 = vaersvax01[['VAERS_ID', 'VAX_TYPE', 'VAX_MANU', 'VAX_LOT', 'VAX_NAME']]"
   ]
  },
  {
   "cell_type": "code",
   "execution_count": 92,
   "id": "f74f8f57",
   "metadata": {},
   "outputs": [],
   "source": [
    "data01 = vaersdata01[['VAERS_ID', 'AGE_YRS', 'STATE', 'SYMPTOM_TEXT', 'DIED', 'ER_VISIT']]"
   ]
  },
  {
   "cell_type": "markdown",
   "id": "ddb9c7ac",
   "metadata": {},
   "source": [
    "### Merge the condensed datasets"
   ]
  },
  {
   "cell_type": "code",
   "execution_count": 93,
   "id": "5e5ab702",
   "metadata": {},
   "outputs": [],
   "source": [
    "vaers2001 = pd.merge(vax01, data01, on= 'VAERS_ID')"
   ]
  },
  {
   "cell_type": "code",
   "execution_count": 94,
   "id": "c710b385",
   "metadata": {},
   "outputs": [],
   "source": [
    "vaers2001['Year'] = 2001"
   ]
  },
  {
   "cell_type": "code",
   "execution_count": 95,
   "id": "09f45cb9",
   "metadata": {},
   "outputs": [],
   "source": [
    "vaers2001.to_csv('C:/Users/chris/Desktop/WozU_Data_Science/VAERS_CleanData/vaers2001.csv', encoding = 'utf-8')"
   ]
  },
  {
   "cell_type": "code",
   "execution_count": 96,
   "id": "a070563e",
   "metadata": {},
   "outputs": [],
   "source": [
    "vaers90_01 = pd.concat([vaers90_00, vaers2001])"
   ]
  },
  {
   "cell_type": "markdown",
   "id": "5d0241f4",
   "metadata": {},
   "source": [
    "# 2002:\n",
    "\n",
    "### Import the data sets"
   ]
  },
  {
   "cell_type": "code",
   "execution_count": 97,
   "id": "42ff6ed3",
   "metadata": {},
   "outputs": [],
   "source": [
    "vaersdata02 = pd.read_csv('C:/Users/chris/Desktop/WozU_Data_Science/VAERS-data/2002/2002VAERSDATA.csv',encoding = 'cp1252')"
   ]
  },
  {
   "cell_type": "code",
   "execution_count": 98,
   "id": "236df85f",
   "metadata": {},
   "outputs": [],
   "source": [
    "vaersvax02 = pd.read_csv('C:/Users/chris/Desktop/WozU_Data_Science/VAERS-data/2002/2002VAERSVAX.csv',encoding = 'cp1252')"
   ]
  },
  {
   "cell_type": "markdown",
   "id": "9c17b281",
   "metadata": {},
   "source": [
    "### Condense the two data sets down to useful information for analysis"
   ]
  },
  {
   "cell_type": "code",
   "execution_count": 99,
   "id": "0ea50f4c",
   "metadata": {},
   "outputs": [],
   "source": [
    "vax02 = vaersvax02[['VAERS_ID', 'VAX_TYPE', 'VAX_MANU', 'VAX_LOT', 'VAX_NAME']]"
   ]
  },
  {
   "cell_type": "code",
   "execution_count": 100,
   "id": "cfd607c4",
   "metadata": {},
   "outputs": [],
   "source": [
    "data02 = vaersdata02[['VAERS_ID', 'AGE_YRS', 'STATE', 'SYMPTOM_TEXT', 'DIED', 'ER_VISIT']]"
   ]
  },
  {
   "cell_type": "markdown",
   "id": "1dad903b",
   "metadata": {},
   "source": [
    "### Merge the condensed datasets"
   ]
  },
  {
   "cell_type": "code",
   "execution_count": 101,
   "id": "8a20059b",
   "metadata": {},
   "outputs": [],
   "source": [
    "vaers2002 = pd.merge(vax02, data02, on= 'VAERS_ID')"
   ]
  },
  {
   "cell_type": "code",
   "execution_count": 102,
   "id": "50daf41f",
   "metadata": {},
   "outputs": [],
   "source": [
    "vaers2002['Year'] = 2002"
   ]
  },
  {
   "cell_type": "code",
   "execution_count": 103,
   "id": "22ea864f",
   "metadata": {},
   "outputs": [],
   "source": [
    "vaers2002.to_csv('C:/Users/chris/Desktop/WozU_Data_Science/VAERS_CleanData/vaers2002.csv', encoding = 'utf-8')"
   ]
  },
  {
   "cell_type": "code",
   "execution_count": 104,
   "id": "8d6f262c",
   "metadata": {},
   "outputs": [],
   "source": [
    "vaers90_02 = pd.concat([vaers90_01, vaers2002])"
   ]
  },
  {
   "cell_type": "markdown",
   "id": "507a3789",
   "metadata": {},
   "source": [
    "# 2003:\n",
    "\n",
    "### Import the data sets"
   ]
  },
  {
   "cell_type": "code",
   "execution_count": 105,
   "id": "3f2cdecd",
   "metadata": {},
   "outputs": [],
   "source": [
    "vaersdata03 = pd.read_csv('C:/Users/chris/Desktop/WozU_Data_Science/VAERS-data/2003/2003VAERSDATA.csv',encoding = 'cp1252')"
   ]
  },
  {
   "cell_type": "code",
   "execution_count": 106,
   "id": "624a194b",
   "metadata": {},
   "outputs": [],
   "source": [
    "vaersvax03 = pd.read_csv('C:/Users/chris/Desktop/WozU_Data_Science/VAERS-data/2003/2003VAERSVAX.csv',encoding = 'cp1252')"
   ]
  },
  {
   "cell_type": "markdown",
   "id": "9a64c965",
   "metadata": {},
   "source": [
    "### Condense the two data sets down to useful information for analysis"
   ]
  },
  {
   "cell_type": "code",
   "execution_count": 107,
   "id": "e960987d",
   "metadata": {},
   "outputs": [],
   "source": [
    "vax03 = vaersvax03[['VAERS_ID', 'VAX_TYPE', 'VAX_MANU', 'VAX_LOT', 'VAX_NAME']]"
   ]
  },
  {
   "cell_type": "code",
   "execution_count": 108,
   "id": "3e1d8562",
   "metadata": {},
   "outputs": [],
   "source": [
    "data03 = vaersdata03[['VAERS_ID', 'AGE_YRS', 'STATE', 'SYMPTOM_TEXT', 'DIED', 'ER_VISIT']]"
   ]
  },
  {
   "cell_type": "markdown",
   "id": "a6d6f54e",
   "metadata": {},
   "source": [
    "### Merge the condensed datasets"
   ]
  },
  {
   "cell_type": "code",
   "execution_count": 109,
   "id": "84c5e62f",
   "metadata": {},
   "outputs": [],
   "source": [
    "vaers2003 = pd.merge(vax03, data03, on= 'VAERS_ID')"
   ]
  },
  {
   "cell_type": "code",
   "execution_count": 110,
   "id": "70a67f7e",
   "metadata": {},
   "outputs": [],
   "source": [
    "vaers2003['Year'] = 2003"
   ]
  },
  {
   "cell_type": "code",
   "execution_count": 111,
   "id": "1285346a",
   "metadata": {},
   "outputs": [],
   "source": [
    "vaers2003.to_csv('C:/Users/chris/Desktop/WozU_Data_Science/VAERS_CleanData/vaers2003.csv', encoding = 'utf-8')"
   ]
  },
  {
   "cell_type": "code",
   "execution_count": 112,
   "id": "18f0a863",
   "metadata": {},
   "outputs": [],
   "source": [
    "vaers90_03 = pd.concat([vaers90_02, vaers2003])"
   ]
  },
  {
   "cell_type": "markdown",
   "id": "888053c1",
   "metadata": {},
   "source": [
    "# 2004:\n",
    "\n",
    "### Import the data sets"
   ]
  },
  {
   "cell_type": "code",
   "execution_count": 113,
   "id": "1cc5a6a6",
   "metadata": {},
   "outputs": [],
   "source": [
    "vaersdata04 = pd.read_csv('C:/Users/chris/Desktop/WozU_Data_Science/VAERS-data/2004/2004VAERSDATA.csv',encoding = 'cp1252')"
   ]
  },
  {
   "cell_type": "code",
   "execution_count": 114,
   "id": "697c6fca",
   "metadata": {},
   "outputs": [],
   "source": [
    "vaersvax04 = pd.read_csv('C:/Users/chris/Desktop/WozU_Data_Science/VAERS-data/2004/2004VAERSVAX.csv',encoding = 'cp1252')"
   ]
  },
  {
   "cell_type": "markdown",
   "id": "20c9a109",
   "metadata": {},
   "source": [
    "### Condense the two data sets down to useful information for analysis"
   ]
  },
  {
   "cell_type": "code",
   "execution_count": 115,
   "id": "f2baa441",
   "metadata": {},
   "outputs": [],
   "source": [
    "vax04 = vaersvax04[['VAERS_ID', 'VAX_TYPE', 'VAX_MANU', 'VAX_LOT', 'VAX_NAME']]"
   ]
  },
  {
   "cell_type": "code",
   "execution_count": 116,
   "id": "39400eb9",
   "metadata": {},
   "outputs": [],
   "source": [
    "data04 = vaersdata04[['VAERS_ID', 'AGE_YRS', 'STATE', 'SYMPTOM_TEXT', 'DIED', 'ER_VISIT']]"
   ]
  },
  {
   "cell_type": "markdown",
   "id": "8c0ae7c4",
   "metadata": {},
   "source": [
    "### Merge the condensed datasets"
   ]
  },
  {
   "cell_type": "code",
   "execution_count": 117,
   "id": "d2fb7141",
   "metadata": {},
   "outputs": [],
   "source": [
    "vaers2004 = pd.merge(vax04, data04, on= 'VAERS_ID')"
   ]
  },
  {
   "cell_type": "code",
   "execution_count": 118,
   "id": "d06d98e6",
   "metadata": {},
   "outputs": [],
   "source": [
    "vaers2004['Year'] = 2004"
   ]
  },
  {
   "cell_type": "code",
   "execution_count": 119,
   "id": "2fd422bf",
   "metadata": {},
   "outputs": [],
   "source": [
    "vaers2004.to_csv('C:/Users/chris/Desktop/WozU_Data_Science/VAERS_CleanData/vaers2004.csv', encoding = 'utf-8')"
   ]
  },
  {
   "cell_type": "code",
   "execution_count": 120,
   "id": "936dcf20",
   "metadata": {},
   "outputs": [],
   "source": [
    "vaers90_04 = pd.concat([vaers90_03, vaers2004])"
   ]
  },
  {
   "cell_type": "markdown",
   "id": "256eecd3",
   "metadata": {},
   "source": [
    "# 2005:\n",
    "\n",
    "### Import the data sets"
   ]
  },
  {
   "cell_type": "code",
   "execution_count": 121,
   "id": "a34af86b",
   "metadata": {},
   "outputs": [],
   "source": [
    "vaersdata05 = pd.read_csv('C:/Users/chris/Desktop/WozU_Data_Science/VAERS-data/2005/2005VAERSDATA.csv',encoding = 'cp1252')"
   ]
  },
  {
   "cell_type": "code",
   "execution_count": 122,
   "id": "75d19d53",
   "metadata": {},
   "outputs": [],
   "source": [
    "vaersvax05 = pd.read_csv('C:/Users/chris/Desktop/WozU_Data_Science/VAERS-data/2005/2005VAERSVAX.csv',encoding = 'cp1252')"
   ]
  },
  {
   "cell_type": "markdown",
   "id": "19e13a72",
   "metadata": {},
   "source": [
    "### Condense the two data sets down to useful information for analysis"
   ]
  },
  {
   "cell_type": "code",
   "execution_count": 123,
   "id": "5f525a74",
   "metadata": {},
   "outputs": [],
   "source": [
    "vax05 = vaersvax05[['VAERS_ID', 'VAX_TYPE', 'VAX_MANU', 'VAX_LOT', 'VAX_NAME']]"
   ]
  },
  {
   "cell_type": "code",
   "execution_count": 124,
   "id": "dcfd275a",
   "metadata": {},
   "outputs": [],
   "source": [
    "data05 = vaersdata05[['VAERS_ID', 'AGE_YRS', 'STATE', 'SYMPTOM_TEXT', 'DIED', 'ER_VISIT']]"
   ]
  },
  {
   "cell_type": "markdown",
   "id": "208993f8",
   "metadata": {},
   "source": [
    "### Merge the condensed datasets"
   ]
  },
  {
   "cell_type": "code",
   "execution_count": 125,
   "id": "443b51df",
   "metadata": {},
   "outputs": [],
   "source": [
    "vaers2005 = pd.merge(vax05, data05, on= 'VAERS_ID')"
   ]
  },
  {
   "cell_type": "code",
   "execution_count": 126,
   "id": "ab7d2353",
   "metadata": {},
   "outputs": [],
   "source": [
    "vaers2005['Year'] = 2005"
   ]
  },
  {
   "cell_type": "code",
   "execution_count": 127,
   "id": "91b9b7f8",
   "metadata": {},
   "outputs": [],
   "source": [
    "vaers2005.to_csv('C:/Users/chris/Desktop/WozU_Data_Science/VAERS_CleanData/vaers2005.csv', encoding = 'utf-8')"
   ]
  },
  {
   "cell_type": "code",
   "execution_count": 128,
   "id": "7c7be721",
   "metadata": {},
   "outputs": [],
   "source": [
    "vaers90_05 = pd.concat([vaers90_04, vaers2005])"
   ]
  },
  {
   "cell_type": "markdown",
   "id": "3425af0d",
   "metadata": {},
   "source": [
    "# 2006:\n",
    "\n",
    "### Import the data sets"
   ]
  },
  {
   "cell_type": "code",
   "execution_count": 129,
   "id": "a2784f20",
   "metadata": {},
   "outputs": [],
   "source": [
    "vaersdata06 = pd.read_csv('C:/Users/chris/Desktop/WozU_Data_Science/VAERS-data/2006/2006VAERSDATA.csv',encoding = 'cp1252')"
   ]
  },
  {
   "cell_type": "code",
   "execution_count": 130,
   "id": "1ebc53a2",
   "metadata": {},
   "outputs": [],
   "source": [
    "vaersvax06 = pd.read_csv('C:/Users/chris/Desktop/WozU_Data_Science/VAERS-data/2006/2006VAERSVAX.csv',encoding = 'cp1252')"
   ]
  },
  {
   "cell_type": "markdown",
   "id": "e4bbe096",
   "metadata": {},
   "source": [
    "### Condense the two data sets down to useful information for analysis"
   ]
  },
  {
   "cell_type": "code",
   "execution_count": 131,
   "id": "66d058de",
   "metadata": {},
   "outputs": [],
   "source": [
    "vax06 = vaersvax06[['VAERS_ID', 'VAX_TYPE', 'VAX_MANU', 'VAX_LOT', 'VAX_NAME']]"
   ]
  },
  {
   "cell_type": "code",
   "execution_count": 132,
   "id": "45ff2f50",
   "metadata": {},
   "outputs": [],
   "source": [
    "data06 = vaersdata06[['VAERS_ID', 'AGE_YRS', 'STATE', 'SYMPTOM_TEXT', 'DIED', 'ER_VISIT']]"
   ]
  },
  {
   "cell_type": "markdown",
   "id": "9a0f428a",
   "metadata": {},
   "source": [
    "### Merge the condensed datasets"
   ]
  },
  {
   "cell_type": "code",
   "execution_count": 133,
   "id": "52ca7592",
   "metadata": {},
   "outputs": [],
   "source": [
    "vaers2006 = pd.merge(vax06, data06, on= 'VAERS_ID')"
   ]
  },
  {
   "cell_type": "code",
   "execution_count": 134,
   "id": "27865860",
   "metadata": {},
   "outputs": [],
   "source": [
    "vaers2006['Year'] = 2006"
   ]
  },
  {
   "cell_type": "code",
   "execution_count": 135,
   "id": "cb877038",
   "metadata": {},
   "outputs": [],
   "source": [
    "vaers2006.to_csv('C:/Users/chris/Desktop/WozU_Data_Science/VAERS_CleanData/vaers2006.csv', encoding = 'utf-8')"
   ]
  },
  {
   "cell_type": "code",
   "execution_count": 136,
   "id": "3e8a89eb",
   "metadata": {},
   "outputs": [],
   "source": [
    "vaers90_06 = pd.concat([vaers90_05, vaers2006])"
   ]
  },
  {
   "cell_type": "markdown",
   "id": "31c26235",
   "metadata": {},
   "source": [
    "# 2007:\n",
    "\n",
    "### Import the data sets"
   ]
  },
  {
   "cell_type": "code",
   "execution_count": 137,
   "id": "c4b90b96",
   "metadata": {},
   "outputs": [],
   "source": [
    "vaersdata07 = pd.read_csv('C:/Users/chris/Desktop/WozU_Data_Science/VAERS-data/2007/2007VAERSDATA.csv',encoding = 'cp1252')"
   ]
  },
  {
   "cell_type": "code",
   "execution_count": 138,
   "id": "f5fbf534",
   "metadata": {},
   "outputs": [],
   "source": [
    "vaersvax07 = pd.read_csv('C:/Users/chris/Desktop/WozU_Data_Science/VAERS-data/2007/2007VAERSVAX.csv',encoding = 'cp1252')"
   ]
  },
  {
   "cell_type": "markdown",
   "id": "a7346c82",
   "metadata": {},
   "source": [
    "### Condense the two data sets down to useful information for analysis"
   ]
  },
  {
   "cell_type": "code",
   "execution_count": 139,
   "id": "6c9393ec",
   "metadata": {},
   "outputs": [],
   "source": [
    "vax07 = vaersvax07[['VAERS_ID', 'VAX_TYPE', 'VAX_MANU', 'VAX_LOT', 'VAX_NAME']]"
   ]
  },
  {
   "cell_type": "code",
   "execution_count": 140,
   "id": "b3d2559b",
   "metadata": {},
   "outputs": [],
   "source": [
    "data07 = vaersdata07[['VAERS_ID', 'AGE_YRS', 'STATE', 'SYMPTOM_TEXT', 'DIED', 'ER_VISIT']]"
   ]
  },
  {
   "cell_type": "markdown",
   "id": "1148b213",
   "metadata": {},
   "source": [
    "### Merge the condensed datasets"
   ]
  },
  {
   "cell_type": "code",
   "execution_count": 141,
   "id": "f82dea00",
   "metadata": {},
   "outputs": [],
   "source": [
    "vaers2007 = pd.merge(vax07, data07, on= 'VAERS_ID')"
   ]
  },
  {
   "cell_type": "code",
   "execution_count": 142,
   "id": "7fab7d05",
   "metadata": {},
   "outputs": [],
   "source": [
    "vaers2007['Year'] = 2007"
   ]
  },
  {
   "cell_type": "code",
   "execution_count": 143,
   "id": "a7db9cd4",
   "metadata": {},
   "outputs": [],
   "source": [
    "vaers2007.to_csv('C:/Users/chris/Desktop/WozU_Data_Science/VAERS_CleanData/vaers2007.csv', encoding = 'utf-8')"
   ]
  },
  {
   "cell_type": "code",
   "execution_count": 144,
   "id": "f151e7cd",
   "metadata": {},
   "outputs": [],
   "source": [
    "vaers90_07 = pd.concat([vaers90_06, vaers2007])"
   ]
  },
  {
   "cell_type": "markdown",
   "id": "a02e8a29",
   "metadata": {},
   "source": [
    "# 2008:\n",
    "\n",
    "### Import the data sets"
   ]
  },
  {
   "cell_type": "code",
   "execution_count": 145,
   "id": "7ea11353",
   "metadata": {},
   "outputs": [],
   "source": [
    "vaersdata08 = pd.read_csv('C:/Users/chris/Desktop/WozU_Data_Science/VAERS-data/2008/2008VAERSDATA.csv',encoding = 'cp1252')"
   ]
  },
  {
   "cell_type": "code",
   "execution_count": 146,
   "id": "08e38c34",
   "metadata": {},
   "outputs": [],
   "source": [
    "vaersvax08 = pd.read_csv('C:/Users/chris/Desktop/WozU_Data_Science/VAERS-data/2008/2008VAERSVAX.csv',encoding = 'cp1252')"
   ]
  },
  {
   "cell_type": "markdown",
   "id": "339105cd",
   "metadata": {},
   "source": [
    "### Condense the two data sets down to useful information for analysis"
   ]
  },
  {
   "cell_type": "code",
   "execution_count": 147,
   "id": "0a1a593f",
   "metadata": {},
   "outputs": [],
   "source": [
    "vax08 = vaersvax08[['VAERS_ID', 'VAX_TYPE', 'VAX_MANU', 'VAX_LOT', 'VAX_NAME']]"
   ]
  },
  {
   "cell_type": "code",
   "execution_count": 148,
   "id": "f4f238de",
   "metadata": {},
   "outputs": [],
   "source": [
    "data08 = vaersdata08[['VAERS_ID', 'AGE_YRS', 'STATE', 'SYMPTOM_TEXT', 'DIED', 'ER_VISIT']]"
   ]
  },
  {
   "cell_type": "markdown",
   "id": "a1ee837d",
   "metadata": {},
   "source": [
    "### Merge the condensed datasets"
   ]
  },
  {
   "cell_type": "code",
   "execution_count": 149,
   "id": "933da060",
   "metadata": {},
   "outputs": [],
   "source": [
    "vaers2008 = pd.merge(vax08, data08, on= 'VAERS_ID')"
   ]
  },
  {
   "cell_type": "code",
   "execution_count": 150,
   "id": "6b42a3aa",
   "metadata": {},
   "outputs": [],
   "source": [
    "vaers2008['Year'] = 2008"
   ]
  },
  {
   "cell_type": "code",
   "execution_count": 151,
   "id": "39af22a4",
   "metadata": {},
   "outputs": [],
   "source": [
    "vaers2008.to_csv('C:/Users/chris/Desktop/WozU_Data_Science/VAERS_CleanData/vaers2008.csv', encoding = 'utf-8')"
   ]
  },
  {
   "cell_type": "code",
   "execution_count": 152,
   "id": "c6537722",
   "metadata": {},
   "outputs": [],
   "source": [
    "vaers90_08 = pd.concat([vaers90_07, vaers2008])"
   ]
  },
  {
   "cell_type": "markdown",
   "id": "52d235d7",
   "metadata": {},
   "source": [
    "# 2009:\n",
    "\n",
    "### Import the data sets"
   ]
  },
  {
   "cell_type": "code",
   "execution_count": 153,
   "id": "d1d30c38",
   "metadata": {},
   "outputs": [
    {
     "name": "stderr",
     "output_type": "stream",
     "text": [
      "C:\\Users\\chris\\AppData\\Local\\Temp\\ipykernel_12204\\853617532.py:1: DtypeWarning: Columns (9,10,11,13,15,16,27) have mixed types. Specify dtype option on import or set low_memory=False.\n",
      "  vaersdata09 = pd.read_csv('C:/Users/chris/Desktop/WozU_Data_Science/VAERS-data/2009/2009VAERSDATA.csv',encoding = 'cp1252')\n"
     ]
    }
   ],
   "source": [
    "vaersdata09 = pd.read_csv('C:/Users/chris/Desktop/WozU_Data_Science/VAERS-data/2009/2009VAERSDATA.csv',encoding = 'cp1252')"
   ]
  },
  {
   "cell_type": "code",
   "execution_count": 154,
   "id": "1b00ed55",
   "metadata": {},
   "outputs": [],
   "source": [
    "vaersvax09 = pd.read_csv('C:/Users/chris/Desktop/WozU_Data_Science/VAERS-data/2009/2009VAERSVAX.csv',encoding = 'cp1252')"
   ]
  },
  {
   "cell_type": "markdown",
   "id": "2d5ccdda",
   "metadata": {},
   "source": [
    "### Condense the two data sets down to useful information for analysis"
   ]
  },
  {
   "cell_type": "code",
   "execution_count": 155,
   "id": "fd8a5afd",
   "metadata": {},
   "outputs": [],
   "source": [
    "vax09 = vaersvax09[['VAERS_ID', 'VAX_TYPE', 'VAX_MANU', 'VAX_LOT', 'VAX_NAME']]"
   ]
  },
  {
   "cell_type": "code",
   "execution_count": 156,
   "id": "575c7afd",
   "metadata": {},
   "outputs": [],
   "source": [
    "data09 = vaersdata09[['VAERS_ID', 'AGE_YRS', 'STATE', 'SYMPTOM_TEXT', 'DIED', 'ER_VISIT']]"
   ]
  },
  {
   "cell_type": "markdown",
   "id": "7c0af69a",
   "metadata": {},
   "source": [
    "### Merge the condensed datasets"
   ]
  },
  {
   "cell_type": "code",
   "execution_count": 157,
   "id": "2d82b510",
   "metadata": {},
   "outputs": [],
   "source": [
    "vaers2009 = pd.merge(vax09, data09, on= 'VAERS_ID')"
   ]
  },
  {
   "cell_type": "code",
   "execution_count": 158,
   "id": "ceb4712d",
   "metadata": {},
   "outputs": [],
   "source": [
    "vaers2009['Year'] = 2009"
   ]
  },
  {
   "cell_type": "code",
   "execution_count": 159,
   "id": "af63e3ef",
   "metadata": {},
   "outputs": [],
   "source": [
    "vaers2009.to_csv('C:/Users/chris/Desktop/WozU_Data_Science/VAERS_CleanData/vaers2009.csv', encoding = 'utf-8')"
   ]
  },
  {
   "cell_type": "code",
   "execution_count": 160,
   "id": "2fddf8e9",
   "metadata": {},
   "outputs": [],
   "source": [
    "vaers90_09 = pd.concat([vaers90_08, vaers2009])"
   ]
  },
  {
   "cell_type": "markdown",
   "id": "f64407c3",
   "metadata": {},
   "source": [
    "# 2010:\n",
    "\n",
    "### Import the data sets"
   ]
  },
  {
   "cell_type": "code",
   "execution_count": 161,
   "id": "8714aad2",
   "metadata": {},
   "outputs": [],
   "source": [
    "vaersdata10 = pd.read_csv('C:/Users/chris/Desktop/WozU_Data_Science/VAERS-data/2010/2010VAERSDATA.csv',encoding = 'cp1252')"
   ]
  },
  {
   "cell_type": "code",
   "execution_count": 162,
   "id": "cad3c333",
   "metadata": {},
   "outputs": [],
   "source": [
    "vaersvax10 = pd.read_csv('C:/Users/chris/Desktop/WozU_Data_Science/VAERS-data/2010/2010VAERSVAX.csv',encoding = 'cp1252')"
   ]
  },
  {
   "cell_type": "markdown",
   "id": "eee9e253",
   "metadata": {},
   "source": [
    "### Condense the two data sets down to useful information for analysis"
   ]
  },
  {
   "cell_type": "code",
   "execution_count": 163,
   "id": "70dd6d0a",
   "metadata": {},
   "outputs": [],
   "source": [
    "vax10 = vaersvax10[['VAERS_ID', 'VAX_TYPE', 'VAX_MANU', 'VAX_LOT', 'VAX_NAME']]"
   ]
  },
  {
   "cell_type": "code",
   "execution_count": 164,
   "id": "a2169b71",
   "metadata": {},
   "outputs": [],
   "source": [
    "data10 = vaersdata10[['VAERS_ID', 'AGE_YRS', 'STATE', 'SYMPTOM_TEXT', 'DIED', 'ER_VISIT']]"
   ]
  },
  {
   "cell_type": "markdown",
   "id": "36b9ead6",
   "metadata": {},
   "source": [
    "### Merge the condensed datasets"
   ]
  },
  {
   "cell_type": "code",
   "execution_count": 165,
   "id": "083ad5e9",
   "metadata": {},
   "outputs": [],
   "source": [
    "vaers2010 = pd.merge(vax10, data10, on= 'VAERS_ID')"
   ]
  },
  {
   "cell_type": "code",
   "execution_count": 166,
   "id": "c3e894b7",
   "metadata": {},
   "outputs": [],
   "source": [
    "vaers2010['Year'] = 2010"
   ]
  },
  {
   "cell_type": "code",
   "execution_count": 167,
   "id": "d3aad5b2",
   "metadata": {},
   "outputs": [],
   "source": [
    "vaers2010.to_csv('C:/Users/chris/Desktop/WozU_Data_Science/VAERS_CleanData/vaers2010.csv', encoding = 'utf-8')"
   ]
  },
  {
   "cell_type": "code",
   "execution_count": 168,
   "id": "e6459084",
   "metadata": {},
   "outputs": [],
   "source": [
    "vaers90_10 = pd.concat([vaers90_09, vaers2010])"
   ]
  },
  {
   "cell_type": "markdown",
   "id": "763d8003",
   "metadata": {},
   "source": [
    "# 2011:\n",
    "\n",
    "### Import the data sets"
   ]
  },
  {
   "cell_type": "code",
   "execution_count": 169,
   "id": "698ce0c4",
   "metadata": {},
   "outputs": [],
   "source": [
    "vaersdata11 = pd.read_csv('C:/Users/chris/Desktop/WozU_Data_Science/VAERS-data/2011/2011VAERSDATA.csv',encoding = 'cp1252')"
   ]
  },
  {
   "cell_type": "code",
   "execution_count": 170,
   "id": "6a902b5a",
   "metadata": {},
   "outputs": [],
   "source": [
    "vaersvax11 = pd.read_csv('C:/Users/chris/Desktop/WozU_Data_Science/VAERS-data/2011/2011VAERSVAX.csv',encoding = 'cp1252')"
   ]
  },
  {
   "cell_type": "markdown",
   "id": "bb3eb0d3",
   "metadata": {},
   "source": [
    "### Condense the two data sets down to useful information for analysis"
   ]
  },
  {
   "cell_type": "code",
   "execution_count": 171,
   "id": "0da31009",
   "metadata": {},
   "outputs": [],
   "source": [
    "vax11 = vaersvax11[['VAERS_ID', 'VAX_TYPE', 'VAX_MANU', 'VAX_LOT', 'VAX_NAME']]"
   ]
  },
  {
   "cell_type": "code",
   "execution_count": 172,
   "id": "64b061d1",
   "metadata": {},
   "outputs": [],
   "source": [
    "data11 = vaersdata11[['VAERS_ID', 'AGE_YRS', 'STATE', 'SYMPTOM_TEXT', 'DIED', 'ER_VISIT']]"
   ]
  },
  {
   "cell_type": "markdown",
   "id": "dd48ec17",
   "metadata": {},
   "source": [
    "### Merge the condensed datasets"
   ]
  },
  {
   "cell_type": "code",
   "execution_count": 173,
   "id": "85b13408",
   "metadata": {},
   "outputs": [],
   "source": [
    "vaers2011 = pd.merge(vax11, data11, on= 'VAERS_ID')"
   ]
  },
  {
   "cell_type": "code",
   "execution_count": 174,
   "id": "228fe2d6",
   "metadata": {},
   "outputs": [],
   "source": [
    "vaers2011['Year'] = 2011"
   ]
  },
  {
   "cell_type": "code",
   "execution_count": 175,
   "id": "3c81738c",
   "metadata": {},
   "outputs": [],
   "source": [
    "vaers2011.to_csv('C:/Users/chris/Desktop/WozU_Data_Science/VAERS_CleanData/vaers2011.csv', encoding = 'utf-8')"
   ]
  },
  {
   "cell_type": "code",
   "execution_count": 176,
   "id": "3b7d75bb",
   "metadata": {},
   "outputs": [],
   "source": [
    "vaers90_11 = pd.concat([vaers90_10, vaers2011])"
   ]
  },
  {
   "cell_type": "markdown",
   "id": "ef066c11",
   "metadata": {},
   "source": [
    "# 2012:\n",
    "\n",
    "### Import the data sets"
   ]
  },
  {
   "cell_type": "code",
   "execution_count": 177,
   "id": "c9aa82be",
   "metadata": {},
   "outputs": [
    {
     "name": "stderr",
     "output_type": "stream",
     "text": [
      "C:\\Users\\chris\\AppData\\Local\\Temp\\ipykernel_12204\\2981105337.py:1: DtypeWarning: Columns (30) have mixed types. Specify dtype option on import or set low_memory=False.\n",
      "  vaersdata12 = pd.read_csv('C:/Users/chris/Desktop/WozU_Data_Science/VAERS-data/2012/2012VAERSDATA.csv',encoding = 'cp1252')\n"
     ]
    }
   ],
   "source": [
    "vaersdata12 = pd.read_csv('C:/Users/chris/Desktop/WozU_Data_Science/VAERS-data/2012/2012VAERSDATA.csv',encoding = 'cp1252')"
   ]
  },
  {
   "cell_type": "code",
   "execution_count": 178,
   "id": "da39e7b5",
   "metadata": {},
   "outputs": [],
   "source": [
    "vaersvax12 = pd.read_csv('C:/Users/chris/Desktop/WozU_Data_Science/VAERS-data/2012/2012VAERSVAX.csv',encoding = 'cp1252')"
   ]
  },
  {
   "cell_type": "markdown",
   "id": "0ad49019",
   "metadata": {},
   "source": [
    "### Condense the two data sets down to useful information for analysis"
   ]
  },
  {
   "cell_type": "code",
   "execution_count": 179,
   "id": "deb8369a",
   "metadata": {},
   "outputs": [],
   "source": [
    "vax12 = vaersvax12[['VAERS_ID', 'VAX_TYPE', 'VAX_MANU', 'VAX_LOT', 'VAX_NAME']]"
   ]
  },
  {
   "cell_type": "code",
   "execution_count": 180,
   "id": "0ebc8c8f",
   "metadata": {},
   "outputs": [],
   "source": [
    "data12 = vaersdata12[['VAERS_ID', 'AGE_YRS', 'STATE', 'SYMPTOM_TEXT', 'DIED', 'ER_VISIT']]"
   ]
  },
  {
   "cell_type": "markdown",
   "id": "d027f85a",
   "metadata": {},
   "source": [
    "### Merge the condensed datasets"
   ]
  },
  {
   "cell_type": "code",
   "execution_count": 181,
   "id": "c03be0a4",
   "metadata": {},
   "outputs": [],
   "source": [
    "vaers2012 = pd.merge(vax12, data12, on= 'VAERS_ID')"
   ]
  },
  {
   "cell_type": "code",
   "execution_count": 182,
   "id": "ecd6c587",
   "metadata": {},
   "outputs": [],
   "source": [
    "vaers2012['Year'] = 2012"
   ]
  },
  {
   "cell_type": "code",
   "execution_count": 183,
   "id": "45bb3439",
   "metadata": {},
   "outputs": [],
   "source": [
    "vaers2012.to_csv('C:/Users/chris/Desktop/WozU_Data_Science/VAERS_CleanData/vaers2012.csv', encoding = 'utf-8')"
   ]
  },
  {
   "cell_type": "code",
   "execution_count": 184,
   "id": "6140c214",
   "metadata": {},
   "outputs": [],
   "source": [
    "vaers90_12 = pd.concat([vaers90_11, vaers2012])"
   ]
  },
  {
   "cell_type": "markdown",
   "id": "c6b7c433",
   "metadata": {},
   "source": [
    "# 2013:\n",
    "\n",
    "### Import the data sets"
   ]
  },
  {
   "cell_type": "code",
   "execution_count": 185,
   "id": "83a43dbb",
   "metadata": {},
   "outputs": [],
   "source": [
    "vaersdata13 = pd.read_csv('C:/Users/chris/Desktop/WozU_Data_Science/VAERS-data/2013/2013VAERSDATA.csv',encoding = 'cp1252')"
   ]
  },
  {
   "cell_type": "code",
   "execution_count": 186,
   "id": "418c04af",
   "metadata": {},
   "outputs": [],
   "source": [
    "vaersvax13 = pd.read_csv('C:/Users/chris/Desktop/WozU_Data_Science/VAERS-data/2013/2013VAERSVAX.csv',encoding = 'cp1252')"
   ]
  },
  {
   "cell_type": "markdown",
   "id": "57eefdf9",
   "metadata": {},
   "source": [
    "### Condense the two data sets down to useful information for analysis"
   ]
  },
  {
   "cell_type": "code",
   "execution_count": 187,
   "id": "b469ccff",
   "metadata": {},
   "outputs": [],
   "source": [
    "vax13 = vaersvax13[['VAERS_ID', 'VAX_TYPE', 'VAX_MANU', 'VAX_LOT', 'VAX_NAME']]"
   ]
  },
  {
   "cell_type": "code",
   "execution_count": 188,
   "id": "06588cfa",
   "metadata": {},
   "outputs": [],
   "source": [
    "data13 = vaersdata13[['VAERS_ID', 'AGE_YRS', 'STATE', 'SYMPTOM_TEXT', 'DIED', 'ER_VISIT']]"
   ]
  },
  {
   "cell_type": "markdown",
   "id": "ba12e530",
   "metadata": {},
   "source": [
    "### Merge the condensed datasets"
   ]
  },
  {
   "cell_type": "code",
   "execution_count": 189,
   "id": "0f5eafc0",
   "metadata": {},
   "outputs": [],
   "source": [
    "vaers2013 = pd.merge(vax13, data13, on= 'VAERS_ID')"
   ]
  },
  {
   "cell_type": "code",
   "execution_count": 190,
   "id": "16555ac1",
   "metadata": {},
   "outputs": [],
   "source": [
    "vaers2013['Year'] = 2013"
   ]
  },
  {
   "cell_type": "code",
   "execution_count": 191,
   "id": "4c75027d",
   "metadata": {},
   "outputs": [],
   "source": [
    "vaers2013.to_csv('C:/Users/chris/Desktop/WozU_Data_Science/VAERS_CleanData/vaers2013.csv', encoding = 'utf-8')"
   ]
  },
  {
   "cell_type": "code",
   "execution_count": 192,
   "id": "942fbc88",
   "metadata": {},
   "outputs": [],
   "source": [
    "vaers90_13 = pd.concat([vaers90_12, vaers2013])"
   ]
  },
  {
   "cell_type": "markdown",
   "id": "da59ef6a",
   "metadata": {},
   "source": [
    "# 2014:\n",
    "\n",
    "### Import the data sets"
   ]
  },
  {
   "cell_type": "code",
   "execution_count": 193,
   "id": "306d4564",
   "metadata": {},
   "outputs": [],
   "source": [
    "vaersdata14 = pd.read_csv('C:/Users/chris/Desktop/WozU_Data_Science/VAERS-data/2014/2014VAERSDATA.csv',encoding = 'cp1252')"
   ]
  },
  {
   "cell_type": "code",
   "execution_count": 194,
   "id": "f4134806",
   "metadata": {},
   "outputs": [],
   "source": [
    "vaersvax14 = pd.read_csv('C:/Users/chris/Desktop/WozU_Data_Science/VAERS-data/2014/2014VAERSVAX.csv',encoding = 'cp1252')"
   ]
  },
  {
   "cell_type": "markdown",
   "id": "031e7015",
   "metadata": {},
   "source": [
    "### Condense the two data sets down to useful information for analysis"
   ]
  },
  {
   "cell_type": "code",
   "execution_count": 195,
   "id": "2b24ed0e",
   "metadata": {},
   "outputs": [],
   "source": [
    "vax14 = vaersvax14[['VAERS_ID', 'VAX_TYPE', 'VAX_MANU', 'VAX_LOT', 'VAX_NAME']]"
   ]
  },
  {
   "cell_type": "code",
   "execution_count": 196,
   "id": "ddc36102",
   "metadata": {},
   "outputs": [],
   "source": [
    "data14 = vaersdata14[['VAERS_ID', 'AGE_YRS', 'STATE', 'SYMPTOM_TEXT', 'DIED', 'ER_VISIT']]"
   ]
  },
  {
   "cell_type": "markdown",
   "id": "e2073ffe",
   "metadata": {},
   "source": [
    "### Merge the condensed datasets"
   ]
  },
  {
   "cell_type": "code",
   "execution_count": 197,
   "id": "a0d1b4a1",
   "metadata": {},
   "outputs": [],
   "source": [
    "vaers2014 = pd.merge(vax14, data14, on= 'VAERS_ID')"
   ]
  },
  {
   "cell_type": "code",
   "execution_count": 198,
   "id": "85441dc6",
   "metadata": {},
   "outputs": [],
   "source": [
    "vaers2014['Year'] = 2014"
   ]
  },
  {
   "cell_type": "code",
   "execution_count": 199,
   "id": "2e86b4ff",
   "metadata": {},
   "outputs": [],
   "source": [
    "vaers2014.to_csv('C:/Users/chris/Desktop/WozU_Data_Science/VAERS_CleanData/vaers2014.csv', encoding = 'utf-8')"
   ]
  },
  {
   "cell_type": "code",
   "execution_count": 200,
   "id": "dbafbda8",
   "metadata": {},
   "outputs": [],
   "source": [
    "vaers90_14 = pd.concat([vaers90_13, vaers2014])"
   ]
  },
  {
   "cell_type": "markdown",
   "id": "c82b5e91",
   "metadata": {},
   "source": [
    "# 2015:\n",
    "\n",
    "### Import the data sets"
   ]
  },
  {
   "cell_type": "code",
   "execution_count": 201,
   "id": "e317d341",
   "metadata": {},
   "outputs": [],
   "source": [
    "vaersdata15 = pd.read_csv('C:/Users/chris/Desktop/WozU_Data_Science/VAERS-data/2015/2015VAERSDATA.csv',encoding = 'cp1252')"
   ]
  },
  {
   "cell_type": "code",
   "execution_count": 202,
   "id": "72034b1c",
   "metadata": {},
   "outputs": [],
   "source": [
    "vaersvax15 = pd.read_csv('C:/Users/chris/Desktop/WozU_Data_Science/VAERS-data/2015/2015VAERSVAX.csv',encoding = 'cp1252')"
   ]
  },
  {
   "cell_type": "markdown",
   "id": "42afd0d9",
   "metadata": {},
   "source": [
    "### Condense the two data sets down to useful information for analysis"
   ]
  },
  {
   "cell_type": "code",
   "execution_count": 203,
   "id": "88f1e918",
   "metadata": {},
   "outputs": [],
   "source": [
    "vax15 = vaersvax15[['VAERS_ID', 'VAX_TYPE', 'VAX_MANU', 'VAX_LOT', 'VAX_NAME']]"
   ]
  },
  {
   "cell_type": "code",
   "execution_count": 204,
   "id": "145eee91",
   "metadata": {},
   "outputs": [],
   "source": [
    "data15 = vaersdata15[['VAERS_ID', 'AGE_YRS', 'STATE', 'SYMPTOM_TEXT', 'DIED', 'ER_VISIT']]"
   ]
  },
  {
   "cell_type": "markdown",
   "id": "e4e8b858",
   "metadata": {},
   "source": [
    "### Merge the condensed datasets"
   ]
  },
  {
   "cell_type": "code",
   "execution_count": 205,
   "id": "19e9c711",
   "metadata": {},
   "outputs": [],
   "source": [
    "vaers2015 = pd.merge(vax15, data15, on= 'VAERS_ID')"
   ]
  },
  {
   "cell_type": "code",
   "execution_count": 206,
   "id": "e3b3f2f4",
   "metadata": {},
   "outputs": [],
   "source": [
    "vaers2015['Year'] = 2015"
   ]
  },
  {
   "cell_type": "code",
   "execution_count": 207,
   "id": "305883e6",
   "metadata": {},
   "outputs": [],
   "source": [
    "vaers2015.to_csv('C:/Users/chris/Desktop/WozU_Data_Science/VAERS_CleanData/vaers2015.csv', encoding = 'utf-8')"
   ]
  },
  {
   "cell_type": "code",
   "execution_count": 208,
   "id": "1a4a16bf",
   "metadata": {},
   "outputs": [],
   "source": [
    "vaers90_15 = pd.concat([vaers90_14, vaers2015])"
   ]
  },
  {
   "cell_type": "markdown",
   "id": "bf32feb5",
   "metadata": {},
   "source": [
    "# 2016:\n",
    "\n",
    "### Import the data sets"
   ]
  },
  {
   "cell_type": "code",
   "execution_count": 209,
   "id": "85a600b3",
   "metadata": {},
   "outputs": [],
   "source": [
    "vaersdata16 = pd.read_csv('C:/Users/chris/Desktop/WozU_Data_Science/VAERS-data/2016/2016VAERSDATA.csv',encoding = 'cp1252')"
   ]
  },
  {
   "cell_type": "code",
   "execution_count": 210,
   "id": "01837644",
   "metadata": {},
   "outputs": [],
   "source": [
    "vaersvax16 = pd.read_csv('C:/Users/chris/Desktop/WozU_Data_Science/VAERS-data/2016/2016VAERSVAX.csv',encoding = 'cp1252')"
   ]
  },
  {
   "cell_type": "markdown",
   "id": "837927d2",
   "metadata": {},
   "source": [
    "### Condense the two data sets down to useful information for analysis"
   ]
  },
  {
   "cell_type": "code",
   "execution_count": 211,
   "id": "4db504cc",
   "metadata": {},
   "outputs": [],
   "source": [
    "vax16 = vaersvax16[['VAERS_ID', 'VAX_TYPE', 'VAX_MANU', 'VAX_LOT', 'VAX_NAME']]"
   ]
  },
  {
   "cell_type": "code",
   "execution_count": 212,
   "id": "bcd76d6a",
   "metadata": {},
   "outputs": [],
   "source": [
    "data16 = vaersdata16[['VAERS_ID', 'AGE_YRS', 'STATE', 'SYMPTOM_TEXT', 'DIED', 'ER_VISIT']]"
   ]
  },
  {
   "cell_type": "markdown",
   "id": "60ab368e",
   "metadata": {},
   "source": [
    "### Merge the condensed datasets"
   ]
  },
  {
   "cell_type": "code",
   "execution_count": 213,
   "id": "1dd58709",
   "metadata": {},
   "outputs": [],
   "source": [
    "vaers2016 = pd.merge(vax16, data16, on= 'VAERS_ID')"
   ]
  },
  {
   "cell_type": "code",
   "execution_count": 214,
   "id": "854a4c33",
   "metadata": {},
   "outputs": [],
   "source": [
    "vaers2016['Year'] = 2016"
   ]
  },
  {
   "cell_type": "code",
   "execution_count": 215,
   "id": "8589e4bd",
   "metadata": {},
   "outputs": [],
   "source": [
    "vaers2016.to_csv('C:/Users/chris/Desktop/WozU_Data_Science/VAERS_CleanData/vaers2016.csv', encoding = 'utf-8')"
   ]
  },
  {
   "cell_type": "code",
   "execution_count": 216,
   "id": "34a26f53",
   "metadata": {},
   "outputs": [],
   "source": [
    "vaers90_16 = pd.concat([vaers90_15, vaers2016])"
   ]
  },
  {
   "cell_type": "markdown",
   "id": "21a8e288",
   "metadata": {},
   "source": [
    "# 2017:\n",
    "\n",
    "### Import the data sets"
   ]
  },
  {
   "cell_type": "code",
   "execution_count": 217,
   "id": "2171a1a7",
   "metadata": {},
   "outputs": [
    {
     "name": "stderr",
     "output_type": "stream",
     "text": [
      "C:\\Users\\chris\\AppData\\Local\\Temp\\ipykernel_12204\\3888179113.py:1: DtypeWarning: Columns (31) have mixed types. Specify dtype option on import or set low_memory=False.\n",
      "  vaersdata17 = pd.read_csv('C:/Users/chris/Desktop/WozU_Data_Science/VAERS-data/2017/2017VAERSDATA.csv',encoding = 'cp1252')\n"
     ]
    }
   ],
   "source": [
    "vaersdata17 = pd.read_csv('C:/Users/chris/Desktop/WozU_Data_Science/VAERS-data/2017/2017VAERSDATA.csv',encoding = 'cp1252')"
   ]
  },
  {
   "cell_type": "code",
   "execution_count": 218,
   "id": "411c8c6a",
   "metadata": {},
   "outputs": [],
   "source": [
    "vaersvax17 = pd.read_csv('C:/Users/chris/Desktop/WozU_Data_Science/VAERS-data/2017/2017VAERSVAX.csv',encoding = 'cp1252')"
   ]
  },
  {
   "cell_type": "markdown",
   "id": "b0a02411",
   "metadata": {},
   "source": [
    "### Condense the two data sets down to useful information for analysis"
   ]
  },
  {
   "cell_type": "code",
   "execution_count": 219,
   "id": "84851919",
   "metadata": {},
   "outputs": [],
   "source": [
    "vax17 = vaersvax17[['VAERS_ID', 'VAX_TYPE', 'VAX_MANU', 'VAX_LOT', 'VAX_NAME']]"
   ]
  },
  {
   "cell_type": "code",
   "execution_count": 220,
   "id": "211340be",
   "metadata": {},
   "outputs": [],
   "source": [
    "data17 = vaersdata17[['VAERS_ID', 'AGE_YRS', 'STATE', 'SYMPTOM_TEXT', 'DIED', 'ER_VISIT']]"
   ]
  },
  {
   "cell_type": "markdown",
   "id": "bb6dd264",
   "metadata": {},
   "source": [
    "### Merge the condensed datasets"
   ]
  },
  {
   "cell_type": "code",
   "execution_count": 221,
   "id": "0d288d43",
   "metadata": {},
   "outputs": [],
   "source": [
    "vaers2017 = pd.merge(vax17, data17, on= 'VAERS_ID')"
   ]
  },
  {
   "cell_type": "code",
   "execution_count": 222,
   "id": "c26cbe1b",
   "metadata": {},
   "outputs": [],
   "source": [
    "vaers2017['Year'] = 2017"
   ]
  },
  {
   "cell_type": "code",
   "execution_count": 223,
   "id": "59522910",
   "metadata": {},
   "outputs": [],
   "source": [
    "vaers2017.to_csv('C:/Users/chris/Desktop/WozU_Data_Science/VAERS_CleanData/vaers2017.csv', encoding = 'utf-8')"
   ]
  },
  {
   "cell_type": "code",
   "execution_count": 224,
   "id": "4066f705",
   "metadata": {},
   "outputs": [],
   "source": [
    "vaers90_17 = pd.concat([vaers90_16, vaers2017])"
   ]
  },
  {
   "cell_type": "markdown",
   "id": "5a0a4ec1",
   "metadata": {},
   "source": [
    "# 2018:\n",
    "\n",
    "### Import the data sets"
   ]
  },
  {
   "cell_type": "code",
   "execution_count": 225,
   "id": "f03859ab",
   "metadata": {},
   "outputs": [],
   "source": [
    "vaersdata18 = pd.read_csv('C:/Users/chris/Desktop/WozU_Data_Science/VAERS-data/2018/2018VAERSDATA.csv',encoding = 'cp1252')"
   ]
  },
  {
   "cell_type": "code",
   "execution_count": 226,
   "id": "c7f75d84",
   "metadata": {},
   "outputs": [],
   "source": [
    "vaersvax18 = pd.read_csv('C:/Users/chris/Desktop/WozU_Data_Science/VAERS-data/2018/2018VAERSVAX.csv',encoding = 'cp1252')"
   ]
  },
  {
   "cell_type": "markdown",
   "id": "fd25b9f8",
   "metadata": {},
   "source": [
    "### Condense the two data sets down to useful information for analysis"
   ]
  },
  {
   "cell_type": "code",
   "execution_count": 227,
   "id": "4912c456",
   "metadata": {},
   "outputs": [],
   "source": [
    "vax18 = vaersvax18[['VAERS_ID', 'VAX_TYPE', 'VAX_MANU', 'VAX_LOT', 'VAX_NAME']]"
   ]
  },
  {
   "cell_type": "code",
   "execution_count": 228,
   "id": "0bb3c75c",
   "metadata": {},
   "outputs": [],
   "source": [
    "data18 = vaersdata18[['VAERS_ID', 'AGE_YRS', 'STATE', 'SYMPTOM_TEXT', 'DIED', 'ER_VISIT']]"
   ]
  },
  {
   "cell_type": "markdown",
   "id": "43310610",
   "metadata": {},
   "source": [
    "### Merge the condensed datasets"
   ]
  },
  {
   "cell_type": "code",
   "execution_count": 229,
   "id": "443836da",
   "metadata": {},
   "outputs": [],
   "source": [
    "vaers2018 = pd.merge(vax18, data18, on= 'VAERS_ID')"
   ]
  },
  {
   "cell_type": "code",
   "execution_count": 230,
   "id": "3844b979",
   "metadata": {},
   "outputs": [],
   "source": [
    "vaers2018['Year'] = 2018"
   ]
  },
  {
   "cell_type": "code",
   "execution_count": 231,
   "id": "68d43c1c",
   "metadata": {},
   "outputs": [],
   "source": [
    "vaers2018.to_csv('C:/Users/chris/Desktop/WozU_Data_Science/VAERS_CleanData/vaers2018.csv', encoding = 'utf-8')"
   ]
  },
  {
   "cell_type": "code",
   "execution_count": 232,
   "id": "acb5a30f",
   "metadata": {},
   "outputs": [],
   "source": [
    "vaers90_18 = pd.concat([vaers90_17, vaers2018])"
   ]
  },
  {
   "cell_type": "markdown",
   "id": "4fb5f909",
   "metadata": {},
   "source": [
    "# 2019:\n",
    "\n",
    "### Import the data sets"
   ]
  },
  {
   "cell_type": "code",
   "execution_count": 233,
   "id": "8694428c",
   "metadata": {},
   "outputs": [],
   "source": [
    "vaersdata19 = pd.read_csv('C:/Users/chris/Desktop/WozU_Data_Science/VAERS-data/2019/2019VAERSDATA.csv',encoding = 'cp1252')"
   ]
  },
  {
   "cell_type": "code",
   "execution_count": 234,
   "id": "e53bcb4a",
   "metadata": {},
   "outputs": [],
   "source": [
    "vaersvax19 = pd.read_csv('C:/Users/chris/Desktop/WozU_Data_Science/VAERS-data/2019/2019VAERSVAX.csv',encoding = 'cp1252')"
   ]
  },
  {
   "cell_type": "markdown",
   "id": "c5de5386",
   "metadata": {},
   "source": [
    "### Condense the two data sets down to useful information for analysis"
   ]
  },
  {
   "cell_type": "code",
   "execution_count": 235,
   "id": "356081f2",
   "metadata": {},
   "outputs": [],
   "source": [
    "vax19 = vaersvax19[['VAERS_ID', 'VAX_TYPE', 'VAX_MANU', 'VAX_LOT', 'VAX_NAME']]"
   ]
  },
  {
   "cell_type": "code",
   "execution_count": 236,
   "id": "5f51aa6b",
   "metadata": {},
   "outputs": [],
   "source": [
    "data19 = vaersdata19[['VAERS_ID', 'AGE_YRS', 'STATE', 'SYMPTOM_TEXT', 'DIED', 'ER_VISIT']]"
   ]
  },
  {
   "cell_type": "markdown",
   "id": "da1e80d5",
   "metadata": {},
   "source": [
    "### Merge the condensed datasets"
   ]
  },
  {
   "cell_type": "code",
   "execution_count": 237,
   "id": "0c50fdd7",
   "metadata": {},
   "outputs": [],
   "source": [
    "vaers2019 = pd.merge(vax19, data19, on= 'VAERS_ID')"
   ]
  },
  {
   "cell_type": "code",
   "execution_count": 238,
   "id": "3c1d6ce6",
   "metadata": {},
   "outputs": [],
   "source": [
    "vaers2019['Year'] = 2019"
   ]
  },
  {
   "cell_type": "code",
   "execution_count": 239,
   "id": "d03e86cc",
   "metadata": {},
   "outputs": [],
   "source": [
    "vaers2019.to_csv('C:/Users/chris/Desktop/WozU_Data_Science/VAERS_CleanData/vaers2019.csv', encoding = 'utf-8')"
   ]
  },
  {
   "cell_type": "code",
   "execution_count": 240,
   "id": "d01cbcc3",
   "metadata": {},
   "outputs": [],
   "source": [
    "vaers90_19 = pd.concat([vaers90_18, vaers2019])"
   ]
  },
  {
   "cell_type": "markdown",
   "id": "62d6e84e",
   "metadata": {},
   "source": [
    "# 2020:\n",
    "\n",
    "### Import the data sets"
   ]
  },
  {
   "cell_type": "code",
   "execution_count": 241,
   "id": "b92c605e",
   "metadata": {},
   "outputs": [
    {
     "name": "stderr",
     "output_type": "stream",
     "text": [
      "C:\\Users\\chris\\AppData\\Local\\Temp\\ipykernel_12204\\506286160.py:1: DtypeWarning: Columns (7,9,10,12,15,16,23,31) have mixed types. Specify dtype option on import or set low_memory=False.\n",
      "  vaersdata20 = pd.read_csv('C:/Users/chris/Desktop/WozU_Data_Science/VAERS-data/2020/2020VAERSDATA.csv',encoding = 'cp1252')\n"
     ]
    }
   ],
   "source": [
    "vaersdata20 = pd.read_csv('C:/Users/chris/Desktop/WozU_Data_Science/VAERS-data/2020/2020VAERSDATA.csv',encoding = 'cp1252')"
   ]
  },
  {
   "cell_type": "code",
   "execution_count": 242,
   "id": "65f40765",
   "metadata": {},
   "outputs": [],
   "source": [
    "vaersvax20 = pd.read_csv('C:/Users/chris/Desktop/WozU_Data_Science/VAERS-data/2020/2020VAERSVAX.csv',encoding = 'cp1252')"
   ]
  },
  {
   "cell_type": "markdown",
   "id": "f3d6cc98",
   "metadata": {},
   "source": [
    "### Condense the two data sets down to useful information for analysis"
   ]
  },
  {
   "cell_type": "code",
   "execution_count": 243,
   "id": "8cbb920c",
   "metadata": {},
   "outputs": [],
   "source": [
    "vax20 = vaersvax20[['VAERS_ID', 'VAX_TYPE', 'VAX_MANU', 'VAX_LOT', 'VAX_NAME']]"
   ]
  },
  {
   "cell_type": "code",
   "execution_count": 244,
   "id": "852ccb79",
   "metadata": {},
   "outputs": [],
   "source": [
    "data20 = vaersdata20[['VAERS_ID', 'AGE_YRS', 'STATE', 'SYMPTOM_TEXT', 'DIED', 'ER_VISIT']]"
   ]
  },
  {
   "cell_type": "markdown",
   "id": "6c59cc09",
   "metadata": {},
   "source": [
    "### Merge the condensed datasets"
   ]
  },
  {
   "cell_type": "code",
   "execution_count": 245,
   "id": "8019ee42",
   "metadata": {},
   "outputs": [],
   "source": [
    "vaers2020 = pd.merge(vax20, data20, on= 'VAERS_ID')"
   ]
  },
  {
   "cell_type": "code",
   "execution_count": 246,
   "id": "f5a49c24",
   "metadata": {},
   "outputs": [],
   "source": [
    "vaers2020['Year'] = 2020"
   ]
  },
  {
   "cell_type": "code",
   "execution_count": 247,
   "id": "475e7489",
   "metadata": {},
   "outputs": [],
   "source": [
    "vaers2020.to_csv('C:/Users/chris/Desktop/WozU_Data_Science/VAERS_CleanData/vaers2020.csv', encoding = 'utf-8')"
   ]
  },
  {
   "cell_type": "code",
   "execution_count": 248,
   "id": "341e5f50",
   "metadata": {},
   "outputs": [],
   "source": [
    "vaers90_20 = pd.concat([vaers90_19, vaers2020])"
   ]
  },
  {
   "cell_type": "markdown",
   "id": "f93f7604",
   "metadata": {},
   "source": [
    "# 2021:\n",
    "\n",
    "### Import the data sets"
   ]
  },
  {
   "cell_type": "code",
   "execution_count": 250,
   "id": "be42f6ab",
   "metadata": {},
   "outputs": [
    {
     "name": "stderr",
     "output_type": "stream",
     "text": [
      "C:\\Users\\chris\\AppData\\Local\\Temp\\ipykernel_12204\\2356022794.py:2: DtypeWarning: Columns (8,13,16,24) have mixed types. Specify dtype option on import or set low_memory=False.\n",
      "  vaersdata21 = pd.read_csv('C:/Users/chris/Desktop/WozU_Data_Science/VAERS-data/2021/2021VAERSDATA.csv')\n"
     ]
    }
   ],
   "source": [
    "#This line runs but\n",
    "vaersdata21 = pd.read_csv('C:/Users/chris/Desktop/WozU_Data_Science/VAERS-data/2021/2021VAERSDATA.csv')"
   ]
  },
  {
   "cell_type": "code",
   "execution_count": 251,
   "id": "0bfe2a30",
   "metadata": {},
   "outputs": [],
   "source": [
    "vaersdata21.to_csv('C:/Users/chris/Desktop/WozU_Data_Science/VAERS-data/2021/2021fixedVAERSDATA.csv', encoding = 'utf-8')"
   ]
  },
  {
   "cell_type": "code",
   "execution_count": 252,
   "id": "61883172",
   "metadata": {},
   "outputs": [
    {
     "name": "stderr",
     "output_type": "stream",
     "text": [
      "C:\\Users\\chris\\AppData\\Local\\Temp\\ipykernel_12204\\2948735461.py:1: DtypeWarning: Columns (9,14,17,25) have mixed types. Specify dtype option on import or set low_memory=False.\n",
      "  vaersdata21 = pd.read_csv('C:/Users/chris/Desktop/WozU_Data_Science/VAERS-data/2021/2021fixedVAERSDATA.csv')\n"
     ]
    }
   ],
   "source": [
    "vaersdata21 = pd.read_csv('C:/Users/chris/Desktop/WozU_Data_Science/VAERS-data/2021/2021fixedVAERSDATA.csv')"
   ]
  },
  {
   "cell_type": "code",
   "execution_count": 255,
   "id": "8f2b9328",
   "metadata": {},
   "outputs": [],
   "source": [
    "vaersvax21 = pd.read_csv('C:/Users/chris/Desktop/WozU_Data_Science/VAERS-data/2021/2021VAERSVAX.csv')"
   ]
  },
  {
   "cell_type": "markdown",
   "id": "20b02536",
   "metadata": {},
   "source": [
    "### Condense the two data sets down to useful information for analysis"
   ]
  },
  {
   "cell_type": "code",
   "execution_count": 254,
   "id": "7e185af8",
   "metadata": {},
   "outputs": [],
   "source": [
    "vax21 = vaersvax21[['VAERS_ID', 'VAX_TYPE', 'VAX_MANU', 'VAX_LOT', 'VAX_NAME']]"
   ]
  },
  {
   "cell_type": "code",
   "execution_count": 256,
   "id": "6e5d6ac1",
   "metadata": {},
   "outputs": [],
   "source": [
    "data21 = vaersdata21[['VAERS_ID', 'AGE_YRS', 'STATE', 'SYMPTOM_TEXT', 'DIED', 'ER_VISIT']]"
   ]
  },
  {
   "cell_type": "markdown",
   "id": "c2ee11e2",
   "metadata": {},
   "source": [
    "### Merge the condensed datasets"
   ]
  },
  {
   "cell_type": "code",
   "execution_count": 257,
   "id": "f209f45f",
   "metadata": {},
   "outputs": [],
   "source": [
    "vaers2021 = pd.merge(vax21, data21, on= 'VAERS_ID')"
   ]
  },
  {
   "cell_type": "code",
   "execution_count": 258,
   "id": "dc0186a5",
   "metadata": {},
   "outputs": [],
   "source": [
    "vaers2021['Year'] = 2021"
   ]
  },
  {
   "cell_type": "code",
   "execution_count": 259,
   "id": "22999a0d",
   "metadata": {},
   "outputs": [],
   "source": [
    "vaers2021.to_csv('C:/Users/chris/Desktop/WozU_Data_Science/VAERS_CleanData/vaers2021.csv', encoding = 'utf-8')"
   ]
  },
  {
   "cell_type": "code",
   "execution_count": 260,
   "id": "9a956d1d",
   "metadata": {},
   "outputs": [],
   "source": [
    "vaers90_21 = pd.concat([vaers90_20, vaers2021])"
   ]
  },
  {
   "cell_type": "markdown",
   "id": "be06abc5",
   "metadata": {},
   "source": [
    "# 2022:\n",
    "\n",
    "### Import the data sets"
   ]
  },
  {
   "cell_type": "code",
   "execution_count": 261,
   "id": "4044b4c4",
   "metadata": {},
   "outputs": [
    {
     "name": "stderr",
     "output_type": "stream",
     "text": [
      "C:\\Users\\chris\\AppData\\Local\\Temp\\ipykernel_12204\\3677866687.py:1: DtypeWarning: Columns (12) have mixed types. Specify dtype option on import or set low_memory=False.\n",
      "  vaersdata22 = pd.read_csv('C:/Users/chris/Desktop/WozU_Data_Science/VAERS-data/2022/2022VAERSDATA.csv',encoding = 'cp1252')\n"
     ]
    }
   ],
   "source": [
    "vaersdata22 = pd.read_csv('C:/Users/chris/Desktop/WozU_Data_Science/VAERS-data/2022/2022VAERSDATA.csv',encoding = 'cp1252')"
   ]
  },
  {
   "cell_type": "code",
   "execution_count": 262,
   "id": "bc783f1f",
   "metadata": {},
   "outputs": [],
   "source": [
    "vaersvax22 = pd.read_csv('C:/Users/chris/Desktop/WozU_Data_Science/VAERS-data/2022/2022VAERSVAX.csv',encoding = 'cp1252')"
   ]
  },
  {
   "cell_type": "markdown",
   "id": "c97a7d14",
   "metadata": {},
   "source": [
    "### Condense the two data sets down to useful information for analysis"
   ]
  },
  {
   "cell_type": "code",
   "execution_count": 263,
   "id": "979ba207",
   "metadata": {},
   "outputs": [],
   "source": [
    "vax22 = vaersvax22[['VAERS_ID', 'VAX_TYPE', 'VAX_MANU', 'VAX_LOT', 'VAX_NAME']]"
   ]
  },
  {
   "cell_type": "code",
   "execution_count": 264,
   "id": "b5b930aa",
   "metadata": {},
   "outputs": [],
   "source": [
    "data22 = vaersdata22[['VAERS_ID', 'AGE_YRS', 'STATE', 'SYMPTOM_TEXT', 'DIED', 'ER_VISIT']]"
   ]
  },
  {
   "cell_type": "markdown",
   "id": "efc611c6",
   "metadata": {},
   "source": [
    "### Merge the condensed datasets"
   ]
  },
  {
   "cell_type": "code",
   "execution_count": 265,
   "id": "0e989c91",
   "metadata": {},
   "outputs": [],
   "source": [
    "vaers2022 = pd.merge(vax22, data22, on= 'VAERS_ID')"
   ]
  },
  {
   "cell_type": "code",
   "execution_count": 266,
   "id": "6ddec6c4",
   "metadata": {},
   "outputs": [],
   "source": [
    "vaers2022['Year'] = 2022"
   ]
  },
  {
   "cell_type": "code",
   "execution_count": 267,
   "id": "6051a0b3",
   "metadata": {},
   "outputs": [],
   "source": [
    "vaers2022.to_csv('C:/Users/chris/Desktop/WozU_Data_Science/VAERS_CleanData/vaers2022.csv', encoding = 'utf-8')"
   ]
  },
  {
   "cell_type": "code",
   "execution_count": 268,
   "id": "3a2aa77a",
   "metadata": {},
   "outputs": [],
   "source": [
    "vaers90_22 = pd.concat([vaers90_21, vaers2022])"
   ]
  },
  {
   "cell_type": "code",
   "execution_count": 269,
   "id": "4c1635f3",
   "metadata": {},
   "outputs": [],
   "source": [
    "vaers90_22.to_csv('C:/Users/chris/Desktop/WozU_Data_Science/VAERS_CleanData/vaers_all.csv', encoding = 'utf-8')"
   ]
  }
 ],
 "metadata": {
  "kernelspec": {
   "display_name": "Python 3 (ipykernel)",
   "language": "python",
   "name": "python3"
  },
  "language_info": {
   "codemirror_mode": {
    "name": "ipython",
    "version": 3
   },
   "file_extension": ".py",
   "mimetype": "text/x-python",
   "name": "python",
   "nbconvert_exporter": "python",
   "pygments_lexer": "ipython3",
   "version": "3.11.0"
  }
 },
 "nbformat": 4,
 "nbformat_minor": 5
}
