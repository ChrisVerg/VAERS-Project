{
 "cells": [
  {
   "cell_type": "code",
   "execution_count": 1,
   "id": "68ec47ef",
   "metadata": {},
   "outputs": [],
   "source": [
    "import pandas as pd"
   ]
  },
  {
   "cell_type": "code",
   "execution_count": 2,
   "id": "cb3ced30",
   "metadata": {},
   "outputs": [],
   "source": [
    "import os "
   ]
  },
  {
   "cell_type": "code",
   "execution_count": 3,
   "id": "b1e18b4d",
   "metadata": {},
   "outputs": [],
   "source": [
    "import glob"
   ]
  },
  {
   "cell_type": "code",
   "execution_count": 4,
   "id": "bcd6d994",
   "metadata": {},
   "outputs": [],
   "source": [
    "import chardet"
   ]
  },
  {
   "cell_type": "markdown",
   "id": "44560371",
   "metadata": {},
   "source": [
    "# This purpose of this notebook is to run a combiner to combine all the vaccine data from CDC's VAERS. "
   ]
  },
  {
   "cell_type": "markdown",
   "id": "cc0ea35e",
   "metadata": {},
   "source": [
    "This code identifies the directory that the shell is currently working in. "
   ]
  },
  {
   "cell_type": "code",
   "execution_count": 6,
   "id": "89c7f95d",
   "metadata": {},
   "outputs": [
    {
     "data": {
      "text/plain": [
       "'C:\\\\Users\\\\chris\\\\Desktop\\\\WozU_Data_Science\\\\VAERS-Project'"
      ]
     },
     "execution_count": 6,
     "metadata": {},
     "output_type": "execute_result"
    }
   ],
   "source": [
    "os.getcwd()"
   ]
  },
  {
   "cell_type": "markdown",
   "id": "e88cdc6a",
   "metadata": {},
   "source": [
    "The directory path needs to reflect the dirctory where the raw data are stored. \n",
    "Then list the files"
   ]
  },
  {
   "cell_type": "code",
   "execution_count": 27,
   "id": "9125d584",
   "metadata": {},
   "outputs": [],
   "source": [
    "os.chdir('C:/Users/chris/Desktop/WozU_Data_Science/VAERS-data')"
   ]
  },
  {
   "cell_type": "code",
   "execution_count": 28,
   "id": "8f17b29b",
   "metadata": {},
   "outputs": [
    {
     "data": {
      "text/plain": [
       "'C:\\\\Users\\\\chris\\\\Desktop\\\\WozU_Data_Science\\\\VAERS-data'"
      ]
     },
     "execution_count": 28,
     "metadata": {},
     "output_type": "execute_result"
    }
   ],
   "source": [
    "os.getcwd()"
   ]
  },
  {
   "cell_type": "code",
   "execution_count": 29,
   "id": "75404a42",
   "metadata": {},
   "outputs": [
    {
     "name": "stdout",
     "output_type": "stream",
     "text": [
      " Volume in drive C is OS\n",
      " Volume Serial Number is A231-A822\n",
      "\n",
      " Directory of C:\\Users\\chris\\Desktop\\WozU_Data_Science\\VAERS-data\n",
      "\n",
      "01/13/2023  03:05 PM    <DIR>          .\n",
      "01/02/2023  12:03 PM    <DIR>          ..\n",
      "01/13/2023  03:05 PM    <DIR>          1990\n",
      "01/02/2023  10:26 AM           597,231 1990VAERSDATA.csv\n",
      "01/02/2023  10:26 AM           191,116 1990VAERSVAX.csv\n",
      "01/13/2023  03:07 PM    <DIR>          1991\n",
      "01/13/2023  11:59 AM    <DIR>          1992\n",
      "01/13/2023  12:00 PM    <DIR>          1993\n",
      "01/13/2023  12:09 PM    <DIR>          1994\n",
      "01/13/2023  12:00 PM    <DIR>          1995\n",
      "01/13/2023  12:00 PM    <DIR>          1996\n",
      "01/13/2023  12:00 PM    <DIR>          1997\n",
      "01/13/2023  12:01 PM    <DIR>          1998\n",
      "01/13/2023  12:01 PM    <DIR>          1999\n",
      "01/13/2023  12:01 PM    <DIR>          2000\n",
      "01/13/2023  12:01 PM    <DIR>          2001\n",
      "01/13/2023  12:01 PM    <DIR>          2002\n",
      "01/13/2023  12:01 PM    <DIR>          2003\n",
      "01/13/2023  12:05 PM    <DIR>          2004\n",
      "01/13/2023  12:05 PM    <DIR>          2005\n",
      "01/13/2023  12:06 PM    <DIR>          2006\n",
      "01/13/2023  12:06 PM    <DIR>          2007\n",
      "01/13/2023  12:06 PM    <DIR>          2008\n",
      "01/13/2023  12:06 PM    <DIR>          2009\n",
      "01/13/2023  12:06 PM    <DIR>          2010\n",
      "01/13/2023  12:06 PM    <DIR>          2011\n",
      "01/13/2023  12:06 PM    <DIR>          2012\n",
      "01/13/2023  12:06 PM    <DIR>          2013\n",
      "01/13/2023  12:06 PM    <DIR>          2014\n",
      "01/13/2023  12:07 PM    <DIR>          2015\n",
      "01/13/2023  12:07 PM    <DIR>          2016\n",
      "01/13/2023  12:07 PM    <DIR>          2017\n",
      "01/13/2023  12:07 PM    <DIR>          2018\n",
      "01/13/2023  12:07 PM    <DIR>          2019\n",
      "01/13/2023  12:07 PM    <DIR>          2020\n",
      "01/13/2023  12:07 PM    <DIR>          2021\n",
      "01/13/2023  12:07 PM    <DIR>          2022\n",
      "01/13/2023  03:05 PM           896,897 combined_csv.csv\n",
      "               3 File(s)      1,685,244 bytes\n",
      "              35 Dir(s)  877,472,612,352 bytes free\n"
     ]
    }
   ],
   "source": [
    "ls"
   ]
  },
  {
   "cell_type": "markdown",
   "id": "f2f6da54",
   "metadata": {},
   "source": [
    "Before the files can be combined they must all be converted to utf-8, some are cp-1252\n",
    "\n",
    "Using chardet, check the encoding. "
   ]
  },
  {
   "cell_type": "code",
   "execution_count": 41,
   "id": "df7aad38",
   "metadata": {},
   "outputs": [],
   "source": [
    "# This code will create an empty file in each directory but it does not actually combine the files\n",
    "\n",
    "\n",
    "# def combine_files(directory):\n",
    "#     for root, dirs, files in os.walk(directory):\n",
    "#         for dir in dirs:\n",
    "#             subfolder = os.path.join(root, dir)\n",
    "#             combined_file = os.path.join(\"2020\", \"combined.csv\")\n",
    "#             with open(combined_file, 'w') as outfile:\n",
    "#                 for file in os.listdir(subfolder):\n",
    "#                     if file.endswith('.txt'):\n",
    "#                         file_path = os.path.join(subfolder, file)\n",
    "#                         with open(file_path) as infile:\n",
    "#                             outfile.write(infile.read())\n",
    "\n",
    "# combine_files('.')"
   ]
  },
  {
   "cell_type": "code",
   "execution_count": 31,
   "id": "86cc357d",
   "metadata": {},
   "outputs": [],
   "source": [
    "# extension = 'csv'\n",
    "# def check_encoding(directory, extension):\n",
    "#     for root, dirs, files in os.walk(directory):\n",
    "#         for file in files:\n",
    "#             if file.endswith(extension):\n",
    "#                 full_path = os.path.join(root, file)\n",
    "#                 with open(full_path, 'rb') as f:\n",
    "#                     result = chardet.detect(f.read())\n",
    "#                     print(f\"{full_path} : {result['encoding']}\")\n",
    "\n",
    "# check_encoding('.', '.txt')"
   ]
  },
  {
   "cell_type": "code",
   "execution_count": null,
   "id": "2edf9db6",
   "metadata": {},
   "outputs": [],
   "source": [
    "# def check_encoding(file):\n",
    "#     with open(file, 'rb') as f:\n",
    "#         result = chardet.detect(f.read())\n",
    "#         return result['encoding']\n",
    "\n",
    "# print(check_encoding('C:/Users/chris/Desktop/WozU_Data_Science/VAERS-data/1990'))"
   ]
  },
  {
   "cell_type": "code",
   "execution_count": 19,
   "id": "4023c67d",
   "metadata": {},
   "outputs": [
    {
     "name": "stderr",
     "output_type": "stream",
     "text": [
      "C:\\Users\\chris\\AppData\\Local\\Temp\\ipykernel_22128\\3452330574.py:6: DtypeWarning: Columns (1,2,6,7,8,9,10,11,12,13,15,16,17,18,19,21,22,23,24,25,26,27,28) have mixed types. Specify dtype option on import or set low_memory=False.\n",
      "  combined_csv = pd.concat([pd.read_csv(f, encoding='utf-8-sig') for f in all_filenames ])\n"
     ]
    }
   ],
   "source": [
    "extension = 'csv'\n",
    "os.chdir('C:/Users/chris/Desktop/WozU_Data_Science/VAERS-data/1991')\n",
    "all_filenames = [i for i in glob.glob('*.{}'.format(extension))]\n",
    "\n",
    "#combine all files in the list\n",
    "combined_csv = pd.concat([pd.read_csv(f, encoding='utf-8-sig') for f in all_filenames ])\n",
    "\n",
    "\n",
    "#export to csv\n",
    "combined_csv.to_csv( \"combined_csv.csv\", index=False, encoding='utf-8-sig')"
   ]
  },
  {
   "cell_type": "code",
   "execution_count": null,
   "id": "ea6a446f",
   "metadata": {},
   "outputs": [],
   "source": []
  },
  {
   "cell_type": "code",
   "execution_count": null,
   "id": "ccee2fac",
   "metadata": {},
   "outputs": [],
   "source": []
  }
 ],
 "metadata": {
  "kernelspec": {
   "display_name": "Python 3 (ipykernel)",
   "language": "python",
   "name": "python3"
  },
  "language_info": {
   "codemirror_mode": {
    "name": "ipython",
    "version": 3
   },
   "file_extension": ".py",
   "mimetype": "text/x-python",
   "name": "python",
   "nbconvert_exporter": "python",
   "pygments_lexer": "ipython3",
   "version": "3.11.0"
  }
 },
 "nbformat": 4,
 "nbformat_minor": 5
}
