{
 "cells": [
  {
   "cell_type": "markdown",
   "id": "e830f18a",
   "metadata": {},
   "source": [
    "# This is a combiner test\n",
    "I am going to take source 1 file and source file 2 and combine into a single file in each folder.\n",
    "\n",
    "The two source files contain information about vaccine injuries reported to the Vaccine Adverse Event Reporting System (VAERS) which is co-managed by the Center for Disease Control (CDC), as well as the Food and Drug Administraion (FDA).\n",
    "\n",
    "The data used dates backe to 1990 and can be found and downloaded at https://vaers.hhs.gov/data.html\n",
    "\n",
    "The first file will describe contains information about vaccine injuries report to \n",
    "\n",
    "The second file will describe...\n",
    "\n",
    "The third file should..."
   ]
  },
  {
   "cell_type": "code",
   "execution_count": 1,
   "id": "68ec47ef",
   "metadata": {},
   "outputs": [],
   "source": [
    "import pandas as pd"
   ]
  },
  {
   "cell_type": "code",
   "execution_count": 2,
   "id": "cb3ced30",
   "metadata": {},
   "outputs": [],
   "source": [
    "import os "
   ]
  },
  {
   "cell_type": "code",
   "execution_count": 3,
   "id": "b1e18b4d",
   "metadata": {},
   "outputs": [],
   "source": [
    "import glob"
   ]
  },
  {
   "cell_type": "code",
   "execution_count": 4,
   "id": "bcd6d994",
   "metadata": {},
   "outputs": [],
   "source": [
    "import chardet"
   ]
  },
  {
   "cell_type": "code",
   "execution_count": 5,
   "id": "c4632a7a",
   "metadata": {},
   "outputs": [
    {
     "data": {
      "text/plain": [
       "'C:\\\\Users\\\\chris\\\\Desktop\\\\WozU_Data_Science\\\\VAERS-Project'"
      ]
     },
     "execution_count": 5,
     "metadata": {},
     "output_type": "execute_result"
    }
   ],
   "source": [
    "os.getcwd()"
   ]
  },
  {
   "cell_type": "code",
   "execution_count": 6,
   "id": "1eb4f5bd",
   "metadata": {},
   "outputs": [],
   "source": [
    "os.chdir('C:/Users/chris/Desktop/WozU_Data_Science/VAERS-data')"
   ]
  },
  {
   "cell_type": "code",
   "execution_count": 7,
   "id": "dc03fdc9",
   "metadata": {},
   "outputs": [
    {
     "data": {
      "text/plain": [
       "'C:\\\\Users\\\\chris\\\\Desktop\\\\WozU_Data_Science\\\\VAERS-data'"
      ]
     },
     "execution_count": 7,
     "metadata": {},
     "output_type": "execute_result"
    }
   ],
   "source": [
    "os.getcwd()"
   ]
  },
  {
   "cell_type": "code",
   "execution_count": 8,
   "id": "24b3eb97",
   "metadata": {
    "scrolled": true
   },
   "outputs": [
    {
     "name": "stdout",
     "output_type": "stream",
     "text": [
      " Volume in drive C is OS\n",
      " Volume Serial Number is A231-A822\n",
      "\n",
      " Directory of C:\\Users\\chris\\Desktop\\WozU_Data_Science\\VAERS-data\n",
      "\n",
      "01/15/2023  05:08 PM    <DIR>          .\n",
      "01/15/2023  04:38 PM    <DIR>          ..\n",
      "01/15/2023  05:00 PM    <DIR>          1990\n",
      "01/15/2023  05:00 PM    <DIR>          1991\n",
      "01/15/2023  05:00 PM    <DIR>          1992\n",
      "01/15/2023  05:01 PM    <DIR>          1993\n",
      "01/15/2023  05:01 PM    <DIR>          1994\n",
      "01/15/2023  05:01 PM    <DIR>          1995\n",
      "01/15/2023  05:01 PM    <DIR>          1996\n",
      "01/15/2023  05:01 PM    <DIR>          1997\n",
      "01/15/2023  05:01 PM    <DIR>          1998\n",
      "01/15/2023  05:01 PM    <DIR>          1999\n",
      "01/15/2023  05:01 PM    <DIR>          2000\n",
      "01/15/2023  05:01 PM    <DIR>          2001\n",
      "01/15/2023  05:01 PM    <DIR>          2002\n",
      "01/15/2023  05:02 PM    <DIR>          2003\n",
      "01/15/2023  05:02 PM    <DIR>          2004\n",
      "01/15/2023  05:02 PM    <DIR>          2005\n",
      "01/15/2023  05:02 PM    <DIR>          2006\n",
      "01/15/2023  05:02 PM    <DIR>          2007\n",
      "01/15/2023  05:02 PM    <DIR>          2008\n",
      "01/15/2023  05:02 PM    <DIR>          2009\n",
      "01/15/2023  05:02 PM    <DIR>          2010\n",
      "01/15/2023  05:02 PM    <DIR>          2011\n",
      "01/15/2023  05:02 PM    <DIR>          2012\n",
      "01/15/2023  05:03 PM    <DIR>          2013\n",
      "01/15/2023  05:03 PM    <DIR>          2014\n",
      "01/15/2023  05:03 PM    <DIR>          2015\n",
      "01/15/2023  05:03 PM    <DIR>          2016\n",
      "01/15/2023  05:03 PM    <DIR>          2017\n",
      "01/15/2023  05:03 PM    <DIR>          2018\n",
      "01/15/2023  05:03 PM    <DIR>          2019\n",
      "01/15/2023  05:04 PM    <DIR>          2020\n",
      "01/15/2023  05:04 PM    <DIR>          2021\n",
      "01/15/2023  04:49 PM    <DIR>          2022\n",
      "               0 File(s)              0 bytes\n",
      "              35 Dir(s)  877,449,629,696 bytes free\n"
     ]
    }
   ],
   "source": [
    "ls"
   ]
  },
  {
   "cell_type": "markdown",
   "id": "a51b3947",
   "metadata": {},
   "source": [
    "### This block of code iterates through the directory and prints the path for each file. "
   ]
  },
  {
   "cell_type": "code",
   "execution_count": 9,
   "id": "a6398d8a",
   "metadata": {
    "scrolled": true
   },
   "outputs": [
    {
     "name": "stdout",
     "output_type": "stream",
     "text": [
      "C:/Users/chris/Desktop/WozU_Data_Science/VAERS-data\\1990\\1990VAERSDATA.csv\n",
      "C:/Users/chris/Desktop/WozU_Data_Science/VAERS-data\\1990\\1990VAERSVAX.csv\n",
      "C:/Users/chris/Desktop/WozU_Data_Science/VAERS-data\\1991\\1991VAERSDATA.csv\n",
      "C:/Users/chris/Desktop/WozU_Data_Science/VAERS-data\\1991\\1991VAERSVAX.csv\n",
      "C:/Users/chris/Desktop/WozU_Data_Science/VAERS-data\\1992\\1992VAERSDATA.csv\n",
      "C:/Users/chris/Desktop/WozU_Data_Science/VAERS-data\\1992\\1992VAERSVAX.csv\n",
      "C:/Users/chris/Desktop/WozU_Data_Science/VAERS-data\\1993\\1993VAERSDATA.csv\n",
      "C:/Users/chris/Desktop/WozU_Data_Science/VAERS-data\\1993\\1993VAERSVAX.csv\n",
      "C:/Users/chris/Desktop/WozU_Data_Science/VAERS-data\\1994\\1994VAERSDATA.csv\n",
      "C:/Users/chris/Desktop/WozU_Data_Science/VAERS-data\\1994\\1994VAERSVAX.csv\n",
      "C:/Users/chris/Desktop/WozU_Data_Science/VAERS-data\\1995\\1995VAERSDATA.csv\n",
      "C:/Users/chris/Desktop/WozU_Data_Science/VAERS-data\\1995\\1995VAERSVAX.csv\n",
      "C:/Users/chris/Desktop/WozU_Data_Science/VAERS-data\\1996\\1996VAERSDATA.csv\n",
      "C:/Users/chris/Desktop/WozU_Data_Science/VAERS-data\\1996\\1996VAERSVAX.csv\n",
      "C:/Users/chris/Desktop/WozU_Data_Science/VAERS-data\\1997\\1997VAERSDATA.csv\n",
      "C:/Users/chris/Desktop/WozU_Data_Science/VAERS-data\\1997\\1997VAERSVAX.csv\n",
      "C:/Users/chris/Desktop/WozU_Data_Science/VAERS-data\\1998\\1998VAERSDATA.csv\n",
      "C:/Users/chris/Desktop/WozU_Data_Science/VAERS-data\\1998\\1998VAERSVAX.csv\n",
      "C:/Users/chris/Desktop/WozU_Data_Science/VAERS-data\\1999\\1999VAERSDATA.csv\n",
      "C:/Users/chris/Desktop/WozU_Data_Science/VAERS-data\\1999\\1999VAERSVAX.csv\n",
      "C:/Users/chris/Desktop/WozU_Data_Science/VAERS-data\\2000\\2000VAERSDATA.csv\n",
      "C:/Users/chris/Desktop/WozU_Data_Science/VAERS-data\\2000\\2000VAERSVAX.csv\n",
      "C:/Users/chris/Desktop/WozU_Data_Science/VAERS-data\\2001\\2001VAERSDATA.csv\n",
      "C:/Users/chris/Desktop/WozU_Data_Science/VAERS-data\\2001\\2001VAERSVAX.csv\n",
      "C:/Users/chris/Desktop/WozU_Data_Science/VAERS-data\\2002\\2002VAERSDATA.csv\n",
      "C:/Users/chris/Desktop/WozU_Data_Science/VAERS-data\\2002\\2002VAERSVAX.csv\n",
      "C:/Users/chris/Desktop/WozU_Data_Science/VAERS-data\\2003\\2003VAERSDATA.csv\n",
      "C:/Users/chris/Desktop/WozU_Data_Science/VAERS-data\\2003\\2003VAERSVAX.csv\n",
      "C:/Users/chris/Desktop/WozU_Data_Science/VAERS-data\\2004\\2004VAERSDATA.csv\n",
      "C:/Users/chris/Desktop/WozU_Data_Science/VAERS-data\\2004\\2004VAERSVAX.csv\n",
      "C:/Users/chris/Desktop/WozU_Data_Science/VAERS-data\\2005\\2005VAERSDATA.csv\n",
      "C:/Users/chris/Desktop/WozU_Data_Science/VAERS-data\\2005\\2005VAERSVAX.csv\n",
      "C:/Users/chris/Desktop/WozU_Data_Science/VAERS-data\\2006\\2006VAERSDATA.csv\n",
      "C:/Users/chris/Desktop/WozU_Data_Science/VAERS-data\\2006\\2006VAERSVAX.csv\n",
      "C:/Users/chris/Desktop/WozU_Data_Science/VAERS-data\\2007\\2007VAERSDATA.csv\n",
      "C:/Users/chris/Desktop/WozU_Data_Science/VAERS-data\\2007\\2007VAERSVAX.csv\n",
      "C:/Users/chris/Desktop/WozU_Data_Science/VAERS-data\\2008\\2008VAERSDATA.csv\n",
      "C:/Users/chris/Desktop/WozU_Data_Science/VAERS-data\\2008\\2008VAERSVAX.csv\n",
      "C:/Users/chris/Desktop/WozU_Data_Science/VAERS-data\\2009\\2009VAERSDATA.csv\n",
      "C:/Users/chris/Desktop/WozU_Data_Science/VAERS-data\\2009\\2009VAERSVAX.csv\n",
      "C:/Users/chris/Desktop/WozU_Data_Science/VAERS-data\\2010\\2010VAERSDATA.csv\n",
      "C:/Users/chris/Desktop/WozU_Data_Science/VAERS-data\\2010\\2010VAERSVAX.csv\n",
      "C:/Users/chris/Desktop/WozU_Data_Science/VAERS-data\\2011\\2011VAERSDATA.csv\n",
      "C:/Users/chris/Desktop/WozU_Data_Science/VAERS-data\\2011\\2011VAERSVAX.csv\n",
      "C:/Users/chris/Desktop/WozU_Data_Science/VAERS-data\\2012\\2012VAERSDATA.csv\n",
      "C:/Users/chris/Desktop/WozU_Data_Science/VAERS-data\\2012\\2012VAERSVAX.csv\n",
      "C:/Users/chris/Desktop/WozU_Data_Science/VAERS-data\\2013\\2013VAERSDATA.csv\n",
      "C:/Users/chris/Desktop/WozU_Data_Science/VAERS-data\\2013\\2013VAERSVAX.csv\n",
      "C:/Users/chris/Desktop/WozU_Data_Science/VAERS-data\\2014\\2014VAERSDATA.csv\n",
      "C:/Users/chris/Desktop/WozU_Data_Science/VAERS-data\\2014\\2014VAERSVAX.csv\n",
      "C:/Users/chris/Desktop/WozU_Data_Science/VAERS-data\\2015\\2015VAERSDATA.csv\n",
      "C:/Users/chris/Desktop/WozU_Data_Science/VAERS-data\\2015\\2015VAERSVAX.csv\n",
      "C:/Users/chris/Desktop/WozU_Data_Science/VAERS-data\\2016\\2016VAERSDATA.csv\n",
      "C:/Users/chris/Desktop/WozU_Data_Science/VAERS-data\\2016\\2016VAERSVAX.csv\n",
      "C:/Users/chris/Desktop/WozU_Data_Science/VAERS-data\\2017\\2017VAERSDATA.csv\n",
      "C:/Users/chris/Desktop/WozU_Data_Science/VAERS-data\\2017\\2017VAERSVAX.csv\n",
      "C:/Users/chris/Desktop/WozU_Data_Science/VAERS-data\\2018\\2018VAERSDATA.csv\n",
      "C:/Users/chris/Desktop/WozU_Data_Science/VAERS-data\\2018\\2018VAERSVAX.csv\n",
      "C:/Users/chris/Desktop/WozU_Data_Science/VAERS-data\\2019\\2019VAERSDATA.csv\n",
      "C:/Users/chris/Desktop/WozU_Data_Science/VAERS-data\\2019\\2019VAERSVAX.csv\n",
      "C:/Users/chris/Desktop/WozU_Data_Science/VAERS-data\\2020\\2020VAERSDATA.csv\n",
      "C:/Users/chris/Desktop/WozU_Data_Science/VAERS-data\\2020\\2020VAERSVAX.csv\n",
      "C:/Users/chris/Desktop/WozU_Data_Science/VAERS-data\\2021\\2021VAERSDATA.csv\n",
      "C:/Users/chris/Desktop/WozU_Data_Science/VAERS-data\\2021\\2021VAERSVAX.csv\n",
      "C:/Users/chris/Desktop/WozU_Data_Science/VAERS-data\\2022\\2022VAERSDATA.csv\n",
      "C:/Users/chris/Desktop/WozU_Data_Science/VAERS-data\\2022\\2022VAERSVAX.csv\n"
     ]
    }
   ],
   "source": [
    "# This is the original iteration block of code\n",
    "\n",
    "def iterate_files(directory):\n",
    "    for root, dirs, files in os.walk(directory):\n",
    "        for dir in dirs:\n",
    "            subfolder = os.path.join(root, dir)\n",
    "            for file in os.listdir(subfolder):\n",
    "                file_path = os.path.join(subfolder, file)\n",
    "                print(file_path)\n",
    "\n",
    "iterate_files('C:/Users/chris/Desktop/WozU_Data_Science/VAERS-data')"
   ]
  },
  {
   "cell_type": "markdown",
   "id": "47d331b7",
   "metadata": {},
   "source": [
    "# Winner Winner Chicken Dinner\n",
    "\n",
    "worked on every subfolder expect 2022 for some reason.\n",
    "This block combines each set by files by year. \n",
    "\n",
    "The problem is, this does not merge them on the unique ID"
   ]
  },
  {
   "cell_type": "code",
   "execution_count": 10,
   "id": "19c2e60f",
   "metadata": {},
   "outputs": [
    {
     "ename": "UnicodeDecodeError",
     "evalue": "'charmap' codec can't decode byte 0x90 in position 30342477: character maps to <undefined>",
     "output_type": "error",
     "traceback": [
      "\u001b[1;31m---------------------------------------------------------------------------\u001b[0m",
      "\u001b[1;31mUnicodeDecodeError\u001b[0m                        Traceback (most recent call last)",
      "Cell \u001b[1;32mIn [10], line 12\u001b[0m\n\u001b[0;32m     10\u001b[0m                         \u001b[38;5;28;01mwith\u001b[39;00m \u001b[38;5;28mopen\u001b[39m(file_path) \u001b[38;5;28;01mas\u001b[39;00m infile:\n\u001b[0;32m     11\u001b[0m                             outfile\u001b[38;5;241m.\u001b[39mwrite(infile\u001b[38;5;241m.\u001b[39mread())\n\u001b[1;32m---> 12\u001b[0m \u001b[43mcombine_files_in_subfolders\u001b[49m\u001b[43m(\u001b[49m\u001b[38;5;124;43m'\u001b[39;49m\u001b[38;5;124;43mC:/Users/chris/Desktop/WozU_Data_Science/VAERS-data\u001b[39;49m\u001b[38;5;124;43m'\u001b[39;49m\u001b[43m)\u001b[49m\n",
      "Cell \u001b[1;32mIn [10], line 11\u001b[0m, in \u001b[0;36mcombine_files_in_subfolders\u001b[1;34m(directory)\u001b[0m\n\u001b[0;32m      9\u001b[0m file_path \u001b[38;5;241m=\u001b[39m os\u001b[38;5;241m.\u001b[39mpath\u001b[38;5;241m.\u001b[39mjoin(subfolder, file)\n\u001b[0;32m     10\u001b[0m \u001b[38;5;28;01mwith\u001b[39;00m \u001b[38;5;28mopen\u001b[39m(file_path) \u001b[38;5;28;01mas\u001b[39;00m infile:\n\u001b[1;32m---> 11\u001b[0m     outfile\u001b[38;5;241m.\u001b[39mwrite(infile\u001b[38;5;241m.\u001b[39mread())\n",
      "File \u001b[1;32mC:\\Python3\\Lib\\encodings\\cp1252.py:23\u001b[0m, in \u001b[0;36mIncrementalDecoder.decode\u001b[1;34m(self, input, final)\u001b[0m\n\u001b[0;32m     22\u001b[0m \u001b[38;5;28;01mdef\u001b[39;00m \u001b[38;5;21mdecode\u001b[39m(\u001b[38;5;28mself\u001b[39m, \u001b[38;5;28minput\u001b[39m, final\u001b[38;5;241m=\u001b[39m\u001b[38;5;28;01mFalse\u001b[39;00m):\n\u001b[1;32m---> 23\u001b[0m     \u001b[38;5;28;01mreturn\u001b[39;00m codecs\u001b[38;5;241m.\u001b[39mcharmap_decode(\u001b[38;5;28minput\u001b[39m,\u001b[38;5;28mself\u001b[39m\u001b[38;5;241m.\u001b[39merrors,decoding_table)[\u001b[38;5;241m0\u001b[39m]\n",
      "\u001b[1;31mUnicodeDecodeError\u001b[0m: 'charmap' codec can't decode byte 0x90 in position 30342477: character maps to <undefined>"
     ]
    }
   ],
   "source": [
    "def combine_files_in_subfolders(directory):\n",
    "    for root, dirs, files in os.walk(directory):\n",
    "        for dir in dirs:\n",
    "            subfolder = os.path.join(root, dir)\n",
    "            combined_file = os.path.join(subfolder, \"combined.csv\")\n",
    "            with open(combined_file, 'w') as outfile:\n",
    "                for file in os.listdir(subfolder):\n",
    "                    if file.endswith('.csv'):\n",
    "                        file_path = os.path.join(subfolder, file)\n",
    "                        with open(file_path) as infile:\n",
    "                            outfile.write(infile.read())\n",
    "combine_files_in_subfolders('C:/Users/chris/Desktop/WozU_Data_Science/VAERS-data')"
   ]
  },
  {
   "cell_type": "code",
   "execution_count": 48,
   "id": "0e8ff90c",
   "metadata": {
    "scrolled": true
   },
   "outputs": [
    {
     "ename": "FileExistsError",
     "evalue": "[WinError 183] Cannot create a file when that file already exists: 'C:/Users/chris/Desktop/WozU_Data_Science/VAERS-data\\\\1992\\\\file1991.csv' -> 'C:/Users/chris/Desktop/WozU_Data_Science/VAERS-data\\\\1992\\\\file2001.csv'",
     "output_type": "error",
     "traceback": [
      "\u001b[1;31m---------------------------------------------------------------------------\u001b[0m",
      "\u001b[1;31mFileExistsError\u001b[0m                           Traceback (most recent call last)",
      "Cell \u001b[1;32mIn [48], line 12\u001b[0m\n\u001b[0;32m      9\u001b[0m                     new_file_path \u001b[38;5;241m=\u001b[39m os\u001b[38;5;241m.\u001b[39mpath\u001b[38;5;241m.\u001b[39mjoin(subfolder, new_file_name)\n\u001b[0;32m     10\u001b[0m                     os\u001b[38;5;241m.\u001b[39mrename(old_file_path, new_file_path)\n\u001b[1;32m---> 12\u001b[0m \u001b[43mrename_files_in_subfolders\u001b[49m\u001b[43m(\u001b[49m\u001b[38;5;124;43m'\u001b[39;49m\u001b[38;5;124;43mC:/Users/chris/Desktop/WozU_Data_Science/VAERS-data\u001b[39;49m\u001b[38;5;124;43m'\u001b[39;49m\u001b[43m,\u001b[49m\u001b[43m \u001b[49m\u001b[38;5;241;43m1990\u001b[39;49m\u001b[43m)\u001b[49m\n",
      "Cell \u001b[1;32mIn [48], line 10\u001b[0m, in \u001b[0;36mrename_files_in_subfolders\u001b[1;34m(directory, start_num)\u001b[0m\n\u001b[0;32m      8\u001b[0m new_file_name \u001b[38;5;241m=\u001b[39m \u001b[38;5;124mf\u001b[39m\u001b[38;5;124m\"\u001b[39m\u001b[38;5;124mfile\u001b[39m\u001b[38;5;132;01m{\u001b[39;00m\u001b[38;5;241m2000\u001b[39m\u001b[38;5;241m+\u001b[39m\u001b[38;5;241m1\u001b[39m\u001b[38;5;132;01m}\u001b[39;00m\u001b[38;5;124m.csv\u001b[39m\u001b[38;5;124m\"\u001b[39m\n\u001b[0;32m      9\u001b[0m new_file_path \u001b[38;5;241m=\u001b[39m os\u001b[38;5;241m.\u001b[39mpath\u001b[38;5;241m.\u001b[39mjoin(subfolder, new_file_name)\n\u001b[1;32m---> 10\u001b[0m os\u001b[38;5;241m.\u001b[39mrename(old_file_path, new_file_path)\n",
      "\u001b[1;31mFileExistsError\u001b[0m: [WinError 183] Cannot create a file when that file already exists: 'C:/Users/chris/Desktop/WozU_Data_Science/VAERS-data\\\\1992\\\\file1991.csv' -> 'C:/Users/chris/Desktop/WozU_Data_Science/VAERS-data\\\\1992\\\\file2001.csv'"
     ]
    }
   ],
   "source": [
    "def rename_files_in_subfolders(directory, start_num):\n",
    "    for root, dirs, files in os.walk(directory):\n",
    "        for dir in dirs:\n",
    "            subfolder = os.path.join(root, dir)\n",
    "            for i, file in enumerate(os.listdir(subfolder)):\n",
    "                if file.endswith('.csv') and \"file\" in file:\n",
    "                    old_file_path = os.path.join(subfolder, file)\n",
    "                    new_file_name = f\"file{2000+1}.csv\"\n",
    "                    new_file_path = os.path.join(subfolder, new_file_name)\n",
    "                    os.rename(old_file_path, new_file_path)\n",
    "\n",
    "rename_files_in_subfolders('C:/Users/chris/Desktop/WozU_Data_Science/VAERS-data', 1990)"
   ]
  },
  {
   "cell_type": "code",
   "execution_count": 16,
   "id": "53ee7c50",
   "metadata": {},
   "outputs": [
    {
     "ename": "UnboundLocalError",
     "evalue": "cannot access local variable 'file' where it is not associated with a value",
     "output_type": "error",
     "traceback": [
      "\u001b[1;31m---------------------------------------------------------------------------\u001b[0m",
      "\u001b[1;31mUnboundLocalError\u001b[0m                         Traceback (most recent call last)",
      "Cell \u001b[1;32mIn [16], line 12\u001b[0m\n\u001b[0;32m     10\u001b[0m                         \u001b[38;5;28;01mwith\u001b[39;00m \u001b[38;5;28mopen\u001b[39m(file_path) \u001b[38;5;28;01mas\u001b[39;00m infile:\n\u001b[0;32m     11\u001b[0m                             outfile\u001b[38;5;241m.\u001b[39mwrite(infile\u001b[38;5;241m.\u001b[39mread())\n\u001b[1;32m---> 12\u001b[0m \u001b[43mcombine_files_in_subfolders\u001b[49m\u001b[43m(\u001b[49m\u001b[38;5;124;43m'\u001b[39;49m\u001b[38;5;124;43mC:/Users/chris/Desktop/WozU_Data_Science/VAERS-data\u001b[39;49m\u001b[38;5;124;43m'\u001b[39;49m\u001b[43m)\u001b[49m\n",
      "Cell \u001b[1;32mIn [16], line 5\u001b[0m, in \u001b[0;36mcombine_files_in_subfolders\u001b[1;34m(directory)\u001b[0m\n\u001b[0;32m      3\u001b[0m \u001b[38;5;28;01mfor\u001b[39;00m \u001b[38;5;28mdir\u001b[39m \u001b[38;5;129;01min\u001b[39;00m dirs:\n\u001b[0;32m      4\u001b[0m     subfolder \u001b[38;5;241m=\u001b[39m os\u001b[38;5;241m.\u001b[39mpath\u001b[38;5;241m.\u001b[39mjoin(root, \u001b[38;5;28mdir\u001b[39m)\n\u001b[1;32m----> 5\u001b[0m     combined_file \u001b[38;5;241m=\u001b[39m pd\u001b[38;5;241m.\u001b[39mmerge(subfolder,\u001b[43mfile\u001b[49m, on \u001b[38;5;241m=\u001b[39m \u001b[38;5;124m'\u001b[39m\u001b[38;5;124mVAERS_ID\u001b[39m\u001b[38;5;124m'\u001b[39m, how \u001b[38;5;241m=\u001b[39m \u001b[38;5;124m'\u001b[39m\u001b[38;5;124mouter\u001b[39m\u001b[38;5;124m'\u001b[39m)\n\u001b[0;32m      6\u001b[0m     \u001b[38;5;28;01mwith\u001b[39;00m \u001b[38;5;28mopen\u001b[39m(combined_file, \u001b[38;5;124m'\u001b[39m\u001b[38;5;124mw\u001b[39m\u001b[38;5;124m'\u001b[39m) \u001b[38;5;28;01mas\u001b[39;00m outfile:\n\u001b[0;32m      7\u001b[0m         \u001b[38;5;28;01mfor\u001b[39;00m file \u001b[38;5;129;01min\u001b[39;00m os\u001b[38;5;241m.\u001b[39mlistdir(subfolder):\n",
      "\u001b[1;31mUnboundLocalError\u001b[0m: cannot access local variable 'file' where it is not associated with a value"
     ]
    }
   ],
   "source": [
    "# This is the original iteration block of code\n",
    "\n",
    "def iterate_files(directory):\n",
    "    for root, dirs, files in os.walk(directory):\n",
    "        for dir in dirs:\n",
    "            subfolder = os.path.join(root, dir)\n",
    "            for file in os.listdir(subfolder):\n",
    "                file_path = os.path.join(subfolder, file)\n",
    "                pd.merge(files)\n",
    "                print(file_path)\n",
    "\n",
    "iterate_files('C:/Users/chris/Desktop/WozU_Data_Science/VAERS-data')"
   ]
  },
  {
   "cell_type": "code",
   "execution_count": null,
   "id": "d544bf55",
   "metadata": {},
   "outputs": [],
   "source": [
    "vaers1990 = pd.merge(vax90, data90, on= 'VAERS_ID')"
   ]
  },
  {
   "cell_type": "code",
   "execution_count": 5,
   "id": "da405f00",
   "metadata": {},
   "outputs": [],
   "source": [
    "test = pd.read_csv('C:/Users/chris/Desktop/WozU_Data_Science/VAERS-data/1990/combined.csv')"
   ]
  },
  {
   "cell_type": "code",
   "execution_count": 6,
   "id": "cc0dead9",
   "metadata": {},
   "outputs": [
    {
     "data": {
      "text/plain": [
       "Index(['VAERS_ID', 'RECVDATE', 'STATE', 'AGE_YRS', 'CAGE_YR', 'CAGE_MO', 'SEX',\n",
       "       'RPT_DATE', 'SYMPTOM_TEXT', 'DIED', 'DATEDIED', 'L_THREAT', 'ER_VISIT',\n",
       "       'HOSPITAL', 'HOSPDAYS', 'X_STAY', 'DISABLE', 'RECOVD', 'VAX_DATE',\n",
       "       'ONSET_DATE', 'NUMDAYS', 'LAB_DATA', 'V_ADMINBY', 'V_FUNDBY',\n",
       "       'OTHER_MEDS', 'CUR_ILL', 'HISTORY', 'PRIOR_VAX', 'SPLTTYPE',\n",
       "       'FORM_VERS', 'TODAYS_DATE', 'BIRTH_DEFECT', 'OFC_VISIT', 'ER_ED_VISIT',\n",
       "       'ALLERGIES', 'VAERS_ID.1', 'VAX_TYPE', 'VAX_MANU', 'VAX_LOT',\n",
       "       'VAX_DOSE_SERIES', 'VAX_ROUTE', 'VAX_SITE', 'VAX_NAME'],\n",
       "      dtype='object')"
      ]
     },
     "execution_count": 6,
     "metadata": {},
     "output_type": "execute_result"
    }
   ],
   "source": [
    "test.columns"
   ]
  },
  {
   "cell_type": "code",
   "execution_count": 7,
   "id": "627838d3",
   "metadata": {},
   "outputs": [],
   "source": [
    "data = pd.read_csv('C:/Users/chris/Desktop/WozU_Data_Science/VAERS-data/1990/1990VAERSDATA.csv')"
   ]
  },
  {
   "cell_type": "code",
   "execution_count": 8,
   "id": "c35c772f",
   "metadata": {},
   "outputs": [
    {
     "data": {
      "text/plain": [
       "Index(['VAERS_ID', 'RECVDATE', 'STATE', 'AGE_YRS', 'CAGE_YR', 'CAGE_MO', 'SEX',\n",
       "       'RPT_DATE', 'SYMPTOM_TEXT', 'DIED', 'DATEDIED', 'L_THREAT', 'ER_VISIT',\n",
       "       'HOSPITAL', 'HOSPDAYS', 'X_STAY', 'DISABLE', 'RECOVD', 'VAX_DATE',\n",
       "       'ONSET_DATE', 'NUMDAYS', 'LAB_DATA', 'V_ADMINBY', 'V_FUNDBY',\n",
       "       'OTHER_MEDS', 'CUR_ILL', 'HISTORY', 'PRIOR_VAX', 'SPLTTYPE',\n",
       "       'FORM_VERS', 'TODAYS_DATE', 'BIRTH_DEFECT', 'OFC_VISIT', 'ER_ED_VISIT',\n",
       "       'ALLERGIES'],\n",
       "      dtype='object')"
      ]
     },
     "execution_count": 8,
     "metadata": {},
     "output_type": "execute_result"
    }
   ],
   "source": [
    "data.columns"
   ]
  },
  {
   "cell_type": "code",
   "execution_count": 9,
   "id": "c040b841",
   "metadata": {},
   "outputs": [],
   "source": [
    "vax = pd.read_csv('C:/Users/chris/Desktop/WozU_Data_Science/VAERS-data/1990/1990VAERSVAX.csv')"
   ]
  },
  {
   "cell_type": "code",
   "execution_count": 33,
   "id": "b4cb14ad",
   "metadata": {},
   "outputs": [
    {
     "data": {
      "text/plain": [
       "26298    5\n",
       "26102    4\n",
       "25515    4\n",
       "26484    4\n",
       "26719    4\n",
       "        ..\n",
       "25799    1\n",
       "25798    1\n",
       "25797    1\n",
       "25796    1\n",
       "70581    1\n",
       "Name: VAERS_ID, Length: 2102, dtype: int64"
      ]
     },
     "execution_count": 33,
     "metadata": {},
     "output_type": "execute_result"
    }
   ],
   "source": [
    "vax.VAERS_ID.value_counts()"
   ]
  },
  {
   "cell_type": "code",
   "execution_count": null,
   "id": "80a497af",
   "metadata": {},
   "outputs": [],
   "source": [
    "va"
   ]
  },
  {
   "cell_type": "code",
   "execution_count": 34,
   "id": "9833097e",
   "metadata": {},
   "outputs": [
    {
     "data": {
      "text/plain": [
       "25001    1\n",
       "26452    1\n",
       "26450    1\n",
       "26449    1\n",
       "26447    1\n",
       "        ..\n",
       "25786    1\n",
       "25785    1\n",
       "25783    1\n",
       "25782    1\n",
       "27273    1\n",
       "Name: VAERS_ID, Length: 2102, dtype: int64"
      ]
     },
     "execution_count": 34,
     "metadata": {},
     "output_type": "execute_result"
    }
   ],
   "source": [
    "data.VAERS_ID.value_counts()"
   ]
  },
  {
   "cell_type": "code",
   "execution_count": 10,
   "id": "83ddc6d1",
   "metadata": {},
   "outputs": [
    {
     "data": {
      "text/plain": [
       "Index(['VAERS_ID', 'VAX_TYPE', 'VAX_MANU', 'VAX_LOT', 'VAX_DOSE_SERIES',\n",
       "       'VAX_ROUTE', 'VAX_SITE', 'VAX_NAME'],\n",
       "      dtype='object')"
      ]
     },
     "execution_count": 10,
     "metadata": {},
     "output_type": "execute_result"
    }
   ],
   "source": [
    "vax.columns"
   ]
  },
  {
   "cell_type": "markdown",
   "id": "52b6ed51",
   "metadata": {},
   "source": [
    "# Another attempt to merge the documents on the like column"
   ]
  },
  {
   "cell_type": "code",
   "execution_count": 35,
   "id": "38452ed9",
   "metadata": {},
   "outputs": [],
   "source": [
    "# Create varailbe of 'file' instead of files to merge, file one and file two. \n",
    "# Then merge file 1 and 2\n",
    "\n",
    "# "
   ]
  },
  {
   "cell_type": "code",
   "execution_count": 2,
   "id": "0639247f",
   "metadata": {},
   "outputs": [],
   "source": [
    "import os\n",
    "import pandas as pd\n",
    "\n",
    "def merge_files_in_subfolders(directory, merge_column):\n",
    "    for root, dirs, files in os.walk(directory):\n",
    "        for dir in dirs:\n",
    "            subfolder = os.path.join(root, dir)\n",
    "            files_to_merge = []\n",
    "            for file in os.listdir(subfolder):\n",
    "                if file.endswith('.csv'):\n",
    "                    file_path = os.path.join(subfolder, file)\n",
    "                    files_to_merge.append(pd.read_csv(file_path))\n",
    "            combined_df = pd.concat(files_to_merge, axis=1, join='outer')\n",
    "            combined_file = os.path.join(subfolder, \"combined.csv\")\n",
    "            combined_df.to_csv(combined_file, index=False)\n",
    "\n",
    "merge_files_in_subfolders('path/to/directory', 'merge_column')\n"
   ]
  },
  {
   "cell_type": "code",
   "execution_count": 4,
   "id": "fb1caf30",
   "metadata": {
    "scrolled": true
   },
   "outputs": [
    {
     "name": "stderr",
     "output_type": "stream",
     "text": [
      "C:\\Users\\chris\\AppData\\Local\\Temp\\ipykernel_7776\\525981596.py:12: DtypeWarning: Columns (9,10,11,13,15,16,27) have mixed types. Specify dtype option on import or set low_memory=False.\n",
      "  files_to_merge.append(pd.read_csv(file_path))\n",
      "C:\\Users\\chris\\AppData\\Local\\Temp\\ipykernel_7776\\525981596.py:12: DtypeWarning: Columns (30) have mixed types. Specify dtype option on import or set low_memory=False.\n",
      "  files_to_merge.append(pd.read_csv(file_path))\n",
      "C:\\Users\\chris\\AppData\\Local\\Temp\\ipykernel_7776\\525981596.py:12: DtypeWarning: Columns (31) have mixed types. Specify dtype option on import or set low_memory=False.\n",
      "  files_to_merge.append(pd.read_csv(file_path))\n",
      "C:\\Users\\chris\\AppData\\Local\\Temp\\ipykernel_7776\\525981596.py:12: DtypeWarning: Columns (7,9,10,12,15,16,23,31) have mixed types. Specify dtype option on import or set low_memory=False.\n",
      "  files_to_merge.append(pd.read_csv(file_path))\n",
      "C:\\Users\\chris\\AppData\\Local\\Temp\\ipykernel_7776\\525981596.py:12: DtypeWarning: Columns (7,12,15,23) have mixed types. Specify dtype option on import or set low_memory=False.\n",
      "  files_to_merge.append(pd.read_csv(file_path))\n",
      "C:\\Users\\chris\\AppData\\Local\\Temp\\ipykernel_7776\\525981596.py:12: DtypeWarning: Columns (12) have mixed types. Specify dtype option on import or set low_memory=False.\n",
      "  files_to_merge.append(pd.read_csv(file_path))\n"
     ]
    }
   ],
   "source": [
    "merge_files_in_subfolders('C:/Users/chris/Desktop/WozU_Data_Science/VAERS-data', 'VAERS_ID')"
   ]
  },
  {
   "cell_type": "code",
   "execution_count": 25,
   "id": "b937f07b",
   "metadata": {},
   "outputs": [],
   "source": [
    "pd.set_option('display.max_columns', 100)\n"
   ]
  },
  {
   "cell_type": "code",
   "execution_count": 26,
   "id": "fe8cb796",
   "metadata": {},
   "outputs": [
    {
     "data": {
      "text/html": [
       "<div>\n",
       "<style scoped>\n",
       "    .dataframe tbody tr th:only-of-type {\n",
       "        vertical-align: middle;\n",
       "    }\n",
       "\n",
       "    .dataframe tbody tr th {\n",
       "        vertical-align: top;\n",
       "    }\n",
       "\n",
       "    .dataframe thead th {\n",
       "        text-align: right;\n",
       "    }\n",
       "</style>\n",
       "<table border=\"1\" class=\"dataframe\">\n",
       "  <thead>\n",
       "    <tr style=\"text-align: right;\">\n",
       "      <th></th>\n",
       "      <th>VAERS_ID</th>\n",
       "      <th>RECVDATE</th>\n",
       "      <th>STATE</th>\n",
       "      <th>AGE_YRS</th>\n",
       "      <th>CAGE_YR</th>\n",
       "      <th>CAGE_MO</th>\n",
       "      <th>SEX</th>\n",
       "      <th>RPT_DATE</th>\n",
       "      <th>SYMPTOM_TEXT</th>\n",
       "      <th>DIED</th>\n",
       "      <th>DATEDIED</th>\n",
       "      <th>L_THREAT</th>\n",
       "      <th>ER_VISIT</th>\n",
       "      <th>HOSPITAL</th>\n",
       "      <th>HOSPDAYS</th>\n",
       "      <th>X_STAY</th>\n",
       "      <th>DISABLE</th>\n",
       "      <th>RECOVD</th>\n",
       "      <th>VAX_DATE</th>\n",
       "      <th>ONSET_DATE</th>\n",
       "      <th>NUMDAYS</th>\n",
       "      <th>LAB_DATA</th>\n",
       "      <th>V_ADMINBY</th>\n",
       "      <th>V_FUNDBY</th>\n",
       "      <th>OTHER_MEDS</th>\n",
       "      <th>CUR_ILL</th>\n",
       "      <th>HISTORY</th>\n",
       "      <th>PRIOR_VAX</th>\n",
       "      <th>SPLTTYPE</th>\n",
       "      <th>FORM_VERS</th>\n",
       "      <th>TODAYS_DATE</th>\n",
       "      <th>BIRTH_DEFECT</th>\n",
       "      <th>OFC_VISIT</th>\n",
       "      <th>ER_ED_VISIT</th>\n",
       "      <th>ALLERGIES</th>\n",
       "      <th>VAERS_ID.1</th>\n",
       "      <th>VAX_TYPE</th>\n",
       "      <th>VAX_MANU</th>\n",
       "      <th>VAX_LOT</th>\n",
       "      <th>VAX_DOSE_SERIES</th>\n",
       "      <th>VAX_ROUTE</th>\n",
       "      <th>VAX_SITE</th>\n",
       "      <th>VAX_NAME</th>\n",
       "    </tr>\n",
       "  </thead>\n",
       "  <tbody>\n",
       "    <tr>\n",
       "      <th>0</th>\n",
       "      <td>25001.0</td>\n",
       "      <td>07/02/1990</td>\n",
       "      <td>WI</td>\n",
       "      <td>0.2</td>\n",
       "      <td>NaN</td>\n",
       "      <td>NaN</td>\n",
       "      <td>F</td>\n",
       "      <td>NaN</td>\n",
       "      <td>Loud intense cry with screaming for 1 1/2 hrs....</td>\n",
       "      <td>NaN</td>\n",
       "      <td>NaN</td>\n",
       "      <td>NaN</td>\n",
       "      <td>NaN</td>\n",
       "      <td>NaN</td>\n",
       "      <td>NaN</td>\n",
       "      <td>NaN</td>\n",
       "      <td>NaN</td>\n",
       "      <td>U</td>\n",
       "      <td>06/04/1990</td>\n",
       "      <td>06/04/1990</td>\n",
       "      <td>0.0</td>\n",
       "      <td>NaN</td>\n",
       "      <td>PVT</td>\n",
       "      <td>UNK</td>\n",
       "      <td>NaN</td>\n",
       "      <td>NaN</td>\n",
       "      <td>NaN</td>\n",
       "      <td>NaN</td>\n",
       "      <td>NaN</td>\n",
       "      <td>1.0</td>\n",
       "      <td>NaN</td>\n",
       "      <td>NaN</td>\n",
       "      <td>NaN</td>\n",
       "      <td>NaN</td>\n",
       "      <td>NaN</td>\n",
       "      <td>25001</td>\n",
       "      <td>DTP</td>\n",
       "      <td>CONNAUGHT LABORATORIES</td>\n",
       "      <td>9Q01042</td>\n",
       "      <td>UNK</td>\n",
       "      <td>IM</td>\n",
       "      <td>NaN</td>\n",
       "      <td>DTP (NO BRAND NAME)</td>\n",
       "    </tr>\n",
       "    <tr>\n",
       "      <th>1</th>\n",
       "      <td>25003.0</td>\n",
       "      <td>07/02/1990</td>\n",
       "      <td>TX</td>\n",
       "      <td>0.8</td>\n",
       "      <td>NaN</td>\n",
       "      <td>NaN</td>\n",
       "      <td>M</td>\n",
       "      <td>NaN</td>\n",
       "      <td>Hypotonic, Hyporesponsive episode, Infant died...</td>\n",
       "      <td>Y</td>\n",
       "      <td>NaN</td>\n",
       "      <td>NaN</td>\n",
       "      <td>NaN</td>\n",
       "      <td>NaN</td>\n",
       "      <td>NaN</td>\n",
       "      <td>NaN</td>\n",
       "      <td>NaN</td>\n",
       "      <td>N</td>\n",
       "      <td>01/29/1990</td>\n",
       "      <td>02/04/1990</td>\n",
       "      <td>6.0</td>\n",
       "      <td>NaN</td>\n",
       "      <td>UNK</td>\n",
       "      <td>UNK</td>\n",
       "      <td>NaN</td>\n",
       "      <td>NaN</td>\n",
       "      <td>NaN</td>\n",
       "      <td>~ ()~~~In patient</td>\n",
       "      <td>NaN</td>\n",
       "      <td>1.0</td>\n",
       "      <td>NaN</td>\n",
       "      <td>NaN</td>\n",
       "      <td>NaN</td>\n",
       "      <td>NaN</td>\n",
       "      <td>NaN</td>\n",
       "      <td>25003</td>\n",
       "      <td>DTP</td>\n",
       "      <td>LEDERLE LABORATORIES</td>\n",
       "      <td>259962</td>\n",
       "      <td>4</td>\n",
       "      <td>IM</td>\n",
       "      <td>NaN</td>\n",
       "      <td>DTP (TRI-IMMUNOL)</td>\n",
       "    </tr>\n",
       "    <tr>\n",
       "      <th>2</th>\n",
       "      <td>25004.0</td>\n",
       "      <td>07/02/1990</td>\n",
       "      <td>NY</td>\n",
       "      <td>0.9</td>\n",
       "      <td>NaN</td>\n",
       "      <td>NaN</td>\n",
       "      <td>M</td>\n",
       "      <td>NaN</td>\n",
       "      <td>Pt developed chills for approx. 1 hr, felt ach...</td>\n",
       "      <td>NaN</td>\n",
       "      <td>NaN</td>\n",
       "      <td>NaN</td>\n",
       "      <td>NaN</td>\n",
       "      <td>NaN</td>\n",
       "      <td>NaN</td>\n",
       "      <td>NaN</td>\n",
       "      <td>NaN</td>\n",
       "      <td>U</td>\n",
       "      <td>11/13/1989</td>\n",
       "      <td>11/13/1989</td>\n",
       "      <td>0.0</td>\n",
       "      <td>NaN</td>\n",
       "      <td>UNK</td>\n",
       "      <td>UNK</td>\n",
       "      <td>NaN</td>\n",
       "      <td>NaN</td>\n",
       "      <td>NaN</td>\n",
       "      <td>~ ()~~~In patient</td>\n",
       "      <td>890269201</td>\n",
       "      <td>1.0</td>\n",
       "      <td>NaN</td>\n",
       "      <td>NaN</td>\n",
       "      <td>NaN</td>\n",
       "      <td>NaN</td>\n",
       "      <td>NaN</td>\n",
       "      <td>25003</td>\n",
       "      <td>OPV</td>\n",
       "      <td>PFIZER\\WYETH</td>\n",
       "      <td>241950</td>\n",
       "      <td>4</td>\n",
       "      <td>PO</td>\n",
       "      <td>MO</td>\n",
       "      <td>POLIO VIRUS, ORAL (ORIMUNE)</td>\n",
       "    </tr>\n",
       "    <tr>\n",
       "      <th>3</th>\n",
       "      <td>25005.0</td>\n",
       "      <td>07/02/1990</td>\n",
       "      <td>OK</td>\n",
       "      <td>NaN</td>\n",
       "      <td>NaN</td>\n",
       "      <td>NaN</td>\n",
       "      <td>U</td>\n",
       "      <td>NaN</td>\n",
       "      <td>7 patients within 2 weeks have reported joint ...</td>\n",
       "      <td>NaN</td>\n",
       "      <td>NaN</td>\n",
       "      <td>NaN</td>\n",
       "      <td>NaN</td>\n",
       "      <td>NaN</td>\n",
       "      <td>NaN</td>\n",
       "      <td>NaN</td>\n",
       "      <td>NaN</td>\n",
       "      <td>NaN</td>\n",
       "      <td>NaN</td>\n",
       "      <td>NaN</td>\n",
       "      <td>NaN</td>\n",
       "      <td>NaN</td>\n",
       "      <td>UNK</td>\n",
       "      <td>UNK</td>\n",
       "      <td>NaN</td>\n",
       "      <td>NaN</td>\n",
       "      <td>NaN</td>\n",
       "      <td>~ ()~~~In patient</td>\n",
       "      <td>890277901</td>\n",
       "      <td>1.0</td>\n",
       "      <td>NaN</td>\n",
       "      <td>NaN</td>\n",
       "      <td>NaN</td>\n",
       "      <td>NaN</td>\n",
       "      <td>NaN</td>\n",
       "      <td>25004</td>\n",
       "      <td>OPV</td>\n",
       "      <td>PFIZER\\WYETH</td>\n",
       "      <td>232961</td>\n",
       "      <td>UNK</td>\n",
       "      <td>NaN</td>\n",
       "      <td>NaN</td>\n",
       "      <td>POLIO VIRUS, ORAL (ORIMUNE)</td>\n",
       "    </tr>\n",
       "    <tr>\n",
       "      <th>4</th>\n",
       "      <td>25006.0</td>\n",
       "      <td>07/02/1990</td>\n",
       "      <td>OH</td>\n",
       "      <td>16.0</td>\n",
       "      <td>16.0</td>\n",
       "      <td>NaN</td>\n",
       "      <td>F</td>\n",
       "      <td>NaN</td>\n",
       "      <td>16 yr old female feeling faint &amp; then had seiz...</td>\n",
       "      <td>NaN</td>\n",
       "      <td>NaN</td>\n",
       "      <td>NaN</td>\n",
       "      <td>NaN</td>\n",
       "      <td>NaN</td>\n",
       "      <td>NaN</td>\n",
       "      <td>NaN</td>\n",
       "      <td>NaN</td>\n",
       "      <td>Y</td>\n",
       "      <td>11/17/1989</td>\n",
       "      <td>11/17/1989</td>\n",
       "      <td>0.0</td>\n",
       "      <td>NaN</td>\n",
       "      <td>UNK</td>\n",
       "      <td>UNK</td>\n",
       "      <td>NaN</td>\n",
       "      <td>NaN</td>\n",
       "      <td>no hx of local or systemic rxns</td>\n",
       "      <td>~ ()~~~In patient</td>\n",
       "      <td>890278001</td>\n",
       "      <td>1.0</td>\n",
       "      <td>NaN</td>\n",
       "      <td>NaN</td>\n",
       "      <td>NaN</td>\n",
       "      <td>NaN</td>\n",
       "      <td>NaN</td>\n",
       "      <td>25005</td>\n",
       "      <td>TD</td>\n",
       "      <td>LEDERLE LABORATORIES</td>\n",
       "      <td>247955</td>\n",
       "      <td>UNK</td>\n",
       "      <td>IM</td>\n",
       "      <td>NaN</td>\n",
       "      <td>TD ADSORBED (NO BRAND NAME)</td>\n",
       "    </tr>\n",
       "  </tbody>\n",
       "</table>\n",
       "</div>"
      ],
      "text/plain": [
       "   VAERS_ID    RECVDATE STATE  AGE_YRS  CAGE_YR  CAGE_MO SEX RPT_DATE  \\\n",
       "0   25001.0  07/02/1990    WI      0.2      NaN      NaN   F      NaN   \n",
       "1   25003.0  07/02/1990    TX      0.8      NaN      NaN   M      NaN   \n",
       "2   25004.0  07/02/1990    NY      0.9      NaN      NaN   M      NaN   \n",
       "3   25005.0  07/02/1990    OK      NaN      NaN      NaN   U      NaN   \n",
       "4   25006.0  07/02/1990    OH     16.0     16.0      NaN   F      NaN   \n",
       "\n",
       "                                        SYMPTOM_TEXT DIED DATEDIED L_THREAT  \\\n",
       "0  Loud intense cry with screaming for 1 1/2 hrs....  NaN      NaN      NaN   \n",
       "1  Hypotonic, Hyporesponsive episode, Infant died...    Y      NaN      NaN   \n",
       "2  Pt developed chills for approx. 1 hr, felt ach...  NaN      NaN      NaN   \n",
       "3  7 patients within 2 weeks have reported joint ...  NaN      NaN      NaN   \n",
       "4  16 yr old female feeling faint & then had seiz...  NaN      NaN      NaN   \n",
       "\n",
       "  ER_VISIT HOSPITAL  HOSPDAYS X_STAY DISABLE RECOVD    VAX_DATE  ONSET_DATE  \\\n",
       "0      NaN      NaN       NaN    NaN     NaN      U  06/04/1990  06/04/1990   \n",
       "1      NaN      NaN       NaN    NaN     NaN      N  01/29/1990  02/04/1990   \n",
       "2      NaN      NaN       NaN    NaN     NaN      U  11/13/1989  11/13/1989   \n",
       "3      NaN      NaN       NaN    NaN     NaN    NaN         NaN         NaN   \n",
       "4      NaN      NaN       NaN    NaN     NaN      Y  11/17/1989  11/17/1989   \n",
       "\n",
       "   NUMDAYS LAB_DATA V_ADMINBY V_FUNDBY OTHER_MEDS CUR_ILL  \\\n",
       "0      0.0      NaN       PVT      UNK        NaN     NaN   \n",
       "1      6.0      NaN       UNK      UNK        NaN     NaN   \n",
       "2      0.0      NaN       UNK      UNK        NaN     NaN   \n",
       "3      NaN      NaN       UNK      UNK        NaN     NaN   \n",
       "4      0.0      NaN       UNK      UNK        NaN     NaN   \n",
       "\n",
       "                           HISTORY          PRIOR_VAX   SPLTTYPE  FORM_VERS  \\\n",
       "0                              NaN                NaN        NaN        1.0   \n",
       "1                              NaN  ~ ()~~~In patient        NaN        1.0   \n",
       "2                              NaN  ~ ()~~~In patient  890269201        1.0   \n",
       "3                              NaN  ~ ()~~~In patient  890277901        1.0   \n",
       "4  no hx of local or systemic rxns  ~ ()~~~In patient  890278001        1.0   \n",
       "\n",
       "   TODAYS_DATE  BIRTH_DEFECT  OFC_VISIT  ER_ED_VISIT  ALLERGIES  VAERS_ID.1  \\\n",
       "0          NaN           NaN        NaN          NaN        NaN       25001   \n",
       "1          NaN           NaN        NaN          NaN        NaN       25003   \n",
       "2          NaN           NaN        NaN          NaN        NaN       25003   \n",
       "3          NaN           NaN        NaN          NaN        NaN       25004   \n",
       "4          NaN           NaN        NaN          NaN        NaN       25005   \n",
       "\n",
       "  VAX_TYPE                VAX_MANU  VAX_LOT VAX_DOSE_SERIES VAX_ROUTE  \\\n",
       "0      DTP  CONNAUGHT LABORATORIES  9Q01042             UNK        IM   \n",
       "1      DTP    LEDERLE LABORATORIES   259962               4        IM   \n",
       "2      OPV            PFIZER\\WYETH   241950               4        PO   \n",
       "3      OPV            PFIZER\\WYETH   232961             UNK       NaN   \n",
       "4       TD    LEDERLE LABORATORIES   247955             UNK        IM   \n",
       "\n",
       "  VAX_SITE                     VAX_NAME  \n",
       "0      NaN          DTP (NO BRAND NAME)  \n",
       "1      NaN            DTP (TRI-IMMUNOL)  \n",
       "2       MO  POLIO VIRUS, ORAL (ORIMUNE)  \n",
       "3      NaN  POLIO VIRUS, ORAL (ORIMUNE)  \n",
       "4      NaN  TD ADSORBED (NO BRAND NAME)  "
      ]
     },
     "execution_count": 26,
     "metadata": {},
     "output_type": "execute_result"
    }
   ],
   "source": [
    "test.head()"
   ]
  },
  {
   "cell_type": "code",
   "execution_count": 28,
   "id": "5a75d3f3",
   "metadata": {},
   "outputs": [
    {
     "name": "stdout",
     "output_type": "stream",
     "text": [
      "<class 'pandas.core.frame.DataFrame'>\n",
      "RangeIndex: 2787 entries, 0 to 2786\n",
      "Data columns (total 43 columns):\n",
      " #   Column           Non-Null Count  Dtype  \n",
      "---  ------           --------------  -----  \n",
      " 0   VAERS_ID         2102 non-null   float64\n",
      " 1   RECVDATE         2102 non-null   object \n",
      " 2   STATE            2070 non-null   object \n",
      " 3   AGE_YRS          1858 non-null   float64\n",
      " 4   CAGE_YR          840 non-null    float64\n",
      " 5   CAGE_MO          516 non-null    float64\n",
      " 6   SEX              2102 non-null   object \n",
      " 7   RPT_DATE         663 non-null    object \n",
      " 8   SYMPTOM_TEXT     2098 non-null   object \n",
      " 9   DIED             76 non-null     object \n",
      " 10  DATEDIED         60 non-null     object \n",
      " 11  L_THREAT         33 non-null     object \n",
      " 12  ER_VISIT         346 non-null    object \n",
      " 13  HOSPITAL         255 non-null    object \n",
      " 14  HOSPDAYS         100 non-null    float64\n",
      " 15  X_STAY           87 non-null     object \n",
      " 16  DISABLE          83 non-null     object \n",
      " 17  RECOVD           1696 non-null   object \n",
      " 18  VAX_DATE         1848 non-null   object \n",
      " 19  ONSET_DATE       1824 non-null   object \n",
      " 20  NUMDAYS          1757 non-null   float64\n",
      " 21  LAB_DATA         511 non-null    object \n",
      " 22  V_ADMINBY        2102 non-null   object \n",
      " 23  V_FUNDBY         2102 non-null   object \n",
      " 24  OTHER_MEDS       472 non-null    object \n",
      " 25  CUR_ILL          195 non-null    object \n",
      " 26  HISTORY          617 non-null    object \n",
      " 27  PRIOR_VAX        1956 non-null   object \n",
      " 28  SPLTTYPE         1125 non-null   object \n",
      " 29  FORM_VERS        2102 non-null   float64\n",
      " 30  TODAYS_DATE      0 non-null      float64\n",
      " 31  BIRTH_DEFECT     0 non-null      float64\n",
      " 32  OFC_VISIT        0 non-null      float64\n",
      " 33  ER_ED_VISIT      0 non-null      float64\n",
      " 34  ALLERGIES        0 non-null      float64\n",
      " 35  VAERS_ID.1       2787 non-null   int64  \n",
      " 36  VAX_TYPE         2787 non-null   object \n",
      " 37  VAX_MANU         2787 non-null   object \n",
      " 38  VAX_LOT          2256 non-null   object \n",
      " 39  VAX_DOSE_SERIES  2787 non-null   object \n",
      " 40  VAX_ROUTE        1883 non-null   object \n",
      " 41  VAX_SITE         1081 non-null   object \n",
      " 42  VAX_NAME         2787 non-null   object \n",
      "dtypes: float64(12), int64(1), object(30)\n",
      "memory usage: 936.4+ KB\n"
     ]
    }
   ],
   "source": [
    "test.info()"
   ]
  },
  {
   "cell_type": "code",
   "execution_count": 31,
   "id": "b783aeb3",
   "metadata": {},
   "outputs": [
    {
     "name": "stdout",
     "output_type": "stream",
     "text": [
      "<class 'pandas.core.frame.DataFrame'>\n",
      "RangeIndex: 2102 entries, 0 to 2101\n",
      "Data columns (total 35 columns):\n",
      " #   Column        Non-Null Count  Dtype  \n",
      "---  ------        --------------  -----  \n",
      " 0   VAERS_ID      2102 non-null   int64  \n",
      " 1   RECVDATE      2102 non-null   object \n",
      " 2   STATE         2070 non-null   object \n",
      " 3   AGE_YRS       1858 non-null   float64\n",
      " 4   CAGE_YR       840 non-null    float64\n",
      " 5   CAGE_MO       516 non-null    float64\n",
      " 6   SEX           2102 non-null   object \n",
      " 7   RPT_DATE      663 non-null    object \n",
      " 8   SYMPTOM_TEXT  2098 non-null   object \n",
      " 9   DIED          76 non-null     object \n",
      " 10  DATEDIED      60 non-null     object \n",
      " 11  L_THREAT      33 non-null     object \n",
      " 12  ER_VISIT      346 non-null    object \n",
      " 13  HOSPITAL      255 non-null    object \n",
      " 14  HOSPDAYS      100 non-null    float64\n",
      " 15  X_STAY        87 non-null     object \n",
      " 16  DISABLE       83 non-null     object \n",
      " 17  RECOVD        1696 non-null   object \n",
      " 18  VAX_DATE      1848 non-null   object \n",
      " 19  ONSET_DATE    1824 non-null   object \n",
      " 20  NUMDAYS       1757 non-null   float64\n",
      " 21  LAB_DATA      511 non-null    object \n",
      " 22  V_ADMINBY     2102 non-null   object \n",
      " 23  V_FUNDBY      2102 non-null   object \n",
      " 24  OTHER_MEDS    472 non-null    object \n",
      " 25  CUR_ILL       195 non-null    object \n",
      " 26  HISTORY       617 non-null    object \n",
      " 27  PRIOR_VAX     1956 non-null   object \n",
      " 28  SPLTTYPE      1125 non-null   object \n",
      " 29  FORM_VERS     2102 non-null   int64  \n",
      " 30  TODAYS_DATE   0 non-null      float64\n",
      " 31  BIRTH_DEFECT  0 non-null      float64\n",
      " 32  OFC_VISIT     0 non-null      float64\n",
      " 33  ER_ED_VISIT   0 non-null      float64\n",
      " 34  ALLERGIES     0 non-null      float64\n",
      "dtypes: float64(10), int64(2), object(23)\n",
      "memory usage: 574.9+ KB\n"
     ]
    }
   ],
   "source": [
    "data.info()"
   ]
  },
  {
   "cell_type": "code",
   "execution_count": null,
   "id": "2535f741",
   "metadata": {},
   "outputs": [],
   "source": [
    "type(test['VAERS_ID'])"
   ]
  },
  {
   "cell_type": "code",
   "execution_count": 14,
   "id": "e7c0da29",
   "metadata": {},
   "outputs": [
    {
     "data": {
      "text/html": [
       "<div>\n",
       "<style scoped>\n",
       "    .dataframe tbody tr th:only-of-type {\n",
       "        vertical-align: middle;\n",
       "    }\n",
       "\n",
       "    .dataframe tbody tr th {\n",
       "        vertical-align: top;\n",
       "    }\n",
       "\n",
       "    .dataframe thead th {\n",
       "        text-align: right;\n",
       "    }\n",
       "</style>\n",
       "<table border=\"1\" class=\"dataframe\">\n",
       "  <thead>\n",
       "    <tr style=\"text-align: right;\">\n",
       "      <th></th>\n",
       "      <th>VAERS_ID</th>\n",
       "      <th>VAX_TYPE</th>\n",
       "      <th>VAX_MANU</th>\n",
       "      <th>VAX_LOT</th>\n",
       "      <th>VAX_DOSE_SERIES</th>\n",
       "      <th>VAX_ROUTE</th>\n",
       "      <th>VAX_SITE</th>\n",
       "      <th>VAX_NAME</th>\n",
       "    </tr>\n",
       "  </thead>\n",
       "  <tbody>\n",
       "    <tr>\n",
       "      <th>0</th>\n",
       "      <td>25001</td>\n",
       "      <td>DTP</td>\n",
       "      <td>CONNAUGHT LABORATORIES</td>\n",
       "      <td>9Q01042</td>\n",
       "      <td>UNK</td>\n",
       "      <td>IM</td>\n",
       "      <td>NaN</td>\n",
       "      <td>DTP (NO BRAND NAME)</td>\n",
       "    </tr>\n",
       "    <tr>\n",
       "      <th>1</th>\n",
       "      <td>25003</td>\n",
       "      <td>DTP</td>\n",
       "      <td>LEDERLE LABORATORIES</td>\n",
       "      <td>259962</td>\n",
       "      <td>4</td>\n",
       "      <td>IM</td>\n",
       "      <td>NaN</td>\n",
       "      <td>DTP (TRI-IMMUNOL)</td>\n",
       "    </tr>\n",
       "    <tr>\n",
       "      <th>2</th>\n",
       "      <td>25003</td>\n",
       "      <td>OPV</td>\n",
       "      <td>PFIZER\\WYETH</td>\n",
       "      <td>241950</td>\n",
       "      <td>4</td>\n",
       "      <td>PO</td>\n",
       "      <td>MO</td>\n",
       "      <td>POLIO VIRUS, ORAL (ORIMUNE)</td>\n",
       "    </tr>\n",
       "    <tr>\n",
       "      <th>3</th>\n",
       "      <td>25004</td>\n",
       "      <td>OPV</td>\n",
       "      <td>PFIZER\\WYETH</td>\n",
       "      <td>232961</td>\n",
       "      <td>UNK</td>\n",
       "      <td>NaN</td>\n",
       "      <td>NaN</td>\n",
       "      <td>POLIO VIRUS, ORAL (ORIMUNE)</td>\n",
       "    </tr>\n",
       "    <tr>\n",
       "      <th>4</th>\n",
       "      <td>25005</td>\n",
       "      <td>TD</td>\n",
       "      <td>LEDERLE LABORATORIES</td>\n",
       "      <td>247955</td>\n",
       "      <td>UNK</td>\n",
       "      <td>IM</td>\n",
       "      <td>NaN</td>\n",
       "      <td>TD ADSORBED (NO BRAND NAME)</td>\n",
       "    </tr>\n",
       "  </tbody>\n",
       "</table>\n",
       "</div>"
      ],
      "text/plain": [
       "   VAERS_ID VAX_TYPE                VAX_MANU  VAX_LOT VAX_DOSE_SERIES  \\\n",
       "0     25001      DTP  CONNAUGHT LABORATORIES  9Q01042             UNK   \n",
       "1     25003      DTP    LEDERLE LABORATORIES   259962               4   \n",
       "2     25003      OPV            PFIZER\\WYETH   241950               4   \n",
       "3     25004      OPV            PFIZER\\WYETH   232961             UNK   \n",
       "4     25005       TD    LEDERLE LABORATORIES   247955             UNK   \n",
       "\n",
       "  VAX_ROUTE VAX_SITE                     VAX_NAME  \n",
       "0        IM      NaN          DTP (NO BRAND NAME)  \n",
       "1        IM      NaN            DTP (TRI-IMMUNOL)  \n",
       "2        PO       MO  POLIO VIRUS, ORAL (ORIMUNE)  \n",
       "3       NaN      NaN  POLIO VIRUS, ORAL (ORIMUNE)  \n",
       "4        IM      NaN  TD ADSORBED (NO BRAND NAME)  "
      ]
     },
     "execution_count": 14,
     "metadata": {},
     "output_type": "execute_result"
    }
   ],
   "source": [
    "vax.head()"
   ]
  },
  {
   "cell_type": "code",
   "execution_count": 22,
   "id": "f7340971",
   "metadata": {},
   "outputs": [
    {
     "name": "stdout",
     "output_type": "stream",
     "text": [
      "int64\n"
     ]
    }
   ],
   "source": [
    "print(vax['VAERS_ID'].dtype)"
   ]
  },
  {
   "cell_type": "code",
   "execution_count": 32,
   "id": "056e43f2",
   "metadata": {},
   "outputs": [
    {
     "name": "stdout",
     "output_type": "stream",
     "text": [
      "<class 'pandas.core.frame.DataFrame'>\n",
      "RangeIndex: 2787 entries, 0 to 2786\n",
      "Data columns (total 8 columns):\n",
      " #   Column           Non-Null Count  Dtype \n",
      "---  ------           --------------  ----- \n",
      " 0   VAERS_ID         2787 non-null   int64 \n",
      " 1   VAX_TYPE         2787 non-null   object\n",
      " 2   VAX_MANU         2787 non-null   object\n",
      " 3   VAX_LOT          2256 non-null   object\n",
      " 4   VAX_DOSE_SERIES  2787 non-null   object\n",
      " 5   VAX_ROUTE        1883 non-null   object\n",
      " 6   VAX_SITE         1081 non-null   object\n",
      " 7   VAX_NAME         2787 non-null   object\n",
      "dtypes: int64(1), object(7)\n",
      "memory usage: 174.3+ KB\n"
     ]
    }
   ],
   "source": [
    "vax.info()"
   ]
  },
  {
   "cell_type": "code",
   "execution_count": 19,
   "id": "57940c5e",
   "metadata": {},
   "outputs": [
    {
     "name": "stdout",
     "output_type": "stream",
     "text": [
      "float64\n"
     ]
    }
   ],
   "source": [
    "print(test['VAERS_ID'].dtype)\n"
   ]
  },
  {
   "cell_type": "code",
   "execution_count": null,
   "id": "7703bc15",
   "metadata": {},
   "outputs": [],
   "source": []
  }
 ],
 "metadata": {
  "kernelspec": {
   "display_name": "Python 3 (ipykernel)",
   "language": "python",
   "name": "python3"
  },
  "language_info": {
   "codemirror_mode": {
    "name": "ipython",
    "version": 3
   },
   "file_extension": ".py",
   "mimetype": "text/x-python",
   "name": "python",
   "nbconvert_exporter": "python",
   "pygments_lexer": "ipython3",
   "version": "3.11.0"
  }
 },
 "nbformat": 4,
 "nbformat_minor": 5
}
