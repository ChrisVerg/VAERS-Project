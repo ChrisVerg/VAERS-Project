{
 "cells": [
  {
   "cell_type": "markdown",
   "id": "28dd9d16",
   "metadata": {},
   "source": [
    "Questions to ask with this data when it is cleaned:\n",
    "\n",
    "What is the rate of increase in reported vaccine injuries from 1990 to present?\n",
    "\n",
    "What are the demographis of the injury reports by vaccine?\n",
    "\n",
    "Are there anyvaccines that have a consistently high number of cases in relation to the others?\n",
    "\n",
    "Is there any correlation between outliers and a particular vaccine?"
   ]
  },
  {
   "cell_type": "code",
   "execution_count": 1,
   "id": "54154981",
   "metadata": {},
   "outputs": [],
   "source": [
    "import pandas as pd"
   ]
  },
  {
   "cell_type": "markdown",
   "id": "dd9574c5",
   "metadata": {},
   "source": [
    "# Use Python to process VAERS data"
   ]
  },
  {
   "cell_type": "code",
   "execution_count": 101,
   "id": "a80a81a3",
   "metadata": {},
   "outputs": [],
   "source": [
    "vaersdata90 = pd.read_csv('C:/Users/chris/Desktop/WozU_Data_Science/VAERS-data/VAERS_Messy/1990VAERSDATA.csv')"
   ]
  },
  {
   "cell_type": "code",
   "execution_count": 102,
   "id": "68cbae8f",
   "metadata": {},
   "outputs": [],
   "source": [
    "vaersvax90 = pd.read_csv('C:/Users/chris/Desktop/WozU_Data_Science/VAERS-data/VAERS_Messy/1990VAERSVAX.csv')"
   ]
  },
  {
   "cell_type": "code",
   "execution_count": 103,
   "id": "afd5ae99",
   "metadata": {},
   "outputs": [
    {
     "data": {
      "text/html": [
       "<div>\n",
       "<style scoped>\n",
       "    .dataframe tbody tr th:only-of-type {\n",
       "        vertical-align: middle;\n",
       "    }\n",
       "\n",
       "    .dataframe tbody tr th {\n",
       "        vertical-align: top;\n",
       "    }\n",
       "\n",
       "    .dataframe thead th {\n",
       "        text-align: right;\n",
       "    }\n",
       "</style>\n",
       "<table border=\"1\" class=\"dataframe\">\n",
       "  <thead>\n",
       "    <tr style=\"text-align: right;\">\n",
       "      <th></th>\n",
       "      <th>VAERS_ID</th>\n",
       "      <th>RECVDATE</th>\n",
       "      <th>STATE</th>\n",
       "      <th>AGE_YRS</th>\n",
       "      <th>CAGE_YR</th>\n",
       "      <th>CAGE_MO</th>\n",
       "      <th>SEX</th>\n",
       "      <th>RPT_DATE</th>\n",
       "      <th>SYMPTOM_TEXT</th>\n",
       "      <th>DIED</th>\n",
       "      <th>DATEDIED</th>\n",
       "      <th>L_THREAT</th>\n",
       "      <th>ER_VISIT</th>\n",
       "      <th>HOSPITAL</th>\n",
       "      <th>HOSPDAYS</th>\n",
       "      <th>X_STAY</th>\n",
       "      <th>DISABLE</th>\n",
       "      <th>RECOVD</th>\n",
       "      <th>VAX_DATE</th>\n",
       "      <th>ONSET_DATE</th>\n",
       "      <th>NUMDAYS</th>\n",
       "      <th>LAB_DATA</th>\n",
       "      <th>V_ADMINBY</th>\n",
       "      <th>V_FUNDBY</th>\n",
       "      <th>OTHER_MEDS</th>\n",
       "      <th>CUR_ILL</th>\n",
       "      <th>HISTORY</th>\n",
       "      <th>PRIOR_VAX</th>\n",
       "      <th>SPLTTYPE</th>\n",
       "      <th>FORM_VERS</th>\n",
       "      <th>TODAYS_DATE</th>\n",
       "      <th>BIRTH_DEFECT</th>\n",
       "      <th>OFC_VISIT</th>\n",
       "      <th>ER_ED_VISIT</th>\n",
       "      <th>ALLERGIES</th>\n",
       "    </tr>\n",
       "  </thead>\n",
       "  <tbody>\n",
       "    <tr>\n",
       "      <th>0</th>\n",
       "      <td>25001</td>\n",
       "      <td>07/02/1990</td>\n",
       "      <td>WI</td>\n",
       "      <td>0.2</td>\n",
       "      <td>NaN</td>\n",
       "      <td>NaN</td>\n",
       "      <td>F</td>\n",
       "      <td>NaN</td>\n",
       "      <td>Loud intense cry with screaming for 1 1/2 hrs....</td>\n",
       "      <td>NaN</td>\n",
       "      <td>NaN</td>\n",
       "      <td>NaN</td>\n",
       "      <td>NaN</td>\n",
       "      <td>NaN</td>\n",
       "      <td>NaN</td>\n",
       "      <td>NaN</td>\n",
       "      <td>NaN</td>\n",
       "      <td>U</td>\n",
       "      <td>06/04/1990</td>\n",
       "      <td>06/04/1990</td>\n",
       "      <td>0.0</td>\n",
       "      <td>NaN</td>\n",
       "      <td>PVT</td>\n",
       "      <td>UNK</td>\n",
       "      <td>NaN</td>\n",
       "      <td>NaN</td>\n",
       "      <td>NaN</td>\n",
       "      <td>NaN</td>\n",
       "      <td>NaN</td>\n",
       "      <td>1</td>\n",
       "      <td>NaN</td>\n",
       "      <td>NaN</td>\n",
       "      <td>NaN</td>\n",
       "      <td>NaN</td>\n",
       "      <td>NaN</td>\n",
       "    </tr>\n",
       "    <tr>\n",
       "      <th>1</th>\n",
       "      <td>25003</td>\n",
       "      <td>07/02/1990</td>\n",
       "      <td>TX</td>\n",
       "      <td>0.8</td>\n",
       "      <td>NaN</td>\n",
       "      <td>NaN</td>\n",
       "      <td>M</td>\n",
       "      <td>NaN</td>\n",
       "      <td>Hypotonic, Hyporesponsive episode, Infant died...</td>\n",
       "      <td>Y</td>\n",
       "      <td>NaN</td>\n",
       "      <td>NaN</td>\n",
       "      <td>NaN</td>\n",
       "      <td>NaN</td>\n",
       "      <td>NaN</td>\n",
       "      <td>NaN</td>\n",
       "      <td>NaN</td>\n",
       "      <td>N</td>\n",
       "      <td>01/29/1990</td>\n",
       "      <td>02/04/1990</td>\n",
       "      <td>6.0</td>\n",
       "      <td>NaN</td>\n",
       "      <td>UNK</td>\n",
       "      <td>UNK</td>\n",
       "      <td>NaN</td>\n",
       "      <td>NaN</td>\n",
       "      <td>NaN</td>\n",
       "      <td>~ ()~~~In patient</td>\n",
       "      <td>NaN</td>\n",
       "      <td>1</td>\n",
       "      <td>NaN</td>\n",
       "      <td>NaN</td>\n",
       "      <td>NaN</td>\n",
       "      <td>NaN</td>\n",
       "      <td>NaN</td>\n",
       "    </tr>\n",
       "    <tr>\n",
       "      <th>2</th>\n",
       "      <td>25004</td>\n",
       "      <td>07/02/1990</td>\n",
       "      <td>NY</td>\n",
       "      <td>0.9</td>\n",
       "      <td>NaN</td>\n",
       "      <td>NaN</td>\n",
       "      <td>M</td>\n",
       "      <td>NaN</td>\n",
       "      <td>Pt developed chills for approx. 1 hr, felt ach...</td>\n",
       "      <td>NaN</td>\n",
       "      <td>NaN</td>\n",
       "      <td>NaN</td>\n",
       "      <td>NaN</td>\n",
       "      <td>NaN</td>\n",
       "      <td>NaN</td>\n",
       "      <td>NaN</td>\n",
       "      <td>NaN</td>\n",
       "      <td>U</td>\n",
       "      <td>11/13/1989</td>\n",
       "      <td>11/13/1989</td>\n",
       "      <td>0.0</td>\n",
       "      <td>NaN</td>\n",
       "      <td>UNK</td>\n",
       "      <td>UNK</td>\n",
       "      <td>NaN</td>\n",
       "      <td>NaN</td>\n",
       "      <td>NaN</td>\n",
       "      <td>~ ()~~~In patient</td>\n",
       "      <td>890269201</td>\n",
       "      <td>1</td>\n",
       "      <td>NaN</td>\n",
       "      <td>NaN</td>\n",
       "      <td>NaN</td>\n",
       "      <td>NaN</td>\n",
       "      <td>NaN</td>\n",
       "    </tr>\n",
       "    <tr>\n",
       "      <th>3</th>\n",
       "      <td>25005</td>\n",
       "      <td>07/02/1990</td>\n",
       "      <td>OK</td>\n",
       "      <td>NaN</td>\n",
       "      <td>NaN</td>\n",
       "      <td>NaN</td>\n",
       "      <td>U</td>\n",
       "      <td>NaN</td>\n",
       "      <td>7 patients within 2 weeks have reported joint ...</td>\n",
       "      <td>NaN</td>\n",
       "      <td>NaN</td>\n",
       "      <td>NaN</td>\n",
       "      <td>NaN</td>\n",
       "      <td>NaN</td>\n",
       "      <td>NaN</td>\n",
       "      <td>NaN</td>\n",
       "      <td>NaN</td>\n",
       "      <td>NaN</td>\n",
       "      <td>NaN</td>\n",
       "      <td>NaN</td>\n",
       "      <td>NaN</td>\n",
       "      <td>NaN</td>\n",
       "      <td>UNK</td>\n",
       "      <td>UNK</td>\n",
       "      <td>NaN</td>\n",
       "      <td>NaN</td>\n",
       "      <td>NaN</td>\n",
       "      <td>~ ()~~~In patient</td>\n",
       "      <td>890277901</td>\n",
       "      <td>1</td>\n",
       "      <td>NaN</td>\n",
       "      <td>NaN</td>\n",
       "      <td>NaN</td>\n",
       "      <td>NaN</td>\n",
       "      <td>NaN</td>\n",
       "    </tr>\n",
       "    <tr>\n",
       "      <th>4</th>\n",
       "      <td>25006</td>\n",
       "      <td>07/02/1990</td>\n",
       "      <td>OH</td>\n",
       "      <td>16.0</td>\n",
       "      <td>16.0</td>\n",
       "      <td>NaN</td>\n",
       "      <td>F</td>\n",
       "      <td>NaN</td>\n",
       "      <td>16 yr old female feeling faint &amp; then had seiz...</td>\n",
       "      <td>NaN</td>\n",
       "      <td>NaN</td>\n",
       "      <td>NaN</td>\n",
       "      <td>NaN</td>\n",
       "      <td>NaN</td>\n",
       "      <td>NaN</td>\n",
       "      <td>NaN</td>\n",
       "      <td>NaN</td>\n",
       "      <td>Y</td>\n",
       "      <td>11/17/1989</td>\n",
       "      <td>11/17/1989</td>\n",
       "      <td>0.0</td>\n",
       "      <td>NaN</td>\n",
       "      <td>UNK</td>\n",
       "      <td>UNK</td>\n",
       "      <td>NaN</td>\n",
       "      <td>NaN</td>\n",
       "      <td>no hx of local or systemic rxns</td>\n",
       "      <td>~ ()~~~In patient</td>\n",
       "      <td>890278001</td>\n",
       "      <td>1</td>\n",
       "      <td>NaN</td>\n",
       "      <td>NaN</td>\n",
       "      <td>NaN</td>\n",
       "      <td>NaN</td>\n",
       "      <td>NaN</td>\n",
       "    </tr>\n",
       "    <tr>\n",
       "      <th>...</th>\n",
       "      <td>...</td>\n",
       "      <td>...</td>\n",
       "      <td>...</td>\n",
       "      <td>...</td>\n",
       "      <td>...</td>\n",
       "      <td>...</td>\n",
       "      <td>...</td>\n",
       "      <td>...</td>\n",
       "      <td>...</td>\n",
       "      <td>...</td>\n",
       "      <td>...</td>\n",
       "      <td>...</td>\n",
       "      <td>...</td>\n",
       "      <td>...</td>\n",
       "      <td>...</td>\n",
       "      <td>...</td>\n",
       "      <td>...</td>\n",
       "      <td>...</td>\n",
       "      <td>...</td>\n",
       "      <td>...</td>\n",
       "      <td>...</td>\n",
       "      <td>...</td>\n",
       "      <td>...</td>\n",
       "      <td>...</td>\n",
       "      <td>...</td>\n",
       "      <td>...</td>\n",
       "      <td>...</td>\n",
       "      <td>...</td>\n",
       "      <td>...</td>\n",
       "      <td>...</td>\n",
       "      <td>...</td>\n",
       "      <td>...</td>\n",
       "      <td>...</td>\n",
       "      <td>...</td>\n",
       "      <td>...</td>\n",
       "    </tr>\n",
       "    <tr>\n",
       "      <th>2097</th>\n",
       "      <td>27269</td>\n",
       "      <td>12/31/1990</td>\n",
       "      <td>OK</td>\n",
       "      <td>1.8</td>\n",
       "      <td>NaN</td>\n",
       "      <td>NaN</td>\n",
       "      <td>M</td>\n",
       "      <td>NaN</td>\n",
       "      <td>3 days /p vax given bright red hard lumps invo...</td>\n",
       "      <td>NaN</td>\n",
       "      <td>NaN</td>\n",
       "      <td>NaN</td>\n",
       "      <td>NaN</td>\n",
       "      <td>NaN</td>\n",
       "      <td>NaN</td>\n",
       "      <td>NaN</td>\n",
       "      <td>NaN</td>\n",
       "      <td>NaN</td>\n",
       "      <td>03/02/1990</td>\n",
       "      <td>03/05/1990</td>\n",
       "      <td>3.0</td>\n",
       "      <td>NaN</td>\n",
       "      <td>UNK</td>\n",
       "      <td>UNK</td>\n",
       "      <td>NaN</td>\n",
       "      <td>NaN</td>\n",
       "      <td>NaN</td>\n",
       "      <td>~ ()~~~In patient</td>\n",
       "      <td>900120701</td>\n",
       "      <td>1</td>\n",
       "      <td>NaN</td>\n",
       "      <td>NaN</td>\n",
       "      <td>NaN</td>\n",
       "      <td>NaN</td>\n",
       "      <td>NaN</td>\n",
       "    </tr>\n",
       "    <tr>\n",
       "      <th>2098</th>\n",
       "      <td>27270</td>\n",
       "      <td>12/31/1990</td>\n",
       "      <td>NY</td>\n",
       "      <td>5.0</td>\n",
       "      <td>NaN</td>\n",
       "      <td>NaN</td>\n",
       "      <td>M</td>\n",
       "      <td>NaN</td>\n",
       "      <td>/P vax pt has lipoatrophy of the buttocks.  Hi...</td>\n",
       "      <td>NaN</td>\n",
       "      <td>NaN</td>\n",
       "      <td>NaN</td>\n",
       "      <td>NaN</td>\n",
       "      <td>NaN</td>\n",
       "      <td>NaN</td>\n",
       "      <td>NaN</td>\n",
       "      <td>NaN</td>\n",
       "      <td>NaN</td>\n",
       "      <td>01/01/1990</td>\n",
       "      <td>03/01/1990</td>\n",
       "      <td>59.0</td>\n",
       "      <td>NaN</td>\n",
       "      <td>UNK</td>\n",
       "      <td>UNK</td>\n",
       "      <td>NaN</td>\n",
       "      <td>NaN</td>\n",
       "      <td>NaN</td>\n",
       "      <td>~ ()~~~In patient</td>\n",
       "      <td>900120601</td>\n",
       "      <td>1</td>\n",
       "      <td>NaN</td>\n",
       "      <td>NaN</td>\n",
       "      <td>NaN</td>\n",
       "      <td>NaN</td>\n",
       "      <td>NaN</td>\n",
       "    </tr>\n",
       "    <tr>\n",
       "      <th>2099</th>\n",
       "      <td>27271</td>\n",
       "      <td>12/31/1990</td>\n",
       "      <td>IL</td>\n",
       "      <td>0.2</td>\n",
       "      <td>NaN</td>\n",
       "      <td>NaN</td>\n",
       "      <td>U</td>\n",
       "      <td>NaN</td>\n",
       "      <td>2 wks following DTP/OPV vax, child developed h...</td>\n",
       "      <td>NaN</td>\n",
       "      <td>NaN</td>\n",
       "      <td>NaN</td>\n",
       "      <td>NaN</td>\n",
       "      <td>NaN</td>\n",
       "      <td>NaN</td>\n",
       "      <td>NaN</td>\n",
       "      <td>NaN</td>\n",
       "      <td>NaN</td>\n",
       "      <td>NaN</td>\n",
       "      <td>NaN</td>\n",
       "      <td>NaN</td>\n",
       "      <td>NaN</td>\n",
       "      <td>UNK</td>\n",
       "      <td>UNK</td>\n",
       "      <td>NaN</td>\n",
       "      <td>NaN</td>\n",
       "      <td>NaN</td>\n",
       "      <td>~ ()~~~In patient</td>\n",
       "      <td>900150401</td>\n",
       "      <td>1</td>\n",
       "      <td>NaN</td>\n",
       "      <td>NaN</td>\n",
       "      <td>NaN</td>\n",
       "      <td>NaN</td>\n",
       "      <td>NaN</td>\n",
       "    </tr>\n",
       "    <tr>\n",
       "      <th>2100</th>\n",
       "      <td>27272</td>\n",
       "      <td>12/31/1990</td>\n",
       "      <td>TX</td>\n",
       "      <td>1.5</td>\n",
       "      <td>NaN</td>\n",
       "      <td>NaN</td>\n",
       "      <td>F</td>\n",
       "      <td>NaN</td>\n",
       "      <td>Received OPV/DTP vax &amp; next day developed hive...</td>\n",
       "      <td>NaN</td>\n",
       "      <td>NaN</td>\n",
       "      <td>NaN</td>\n",
       "      <td>NaN</td>\n",
       "      <td>NaN</td>\n",
       "      <td>NaN</td>\n",
       "      <td>NaN</td>\n",
       "      <td>NaN</td>\n",
       "      <td>NaN</td>\n",
       "      <td>08/20/1990</td>\n",
       "      <td>08/21/1990</td>\n",
       "      <td>1.0</td>\n",
       "      <td>NaN</td>\n",
       "      <td>UNK</td>\n",
       "      <td>UNK</td>\n",
       "      <td>NaN</td>\n",
       "      <td>NaN</td>\n",
       "      <td>NaN</td>\n",
       "      <td>~ ()~~~In patient</td>\n",
       "      <td>900143101</td>\n",
       "      <td>1</td>\n",
       "      <td>NaN</td>\n",
       "      <td>NaN</td>\n",
       "      <td>NaN</td>\n",
       "      <td>NaN</td>\n",
       "      <td>NaN</td>\n",
       "    </tr>\n",
       "    <tr>\n",
       "      <th>2101</th>\n",
       "      <td>27273</td>\n",
       "      <td>12/31/1990</td>\n",
       "      <td>CA</td>\n",
       "      <td>0.3</td>\n",
       "      <td>NaN</td>\n",
       "      <td>NaN</td>\n",
       "      <td>M</td>\n",
       "      <td>NaN</td>\n",
       "      <td>At 2 mo. old infant received DTP, 6 hrs later ...</td>\n",
       "      <td>NaN</td>\n",
       "      <td>NaN</td>\n",
       "      <td>NaN</td>\n",
       "      <td>NaN</td>\n",
       "      <td>NaN</td>\n",
       "      <td>NaN</td>\n",
       "      <td>NaN</td>\n",
       "      <td>NaN</td>\n",
       "      <td>NaN</td>\n",
       "      <td>NaN</td>\n",
       "      <td>07/16/1990</td>\n",
       "      <td>NaN</td>\n",
       "      <td>EEG was done on 15May90 for rule out seizure w...</td>\n",
       "      <td>UNK</td>\n",
       "      <td>UNK</td>\n",
       "      <td>NaN</td>\n",
       "      <td>NaN</td>\n",
       "      <td>NaN</td>\n",
       "      <td>~ ()~~~In patient</td>\n",
       "      <td>900141201</td>\n",
       "      <td>1</td>\n",
       "      <td>NaN</td>\n",
       "      <td>NaN</td>\n",
       "      <td>NaN</td>\n",
       "      <td>NaN</td>\n",
       "      <td>NaN</td>\n",
       "    </tr>\n",
       "  </tbody>\n",
       "</table>\n",
       "<p>2102 rows × 35 columns</p>\n",
       "</div>"
      ],
      "text/plain": [
       "      VAERS_ID    RECVDATE STATE  AGE_YRS  CAGE_YR  CAGE_MO SEX RPT_DATE  \\\n",
       "0        25001  07/02/1990    WI      0.2      NaN      NaN   F      NaN   \n",
       "1        25003  07/02/1990    TX      0.8      NaN      NaN   M      NaN   \n",
       "2        25004  07/02/1990    NY      0.9      NaN      NaN   M      NaN   \n",
       "3        25005  07/02/1990    OK      NaN      NaN      NaN   U      NaN   \n",
       "4        25006  07/02/1990    OH     16.0     16.0      NaN   F      NaN   \n",
       "...        ...         ...   ...      ...      ...      ...  ..      ...   \n",
       "2097     27269  12/31/1990    OK      1.8      NaN      NaN   M      NaN   \n",
       "2098     27270  12/31/1990    NY      5.0      NaN      NaN   M      NaN   \n",
       "2099     27271  12/31/1990    IL      0.2      NaN      NaN   U      NaN   \n",
       "2100     27272  12/31/1990    TX      1.5      NaN      NaN   F      NaN   \n",
       "2101     27273  12/31/1990    CA      0.3      NaN      NaN   M      NaN   \n",
       "\n",
       "                                           SYMPTOM_TEXT DIED DATEDIED  \\\n",
       "0     Loud intense cry with screaming for 1 1/2 hrs....  NaN      NaN   \n",
       "1     Hypotonic, Hyporesponsive episode, Infant died...    Y      NaN   \n",
       "2     Pt developed chills for approx. 1 hr, felt ach...  NaN      NaN   \n",
       "3     7 patients within 2 weeks have reported joint ...  NaN      NaN   \n",
       "4     16 yr old female feeling faint & then had seiz...  NaN      NaN   \n",
       "...                                                 ...  ...      ...   \n",
       "2097  3 days /p vax given bright red hard lumps invo...  NaN      NaN   \n",
       "2098  /P vax pt has lipoatrophy of the buttocks.  Hi...  NaN      NaN   \n",
       "2099  2 wks following DTP/OPV vax, child developed h...  NaN      NaN   \n",
       "2100  Received OPV/DTP vax & next day developed hive...  NaN      NaN   \n",
       "2101  At 2 mo. old infant received DTP, 6 hrs later ...  NaN      NaN   \n",
       "\n",
       "     L_THREAT ER_VISIT HOSPITAL  HOSPDAYS X_STAY DISABLE RECOVD    VAX_DATE  \\\n",
       "0         NaN      NaN      NaN       NaN    NaN     NaN      U  06/04/1990   \n",
       "1         NaN      NaN      NaN       NaN    NaN     NaN      N  01/29/1990   \n",
       "2         NaN      NaN      NaN       NaN    NaN     NaN      U  11/13/1989   \n",
       "3         NaN      NaN      NaN       NaN    NaN     NaN    NaN         NaN   \n",
       "4         NaN      NaN      NaN       NaN    NaN     NaN      Y  11/17/1989   \n",
       "...       ...      ...      ...       ...    ...     ...    ...         ...   \n",
       "2097      NaN      NaN      NaN       NaN    NaN     NaN    NaN  03/02/1990   \n",
       "2098      NaN      NaN      NaN       NaN    NaN     NaN    NaN  01/01/1990   \n",
       "2099      NaN      NaN      NaN       NaN    NaN     NaN    NaN         NaN   \n",
       "2100      NaN      NaN      NaN       NaN    NaN     NaN    NaN  08/20/1990   \n",
       "2101      NaN      NaN      NaN       NaN    NaN     NaN    NaN         NaN   \n",
       "\n",
       "      ONSET_DATE  NUMDAYS                                           LAB_DATA  \\\n",
       "0     06/04/1990      0.0                                                NaN   \n",
       "1     02/04/1990      6.0                                                NaN   \n",
       "2     11/13/1989      0.0                                                NaN   \n",
       "3            NaN      NaN                                                NaN   \n",
       "4     11/17/1989      0.0                                                NaN   \n",
       "...          ...      ...                                                ...   \n",
       "2097  03/05/1990      3.0                                                NaN   \n",
       "2098  03/01/1990     59.0                                                NaN   \n",
       "2099         NaN      NaN                                                NaN   \n",
       "2100  08/21/1990      1.0                                                NaN   \n",
       "2101  07/16/1990      NaN  EEG was done on 15May90 for rule out seizure w...   \n",
       "\n",
       "     V_ADMINBY V_FUNDBY OTHER_MEDS CUR_ILL                          HISTORY  \\\n",
       "0          PVT      UNK        NaN     NaN                              NaN   \n",
       "1          UNK      UNK        NaN     NaN                              NaN   \n",
       "2          UNK      UNK        NaN     NaN                              NaN   \n",
       "3          UNK      UNK        NaN     NaN                              NaN   \n",
       "4          UNK      UNK        NaN     NaN  no hx of local or systemic rxns   \n",
       "...        ...      ...        ...     ...                              ...   \n",
       "2097       UNK      UNK        NaN     NaN                              NaN   \n",
       "2098       UNK      UNK        NaN     NaN                              NaN   \n",
       "2099       UNK      UNK        NaN     NaN                              NaN   \n",
       "2100       UNK      UNK        NaN     NaN                              NaN   \n",
       "2101       UNK      UNK        NaN     NaN                              NaN   \n",
       "\n",
       "              PRIOR_VAX   SPLTTYPE  FORM_VERS  TODAYS_DATE  BIRTH_DEFECT  \\\n",
       "0                   NaN        NaN          1          NaN           NaN   \n",
       "1     ~ ()~~~In patient        NaN          1          NaN           NaN   \n",
       "2     ~ ()~~~In patient  890269201          1          NaN           NaN   \n",
       "3     ~ ()~~~In patient  890277901          1          NaN           NaN   \n",
       "4     ~ ()~~~In patient  890278001          1          NaN           NaN   \n",
       "...                 ...        ...        ...          ...           ...   \n",
       "2097  ~ ()~~~In patient  900120701          1          NaN           NaN   \n",
       "2098  ~ ()~~~In patient  900120601          1          NaN           NaN   \n",
       "2099  ~ ()~~~In patient  900150401          1          NaN           NaN   \n",
       "2100  ~ ()~~~In patient  900143101          1          NaN           NaN   \n",
       "2101  ~ ()~~~In patient  900141201          1          NaN           NaN   \n",
       "\n",
       "      OFC_VISIT  ER_ED_VISIT  ALLERGIES  \n",
       "0           NaN          NaN        NaN  \n",
       "1           NaN          NaN        NaN  \n",
       "2           NaN          NaN        NaN  \n",
       "3           NaN          NaN        NaN  \n",
       "4           NaN          NaN        NaN  \n",
       "...         ...          ...        ...  \n",
       "2097        NaN          NaN        NaN  \n",
       "2098        NaN          NaN        NaN  \n",
       "2099        NaN          NaN        NaN  \n",
       "2100        NaN          NaN        NaN  \n",
       "2101        NaN          NaN        NaN  \n",
       "\n",
       "[2102 rows x 35 columns]"
      ]
     },
     "metadata": {},
     "output_type": "display_data"
    }
   ],
   "source": [
    "pd.options.display.max_columns = None\n",
    "display(vaersdata90)"
   ]
  },
  {
   "cell_type": "code",
   "execution_count": 104,
   "id": "30ab8ad3",
   "metadata": {},
   "outputs": [],
   "source": [
    "vax90 = vaersvax90[['VAERS_ID', 'VAX_TYPE', 'VAX_MANU', 'VAX_LOT', 'VAX_NAME']]"
   ]
  },
  {
   "cell_type": "code",
   "execution_count": 105,
   "id": "9417c3f3",
   "metadata": {},
   "outputs": [],
   "source": [
    "data90 = vaersdata90[['VAERS_ID', 'AGE_YRS', 'STATE', 'SYMPTOM_TEXT', 'DIED', 'ER_VISIT']]"
   ]
  },
  {
   "cell_type": "code",
   "execution_count": 106,
   "id": "6a911692",
   "metadata": {},
   "outputs": [],
   "source": [
    "vaers1990 = pd.merge(vax90, data90, on= 'VAERS_ID')"
   ]
  },
  {
   "cell_type": "code",
   "execution_count": 107,
   "id": "95348213",
   "metadata": {},
   "outputs": [],
   "source": [
    "vaers1990['Year'] = 1990"
   ]
  },
  {
   "cell_type": "code",
   "execution_count": 108,
   "id": "4562959e",
   "metadata": {},
   "outputs": [],
   "source": [
    "vaers1990.to_csv('C:/Users/chris/Desktop/WozU_Data_Science/VAERS-data/VAERS_Clean/vaers1990.csv')"
   ]
  },
  {
   "cell_type": "markdown",
   "id": "b7f3cb38",
   "metadata": {},
   "source": [
    "# Based on the data, I selected the columns that should be useful in answer the question posed.  "
   ]
  },
  {
   "cell_type": "markdown",
   "id": "1ad1eadd",
   "metadata": {},
   "source": [
    "# 1991:\n"
   ]
  },
  {
   "cell_type": "code",
   "execution_count": 109,
   "id": "0b482714",
   "metadata": {},
   "outputs": [],
   "source": [
    "vaersdata91 = pd.read_csv('C:/Users/chris/Desktop/WozU_Data_Science/VAERS-data/VAERS_Messy/1991VAERSDATA.csv')"
   ]
  },
  {
   "cell_type": "code",
   "execution_count": 110,
   "id": "408e9053",
   "metadata": {},
   "outputs": [],
   "source": [
    "vaersvax91 = pd.read_csv('C:/Users/chris/Desktop/WozU_Data_Science/VAERS-data/VAERS_Messy/1991VAERSVAX.csv')"
   ]
  },
  {
   "cell_type": "code",
   "execution_count": 111,
   "id": "2606a0d6",
   "metadata": {},
   "outputs": [],
   "source": [
    "vax91 = vaersvax91[['VAERS_ID', 'VAX_TYPE', 'VAX_MANU', 'VAX_LOT', 'VAX_NAME']]"
   ]
  },
  {
   "cell_type": "code",
   "execution_count": 112,
   "id": "7970c507",
   "metadata": {},
   "outputs": [],
   "source": [
    "data91 = vaersdata91[['VAERS_ID', 'AGE_YRS', 'STATE', 'SYMPTOM_TEXT', 'DIED', 'ER_VISIT']]"
   ]
  },
  {
   "cell_type": "code",
   "execution_count": 113,
   "id": "75764fae",
   "metadata": {},
   "outputs": [],
   "source": [
    "vaers1991 = pd.merge(vax91, data91, on= 'VAERS_ID')"
   ]
  },
  {
   "cell_type": "code",
   "execution_count": 114,
   "id": "cfab38b7",
   "metadata": {},
   "outputs": [],
   "source": [
    "vaers1991['Year'] = 1991"
   ]
  },
  {
   "cell_type": "code",
   "execution_count": 115,
   "id": "623b1392",
   "metadata": {},
   "outputs": [],
   "source": [
    "vaers1991.to_csv('C:/Users/chris/Desktop/WozU_Data_Science/VAERS-data/VAERS_Clean/vaers1991.csv')"
   ]
  },
  {
   "cell_type": "markdown",
   "id": "f6569c5c",
   "metadata": {},
   "source": [
    "# Combine the cleaned 1990 and 1991 data"
   ]
  },
  {
   "cell_type": "code",
   "execution_count": 116,
   "id": "2d8dfc1a",
   "metadata": {},
   "outputs": [],
   "source": [
    "vaers90_91 = pd.concat([vaers1990, vaers1991])"
   ]
  },
  {
   "cell_type": "markdown",
   "id": "0a6239cb",
   "metadata": {},
   "source": [
    "# 1992"
   ]
  },
  {
   "cell_type": "code",
   "execution_count": 127,
   "id": "26326a0f",
   "metadata": {},
   "outputs": [],
   "source": [
    "vaersdata92 = pd.read_csv('C:/Users/chris/Desktop/WozU_Data_Science/VAERS-data/VAERS_Messy/1992VAERSDATA.csv')"
   ]
  },
  {
   "cell_type": "code",
   "execution_count": 128,
   "id": "29c41e85",
   "metadata": {},
   "outputs": [],
   "source": [
    "vaersvax92 = pd.read_csv('C:/Users/chris/Desktop/WozU_Data_Science/VAERS-data/VAERS_Messy/1992VAERSVAX.csv')"
   ]
  },
  {
   "cell_type": "code",
   "execution_count": 129,
   "id": "27c0cccd",
   "metadata": {},
   "outputs": [],
   "source": [
    "vax92 = vaersvax92[['VAERS_ID', 'VAX_TYPE', 'VAX_MANU', 'VAX_LOT', 'VAX_NAME']]"
   ]
  },
  {
   "cell_type": "code",
   "execution_count": 130,
   "id": "99191fff",
   "metadata": {},
   "outputs": [],
   "source": [
    "data92 = vaersdata92[['VAERS_ID', 'AGE_YRS', 'STATE', 'SYMPTOM_TEXT', 'DIED', 'ER_VISIT']]"
   ]
  },
  {
   "cell_type": "code",
   "execution_count": 131,
   "id": "67a3b274",
   "metadata": {},
   "outputs": [],
   "source": [
    "vaers1992 = pd.merge(vax92, data92, on= 'VAERS_ID')"
   ]
  },
  {
   "cell_type": "code",
   "execution_count": 132,
   "id": "2db4c808",
   "metadata": {},
   "outputs": [],
   "source": [
    "vaers1992['Year'] = 1992"
   ]
  },
  {
   "cell_type": "code",
   "execution_count": 133,
   "id": "237f0efa",
   "metadata": {},
   "outputs": [],
   "source": [
    "vaers1992.to_csv('C:/Users/chris/Desktop/WozU_Data_Science/VAERS-data/VAERS_Clean/vaers1992.csv')"
   ]
  },
  {
   "cell_type": "markdown",
   "id": "af73f21e",
   "metadata": {},
   "source": [
    "# Combine the cleaned data"
   ]
  },
  {
   "cell_type": "code",
   "execution_count": 134,
   "id": "3ea693e7",
   "metadata": {},
   "outputs": [],
   "source": [
    "vaers90_92 = pd.concat([vaers90_91, vaers1992])"
   ]
  },
  {
   "cell_type": "markdown",
   "id": "0ded3e22",
   "metadata": {},
   "source": [
    "# 1993"
   ]
  },
  {
   "cell_type": "code",
   "execution_count": 135,
   "id": "9ff6761c",
   "metadata": {},
   "outputs": [],
   "source": [
    "vaersdata93 = pd.read_csv('C:/Users/chris/Desktop/WozU_Data_Science/VAERS-data/VAERS_Messy/1993VAERSDATA.csv')"
   ]
  },
  {
   "cell_type": "code",
   "execution_count": 136,
   "id": "84ae0690",
   "metadata": {},
   "outputs": [],
   "source": [
    "vaersvax93 = pd.read_csv('C:/Users/chris/Desktop/WozU_Data_Science/VAERS-data/VAERS_Messy/1993VAERSVAX.csv')"
   ]
  },
  {
   "cell_type": "code",
   "execution_count": 137,
   "id": "119fc841",
   "metadata": {},
   "outputs": [],
   "source": [
    "vax93 = vaersvax93[['VAERS_ID', 'VAX_TYPE', 'VAX_MANU', 'VAX_LOT', 'VAX_NAME']]"
   ]
  },
  {
   "cell_type": "code",
   "execution_count": 138,
   "id": "7d69ab0e",
   "metadata": {},
   "outputs": [],
   "source": [
    "data93 = vaersdata93[['VAERS_ID', 'AGE_YRS', 'STATE', 'SYMPTOM_TEXT', 'DIED', 'ER_VISIT']]"
   ]
  },
  {
   "cell_type": "code",
   "execution_count": 139,
   "id": "5b10c743",
   "metadata": {},
   "outputs": [],
   "source": [
    "vaers1993 = pd.merge(vax93, data93, on= 'VAERS_ID')"
   ]
  },
  {
   "cell_type": "code",
   "execution_count": 140,
   "id": "ea28f1ed",
   "metadata": {},
   "outputs": [],
   "source": [
    "vaers1993['Year'] = 1993"
   ]
  },
  {
   "cell_type": "code",
   "execution_count": 141,
   "id": "78887e35",
   "metadata": {},
   "outputs": [],
   "source": [
    "vaers1993.to_csv('C:/Users/chris/Desktop/WozU_Data_Science/VAERS-data/VAERS_Clean/vaers1993.csv')"
   ]
  },
  {
   "cell_type": "markdown",
   "id": "aba813c0",
   "metadata": {},
   "source": [
    "# Combine the cleaned data"
   ]
  },
  {
   "cell_type": "code",
   "execution_count": 147,
   "id": "f664c7d7",
   "metadata": {},
   "outputs": [],
   "source": [
    "vaers90_93 = pd.concat([vaers90_92, vaers1993])"
   ]
  },
  {
   "cell_type": "markdown",
   "id": "9296b17a",
   "metadata": {},
   "source": [
    "## Show breakdown of reporting instances by year"
   ]
  },
  {
   "cell_type": "code",
   "execution_count": 159,
   "id": "56eaa526",
   "metadata": {},
   "outputs": [],
   "source": [
    "test = vaers90_93.Year.value_counts()"
   ]
  },
  {
   "cell_type": "code",
   "execution_count": 160,
   "id": "0566d5c1",
   "metadata": {},
   "outputs": [
    {
     "data": {
      "text/plain": [
       "1992    18392\n",
       "1993    17655\n",
       "1991    16657\n",
       "1990     2787\n",
       "Name: Year, dtype: int64"
      ]
     },
     "execution_count": 160,
     "metadata": {},
     "output_type": "execute_result"
    }
   ],
   "source": [
    "test"
   ]
  },
  {
   "cell_type": "markdown",
   "id": "fc704cac",
   "metadata": {},
   "source": [
    "# 1994 "
   ]
  },
  {
   "cell_type": "code",
   "execution_count": 135,
   "id": "6c3855aa",
   "metadata": {},
   "outputs": [],
   "source": [
    "vaersdata93 = pd.read_csv('C:/Users/chris/Desktop/WozU_Data_Science/VAERS-data/VAERS_Messy/1993VAERSDATA.csv')"
   ]
  },
  {
   "cell_type": "code",
   "execution_count": 136,
   "id": "a4bab318",
   "metadata": {},
   "outputs": [],
   "source": [
    "vaersvax93 = pd.read_csv('C:/Users/chris/Desktop/WozU_Data_Science/VAERS-data/VAERS_Messy/1993VAERSVAX.csv')"
   ]
  },
  {
   "cell_type": "code",
   "execution_count": 137,
   "id": "47260d5a",
   "metadata": {},
   "outputs": [],
   "source": [
    "vax93 = vaersvax93[['VAERS_ID', 'VAX_TYPE', 'VAX_MANU', 'VAX_LOT', 'VAX_NAME']]"
   ]
  },
  {
   "cell_type": "code",
   "execution_count": 138,
   "id": "af3e151b",
   "metadata": {},
   "outputs": [],
   "source": [
    "data93 = vaersdata93[['VAERS_ID', 'AGE_YRS', 'STATE', 'SYMPTOM_TEXT', 'DIED', 'ER_VISIT']]"
   ]
  },
  {
   "cell_type": "code",
   "execution_count": 139,
   "id": "2a2c9c47",
   "metadata": {},
   "outputs": [],
   "source": [
    "vaers1993 = pd.merge(vax93, data93, on= 'VAERS_ID')"
   ]
  },
  {
   "cell_type": "code",
   "execution_count": 140,
   "id": "f9111ade",
   "metadata": {},
   "outputs": [],
   "source": [
    "vaers1993['Year'] = 1993"
   ]
  },
  {
   "cell_type": "code",
   "execution_count": 141,
   "id": "70634945",
   "metadata": {},
   "outputs": [],
   "source": [
    "vaers1993.to_csv('C:/Users/chris/Desktop/WozU_Data_Science/VAERS-data/VAERS_Clean/vaers1993.csv')"
   ]
  },
  {
   "cell_type": "markdown",
   "id": "67232069",
   "metadata": {},
   "source": [
    "# Combine the cleaned data"
   ]
  },
  {
   "cell_type": "code",
   "execution_count": 147,
   "id": "b358acbb",
   "metadata": {},
   "outputs": [],
   "source": [
    "vaers90_93 = pd.concat([vaers90_92, vaers1993])"
   ]
  },
  {
   "cell_type": "code",
   "execution_count": null,
   "id": "f44f4195",
   "metadata": {},
   "outputs": [],
   "source": []
  }
 ],
 "metadata": {
  "kernelspec": {
   "display_name": "Python 3 (ipykernel)",
   "language": "python",
   "name": "python3"
  },
  "language_info": {
   "codemirror_mode": {
    "name": "ipython",
    "version": 3
   },
   "file_extension": ".py",
   "mimetype": "text/x-python",
   "name": "python",
   "nbconvert_exporter": "python",
   "pygments_lexer": "ipython3",
   "version": "3.11.0"
  }
 },
 "nbformat": 4,
 "nbformat_minor": 5
}
