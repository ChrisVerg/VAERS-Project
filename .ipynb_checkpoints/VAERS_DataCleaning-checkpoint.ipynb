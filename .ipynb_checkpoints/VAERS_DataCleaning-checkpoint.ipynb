{
 "cells": [
  {
   "cell_type": "markdown",
   "id": "9f28c6af",
   "metadata": {},
   "source": [
    "# This File of code outlines the framework for the following project.\n",
    "### This shows a block of code for each year that cleans and merges all the data into a single file to be analyzed. This code will serve as an outline to automate this cleaning and merging with a for loop. \n",
    "\n",
    "The Data Wrangling of VAERS vaccine reports from 1990 to 2022. Vaccine injuries are reported to the CDC and the FDA via VAERS. VAERS is an early warning system to detect potential safety problems with vaccine.  \n",
    "\n",
    "The data used can be found at https://vaers.hhs.gov/data.html\n",
    "\n",
    "The data consists of 3 files for each year since 1990: YEARVAERSVAX, YEARVAERSDATA and YEARVAERSSYMPTOMS. For the purpose of this analysis I did not find the data in VAERSSYMPTOMS to be quantifiable so that data was dropped. "
   ]
  },
  {
   "cell_type": "code",
   "execution_count": 1,
   "id": "e46b1055",
   "metadata": {},
   "outputs": [],
   "source": [
    "import pandas as pd"
   ]
  },
  {
   "cell_type": "markdown",
   "id": "1e0e173a",
   "metadata": {},
   "source": [
    "First, I explored the data and identified how to reduce the data to a useful form.\n",
    "\n",
    "Continued below are repeating blocks of code titled by year. \n",
    "Each block imports two data sets of that year, cleans, merges and concatentates into the previous year data set. \n",
    "\n",
    "The ending dataframe is vaers90_22 found in line 241. "
   ]
  },
  {
   "cell_type": "code",
   "execution_count": 12,
   "id": "66cc32e2",
   "metadata": {},
   "outputs": [],
   "source": [
    "vaersdata90 = pd.read_csv('C:/Users/chris/Desktop/WozU_Data_Science/VAERS-data/VAERS_Messy/1990VAERSDATA.csv')"
   ]
  },
  {
   "cell_type": "code",
   "execution_count": 13,
   "id": "555df9d6",
   "metadata": {},
   "outputs": [],
   "source": [
    "vaersvax90 = pd.read_csv('C:/Users/chris/Desktop/WozU_Data_Science/VAERS-data/VAERS_Messy/1990VAERSVAX.csv')"
   ]
  },
  {
   "cell_type": "code",
   "execution_count": 14,
   "id": "bd979b31",
   "metadata": {
    "scrolled": true
   },
   "outputs": [
    {
     "data": {
      "text/html": [
       "<div>\n",
       "<style scoped>\n",
       "    .dataframe tbody tr th:only-of-type {\n",
       "        vertical-align: middle;\n",
       "    }\n",
       "\n",
       "    .dataframe tbody tr th {\n",
       "        vertical-align: top;\n",
       "    }\n",
       "\n",
       "    .dataframe thead th {\n",
       "        text-align: right;\n",
       "    }\n",
       "</style>\n",
       "<table border=\"1\" class=\"dataframe\">\n",
       "  <thead>\n",
       "    <tr style=\"text-align: right;\">\n",
       "      <th></th>\n",
       "      <th>VAERS_ID</th>\n",
       "      <th>RECVDATE</th>\n",
       "      <th>STATE</th>\n",
       "      <th>AGE_YRS</th>\n",
       "      <th>CAGE_YR</th>\n",
       "      <th>CAGE_MO</th>\n",
       "      <th>SEX</th>\n",
       "      <th>RPT_DATE</th>\n",
       "      <th>SYMPTOM_TEXT</th>\n",
       "      <th>DIED</th>\n",
       "      <th>DATEDIED</th>\n",
       "      <th>L_THREAT</th>\n",
       "      <th>ER_VISIT</th>\n",
       "      <th>HOSPITAL</th>\n",
       "      <th>HOSPDAYS</th>\n",
       "      <th>X_STAY</th>\n",
       "      <th>DISABLE</th>\n",
       "      <th>RECOVD</th>\n",
       "      <th>VAX_DATE</th>\n",
       "      <th>ONSET_DATE</th>\n",
       "      <th>NUMDAYS</th>\n",
       "      <th>LAB_DATA</th>\n",
       "      <th>V_ADMINBY</th>\n",
       "      <th>V_FUNDBY</th>\n",
       "      <th>OTHER_MEDS</th>\n",
       "      <th>CUR_ILL</th>\n",
       "      <th>HISTORY</th>\n",
       "      <th>PRIOR_VAX</th>\n",
       "      <th>SPLTTYPE</th>\n",
       "      <th>FORM_VERS</th>\n",
       "      <th>TODAYS_DATE</th>\n",
       "      <th>BIRTH_DEFECT</th>\n",
       "      <th>OFC_VISIT</th>\n",
       "      <th>ER_ED_VISIT</th>\n",
       "      <th>ALLERGIES</th>\n",
       "    </tr>\n",
       "  </thead>\n",
       "  <tbody>\n",
       "    <tr>\n",
       "      <th>0</th>\n",
       "      <td>25001</td>\n",
       "      <td>07/02/1990</td>\n",
       "      <td>WI</td>\n",
       "      <td>0.2</td>\n",
       "      <td>NaN</td>\n",
       "      <td>NaN</td>\n",
       "      <td>F</td>\n",
       "      <td>NaN</td>\n",
       "      <td>Loud intense cry with screaming for 1 1/2 hrs....</td>\n",
       "      <td>NaN</td>\n",
       "      <td>NaN</td>\n",
       "      <td>NaN</td>\n",
       "      <td>NaN</td>\n",
       "      <td>NaN</td>\n",
       "      <td>NaN</td>\n",
       "      <td>NaN</td>\n",
       "      <td>NaN</td>\n",
       "      <td>U</td>\n",
       "      <td>06/04/1990</td>\n",
       "      <td>06/04/1990</td>\n",
       "      <td>0.0</td>\n",
       "      <td>NaN</td>\n",
       "      <td>PVT</td>\n",
       "      <td>UNK</td>\n",
       "      <td>NaN</td>\n",
       "      <td>NaN</td>\n",
       "      <td>NaN</td>\n",
       "      <td>NaN</td>\n",
       "      <td>NaN</td>\n",
       "      <td>1</td>\n",
       "      <td>NaN</td>\n",
       "      <td>NaN</td>\n",
       "      <td>NaN</td>\n",
       "      <td>NaN</td>\n",
       "      <td>NaN</td>\n",
       "    </tr>\n",
       "    <tr>\n",
       "      <th>1</th>\n",
       "      <td>25003</td>\n",
       "      <td>07/02/1990</td>\n",
       "      <td>TX</td>\n",
       "      <td>0.8</td>\n",
       "      <td>NaN</td>\n",
       "      <td>NaN</td>\n",
       "      <td>M</td>\n",
       "      <td>NaN</td>\n",
       "      <td>Hypotonic, Hyporesponsive episode, Infant died...</td>\n",
       "      <td>Y</td>\n",
       "      <td>NaN</td>\n",
       "      <td>NaN</td>\n",
       "      <td>NaN</td>\n",
       "      <td>NaN</td>\n",
       "      <td>NaN</td>\n",
       "      <td>NaN</td>\n",
       "      <td>NaN</td>\n",
       "      <td>N</td>\n",
       "      <td>01/29/1990</td>\n",
       "      <td>02/04/1990</td>\n",
       "      <td>6.0</td>\n",
       "      <td>NaN</td>\n",
       "      <td>UNK</td>\n",
       "      <td>UNK</td>\n",
       "      <td>NaN</td>\n",
       "      <td>NaN</td>\n",
       "      <td>NaN</td>\n",
       "      <td>~ ()~~~In patient</td>\n",
       "      <td>NaN</td>\n",
       "      <td>1</td>\n",
       "      <td>NaN</td>\n",
       "      <td>NaN</td>\n",
       "      <td>NaN</td>\n",
       "      <td>NaN</td>\n",
       "      <td>NaN</td>\n",
       "    </tr>\n",
       "    <tr>\n",
       "      <th>2</th>\n",
       "      <td>25004</td>\n",
       "      <td>07/02/1990</td>\n",
       "      <td>NY</td>\n",
       "      <td>0.9</td>\n",
       "      <td>NaN</td>\n",
       "      <td>NaN</td>\n",
       "      <td>M</td>\n",
       "      <td>NaN</td>\n",
       "      <td>Pt developed chills for approx. 1 hr, felt ach...</td>\n",
       "      <td>NaN</td>\n",
       "      <td>NaN</td>\n",
       "      <td>NaN</td>\n",
       "      <td>NaN</td>\n",
       "      <td>NaN</td>\n",
       "      <td>NaN</td>\n",
       "      <td>NaN</td>\n",
       "      <td>NaN</td>\n",
       "      <td>U</td>\n",
       "      <td>11/13/1989</td>\n",
       "      <td>11/13/1989</td>\n",
       "      <td>0.0</td>\n",
       "      <td>NaN</td>\n",
       "      <td>UNK</td>\n",
       "      <td>UNK</td>\n",
       "      <td>NaN</td>\n",
       "      <td>NaN</td>\n",
       "      <td>NaN</td>\n",
       "      <td>~ ()~~~In patient</td>\n",
       "      <td>890269201</td>\n",
       "      <td>1</td>\n",
       "      <td>NaN</td>\n",
       "      <td>NaN</td>\n",
       "      <td>NaN</td>\n",
       "      <td>NaN</td>\n",
       "      <td>NaN</td>\n",
       "    </tr>\n",
       "    <tr>\n",
       "      <th>3</th>\n",
       "      <td>25005</td>\n",
       "      <td>07/02/1990</td>\n",
       "      <td>OK</td>\n",
       "      <td>NaN</td>\n",
       "      <td>NaN</td>\n",
       "      <td>NaN</td>\n",
       "      <td>U</td>\n",
       "      <td>NaN</td>\n",
       "      <td>7 patients within 2 weeks have reported joint ...</td>\n",
       "      <td>NaN</td>\n",
       "      <td>NaN</td>\n",
       "      <td>NaN</td>\n",
       "      <td>NaN</td>\n",
       "      <td>NaN</td>\n",
       "      <td>NaN</td>\n",
       "      <td>NaN</td>\n",
       "      <td>NaN</td>\n",
       "      <td>NaN</td>\n",
       "      <td>NaN</td>\n",
       "      <td>NaN</td>\n",
       "      <td>NaN</td>\n",
       "      <td>NaN</td>\n",
       "      <td>UNK</td>\n",
       "      <td>UNK</td>\n",
       "      <td>NaN</td>\n",
       "      <td>NaN</td>\n",
       "      <td>NaN</td>\n",
       "      <td>~ ()~~~In patient</td>\n",
       "      <td>890277901</td>\n",
       "      <td>1</td>\n",
       "      <td>NaN</td>\n",
       "      <td>NaN</td>\n",
       "      <td>NaN</td>\n",
       "      <td>NaN</td>\n",
       "      <td>NaN</td>\n",
       "    </tr>\n",
       "    <tr>\n",
       "      <th>4</th>\n",
       "      <td>25006</td>\n",
       "      <td>07/02/1990</td>\n",
       "      <td>OH</td>\n",
       "      <td>16.0</td>\n",
       "      <td>16.0</td>\n",
       "      <td>NaN</td>\n",
       "      <td>F</td>\n",
       "      <td>NaN</td>\n",
       "      <td>16 yr old female feeling faint &amp; then had seiz...</td>\n",
       "      <td>NaN</td>\n",
       "      <td>NaN</td>\n",
       "      <td>NaN</td>\n",
       "      <td>NaN</td>\n",
       "      <td>NaN</td>\n",
       "      <td>NaN</td>\n",
       "      <td>NaN</td>\n",
       "      <td>NaN</td>\n",
       "      <td>Y</td>\n",
       "      <td>11/17/1989</td>\n",
       "      <td>11/17/1989</td>\n",
       "      <td>0.0</td>\n",
       "      <td>NaN</td>\n",
       "      <td>UNK</td>\n",
       "      <td>UNK</td>\n",
       "      <td>NaN</td>\n",
       "      <td>NaN</td>\n",
       "      <td>no hx of local or systemic rxns</td>\n",
       "      <td>~ ()~~~In patient</td>\n",
       "      <td>890278001</td>\n",
       "      <td>1</td>\n",
       "      <td>NaN</td>\n",
       "      <td>NaN</td>\n",
       "      <td>NaN</td>\n",
       "      <td>NaN</td>\n",
       "      <td>NaN</td>\n",
       "    </tr>\n",
       "    <tr>\n",
       "      <th>...</th>\n",
       "      <td>...</td>\n",
       "      <td>...</td>\n",
       "      <td>...</td>\n",
       "      <td>...</td>\n",
       "      <td>...</td>\n",
       "      <td>...</td>\n",
       "      <td>...</td>\n",
       "      <td>...</td>\n",
       "      <td>...</td>\n",
       "      <td>...</td>\n",
       "      <td>...</td>\n",
       "      <td>...</td>\n",
       "      <td>...</td>\n",
       "      <td>...</td>\n",
       "      <td>...</td>\n",
       "      <td>...</td>\n",
       "      <td>...</td>\n",
       "      <td>...</td>\n",
       "      <td>...</td>\n",
       "      <td>...</td>\n",
       "      <td>...</td>\n",
       "      <td>...</td>\n",
       "      <td>...</td>\n",
       "      <td>...</td>\n",
       "      <td>...</td>\n",
       "      <td>...</td>\n",
       "      <td>...</td>\n",
       "      <td>...</td>\n",
       "      <td>...</td>\n",
       "      <td>...</td>\n",
       "      <td>...</td>\n",
       "      <td>...</td>\n",
       "      <td>...</td>\n",
       "      <td>...</td>\n",
       "      <td>...</td>\n",
       "    </tr>\n",
       "    <tr>\n",
       "      <th>2097</th>\n",
       "      <td>27269</td>\n",
       "      <td>12/31/1990</td>\n",
       "      <td>OK</td>\n",
       "      <td>1.8</td>\n",
       "      <td>NaN</td>\n",
       "      <td>NaN</td>\n",
       "      <td>M</td>\n",
       "      <td>NaN</td>\n",
       "      <td>3 days /p vax given bright red hard lumps invo...</td>\n",
       "      <td>NaN</td>\n",
       "      <td>NaN</td>\n",
       "      <td>NaN</td>\n",
       "      <td>NaN</td>\n",
       "      <td>NaN</td>\n",
       "      <td>NaN</td>\n",
       "      <td>NaN</td>\n",
       "      <td>NaN</td>\n",
       "      <td>NaN</td>\n",
       "      <td>03/02/1990</td>\n",
       "      <td>03/05/1990</td>\n",
       "      <td>3.0</td>\n",
       "      <td>NaN</td>\n",
       "      <td>UNK</td>\n",
       "      <td>UNK</td>\n",
       "      <td>NaN</td>\n",
       "      <td>NaN</td>\n",
       "      <td>NaN</td>\n",
       "      <td>~ ()~~~In patient</td>\n",
       "      <td>900120701</td>\n",
       "      <td>1</td>\n",
       "      <td>NaN</td>\n",
       "      <td>NaN</td>\n",
       "      <td>NaN</td>\n",
       "      <td>NaN</td>\n",
       "      <td>NaN</td>\n",
       "    </tr>\n",
       "    <tr>\n",
       "      <th>2098</th>\n",
       "      <td>27270</td>\n",
       "      <td>12/31/1990</td>\n",
       "      <td>NY</td>\n",
       "      <td>5.0</td>\n",
       "      <td>NaN</td>\n",
       "      <td>NaN</td>\n",
       "      <td>M</td>\n",
       "      <td>NaN</td>\n",
       "      <td>/P vax pt has lipoatrophy of the buttocks.  Hi...</td>\n",
       "      <td>NaN</td>\n",
       "      <td>NaN</td>\n",
       "      <td>NaN</td>\n",
       "      <td>NaN</td>\n",
       "      <td>NaN</td>\n",
       "      <td>NaN</td>\n",
       "      <td>NaN</td>\n",
       "      <td>NaN</td>\n",
       "      <td>NaN</td>\n",
       "      <td>01/01/1990</td>\n",
       "      <td>03/01/1990</td>\n",
       "      <td>59.0</td>\n",
       "      <td>NaN</td>\n",
       "      <td>UNK</td>\n",
       "      <td>UNK</td>\n",
       "      <td>NaN</td>\n",
       "      <td>NaN</td>\n",
       "      <td>NaN</td>\n",
       "      <td>~ ()~~~In patient</td>\n",
       "      <td>900120601</td>\n",
       "      <td>1</td>\n",
       "      <td>NaN</td>\n",
       "      <td>NaN</td>\n",
       "      <td>NaN</td>\n",
       "      <td>NaN</td>\n",
       "      <td>NaN</td>\n",
       "    </tr>\n",
       "    <tr>\n",
       "      <th>2099</th>\n",
       "      <td>27271</td>\n",
       "      <td>12/31/1990</td>\n",
       "      <td>IL</td>\n",
       "      <td>0.2</td>\n",
       "      <td>NaN</td>\n",
       "      <td>NaN</td>\n",
       "      <td>U</td>\n",
       "      <td>NaN</td>\n",
       "      <td>2 wks following DTP/OPV vax, child developed h...</td>\n",
       "      <td>NaN</td>\n",
       "      <td>NaN</td>\n",
       "      <td>NaN</td>\n",
       "      <td>NaN</td>\n",
       "      <td>NaN</td>\n",
       "      <td>NaN</td>\n",
       "      <td>NaN</td>\n",
       "      <td>NaN</td>\n",
       "      <td>NaN</td>\n",
       "      <td>NaN</td>\n",
       "      <td>NaN</td>\n",
       "      <td>NaN</td>\n",
       "      <td>NaN</td>\n",
       "      <td>UNK</td>\n",
       "      <td>UNK</td>\n",
       "      <td>NaN</td>\n",
       "      <td>NaN</td>\n",
       "      <td>NaN</td>\n",
       "      <td>~ ()~~~In patient</td>\n",
       "      <td>900150401</td>\n",
       "      <td>1</td>\n",
       "      <td>NaN</td>\n",
       "      <td>NaN</td>\n",
       "      <td>NaN</td>\n",
       "      <td>NaN</td>\n",
       "      <td>NaN</td>\n",
       "    </tr>\n",
       "    <tr>\n",
       "      <th>2100</th>\n",
       "      <td>27272</td>\n",
       "      <td>12/31/1990</td>\n",
       "      <td>TX</td>\n",
       "      <td>1.5</td>\n",
       "      <td>NaN</td>\n",
       "      <td>NaN</td>\n",
       "      <td>F</td>\n",
       "      <td>NaN</td>\n",
       "      <td>Received OPV/DTP vax &amp; next day developed hive...</td>\n",
       "      <td>NaN</td>\n",
       "      <td>NaN</td>\n",
       "      <td>NaN</td>\n",
       "      <td>NaN</td>\n",
       "      <td>NaN</td>\n",
       "      <td>NaN</td>\n",
       "      <td>NaN</td>\n",
       "      <td>NaN</td>\n",
       "      <td>NaN</td>\n",
       "      <td>08/20/1990</td>\n",
       "      <td>08/21/1990</td>\n",
       "      <td>1.0</td>\n",
       "      <td>NaN</td>\n",
       "      <td>UNK</td>\n",
       "      <td>UNK</td>\n",
       "      <td>NaN</td>\n",
       "      <td>NaN</td>\n",
       "      <td>NaN</td>\n",
       "      <td>~ ()~~~In patient</td>\n",
       "      <td>900143101</td>\n",
       "      <td>1</td>\n",
       "      <td>NaN</td>\n",
       "      <td>NaN</td>\n",
       "      <td>NaN</td>\n",
       "      <td>NaN</td>\n",
       "      <td>NaN</td>\n",
       "    </tr>\n",
       "    <tr>\n",
       "      <th>2101</th>\n",
       "      <td>27273</td>\n",
       "      <td>12/31/1990</td>\n",
       "      <td>CA</td>\n",
       "      <td>0.3</td>\n",
       "      <td>NaN</td>\n",
       "      <td>NaN</td>\n",
       "      <td>M</td>\n",
       "      <td>NaN</td>\n",
       "      <td>At 2 mo. old infant received DTP, 6 hrs later ...</td>\n",
       "      <td>NaN</td>\n",
       "      <td>NaN</td>\n",
       "      <td>NaN</td>\n",
       "      <td>NaN</td>\n",
       "      <td>NaN</td>\n",
       "      <td>NaN</td>\n",
       "      <td>NaN</td>\n",
       "      <td>NaN</td>\n",
       "      <td>NaN</td>\n",
       "      <td>NaN</td>\n",
       "      <td>07/16/1990</td>\n",
       "      <td>NaN</td>\n",
       "      <td>EEG was done on 15May90 for rule out seizure w...</td>\n",
       "      <td>UNK</td>\n",
       "      <td>UNK</td>\n",
       "      <td>NaN</td>\n",
       "      <td>NaN</td>\n",
       "      <td>NaN</td>\n",
       "      <td>~ ()~~~In patient</td>\n",
       "      <td>900141201</td>\n",
       "      <td>1</td>\n",
       "      <td>NaN</td>\n",
       "      <td>NaN</td>\n",
       "      <td>NaN</td>\n",
       "      <td>NaN</td>\n",
       "      <td>NaN</td>\n",
       "    </tr>\n",
       "  </tbody>\n",
       "</table>\n",
       "<p>2102 rows × 35 columns</p>\n",
       "</div>"
      ],
      "text/plain": [
       "      VAERS_ID    RECVDATE STATE  AGE_YRS  CAGE_YR  CAGE_MO SEX RPT_DATE  \\\n",
       "0        25001  07/02/1990    WI      0.2      NaN      NaN   F      NaN   \n",
       "1        25003  07/02/1990    TX      0.8      NaN      NaN   M      NaN   \n",
       "2        25004  07/02/1990    NY      0.9      NaN      NaN   M      NaN   \n",
       "3        25005  07/02/1990    OK      NaN      NaN      NaN   U      NaN   \n",
       "4        25006  07/02/1990    OH     16.0     16.0      NaN   F      NaN   \n",
       "...        ...         ...   ...      ...      ...      ...  ..      ...   \n",
       "2097     27269  12/31/1990    OK      1.8      NaN      NaN   M      NaN   \n",
       "2098     27270  12/31/1990    NY      5.0      NaN      NaN   M      NaN   \n",
       "2099     27271  12/31/1990    IL      0.2      NaN      NaN   U      NaN   \n",
       "2100     27272  12/31/1990    TX      1.5      NaN      NaN   F      NaN   \n",
       "2101     27273  12/31/1990    CA      0.3      NaN      NaN   M      NaN   \n",
       "\n",
       "                                           SYMPTOM_TEXT DIED DATEDIED  \\\n",
       "0     Loud intense cry with screaming for 1 1/2 hrs....  NaN      NaN   \n",
       "1     Hypotonic, Hyporesponsive episode, Infant died...    Y      NaN   \n",
       "2     Pt developed chills for approx. 1 hr, felt ach...  NaN      NaN   \n",
       "3     7 patients within 2 weeks have reported joint ...  NaN      NaN   \n",
       "4     16 yr old female feeling faint & then had seiz...  NaN      NaN   \n",
       "...                                                 ...  ...      ...   \n",
       "2097  3 days /p vax given bright red hard lumps invo...  NaN      NaN   \n",
       "2098  /P vax pt has lipoatrophy of the buttocks.  Hi...  NaN      NaN   \n",
       "2099  2 wks following DTP/OPV vax, child developed h...  NaN      NaN   \n",
       "2100  Received OPV/DTP vax & next day developed hive...  NaN      NaN   \n",
       "2101  At 2 mo. old infant received DTP, 6 hrs later ...  NaN      NaN   \n",
       "\n",
       "     L_THREAT ER_VISIT HOSPITAL  HOSPDAYS X_STAY DISABLE RECOVD    VAX_DATE  \\\n",
       "0         NaN      NaN      NaN       NaN    NaN     NaN      U  06/04/1990   \n",
       "1         NaN      NaN      NaN       NaN    NaN     NaN      N  01/29/1990   \n",
       "2         NaN      NaN      NaN       NaN    NaN     NaN      U  11/13/1989   \n",
       "3         NaN      NaN      NaN       NaN    NaN     NaN    NaN         NaN   \n",
       "4         NaN      NaN      NaN       NaN    NaN     NaN      Y  11/17/1989   \n",
       "...       ...      ...      ...       ...    ...     ...    ...         ...   \n",
       "2097      NaN      NaN      NaN       NaN    NaN     NaN    NaN  03/02/1990   \n",
       "2098      NaN      NaN      NaN       NaN    NaN     NaN    NaN  01/01/1990   \n",
       "2099      NaN      NaN      NaN       NaN    NaN     NaN    NaN         NaN   \n",
       "2100      NaN      NaN      NaN       NaN    NaN     NaN    NaN  08/20/1990   \n",
       "2101      NaN      NaN      NaN       NaN    NaN     NaN    NaN         NaN   \n",
       "\n",
       "      ONSET_DATE  NUMDAYS                                           LAB_DATA  \\\n",
       "0     06/04/1990      0.0                                                NaN   \n",
       "1     02/04/1990      6.0                                                NaN   \n",
       "2     11/13/1989      0.0                                                NaN   \n",
       "3            NaN      NaN                                                NaN   \n",
       "4     11/17/1989      0.0                                                NaN   \n",
       "...          ...      ...                                                ...   \n",
       "2097  03/05/1990      3.0                                                NaN   \n",
       "2098  03/01/1990     59.0                                                NaN   \n",
       "2099         NaN      NaN                                                NaN   \n",
       "2100  08/21/1990      1.0                                                NaN   \n",
       "2101  07/16/1990      NaN  EEG was done on 15May90 for rule out seizure w...   \n",
       "\n",
       "     V_ADMINBY V_FUNDBY OTHER_MEDS CUR_ILL                          HISTORY  \\\n",
       "0          PVT      UNK        NaN     NaN                              NaN   \n",
       "1          UNK      UNK        NaN     NaN                              NaN   \n",
       "2          UNK      UNK        NaN     NaN                              NaN   \n",
       "3          UNK      UNK        NaN     NaN                              NaN   \n",
       "4          UNK      UNK        NaN     NaN  no hx of local or systemic rxns   \n",
       "...        ...      ...        ...     ...                              ...   \n",
       "2097       UNK      UNK        NaN     NaN                              NaN   \n",
       "2098       UNK      UNK        NaN     NaN                              NaN   \n",
       "2099       UNK      UNK        NaN     NaN                              NaN   \n",
       "2100       UNK      UNK        NaN     NaN                              NaN   \n",
       "2101       UNK      UNK        NaN     NaN                              NaN   \n",
       "\n",
       "              PRIOR_VAX   SPLTTYPE  FORM_VERS  TODAYS_DATE  BIRTH_DEFECT  \\\n",
       "0                   NaN        NaN          1          NaN           NaN   \n",
       "1     ~ ()~~~In patient        NaN          1          NaN           NaN   \n",
       "2     ~ ()~~~In patient  890269201          1          NaN           NaN   \n",
       "3     ~ ()~~~In patient  890277901          1          NaN           NaN   \n",
       "4     ~ ()~~~In patient  890278001          1          NaN           NaN   \n",
       "...                 ...        ...        ...          ...           ...   \n",
       "2097  ~ ()~~~In patient  900120701          1          NaN           NaN   \n",
       "2098  ~ ()~~~In patient  900120601          1          NaN           NaN   \n",
       "2099  ~ ()~~~In patient  900150401          1          NaN           NaN   \n",
       "2100  ~ ()~~~In patient  900143101          1          NaN           NaN   \n",
       "2101  ~ ()~~~In patient  900141201          1          NaN           NaN   \n",
       "\n",
       "      OFC_VISIT  ER_ED_VISIT  ALLERGIES  \n",
       "0           NaN          NaN        NaN  \n",
       "1           NaN          NaN        NaN  \n",
       "2           NaN          NaN        NaN  \n",
       "3           NaN          NaN        NaN  \n",
       "4           NaN          NaN        NaN  \n",
       "...         ...          ...        ...  \n",
       "2097        NaN          NaN        NaN  \n",
       "2098        NaN          NaN        NaN  \n",
       "2099        NaN          NaN        NaN  \n",
       "2100        NaN          NaN        NaN  \n",
       "2101        NaN          NaN        NaN  \n",
       "\n",
       "[2102 rows x 35 columns]"
      ]
     },
     "metadata": {},
     "output_type": "display_data"
    }
   ],
   "source": [
    "pd.options.display.max_columns = None\n",
    "display(vaersdata90)"
   ]
  },
  {
   "cell_type": "code",
   "execution_count": 15,
   "id": "d5b57518",
   "metadata": {},
   "outputs": [],
   "source": [
    "vax90 = vaersvax90[['VAERS_ID', 'VAX_TYPE', 'VAX_MANU', 'VAX_LOT', 'VAX_NAME']]"
   ]
  },
  {
   "cell_type": "code",
   "execution_count": 16,
   "id": "bb708cc4",
   "metadata": {},
   "outputs": [],
   "source": [
    "data90 = vaersdata90[['VAERS_ID', 'AGE_YRS', 'STATE', 'SYMPTOM_TEXT', 'DIED', 'ER_VISIT']]"
   ]
  },
  {
   "cell_type": "code",
   "execution_count": 17,
   "id": "ca6cf637",
   "metadata": {},
   "outputs": [],
   "source": [
    "vaers1990 = pd.merge(vax90, data90, on= 'VAERS_ID')"
   ]
  },
  {
   "cell_type": "code",
   "execution_count": 18,
   "id": "43807a92",
   "metadata": {},
   "outputs": [],
   "source": [
    "vaers1990['Year'] = 1990"
   ]
  },
  {
   "cell_type": "code",
   "execution_count": 19,
   "id": "8e74b1d6",
   "metadata": {},
   "outputs": [],
   "source": [
    "vaers1990.to_csv('C:/Users/chris/Desktop/WozU_Data_Science/VAERS-data/VAERS_Clean/vaers1990.csv')"
   ]
  },
  {
   "cell_type": "markdown",
   "id": "9aa3ec47",
   "metadata": {},
   "source": [
    "# Based on the data, I selected the columns that should be useful in answer the question posed.  "
   ]
  },
  {
   "cell_type": "markdown",
   "id": "5c1e2f28",
   "metadata": {},
   "source": [
    "# 1991:\n"
   ]
  },
  {
   "cell_type": "code",
   "execution_count": 20,
   "id": "78a8c920",
   "metadata": {},
   "outputs": [],
   "source": [
    "vaersdata91 = pd.read_csv('C:/Users/chris/Desktop/WozU_Data_Science/VAERS-data/VAERS_Messy/1991VAERSDATA.csv')"
   ]
  },
  {
   "cell_type": "code",
   "execution_count": 21,
   "id": "b19db524",
   "metadata": {},
   "outputs": [],
   "source": [
    "vaersvax91 = pd.read_csv('C:/Users/chris/Desktop/WozU_Data_Science/VAERS-data/VAERS_Messy/1991VAERSVAX.csv')"
   ]
  },
  {
   "cell_type": "code",
   "execution_count": 22,
   "id": "6d010be7",
   "metadata": {},
   "outputs": [],
   "source": [
    "vax91 = vaersvax91[['VAERS_ID', 'VAX_TYPE', 'VAX_MANU', 'VAX_LOT', 'VAX_NAME']]"
   ]
  },
  {
   "cell_type": "code",
   "execution_count": 23,
   "id": "e2ceed22",
   "metadata": {},
   "outputs": [],
   "source": [
    "data91 = vaersdata91[['VAERS_ID', 'AGE_YRS', 'STATE', 'SYMPTOM_TEXT', 'DIED', 'ER_VISIT']]"
   ]
  },
  {
   "cell_type": "code",
   "execution_count": 24,
   "id": "c3e62f71",
   "metadata": {},
   "outputs": [],
   "source": [
    "vaers1991 = pd.merge(vax91, data91, on= 'VAERS_ID')"
   ]
  },
  {
   "cell_type": "code",
   "execution_count": 25,
   "id": "2d7221be",
   "metadata": {},
   "outputs": [],
   "source": [
    "vaers1991['Year'] = 1991"
   ]
  },
  {
   "cell_type": "code",
   "execution_count": 26,
   "id": "50525363",
   "metadata": {},
   "outputs": [],
   "source": [
    "vaers1991.to_csv('C:/Users/chris/Desktop/WozU_Data_Science/VAERS-data/VAERS_Clean/vaers1991.csv')"
   ]
  },
  {
   "cell_type": "markdown",
   "id": "53eae8cd",
   "metadata": {},
   "source": [
    "# Combine the cleaned 1990 and 1991 data"
   ]
  },
  {
   "cell_type": "code",
   "execution_count": 27,
   "id": "44dc87d0",
   "metadata": {},
   "outputs": [],
   "source": [
    "vaers90_91 = pd.concat([vaers1990, vaers1991])"
   ]
  },
  {
   "cell_type": "markdown",
   "id": "86aa5553",
   "metadata": {},
   "source": [
    "# 1992"
   ]
  },
  {
   "cell_type": "code",
   "execution_count": 28,
   "id": "b208575f",
   "metadata": {},
   "outputs": [],
   "source": [
    "vaersdata92 = pd.read_csv('C:/Users/chris/Desktop/WozU_Data_Science/VAERS-data/VAERS_Messy/1992VAERSDATA.csv')"
   ]
  },
  {
   "cell_type": "code",
   "execution_count": 29,
   "id": "aa5cb5c4",
   "metadata": {},
   "outputs": [],
   "source": [
    "vaersvax92 = pd.read_csv('C:/Users/chris/Desktop/WozU_Data_Science/VAERS-data/VAERS_Messy/1992VAERSVAX.csv')"
   ]
  },
  {
   "cell_type": "code",
   "execution_count": 30,
   "id": "eec1ebea",
   "metadata": {},
   "outputs": [],
   "source": [
    "vax92 = vaersvax92[['VAERS_ID', 'VAX_TYPE', 'VAX_MANU', 'VAX_LOT', 'VAX_NAME']]"
   ]
  },
  {
   "cell_type": "code",
   "execution_count": 31,
   "id": "638951ae",
   "metadata": {},
   "outputs": [],
   "source": [
    "data92 = vaersdata92[['VAERS_ID', 'AGE_YRS', 'STATE', 'SYMPTOM_TEXT', 'DIED', 'ER_VISIT']]"
   ]
  },
  {
   "cell_type": "code",
   "execution_count": 32,
   "id": "c46e3ef4",
   "metadata": {},
   "outputs": [],
   "source": [
    "vaers1992 = pd.merge(vax92, data92, on= 'VAERS_ID')"
   ]
  },
  {
   "cell_type": "code",
   "execution_count": 33,
   "id": "c5f0e606",
   "metadata": {},
   "outputs": [],
   "source": [
    "vaers1992['Year'] = 1992"
   ]
  },
  {
   "cell_type": "code",
   "execution_count": 34,
   "id": "7a4725c7",
   "metadata": {},
   "outputs": [],
   "source": [
    "vaers1992.to_csv('C:/Users/chris/Desktop/WozU_Data_Science/VAERS-data/VAERS_Clean/vaers1992.csv')"
   ]
  },
  {
   "cell_type": "markdown",
   "id": "03be0003",
   "metadata": {},
   "source": [
    "# Combine the cleaned data"
   ]
  },
  {
   "cell_type": "code",
   "execution_count": 35,
   "id": "d4eeaf70",
   "metadata": {},
   "outputs": [],
   "source": [
    "vaers90_92 = pd.concat([vaers90_91, vaers1992])"
   ]
  },
  {
   "cell_type": "markdown",
   "id": "9a5b35ad",
   "metadata": {},
   "source": [
    "# 1993"
   ]
  },
  {
   "cell_type": "code",
   "execution_count": 36,
   "id": "7f3e7f6a",
   "metadata": {},
   "outputs": [],
   "source": [
    "vaersdata93 = pd.read_csv('C:/Users/chris/Desktop/WozU_Data_Science/VAERS-data/VAERS_Messy/1993VAERSDATA.csv')"
   ]
  },
  {
   "cell_type": "code",
   "execution_count": 37,
   "id": "bf64c112",
   "metadata": {},
   "outputs": [],
   "source": [
    "vaersvax93 = pd.read_csv('C:/Users/chris/Desktop/WozU_Data_Science/VAERS-data/VAERS_Messy/1993VAERSVAX.csv')"
   ]
  },
  {
   "cell_type": "code",
   "execution_count": 38,
   "id": "d116a555",
   "metadata": {},
   "outputs": [],
   "source": [
    "vax93 = vaersvax93[['VAERS_ID', 'VAX_TYPE', 'VAX_MANU', 'VAX_LOT', 'VAX_NAME']]"
   ]
  },
  {
   "cell_type": "code",
   "execution_count": 39,
   "id": "105671fa",
   "metadata": {},
   "outputs": [],
   "source": [
    "data93 = vaersdata93[['VAERS_ID', 'AGE_YRS', 'STATE', 'SYMPTOM_TEXT', 'DIED', 'ER_VISIT']]"
   ]
  },
  {
   "cell_type": "code",
   "execution_count": 40,
   "id": "3f4161b6",
   "metadata": {},
   "outputs": [],
   "source": [
    "vaers1993 = pd.merge(vax93, data93, on= 'VAERS_ID')"
   ]
  },
  {
   "cell_type": "code",
   "execution_count": 41,
   "id": "5f858399",
   "metadata": {},
   "outputs": [],
   "source": [
    "vaers1993['Year'] = 1993"
   ]
  },
  {
   "cell_type": "code",
   "execution_count": 42,
   "id": "7af8113a",
   "metadata": {},
   "outputs": [],
   "source": [
    "vaers1993.to_csv('C:/Users/chris/Desktop/WozU_Data_Science/VAERS-data/VAERS_Clean/vaers1993.csv')"
   ]
  },
  {
   "cell_type": "code",
   "execution_count": 43,
   "id": "53433595",
   "metadata": {},
   "outputs": [],
   "source": [
    "vaers90_93 = pd.concat([vaers90_92, vaers1993])"
   ]
  },
  {
   "cell_type": "markdown",
   "id": "b0c9ea2d",
   "metadata": {},
   "source": [
    "## Show breakdown of reporting instances by year"
   ]
  },
  {
   "cell_type": "code",
   "execution_count": 44,
   "id": "1e0d525f",
   "metadata": {},
   "outputs": [],
   "source": [
    "test = vaers90_93.Year.value_counts()"
   ]
  },
  {
   "cell_type": "code",
   "execution_count": 45,
   "id": "1eb6f729",
   "metadata": {},
   "outputs": [
    {
     "data": {
      "text/plain": [
       "1992    18392\n",
       "1993    17655\n",
       "1991    16657\n",
       "1990     2787\n",
       "Name: Year, dtype: int64"
      ]
     },
     "execution_count": 45,
     "metadata": {},
     "output_type": "execute_result"
    }
   ],
   "source": [
    "test"
   ]
  },
  {
   "cell_type": "markdown",
   "id": "7d205f0b",
   "metadata": {},
   "source": [
    "# 1994 "
   ]
  },
  {
   "cell_type": "code",
   "execution_count": 46,
   "id": "c8befc71",
   "metadata": {},
   "outputs": [],
   "source": [
    "vaersdata94 = pd.read_csv('C:/Users/chris/Desktop/WozU_Data_Science/VAERS-data/VAERS_Messy/1994VAERSDATA.csv')"
   ]
  },
  {
   "cell_type": "code",
   "execution_count": 47,
   "id": "ba70ec09",
   "metadata": {},
   "outputs": [],
   "source": [
    "vaersvax94 = pd.read_csv('C:/Users/chris/Desktop/WozU_Data_Science/VAERS-data/VAERS_Messy/1994VAERSVAX.csv')"
   ]
  },
  {
   "cell_type": "code",
   "execution_count": 48,
   "id": "215245db",
   "metadata": {},
   "outputs": [],
   "source": [
    "vax94 = vaersvax94[['VAERS_ID', 'VAX_TYPE', 'VAX_MANU', 'VAX_LOT', 'VAX_NAME']]"
   ]
  },
  {
   "cell_type": "code",
   "execution_count": 49,
   "id": "b1a30361",
   "metadata": {},
   "outputs": [],
   "source": [
    "data94 = vaersdata94[['VAERS_ID', 'AGE_YRS', 'STATE', 'SYMPTOM_TEXT', 'DIED', 'ER_VISIT']]"
   ]
  },
  {
   "cell_type": "code",
   "execution_count": 50,
   "id": "c756c38e",
   "metadata": {},
   "outputs": [],
   "source": [
    "vaers1994 = pd.merge(vax94, data94, on= 'VAERS_ID')"
   ]
  },
  {
   "cell_type": "code",
   "execution_count": 51,
   "id": "c1b69db6",
   "metadata": {},
   "outputs": [],
   "source": [
    "vaers1994['Year'] = 1994"
   ]
  },
  {
   "cell_type": "code",
   "execution_count": 52,
   "id": "f5d4eae1",
   "metadata": {},
   "outputs": [],
   "source": [
    "vaers1994.to_csv('C:/Users/chris/Desktop/WozU_Data_Science/VAERS-data/VAERS_Clean/vaers1994.csv')"
   ]
  },
  {
   "cell_type": "code",
   "execution_count": 53,
   "id": "3ea631d0",
   "metadata": {},
   "outputs": [],
   "source": [
    "vaers90_94 = pd.concat([vaers90_93, vaers1994])"
   ]
  },
  {
   "cell_type": "markdown",
   "id": "42f1219e",
   "metadata": {},
   "source": [
    "# 1995 "
   ]
  },
  {
   "cell_type": "code",
   "execution_count": 54,
   "id": "64b9c9bf",
   "metadata": {},
   "outputs": [],
   "source": [
    "vaersdata95 = pd.read_csv('C:/Users/chris/Desktop/WozU_Data_Science/VAERS-data/VAERS_Messy/1995VAERSDATA.csv')"
   ]
  },
  {
   "cell_type": "code",
   "execution_count": 55,
   "id": "ccfb7cfd",
   "metadata": {},
   "outputs": [],
   "source": [
    "vaersvax95 = pd.read_csv('C:/Users/chris/Desktop/WozU_Data_Science/VAERS-data/VAERS_Messy/1995VAERSVAX.csv')"
   ]
  },
  {
   "cell_type": "code",
   "execution_count": 56,
   "id": "9157aff7",
   "metadata": {},
   "outputs": [],
   "source": [
    "vax95 = vaersvax95[['VAERS_ID', 'VAX_TYPE', 'VAX_MANU', 'VAX_LOT', 'VAX_NAME']]"
   ]
  },
  {
   "cell_type": "code",
   "execution_count": 57,
   "id": "71b291df",
   "metadata": {},
   "outputs": [],
   "source": [
    "data95 = vaersdata95[['VAERS_ID', 'AGE_YRS', 'STATE', 'SYMPTOM_TEXT', 'DIED', 'ER_VISIT']]"
   ]
  },
  {
   "cell_type": "code",
   "execution_count": 58,
   "id": "ac9642ff",
   "metadata": {},
   "outputs": [],
   "source": [
    "vaers1995 = pd.merge(vax95, data95, on= 'VAERS_ID')"
   ]
  },
  {
   "cell_type": "code",
   "execution_count": 59,
   "id": "41b25f03",
   "metadata": {},
   "outputs": [],
   "source": [
    "vaers1995['Year'] = 1995"
   ]
  },
  {
   "cell_type": "code",
   "execution_count": 60,
   "id": "42db6cff",
   "metadata": {},
   "outputs": [],
   "source": [
    "vaers1995.to_csv('C:/Users/chris/Desktop/WozU_Data_Science/VAERS-data/VAERS_Clean/vaers1995.csv')"
   ]
  },
  {
   "cell_type": "code",
   "execution_count": 61,
   "id": "bfa88e13",
   "metadata": {},
   "outputs": [],
   "source": [
    "vaers90_95 = pd.concat([vaers90_94, vaers1995])"
   ]
  },
  {
   "cell_type": "markdown",
   "id": "ab42ed47",
   "metadata": {},
   "source": [
    "# 1996 "
   ]
  },
  {
   "cell_type": "code",
   "execution_count": 62,
   "id": "60e7e4b6",
   "metadata": {},
   "outputs": [],
   "source": [
    "vaersdata96 = pd.read_csv('C:/Users/chris/Desktop/WozU_Data_Science/VAERS-data/VAERS_Messy/1996VAERSDATA.csv')"
   ]
  },
  {
   "cell_type": "code",
   "execution_count": 63,
   "id": "467cc4c6",
   "metadata": {},
   "outputs": [],
   "source": [
    "vaersvax96 = pd.read_csv('C:/Users/chris/Desktop/WozU_Data_Science/VAERS-data/VAERS_Messy/1996VAERSVAX.csv')"
   ]
  },
  {
   "cell_type": "code",
   "execution_count": 64,
   "id": "dad57a3e",
   "metadata": {},
   "outputs": [],
   "source": [
    "vax96 = vaersvax96[['VAERS_ID', 'VAX_TYPE', 'VAX_MANU', 'VAX_LOT', 'VAX_NAME']]"
   ]
  },
  {
   "cell_type": "code",
   "execution_count": 65,
   "id": "3835830a",
   "metadata": {},
   "outputs": [],
   "source": [
    "data96 = vaersdata96[['VAERS_ID', 'AGE_YRS', 'STATE', 'SYMPTOM_TEXT', 'DIED', 'ER_VISIT']]"
   ]
  },
  {
   "cell_type": "code",
   "execution_count": 66,
   "id": "8d570457",
   "metadata": {},
   "outputs": [],
   "source": [
    "vaers1996 = pd.merge(vax96, data96, on= 'VAERS_ID')"
   ]
  },
  {
   "cell_type": "code",
   "execution_count": 67,
   "id": "abc8d8d0",
   "metadata": {},
   "outputs": [],
   "source": [
    "vaers1996['Year'] = 1996"
   ]
  },
  {
   "cell_type": "code",
   "execution_count": 18,
   "id": "a18fd2e3",
   "metadata": {},
   "outputs": [
    {
     "ename": "NameError",
     "evalue": "name 'vaers1996' is not defined",
     "output_type": "error",
     "traceback": [
      "\u001b[1;31m---------------------------------------------------------------------------\u001b[0m",
      "\u001b[1;31mNameError\u001b[0m                                 Traceback (most recent call last)",
      "Cell \u001b[1;32mIn [18], line 1\u001b[0m\n\u001b[1;32m----> 1\u001b[0m \u001b[43mvaers1996\u001b[49m\u001b[38;5;241m.\u001b[39mto_csv(\u001b[38;5;124m'\u001b[39m\u001b[38;5;124mC:/Users/chris/Desktop/WozU_Data_Science/VAERS-data/VAERS_Clean/vaers1996.csv\u001b[39m\u001b[38;5;124m'\u001b[39m)\n",
      "\u001b[1;31mNameError\u001b[0m: name 'vaers1996' is not defined"
     ]
    }
   ],
   "source": [
    "vaers1996.to_csv('C:/Users/chris/Desktop/WozU_Data_Science/VAERS-data/VAERS_Clean/vaers1996.csv')"
   ]
  },
  {
   "cell_type": "code",
   "execution_count": 69,
   "id": "c7e6477d",
   "metadata": {},
   "outputs": [],
   "source": [
    "vaers90_96 = pd.concat([vaers90_95, vaers1996])"
   ]
  },
  {
   "cell_type": "markdown",
   "id": "e1cdda1c",
   "metadata": {},
   "source": [
    "# Memory Cap"
   ]
  },
  {
   "cell_type": "markdown",
   "id": "23ebab04",
   "metadata": {},
   "source": [
    "# 1997"
   ]
  },
  {
   "cell_type": "code",
   "execution_count": 7,
   "id": "717dabe2",
   "metadata": {},
   "outputs": [],
   "source": [
    "vaersdata97 = pd.read_excel('C:/Users/chris/Desktop/WozU_Data_Science/VAERS-data/VAERS_Messy/1997VAERSDATA.xlsx')"
   ]
  },
  {
   "cell_type": "code",
   "execution_count": 11,
   "id": "06c5dd09",
   "metadata": {},
   "outputs": [],
   "source": [
    "vaersvax97 = pd.read_csv('C:/Users/chris/Desktop/WozU_Data_Science/VAERS-data/VAERS_Messy/1997VAERSVAX.csv')"
   ]
  },
  {
   "cell_type": "code",
   "execution_count": 12,
   "id": "fe68fcc3",
   "metadata": {},
   "outputs": [],
   "source": [
    "vax97 = vaersvax97[['VAERS_ID', 'VAX_TYPE', 'VAX_MANU', 'VAX_LOT', 'VAX_NAME']]"
   ]
  },
  {
   "cell_type": "code",
   "execution_count": 13,
   "id": "197d8ad1",
   "metadata": {},
   "outputs": [],
   "source": [
    "data97 = vaersdata97[['VAERS_ID', 'AGE_YRS', 'STATE', 'SYMPTOM_TEXT', 'DIED', 'ER_VISIT']]"
   ]
  },
  {
   "cell_type": "code",
   "execution_count": 14,
   "id": "e2c0fe94",
   "metadata": {},
   "outputs": [],
   "source": [
    "vaers1997 = pd.merge(vax97, data97, on= 'VAERS_ID')"
   ]
  },
  {
   "cell_type": "code",
   "execution_count": 15,
   "id": "d8cd578d",
   "metadata": {},
   "outputs": [],
   "source": [
    "vaers1997['Year'] = 1997"
   ]
  },
  {
   "cell_type": "code",
   "execution_count": 16,
   "id": "baea4a0a",
   "metadata": {},
   "outputs": [],
   "source": [
    "vaers1997.to_csv('C:/Users/chris/Desktop/WozU_Data_Science/VAERS-data/VAERS_Clean/vaers1997.csv')"
   ]
  },
  {
   "cell_type": "code",
   "execution_count": 22,
   "id": "967ce3a4",
   "metadata": {},
   "outputs": [],
   "source": [
    "vaers90_97 = pd.concat([vaers90_96, vaers1997])"
   ]
  },
  {
   "cell_type": "markdown",
   "id": "c26aad45",
   "metadata": {},
   "source": [
    "# 1998 "
   ]
  },
  {
   "cell_type": "code",
   "execution_count": 26,
   "id": "dd55650a",
   "metadata": {},
   "outputs": [],
   "source": [
    "vaersdata98 = pd.read_excel('C:/Users/chris/Desktop/WozU_Data_Science/VAERS-data/VAERS_Messy/1998VAERSDATA.xlsx')"
   ]
  },
  {
   "cell_type": "code",
   "execution_count": 28,
   "id": "b39b0f8c",
   "metadata": {},
   "outputs": [],
   "source": [
    "vaersvax98 = pd.read_csv('C:/Users/chris/Desktop/WozU_Data_Science/VAERS-data/VAERS_Messy/1998VAERSVAX.csv')"
   ]
  },
  {
   "cell_type": "code",
   "execution_count": 29,
   "id": "d362a26e",
   "metadata": {},
   "outputs": [],
   "source": [
    "vax98 = vaersvax98[['VAERS_ID', 'VAX_TYPE', 'VAX_MANU', 'VAX_LOT', 'VAX_NAME']]"
   ]
  },
  {
   "cell_type": "code",
   "execution_count": 30,
   "id": "5a281713",
   "metadata": {},
   "outputs": [],
   "source": [
    "data98 = vaersdata98[['VAERS_ID', 'AGE_YRS', 'STATE', 'SYMPTOM_TEXT', 'DIED', 'ER_VISIT']]"
   ]
  },
  {
   "cell_type": "code",
   "execution_count": 31,
   "id": "33f454e5",
   "metadata": {},
   "outputs": [],
   "source": [
    "vaers1998 = pd.merge(vax98, data98, on= 'VAERS_ID')"
   ]
  },
  {
   "cell_type": "code",
   "execution_count": 32,
   "id": "e30f546b",
   "metadata": {},
   "outputs": [],
   "source": [
    "vaers1998['Year'] = 1998"
   ]
  },
  {
   "cell_type": "code",
   "execution_count": 34,
   "id": "664a668c",
   "metadata": {},
   "outputs": [],
   "source": [
    "vaers1998.to_csv('C:/Users/chris/Desktop/WozU_Data_Science/VAERS-data/VAERS_Clean/vaers1994.csv')"
   ]
  },
  {
   "cell_type": "code",
   "execution_count": 35,
   "id": "133e5d67",
   "metadata": {},
   "outputs": [],
   "source": [
    "vaers90_98 = pd.concat([vaers90_97, vaers1998])"
   ]
  },
  {
   "cell_type": "markdown",
   "id": "44f5eabe",
   "metadata": {},
   "source": [
    "# 1999 "
   ]
  },
  {
   "cell_type": "code",
   "execution_count": 37,
   "id": "da8dfb2d",
   "metadata": {},
   "outputs": [],
   "source": [
    "vaersdata99 = pd.read_excel('C:/Users/chris/Desktop/WozU_Data_Science/VAERS-data/VAERS_Messy/1999VAERSDATA.xlsx')"
   ]
  },
  {
   "cell_type": "code",
   "execution_count": 38,
   "id": "e618885f",
   "metadata": {},
   "outputs": [],
   "source": [
    "vaersvax99 = pd.read_csv('C:/Users/chris/Desktop/WozU_Data_Science/VAERS-data/VAERS_Messy/1999VAERSVAX.csv')"
   ]
  },
  {
   "cell_type": "code",
   "execution_count": 39,
   "id": "77e4ded8",
   "metadata": {},
   "outputs": [],
   "source": [
    "vax99 = vaersvax99[['VAERS_ID', 'VAX_TYPE', 'VAX_MANU', 'VAX_LOT', 'VAX_NAME']]"
   ]
  },
  {
   "cell_type": "code",
   "execution_count": 40,
   "id": "9bacd98f",
   "metadata": {},
   "outputs": [],
   "source": [
    "data99 = vaersdata99[['VAERS_ID', 'AGE_YRS', 'STATE', 'SYMPTOM_TEXT', 'DIED', 'ER_VISIT']]"
   ]
  },
  {
   "cell_type": "code",
   "execution_count": 41,
   "id": "2b579ae0",
   "metadata": {},
   "outputs": [],
   "source": [
    "vaers1999 = pd.merge(vax99, data99, on= 'VAERS_ID')"
   ]
  },
  {
   "cell_type": "code",
   "execution_count": 42,
   "id": "7553bfbf",
   "metadata": {},
   "outputs": [],
   "source": [
    "vaers1999['Year'] = 1999"
   ]
  },
  {
   "cell_type": "code",
   "execution_count": 43,
   "id": "d849c357",
   "metadata": {},
   "outputs": [],
   "source": [
    "vaers1999.to_csv('C:/Users/chris/Desktop/WozU_Data_Science/VAERS-data/VAERS_Clean/vaers1999.csv')"
   ]
  },
  {
   "cell_type": "code",
   "execution_count": 44,
   "id": "3abed9d3",
   "metadata": {},
   "outputs": [],
   "source": [
    "vaers90_99 = pd.concat([vaers90_98, vaers1999])"
   ]
  },
  {
   "cell_type": "markdown",
   "id": "eeedee88",
   "metadata": {},
   "source": [
    "# 2000"
   ]
  },
  {
   "cell_type": "code",
   "execution_count": 45,
   "id": "b902d19c",
   "metadata": {},
   "outputs": [],
   "source": [
    "vaersdata00 = pd.read_excel('C:/Users/chris/Desktop/WozU_Data_Science/VAERS-data/VAERS_Messy/2000VAERSDATA.xlsx')"
   ]
  },
  {
   "cell_type": "code",
   "execution_count": 46,
   "id": "19160726",
   "metadata": {},
   "outputs": [],
   "source": [
    "vaersvax00 = pd.read_csv('C:/Users/chris/Desktop/WozU_Data_Science/VAERS-data/VAERS_Messy/2000VAERSVAX.csv')"
   ]
  },
  {
   "cell_type": "code",
   "execution_count": 47,
   "id": "3d7139b0",
   "metadata": {},
   "outputs": [],
   "source": [
    "vax00 = vaersvax00[['VAERS_ID', 'VAX_TYPE', 'VAX_MANU', 'VAX_LOT', 'VAX_NAME']]"
   ]
  },
  {
   "cell_type": "code",
   "execution_count": 48,
   "id": "880a0974",
   "metadata": {},
   "outputs": [],
   "source": [
    "data00 = vaersdata00[['VAERS_ID', 'AGE_YRS', 'STATE', 'SYMPTOM_TEXT', 'DIED', 'ER_VISIT']]"
   ]
  },
  {
   "cell_type": "code",
   "execution_count": 49,
   "id": "104da976",
   "metadata": {},
   "outputs": [],
   "source": [
    "vaers2000 = pd.merge(vax00, data00, on= 'VAERS_ID')"
   ]
  },
  {
   "cell_type": "code",
   "execution_count": 50,
   "id": "14d49fd7",
   "metadata": {},
   "outputs": [],
   "source": [
    "vaers2000['Year'] = 2000"
   ]
  },
  {
   "cell_type": "code",
   "execution_count": 51,
   "id": "002e6711",
   "metadata": {},
   "outputs": [],
   "source": [
    "vaers2000.to_csv('C:/Users/chris/Desktop/WozU_Data_Science/VAERS-data/VAERS_Clean/vaers2000.csv')"
   ]
  },
  {
   "cell_type": "code",
   "execution_count": 52,
   "id": "44f38a02",
   "metadata": {},
   "outputs": [],
   "source": [
    "vaers90_00 = pd.concat([vaers90_99, vaers2000])"
   ]
  },
  {
   "cell_type": "markdown",
   "id": "e63beae4",
   "metadata": {},
   "source": [
    "# 2001"
   ]
  },
  {
   "cell_type": "code",
   "execution_count": 53,
   "id": "7160e842",
   "metadata": {},
   "outputs": [],
   "source": [
    "vaersdata01 = pd.read_excel('C:/Users/chris/Desktop/WozU_Data_Science/VAERS-data/VAERS_Messy/2001VAERSDATA.xlsx')"
   ]
  },
  {
   "cell_type": "code",
   "execution_count": 54,
   "id": "95345fec",
   "metadata": {},
   "outputs": [],
   "source": [
    "vaersvax01 = pd.read_csv('C:/Users/chris/Desktop/WozU_Data_Science/VAERS-data/VAERS_Messy/2001VAERSVAX.csv')"
   ]
  },
  {
   "cell_type": "code",
   "execution_count": 55,
   "id": "7975b82a",
   "metadata": {},
   "outputs": [],
   "source": [
    "vax01 = vaersvax01[['VAERS_ID', 'VAX_TYPE', 'VAX_MANU', 'VAX_LOT', 'VAX_NAME']]"
   ]
  },
  {
   "cell_type": "code",
   "execution_count": 56,
   "id": "9705eea0",
   "metadata": {},
   "outputs": [],
   "source": [
    "data01 = vaersdata01[['VAERS_ID', 'AGE_YRS', 'STATE', 'SYMPTOM_TEXT', 'DIED', 'ER_VISIT']]"
   ]
  },
  {
   "cell_type": "code",
   "execution_count": 57,
   "id": "2d7dfbca",
   "metadata": {},
   "outputs": [],
   "source": [
    "vaers2001 = pd.merge(vax01, data01, on= 'VAERS_ID')"
   ]
  },
  {
   "cell_type": "code",
   "execution_count": 58,
   "id": "ee3043aa",
   "metadata": {},
   "outputs": [],
   "source": [
    "vaers2001['Year'] = 2001"
   ]
  },
  {
   "cell_type": "code",
   "execution_count": 59,
   "id": "7a0d46f1",
   "metadata": {},
   "outputs": [],
   "source": [
    "vaers2001.to_csv('C:/Users/chris/Desktop/WozU_Data_Science/VAERS-data/VAERS_Clean/vaers2001.csv')"
   ]
  },
  {
   "cell_type": "code",
   "execution_count": 60,
   "id": "1f65c120",
   "metadata": {},
   "outputs": [],
   "source": [
    "vaers90_01 = pd.concat([vaers90_00, vaers2001])"
   ]
  },
  {
   "cell_type": "markdown",
   "id": "630fad56",
   "metadata": {},
   "source": [
    "# 2002"
   ]
  },
  {
   "cell_type": "code",
   "execution_count": 61,
   "id": "d7223ba8",
   "metadata": {},
   "outputs": [],
   "source": [
    "vaersdata02 = pd.read_excel('C:/Users/chris/Desktop/WozU_Data_Science/VAERS-data/VAERS_Messy/2002VAERSDATA.xlsx')"
   ]
  },
  {
   "cell_type": "code",
   "execution_count": 62,
   "id": "7dd17f3e",
   "metadata": {},
   "outputs": [],
   "source": [
    "vaersvax02 = pd.read_csv('C:/Users/chris/Desktop/WozU_Data_Science/VAERS-data/VAERS_Messy/2002VAERSVAX.csv')"
   ]
  },
  {
   "cell_type": "code",
   "execution_count": 63,
   "id": "e976a1f0",
   "metadata": {},
   "outputs": [],
   "source": [
    "vax02 = vaersvax02[['VAERS_ID', 'VAX_TYPE', 'VAX_MANU', 'VAX_LOT', 'VAX_NAME']]"
   ]
  },
  {
   "cell_type": "code",
   "execution_count": 64,
   "id": "49a81136",
   "metadata": {},
   "outputs": [],
   "source": [
    "data02 = vaersdata02[['VAERS_ID', 'AGE_YRS', 'STATE', 'SYMPTOM_TEXT', 'DIED', 'ER_VISIT']]"
   ]
  },
  {
   "cell_type": "code",
   "execution_count": 65,
   "id": "ac01a986",
   "metadata": {},
   "outputs": [],
   "source": [
    "vaers2002 = pd.merge(vax02, data02, on= 'VAERS_ID')"
   ]
  },
  {
   "cell_type": "code",
   "execution_count": 66,
   "id": "258bb474",
   "metadata": {},
   "outputs": [],
   "source": [
    "vaers2002['Year'] = 2002"
   ]
  },
  {
   "cell_type": "code",
   "execution_count": 67,
   "id": "7a067d04",
   "metadata": {},
   "outputs": [],
   "source": [
    "vaers2002.to_csv('C:/Users/chris/Desktop/WozU_Data_Science/VAERS-data/VAERS_Clean/vaers2002.csv')"
   ]
  },
  {
   "cell_type": "code",
   "execution_count": 68,
   "id": "e55e0d91",
   "metadata": {},
   "outputs": [],
   "source": [
    "vaers90_02 = pd.concat([vaers90_01, vaers2002])"
   ]
  },
  {
   "cell_type": "markdown",
   "id": "5761a98b",
   "metadata": {},
   "source": [
    "# 2003"
   ]
  },
  {
   "cell_type": "code",
   "execution_count": 69,
   "id": "b885c99f",
   "metadata": {},
   "outputs": [],
   "source": [
    "vaersdata03 = pd.read_excel('C:/Users/chris/Desktop/WozU_Data_Science/VAERS-data/VAERS_Messy/2003VAERSDATA.xlsx')"
   ]
  },
  {
   "cell_type": "code",
   "execution_count": 70,
   "id": "61421971",
   "metadata": {},
   "outputs": [],
   "source": [
    "vaersvax03 = pd.read_csv('C:/Users/chris/Desktop/WozU_Data_Science/VAERS-data/VAERS_Messy/2003VAERSVAX.csv')"
   ]
  },
  {
   "cell_type": "code",
   "execution_count": 71,
   "id": "528c2756",
   "metadata": {},
   "outputs": [],
   "source": [
    "vax03 = vaersvax03[['VAERS_ID', 'VAX_TYPE', 'VAX_MANU', 'VAX_LOT', 'VAX_NAME']]"
   ]
  },
  {
   "cell_type": "code",
   "execution_count": 72,
   "id": "ca91402a",
   "metadata": {},
   "outputs": [],
   "source": [
    "data03 = vaersdata03[['VAERS_ID', 'AGE_YRS', 'STATE', 'SYMPTOM_TEXT', 'DIED', 'ER_VISIT']]"
   ]
  },
  {
   "cell_type": "code",
   "execution_count": 73,
   "id": "24b41f71",
   "metadata": {},
   "outputs": [],
   "source": [
    "vaers2003 = pd.merge(vax03, data03, on= 'VAERS_ID')"
   ]
  },
  {
   "cell_type": "code",
   "execution_count": 74,
   "id": "de01ae5f",
   "metadata": {},
   "outputs": [],
   "source": [
    "vaers2003['Year'] = 2003"
   ]
  },
  {
   "cell_type": "code",
   "execution_count": 75,
   "id": "f205bebc",
   "metadata": {},
   "outputs": [],
   "source": [
    "vaers2003.to_csv('C:/Users/chris/Desktop/WozU_Data_Science/VAERS-data/VAERS_Clean/vaers2003.csv')"
   ]
  },
  {
   "cell_type": "code",
   "execution_count": 76,
   "id": "3398a32c",
   "metadata": {},
   "outputs": [],
   "source": [
    "vaers90_03 = pd.concat([vaers90_02, vaers2003])"
   ]
  },
  {
   "cell_type": "markdown",
   "id": "496035a7",
   "metadata": {},
   "source": [
    "# 2004"
   ]
  },
  {
   "cell_type": "code",
   "execution_count": 77,
   "id": "0fba61c6",
   "metadata": {},
   "outputs": [],
   "source": [
    "vaersdata04 = pd.read_excel('C:/Users/chris/Desktop/WozU_Data_Science/VAERS-data/VAERS_Messy/2004VAERSDATA.xlsx')"
   ]
  },
  {
   "cell_type": "code",
   "execution_count": 78,
   "id": "126de5ea",
   "metadata": {},
   "outputs": [],
   "source": [
    "vaersvax04 = pd.read_csv('C:/Users/chris/Desktop/WozU_Data_Science/VAERS-data/VAERS_Messy/2004VAERSVAX.csv')"
   ]
  },
  {
   "cell_type": "code",
   "execution_count": 79,
   "id": "905011e2",
   "metadata": {},
   "outputs": [],
   "source": [
    "vax04 = vaersvax04[['VAERS_ID', 'VAX_TYPE', 'VAX_MANU', 'VAX_LOT', 'VAX_NAME']]"
   ]
  },
  {
   "cell_type": "code",
   "execution_count": 80,
   "id": "3434115c",
   "metadata": {},
   "outputs": [],
   "source": [
    "data04 = vaersdata04[['VAERS_ID', 'AGE_YRS', 'STATE', 'SYMPTOM_TEXT', 'DIED', 'ER_VISIT']]"
   ]
  },
  {
   "cell_type": "code",
   "execution_count": 81,
   "id": "bc17b343",
   "metadata": {},
   "outputs": [],
   "source": [
    "vaers2004 = pd.merge(vax04, data04, on= 'VAERS_ID')"
   ]
  },
  {
   "cell_type": "code",
   "execution_count": 82,
   "id": "804a79d9",
   "metadata": {},
   "outputs": [],
   "source": [
    "vaers2004['Year'] = 2004"
   ]
  },
  {
   "cell_type": "code",
   "execution_count": 83,
   "id": "f9c3fed7",
   "metadata": {},
   "outputs": [],
   "source": [
    "vaers2004.to_csv('C:/Users/chris/Desktop/WozU_Data_Science/VAERS-data/VAERS_Clean/vaers2004.csv')"
   ]
  },
  {
   "cell_type": "code",
   "execution_count": 84,
   "id": "c10cfb5b",
   "metadata": {},
   "outputs": [],
   "source": [
    "vaers90_04 = pd.concat([vaers90_03, vaers2004])"
   ]
  },
  {
   "cell_type": "markdown",
   "id": "a61da916",
   "metadata": {},
   "source": [
    "# 2005"
   ]
  },
  {
   "cell_type": "code",
   "execution_count": 86,
   "id": "ccb43bc3",
   "metadata": {},
   "outputs": [],
   "source": [
    "vaersdata05 = pd.read_excel('C:/Users/chris/Desktop/WozU_Data_Science/VAERS-data/VAERS_Messy/2005VAERSDATA.xlsx')"
   ]
  },
  {
   "cell_type": "code",
   "execution_count": 87,
   "id": "362dc148",
   "metadata": {},
   "outputs": [],
   "source": [
    "vaersvax05 = pd.read_csv('C:/Users/chris/Desktop/WozU_Data_Science/VAERS-data/VAERS_Messy/2005VAERSVAX.csv')"
   ]
  },
  {
   "cell_type": "code",
   "execution_count": 88,
   "id": "954cd42e",
   "metadata": {},
   "outputs": [],
   "source": [
    "vax05 = vaersvax05[['VAERS_ID', 'VAX_TYPE', 'VAX_MANU', 'VAX_LOT', 'VAX_NAME']]"
   ]
  },
  {
   "cell_type": "code",
   "execution_count": 89,
   "id": "9d32221b",
   "metadata": {},
   "outputs": [],
   "source": [
    "data05 = vaersdata05[['VAERS_ID', 'AGE_YRS', 'STATE', 'SYMPTOM_TEXT', 'DIED', 'ER_VISIT']]"
   ]
  },
  {
   "cell_type": "code",
   "execution_count": 90,
   "id": "3815bdf9",
   "metadata": {},
   "outputs": [],
   "source": [
    "vaers2005 = pd.merge(vax05, data05, on= 'VAERS_ID')"
   ]
  },
  {
   "cell_type": "code",
   "execution_count": 91,
   "id": "ee02b6dc",
   "metadata": {},
   "outputs": [],
   "source": [
    "vaers2005['Year'] = 2005"
   ]
  },
  {
   "cell_type": "code",
   "execution_count": 92,
   "id": "5aa13ee6",
   "metadata": {},
   "outputs": [],
   "source": [
    "vaers2005.to_csv('C:/Users/chris/Desktop/WozU_Data_Science/VAERS-data/VAERS_Clean/vaers2005.csv')"
   ]
  },
  {
   "cell_type": "code",
   "execution_count": 93,
   "id": "7f8f9964",
   "metadata": {},
   "outputs": [],
   "source": [
    "vaers90_05 = pd.concat([vaers90_04, vaers2005])"
   ]
  },
  {
   "cell_type": "code",
   "execution_count": 94,
   "id": "0e654a23",
   "metadata": {},
   "outputs": [],
   "source": [
    "vaers90_05.to_csv('C:/Users/chris/Desktop/WozU_Data_Science/VAERS-data/VAERS_Clean/vaers90_05.csv')"
   ]
  },
  {
   "cell_type": "markdown",
   "id": "272bccef",
   "metadata": {},
   "source": [
    "# 2006"
   ]
  },
  {
   "cell_type": "code",
   "execution_count": 95,
   "id": "927906e4",
   "metadata": {},
   "outputs": [],
   "source": [
    "vaersdata06 = pd.read_excel('C:/Users/chris/Desktop/WozU_Data_Science/VAERS-data/VAERS_Messy/2006VAERSDATA.xlsx')"
   ]
  },
  {
   "cell_type": "code",
   "execution_count": 96,
   "id": "af7901a6",
   "metadata": {},
   "outputs": [],
   "source": [
    "vaersvax06 = pd.read_csv('C:/Users/chris/Desktop/WozU_Data_Science/VAERS-data/VAERS_Messy/2006VAERSVAX.csv')"
   ]
  },
  {
   "cell_type": "code",
   "execution_count": 97,
   "id": "58c0713b",
   "metadata": {},
   "outputs": [],
   "source": [
    "vax06 = vaersvax06[['VAERS_ID', 'VAX_TYPE', 'VAX_MANU', 'VAX_LOT', 'VAX_NAME']]"
   ]
  },
  {
   "cell_type": "code",
   "execution_count": 98,
   "id": "4c19d844",
   "metadata": {},
   "outputs": [],
   "source": [
    "data06 = vaersdata06[['VAERS_ID', 'AGE_YRS', 'STATE', 'SYMPTOM_TEXT', 'DIED', 'ER_VISIT']]"
   ]
  },
  {
   "cell_type": "code",
   "execution_count": 99,
   "id": "0383a69c",
   "metadata": {},
   "outputs": [],
   "source": [
    "vaers2006 = pd.merge(vax06, data06, on= 'VAERS_ID')"
   ]
  },
  {
   "cell_type": "code",
   "execution_count": 100,
   "id": "39ae5898",
   "metadata": {},
   "outputs": [],
   "source": [
    "vaers2006['Year'] = 2006"
   ]
  },
  {
   "cell_type": "code",
   "execution_count": 101,
   "id": "9027f1bb",
   "metadata": {},
   "outputs": [],
   "source": [
    "vaers2006.to_csv('C:/Users/chris/Desktop/WozU_Data_Science/VAERS-data/VAERS_Clean/vaers2006.csv')"
   ]
  },
  {
   "cell_type": "code",
   "execution_count": 102,
   "id": "83a5cff2",
   "metadata": {},
   "outputs": [],
   "source": [
    "vaers90_06 = pd.concat([vaers90_05, vaers2006])"
   ]
  },
  {
   "cell_type": "markdown",
   "id": "5423bf84",
   "metadata": {},
   "source": [
    "# 2007"
   ]
  },
  {
   "cell_type": "code",
   "execution_count": 103,
   "id": "63678de1",
   "metadata": {},
   "outputs": [],
   "source": [
    "vaersdata07 = pd.read_excel('C:/Users/chris/Desktop/WozU_Data_Science/VAERS-data/VAERS_Messy/2007VAERSDATA.xlsx')"
   ]
  },
  {
   "cell_type": "code",
   "execution_count": 104,
   "id": "8adaf758",
   "metadata": {},
   "outputs": [],
   "source": [
    "vaersvax07 = pd.read_csv('C:/Users/chris/Desktop/WozU_Data_Science/VAERS-data/VAERS_Messy/2007VAERSVAX.csv')"
   ]
  },
  {
   "cell_type": "code",
   "execution_count": 105,
   "id": "a4db384d",
   "metadata": {},
   "outputs": [],
   "source": [
    "vax07 = vaersvax07[['VAERS_ID', 'VAX_TYPE', 'VAX_MANU', 'VAX_LOT', 'VAX_NAME']]"
   ]
  },
  {
   "cell_type": "code",
   "execution_count": 106,
   "id": "66306c76",
   "metadata": {},
   "outputs": [],
   "source": [
    "data07 = vaersdata07[['VAERS_ID', 'AGE_YRS', 'STATE', 'SYMPTOM_TEXT', 'DIED', 'ER_VISIT']]"
   ]
  },
  {
   "cell_type": "code",
   "execution_count": 107,
   "id": "f0ab534f",
   "metadata": {},
   "outputs": [],
   "source": [
    "vaers2007 = pd.merge(vax07, data07, on= 'VAERS_ID')"
   ]
  },
  {
   "cell_type": "code",
   "execution_count": 108,
   "id": "e6bff016",
   "metadata": {},
   "outputs": [],
   "source": [
    "vaers2007['Year'] = 2007"
   ]
  },
  {
   "cell_type": "code",
   "execution_count": 109,
   "id": "b79ce100",
   "metadata": {},
   "outputs": [],
   "source": [
    "vaers2007.to_csv('C:/Users/chris/Desktop/WozU_Data_Science/VAERS-data/VAERS_Clean/vaers2007.csv')"
   ]
  },
  {
   "cell_type": "code",
   "execution_count": 110,
   "id": "26e69c18",
   "metadata": {},
   "outputs": [],
   "source": [
    "vaers90_07 = pd.concat([vaers90_06, vaers2007])"
   ]
  },
  {
   "cell_type": "markdown",
   "id": "570f3f84",
   "metadata": {},
   "source": [
    "# 2008"
   ]
  },
  {
   "cell_type": "code",
   "execution_count": 111,
   "id": "541ef8ed",
   "metadata": {},
   "outputs": [],
   "source": [
    "vaersdata08 = pd.read_excel('C:/Users/chris/Desktop/WozU_Data_Science/VAERS-data/VAERS_Messy/2008VAERSDATA.xlsx')"
   ]
  },
  {
   "cell_type": "code",
   "execution_count": 112,
   "id": "81a46759",
   "metadata": {},
   "outputs": [],
   "source": [
    "vaersvax08 = pd.read_csv('C:/Users/chris/Desktop/WozU_Data_Science/VAERS-data/VAERS_Messy/2008VAERSVAX.csv')"
   ]
  },
  {
   "cell_type": "code",
   "execution_count": 113,
   "id": "b0f3d714",
   "metadata": {},
   "outputs": [],
   "source": [
    "vax08 = vaersvax08[['VAERS_ID', 'VAX_TYPE', 'VAX_MANU', 'VAX_LOT', 'VAX_NAME']]"
   ]
  },
  {
   "cell_type": "code",
   "execution_count": 114,
   "id": "1396ca1d",
   "metadata": {},
   "outputs": [],
   "source": [
    "data08 = vaersdata08[['VAERS_ID', 'AGE_YRS', 'STATE', 'SYMPTOM_TEXT', 'DIED', 'ER_VISIT']]"
   ]
  },
  {
   "cell_type": "code",
   "execution_count": 115,
   "id": "aa797a36",
   "metadata": {},
   "outputs": [],
   "source": [
    "vaers2008 = pd.merge(vax08, data08, on= 'VAERS_ID')"
   ]
  },
  {
   "cell_type": "code",
   "execution_count": 116,
   "id": "6128b5ec",
   "metadata": {},
   "outputs": [],
   "source": [
    "vaers2008['Year'] = 2008"
   ]
  },
  {
   "cell_type": "code",
   "execution_count": 117,
   "id": "f5deb2df",
   "metadata": {},
   "outputs": [],
   "source": [
    "vaers2008.to_csv('C:/Users/chris/Desktop/WozU_Data_Science/VAERS-data/VAERS_Clean/vaers2008.csv')"
   ]
  },
  {
   "cell_type": "code",
   "execution_count": 118,
   "id": "6ea41350",
   "metadata": {},
   "outputs": [],
   "source": [
    "vaers90_08 = pd.concat([vaers90_07, vaers2008])"
   ]
  },
  {
   "cell_type": "markdown",
   "id": "8ff707fe",
   "metadata": {},
   "source": [
    "# 2009"
   ]
  },
  {
   "cell_type": "code",
   "execution_count": 119,
   "id": "c91691ce",
   "metadata": {},
   "outputs": [],
   "source": [
    "vaersdata09 = pd.read_excel('C:/Users/chris/Desktop/WozU_Data_Science/VAERS-data/VAERS_Messy/2009VAERSDATA.xlsx')"
   ]
  },
  {
   "cell_type": "code",
   "execution_count": 121,
   "id": "bc25b0da",
   "metadata": {},
   "outputs": [],
   "source": [
    "vaersvax09 = pd.read_excel('C:/Users/chris/Desktop/WozU_Data_Science/VAERS-data/VAERS_Messy/2009VAERSVAX.xlsx')"
   ]
  },
  {
   "cell_type": "code",
   "execution_count": 122,
   "id": "069e6d1f",
   "metadata": {},
   "outputs": [],
   "source": [
    "vax09 = vaersvax09[['VAERS_ID', 'VAX_TYPE', 'VAX_MANU', 'VAX_LOT', 'VAX_NAME']]"
   ]
  },
  {
   "cell_type": "code",
   "execution_count": 123,
   "id": "cd6eb9c1",
   "metadata": {},
   "outputs": [],
   "source": [
    "data09 = vaersdata09[['VAERS_ID', 'AGE_YRS', 'STATE', 'SYMPTOM_TEXT', 'DIED', 'ER_VISIT']]"
   ]
  },
  {
   "cell_type": "code",
   "execution_count": 124,
   "id": "5efedf5c",
   "metadata": {},
   "outputs": [],
   "source": [
    "vaers2009 = pd.merge(vax09, data09, on= 'VAERS_ID')"
   ]
  },
  {
   "cell_type": "code",
   "execution_count": 125,
   "id": "426a4a38",
   "metadata": {},
   "outputs": [],
   "source": [
    "vaers2009['Year'] = 2009"
   ]
  },
  {
   "cell_type": "code",
   "execution_count": 126,
   "id": "8c9c247e",
   "metadata": {},
   "outputs": [],
   "source": [
    "vaers2009.to_csv('C:/Users/chris/Desktop/WozU_Data_Science/VAERS-data/VAERS_Clean/vaers2009.csv')"
   ]
  },
  {
   "cell_type": "code",
   "execution_count": 127,
   "id": "4c40f5a2",
   "metadata": {},
   "outputs": [],
   "source": [
    "vaers90_09 = pd.concat([vaers90_08, vaers2009])"
   ]
  },
  {
   "cell_type": "markdown",
   "id": "3c2a4394",
   "metadata": {},
   "source": [
    "# 2010"
   ]
  },
  {
   "cell_type": "code",
   "execution_count": 128,
   "id": "cb0db2a2",
   "metadata": {},
   "outputs": [],
   "source": [
    "vaersdata10 = pd.read_excel('C:/Users/chris/Desktop/WozU_Data_Science/VAERS-data/VAERS_Messy/2010VAERSDATA.xlsx')"
   ]
  },
  {
   "cell_type": "code",
   "execution_count": 129,
   "id": "3f2742fc",
   "metadata": {},
   "outputs": [],
   "source": [
    "vaersvax10 = pd.read_csv('C:/Users/chris/Desktop/WozU_Data_Science/VAERS-data/VAERS_Messy/2010VAERSVAX.csv')"
   ]
  },
  {
   "cell_type": "code",
   "execution_count": 130,
   "id": "a05b5e3c",
   "metadata": {},
   "outputs": [],
   "source": [
    "vax10 = vaersvax10[['VAERS_ID', 'VAX_TYPE', 'VAX_MANU', 'VAX_LOT', 'VAX_NAME']]"
   ]
  },
  {
   "cell_type": "code",
   "execution_count": 131,
   "id": "456cae2a",
   "metadata": {},
   "outputs": [],
   "source": [
    "data10 = vaersdata10[['VAERS_ID', 'AGE_YRS', 'STATE', 'SYMPTOM_TEXT', 'DIED', 'ER_VISIT']]"
   ]
  },
  {
   "cell_type": "code",
   "execution_count": 132,
   "id": "0119bc10",
   "metadata": {},
   "outputs": [],
   "source": [
    "vaers2010 = pd.merge(vax10, data10, on= 'VAERS_ID')"
   ]
  },
  {
   "cell_type": "code",
   "execution_count": 133,
   "id": "d26ecd0c",
   "metadata": {},
   "outputs": [],
   "source": [
    "vaers2010['Year'] = 2010"
   ]
  },
  {
   "cell_type": "code",
   "execution_count": 134,
   "id": "c1248346",
   "metadata": {},
   "outputs": [],
   "source": [
    "vaers2010.to_csv('C:/Users/chris/Desktop/WozU_Data_Science/VAERS-data/VAERS_Clean/vaers2010.csv')"
   ]
  },
  {
   "cell_type": "code",
   "execution_count": 135,
   "id": "ab3df042",
   "metadata": {},
   "outputs": [],
   "source": [
    "vaers90_10 = pd.concat([vaers90_09, vaers2010])"
   ]
  },
  {
   "cell_type": "markdown",
   "id": "9ecf41c9",
   "metadata": {},
   "source": [
    "# 2011"
   ]
  },
  {
   "cell_type": "code",
   "execution_count": 136,
   "id": "dcd49d83",
   "metadata": {},
   "outputs": [],
   "source": [
    "vaersdata11 = pd.read_excel('C:/Users/chris/Desktop/WozU_Data_Science/VAERS-data/VAERS_Messy/2011VAERSDATA.xlsx')"
   ]
  },
  {
   "cell_type": "code",
   "execution_count": 137,
   "id": "55a3013b",
   "metadata": {},
   "outputs": [],
   "source": [
    "vaersvax11 = pd.read_csv('C:/Users/chris/Desktop/WozU_Data_Science/VAERS-data/VAERS_Messy/2011VAERSVAX.csv')"
   ]
  },
  {
   "cell_type": "code",
   "execution_count": 138,
   "id": "1ddf1793",
   "metadata": {},
   "outputs": [],
   "source": [
    "vax11 = vaersvax11[['VAERS_ID', 'VAX_TYPE', 'VAX_MANU', 'VAX_LOT', 'VAX_NAME']]"
   ]
  },
  {
   "cell_type": "code",
   "execution_count": 139,
   "id": "6a9aa85b",
   "metadata": {},
   "outputs": [],
   "source": [
    "data11 = vaersdata11[['VAERS_ID', 'AGE_YRS', 'STATE', 'SYMPTOM_TEXT', 'DIED', 'ER_VISIT']]"
   ]
  },
  {
   "cell_type": "code",
   "execution_count": 140,
   "id": "06e89b90",
   "metadata": {},
   "outputs": [],
   "source": [
    "vaers2011 = pd.merge(vax11, data11, on= 'VAERS_ID')"
   ]
  },
  {
   "cell_type": "code",
   "execution_count": 141,
   "id": "b6fa2361",
   "metadata": {},
   "outputs": [],
   "source": [
    "vaers2011['Year'] = 2011"
   ]
  },
  {
   "cell_type": "code",
   "execution_count": 142,
   "id": "2e956b1e",
   "metadata": {},
   "outputs": [],
   "source": [
    "vaers2011.to_csv('C:/Users/chris/Desktop/WozU_Data_Science/VAERS-data/VAERS_Clean/vaers2011.csv')"
   ]
  },
  {
   "cell_type": "code",
   "execution_count": 143,
   "id": "c741e852",
   "metadata": {},
   "outputs": [],
   "source": [
    "vaers90_11 = pd.concat([vaers90_10, vaers2011])"
   ]
  },
  {
   "cell_type": "code",
   "execution_count": 144,
   "id": "756f969a",
   "metadata": {},
   "outputs": [],
   "source": [
    "vaers90_11.to_csv('C:/Users/chris/Desktop/WozU_Data_Science/VAERS-data/VAERS_Clean/vaers90_11.csv')"
   ]
  },
  {
   "cell_type": "markdown",
   "id": "8d44cee1",
   "metadata": {},
   "source": [
    "# 2012"
   ]
  },
  {
   "cell_type": "code",
   "execution_count": 145,
   "id": "61a96ee7",
   "metadata": {},
   "outputs": [],
   "source": [
    "vaersdata12 = pd.read_excel('C:/Users/chris/Desktop/WozU_Data_Science/VAERS-data/VAERS_Messy/2012VAERSDATA.xlsx')"
   ]
  },
  {
   "cell_type": "code",
   "execution_count": 146,
   "id": "180b3272",
   "metadata": {},
   "outputs": [],
   "source": [
    "vaersvax12 = pd.read_csv('C:/Users/chris/Desktop/WozU_Data_Science/VAERS-data/VAERS_Messy/2012VAERSVAX.csv')"
   ]
  },
  {
   "cell_type": "code",
   "execution_count": 147,
   "id": "04860a59",
   "metadata": {},
   "outputs": [],
   "source": [
    "vax12 = vaersvax12[['VAERS_ID', 'VAX_TYPE', 'VAX_MANU', 'VAX_LOT', 'VAX_NAME']]"
   ]
  },
  {
   "cell_type": "code",
   "execution_count": 148,
   "id": "4bdfd835",
   "metadata": {},
   "outputs": [],
   "source": [
    "data12 = vaersdata12[['VAERS_ID', 'AGE_YRS', 'STATE', 'SYMPTOM_TEXT', 'DIED', 'ER_VISIT']]"
   ]
  },
  {
   "cell_type": "code",
   "execution_count": 149,
   "id": "9e2266e4",
   "metadata": {},
   "outputs": [],
   "source": [
    "vaers2012 = pd.merge(vax12, data12, on= 'VAERS_ID')"
   ]
  },
  {
   "cell_type": "code",
   "execution_count": 150,
   "id": "c5617784",
   "metadata": {},
   "outputs": [],
   "source": [
    "vaers2012['Year'] = 2012"
   ]
  },
  {
   "cell_type": "code",
   "execution_count": 151,
   "id": "64f07864",
   "metadata": {},
   "outputs": [],
   "source": [
    "vaers2012.to_csv('C:/Users/chris/Desktop/WozU_Data_Science/VAERS-data/VAERS_Clean/vaers2012.csv')"
   ]
  },
  {
   "cell_type": "code",
   "execution_count": 152,
   "id": "7ef6ceb7",
   "metadata": {},
   "outputs": [],
   "source": [
    "vaers90_12 = pd.concat([vaers90_11, vaers2012])"
   ]
  },
  {
   "cell_type": "code",
   "execution_count": 153,
   "id": "1b4aae53",
   "metadata": {},
   "outputs": [],
   "source": [
    "vaers90_12.to_csv('C:/Users/chris/Desktop/WozU_Data_Science/VAERS-data/VAERS_Clean/vaers90_12.csv')"
   ]
  },
  {
   "cell_type": "markdown",
   "id": "833ecb05",
   "metadata": {},
   "source": [
    "# 2013"
   ]
  },
  {
   "cell_type": "code",
   "execution_count": 154,
   "id": "c012b887",
   "metadata": {},
   "outputs": [],
   "source": [
    "vaersdata13 = pd.read_excel('C:/Users/chris/Desktop/WozU_Data_Science/VAERS-data/VAERS_Messy/2013VAERSDATA.xlsx')"
   ]
  },
  {
   "cell_type": "code",
   "execution_count": 155,
   "id": "28e1b336",
   "metadata": {},
   "outputs": [],
   "source": [
    "vaersvax13 = pd.read_csv('C:/Users/chris/Desktop/WozU_Data_Science/VAERS-data/VAERS_Messy/2013VAERSVAX.csv')"
   ]
  },
  {
   "cell_type": "code",
   "execution_count": 156,
   "id": "d2c5aa9c",
   "metadata": {},
   "outputs": [],
   "source": [
    "vax13 = vaersvax13[['VAERS_ID', 'VAX_TYPE', 'VAX_MANU', 'VAX_LOT', 'VAX_NAME']]"
   ]
  },
  {
   "cell_type": "code",
   "execution_count": 157,
   "id": "f9b241e6",
   "metadata": {},
   "outputs": [],
   "source": [
    "data13 = vaersdata13[['VAERS_ID', 'AGE_YRS', 'STATE', 'SYMPTOM_TEXT', 'DIED', 'ER_VISIT']]"
   ]
  },
  {
   "cell_type": "code",
   "execution_count": 158,
   "id": "87e46e4f",
   "metadata": {},
   "outputs": [],
   "source": [
    "vaers2013 = pd.merge(vax13, data13, on= 'VAERS_ID')"
   ]
  },
  {
   "cell_type": "code",
   "execution_count": 159,
   "id": "f87e8d8c",
   "metadata": {},
   "outputs": [],
   "source": [
    "vaers2013['Year'] = 2013"
   ]
  },
  {
   "cell_type": "code",
   "execution_count": 160,
   "id": "36c79f28",
   "metadata": {},
   "outputs": [],
   "source": [
    "vaers2013.to_csv('C:/Users/chris/Desktop/WozU_Data_Science/VAERS-data/VAERS_Clean/vaers2013.csv')"
   ]
  },
  {
   "cell_type": "code",
   "execution_count": 161,
   "id": "19c20d77",
   "metadata": {},
   "outputs": [],
   "source": [
    "vaers90_13 = pd.concat([vaers90_12, vaers2013])"
   ]
  },
  {
   "cell_type": "markdown",
   "id": "c5839724",
   "metadata": {},
   "source": [
    "# 2014"
   ]
  },
  {
   "cell_type": "code",
   "execution_count": 163,
   "id": "1a7d5599",
   "metadata": {},
   "outputs": [],
   "source": [
    "vaersdata14 = pd.read_excel('C:/Users/chris/Desktop/WozU_Data_Science/VAERS-data/VAERS_Messy/2014VAERSDATA.xlsx')"
   ]
  },
  {
   "cell_type": "code",
   "execution_count": 164,
   "id": "3cadb467",
   "metadata": {},
   "outputs": [],
   "source": [
    "vaersvax14 = pd.read_csv('C:/Users/chris/Desktop/WozU_Data_Science/VAERS-data/VAERS_Messy/2014VAERSVAX.csv')"
   ]
  },
  {
   "cell_type": "code",
   "execution_count": 165,
   "id": "55521e21",
   "metadata": {},
   "outputs": [],
   "source": [
    "vax14 = vaersvax14[['VAERS_ID', 'VAX_TYPE', 'VAX_MANU', 'VAX_LOT', 'VAX_NAME']]"
   ]
  },
  {
   "cell_type": "code",
   "execution_count": 166,
   "id": "50fd1ac2",
   "metadata": {},
   "outputs": [],
   "source": [
    "data14 = vaersdata14[['VAERS_ID', 'AGE_YRS', 'STATE', 'SYMPTOM_TEXT', 'DIED', 'ER_VISIT']]"
   ]
  },
  {
   "cell_type": "code",
   "execution_count": 167,
   "id": "407e6521",
   "metadata": {},
   "outputs": [],
   "source": [
    "vaers2014 = pd.merge(vax14, data14, on= 'VAERS_ID')"
   ]
  },
  {
   "cell_type": "code",
   "execution_count": 168,
   "id": "350156c8",
   "metadata": {},
   "outputs": [],
   "source": [
    "vaers2014['Year'] = 2014"
   ]
  },
  {
   "cell_type": "code",
   "execution_count": 169,
   "id": "8575a5aa",
   "metadata": {},
   "outputs": [],
   "source": [
    "vaers2014.to_csv('C:/Users/chris/Desktop/WozU_Data_Science/VAERS-data/VAERS_Clean/vaers2014.csv')"
   ]
  },
  {
   "cell_type": "code",
   "execution_count": 170,
   "id": "99d71217",
   "metadata": {},
   "outputs": [],
   "source": [
    "vaers90_14 = pd.concat([vaers90_13, vaers2014])"
   ]
  },
  {
   "cell_type": "markdown",
   "id": "98e2876d",
   "metadata": {},
   "source": [
    "# 2015"
   ]
  },
  {
   "cell_type": "code",
   "execution_count": 171,
   "id": "a755bfd0",
   "metadata": {},
   "outputs": [],
   "source": [
    "vaersdata15 = pd.read_excel('C:/Users/chris/Desktop/WozU_Data_Science/VAERS-data/VAERS_Messy/2015VAERSDATA.xlsx')"
   ]
  },
  {
   "cell_type": "code",
   "execution_count": 172,
   "id": "ef52508d",
   "metadata": {},
   "outputs": [],
   "source": [
    "vaersvax15 = pd.read_csv('C:/Users/chris/Desktop/WozU_Data_Science/VAERS-data/VAERS_Messy/2015VAERSVAX.csv')"
   ]
  },
  {
   "cell_type": "code",
   "execution_count": 173,
   "id": "92a3b03a",
   "metadata": {},
   "outputs": [],
   "source": [
    "vax15 = vaersvax15[['VAERS_ID', 'VAX_TYPE', 'VAX_MANU', 'VAX_LOT', 'VAX_NAME']]"
   ]
  },
  {
   "cell_type": "code",
   "execution_count": 174,
   "id": "c8ea66de",
   "metadata": {},
   "outputs": [],
   "source": [
    "data15 = vaersdata15[['VAERS_ID', 'AGE_YRS', 'STATE', 'SYMPTOM_TEXT', 'DIED', 'ER_VISIT']]"
   ]
  },
  {
   "cell_type": "code",
   "execution_count": 175,
   "id": "8a63d0eb",
   "metadata": {},
   "outputs": [],
   "source": [
    "vaers2015 = pd.merge(vax15, data15, on= 'VAERS_ID')"
   ]
  },
  {
   "cell_type": "code",
   "execution_count": 176,
   "id": "814cde3a",
   "metadata": {},
   "outputs": [],
   "source": [
    "vaers2015['Year'] = 2015"
   ]
  },
  {
   "cell_type": "code",
   "execution_count": 177,
   "id": "5d6b39c8",
   "metadata": {},
   "outputs": [],
   "source": [
    "vaers2015.to_csv('C:/Users/chris/Desktop/WozU_Data_Science/VAERS-data/VAERS_Clean/vaers2015.csv')"
   ]
  },
  {
   "cell_type": "code",
   "execution_count": 178,
   "id": "cd284625",
   "metadata": {},
   "outputs": [],
   "source": [
    "vaers90_15 = pd.concat([vaers90_14, vaers2015])"
   ]
  },
  {
   "cell_type": "markdown",
   "id": "610836a4",
   "metadata": {},
   "source": [
    "# 2016"
   ]
  },
  {
   "cell_type": "code",
   "execution_count": 179,
   "id": "3ce61053",
   "metadata": {},
   "outputs": [],
   "source": [
    "vaersdata16 = pd.read_excel('C:/Users/chris/Desktop/WozU_Data_Science/VAERS-data/VAERS_Messy/2016VAERSDATA.xlsx')"
   ]
  },
  {
   "cell_type": "code",
   "execution_count": 180,
   "id": "07bcefc5",
   "metadata": {},
   "outputs": [],
   "source": [
    "vaersvax16 = pd.read_csv('C:/Users/chris/Desktop/WozU_Data_Science/VAERS-data/VAERS_Messy/2016VAERSVAX.csv')"
   ]
  },
  {
   "cell_type": "code",
   "execution_count": 181,
   "id": "bbf1a1f9",
   "metadata": {},
   "outputs": [],
   "source": [
    "vax16 = vaersvax16[['VAERS_ID', 'VAX_TYPE', 'VAX_MANU', 'VAX_LOT', 'VAX_NAME']]"
   ]
  },
  {
   "cell_type": "code",
   "execution_count": 182,
   "id": "2c34e081",
   "metadata": {},
   "outputs": [],
   "source": [
    "data16 = vaersdata16[['VAERS_ID', 'AGE_YRS', 'STATE', 'SYMPTOM_TEXT', 'DIED', 'ER_VISIT']]"
   ]
  },
  {
   "cell_type": "code",
   "execution_count": 183,
   "id": "d95245ad",
   "metadata": {},
   "outputs": [],
   "source": [
    "vaers2016 = pd.merge(vax16, data16, on= 'VAERS_ID')"
   ]
  },
  {
   "cell_type": "code",
   "execution_count": 184,
   "id": "320607b4",
   "metadata": {},
   "outputs": [],
   "source": [
    "vaers2016['Year'] = 2016"
   ]
  },
  {
   "cell_type": "code",
   "execution_count": 185,
   "id": "4251e1de",
   "metadata": {},
   "outputs": [],
   "source": [
    "vaers2016.to_csv('C:/Users/chris/Desktop/WozU_Data_Science/VAERS-data/VAERS_Clean/vaers2016.csv')"
   ]
  },
  {
   "cell_type": "code",
   "execution_count": 186,
   "id": "2c925fe0",
   "metadata": {},
   "outputs": [],
   "source": [
    "vaers90_16 = pd.concat([vaers90_15, vaers2016])"
   ]
  },
  {
   "cell_type": "markdown",
   "id": "f1434d33",
   "metadata": {},
   "source": [
    "# 2017"
   ]
  },
  {
   "cell_type": "code",
   "execution_count": 187,
   "id": "6060025f",
   "metadata": {},
   "outputs": [],
   "source": [
    "vaersdata17 = pd.read_excel('C:/Users/chris/Desktop/WozU_Data_Science/VAERS-data/VAERS_Messy/2017VAERSDATA.xlsx')"
   ]
  },
  {
   "cell_type": "code",
   "execution_count": 189,
   "id": "0b792f6f",
   "metadata": {},
   "outputs": [],
   "source": [
    "vaersvax17 = pd.read_excel('C:/Users/chris/Desktop/WozU_Data_Science/VAERS-data/VAERS_Messy/2017VAERSVAX.xlsx')"
   ]
  },
  {
   "cell_type": "code",
   "execution_count": 190,
   "id": "0afaef77",
   "metadata": {},
   "outputs": [],
   "source": [
    "vax17 = vaersvax17[['VAERS_ID', 'VAX_TYPE', 'VAX_MANU', 'VAX_LOT', 'VAX_NAME']]"
   ]
  },
  {
   "cell_type": "code",
   "execution_count": 191,
   "id": "74a0bab9",
   "metadata": {},
   "outputs": [],
   "source": [
    "data17 = vaersdata17[['VAERS_ID', 'AGE_YRS', 'STATE', 'SYMPTOM_TEXT', 'DIED', 'ER_VISIT']]"
   ]
  },
  {
   "cell_type": "code",
   "execution_count": 192,
   "id": "fe14214b",
   "metadata": {},
   "outputs": [],
   "source": [
    "vaers2017 = pd.merge(vax17, data17, on= 'VAERS_ID')"
   ]
  },
  {
   "cell_type": "code",
   "execution_count": 193,
   "id": "e34bd1c0",
   "metadata": {},
   "outputs": [],
   "source": [
    "vaers2017['Year'] = 2017"
   ]
  },
  {
   "cell_type": "code",
   "execution_count": 194,
   "id": "bf60dc72",
   "metadata": {},
   "outputs": [],
   "source": [
    "vaers2017.to_csv('C:/Users/chris/Desktop/WozU_Data_Science/VAERS-data/VAERS_Clean/vaers2017.csv')"
   ]
  },
  {
   "cell_type": "code",
   "execution_count": 195,
   "id": "e7533032",
   "metadata": {},
   "outputs": [],
   "source": [
    "vaers90_17 = pd.concat([vaers90_16, vaers2017])"
   ]
  },
  {
   "cell_type": "markdown",
   "id": "57bb878b",
   "metadata": {},
   "source": [
    "# 2018"
   ]
  },
  {
   "cell_type": "code",
   "execution_count": 196,
   "id": "8c61c7c3",
   "metadata": {},
   "outputs": [],
   "source": [
    "vaersdata18 = pd.read_excel('C:/Users/chris/Desktop/WozU_Data_Science/VAERS-data/VAERS_Messy/2018VAERSDATA.xlsx')"
   ]
  },
  {
   "cell_type": "code",
   "execution_count": 197,
   "id": "fa2d8d3c",
   "metadata": {},
   "outputs": [],
   "source": [
    "vaersvax18 = pd.read_csv('C:/Users/chris/Desktop/WozU_Data_Science/VAERS-data/VAERS_Messy/2018VAERSVAX.csv')"
   ]
  },
  {
   "cell_type": "code",
   "execution_count": 198,
   "id": "5922a84a",
   "metadata": {},
   "outputs": [],
   "source": [
    "vax18 = vaersvax18[['VAERS_ID', 'VAX_TYPE', 'VAX_MANU', 'VAX_LOT', 'VAX_NAME']]"
   ]
  },
  {
   "cell_type": "code",
   "execution_count": 199,
   "id": "9cb7881d",
   "metadata": {},
   "outputs": [],
   "source": [
    "data18 = vaersdata18[['VAERS_ID', 'AGE_YRS', 'STATE', 'SYMPTOM_TEXT', 'DIED', 'ER_VISIT']]"
   ]
  },
  {
   "cell_type": "code",
   "execution_count": 200,
   "id": "aee1e9cf",
   "metadata": {},
   "outputs": [],
   "source": [
    "vaers2018 = pd.merge(vax18, data18, on= 'VAERS_ID')"
   ]
  },
  {
   "cell_type": "code",
   "execution_count": 201,
   "id": "b31743dc",
   "metadata": {},
   "outputs": [],
   "source": [
    "vaers2018['Year'] = 2018"
   ]
  },
  {
   "cell_type": "code",
   "execution_count": 202,
   "id": "2610f1b0",
   "metadata": {},
   "outputs": [],
   "source": [
    "vaers2018.to_csv('C:/Users/chris/Desktop/WozU_Data_Science/VAERS-data/VAERS_Clean/vaers2018.csv')"
   ]
  },
  {
   "cell_type": "code",
   "execution_count": 203,
   "id": "bb06b203",
   "metadata": {},
   "outputs": [],
   "source": [
    "vaers90_18 = pd.concat([vaers90_17, vaers2018])"
   ]
  },
  {
   "cell_type": "markdown",
   "id": "1226da53",
   "metadata": {},
   "source": [
    "# 2019"
   ]
  },
  {
   "cell_type": "code",
   "execution_count": 204,
   "id": "abc77dc3",
   "metadata": {},
   "outputs": [],
   "source": [
    "vaersdata19 = pd.read_excel('C:/Users/chris/Desktop/WozU_Data_Science/VAERS-data/VAERS_Messy/2019VAERSDATA.xlsx')"
   ]
  },
  {
   "cell_type": "code",
   "execution_count": 205,
   "id": "63e83b24",
   "metadata": {},
   "outputs": [],
   "source": [
    "vaersvax19 = pd.read_csv('C:/Users/chris/Desktop/WozU_Data_Science/VAERS-data/VAERS_Messy/2019VAERSVAX.csv')"
   ]
  },
  {
   "cell_type": "code",
   "execution_count": 206,
   "id": "78124431",
   "metadata": {},
   "outputs": [],
   "source": [
    "vax19 = vaersvax19[['VAERS_ID', 'VAX_TYPE', 'VAX_MANU', 'VAX_LOT', 'VAX_NAME']]"
   ]
  },
  {
   "cell_type": "code",
   "execution_count": 207,
   "id": "74783baf",
   "metadata": {},
   "outputs": [],
   "source": [
    "data19 = vaersdata19[['VAERS_ID', 'AGE_YRS', 'STATE', 'SYMPTOM_TEXT', 'DIED', 'ER_VISIT']]"
   ]
  },
  {
   "cell_type": "code",
   "execution_count": 208,
   "id": "223f578b",
   "metadata": {},
   "outputs": [],
   "source": [
    "vaers2019 = pd.merge(vax19, data19, on= 'VAERS_ID')"
   ]
  },
  {
   "cell_type": "code",
   "execution_count": 209,
   "id": "c311fdcd",
   "metadata": {},
   "outputs": [],
   "source": [
    "vaers2019['Year'] = 2019"
   ]
  },
  {
   "cell_type": "code",
   "execution_count": 210,
   "id": "1ff1e088",
   "metadata": {},
   "outputs": [],
   "source": [
    "vaers2019.to_csv('C:/Users/chris/Desktop/WozU_Data_Science/VAERS-data/VAERS_Clean/vaers2019.csv')"
   ]
  },
  {
   "cell_type": "code",
   "execution_count": 211,
   "id": "d145934c",
   "metadata": {},
   "outputs": [],
   "source": [
    "vaers90_19 = pd.concat([vaers90_18, vaers2019])"
   ]
  },
  {
   "cell_type": "markdown",
   "id": "677891a4",
   "metadata": {},
   "source": [
    "# 2020"
   ]
  },
  {
   "cell_type": "code",
   "execution_count": 212,
   "id": "d80ca06c",
   "metadata": {},
   "outputs": [],
   "source": [
    "vaersdata20 = pd.read_excel('C:/Users/chris/Desktop/WozU_Data_Science/VAERS-data/VAERS_Messy/2020VAERSDATA.xlsx')"
   ]
  },
  {
   "cell_type": "code",
   "execution_count": 213,
   "id": "5727db87",
   "metadata": {},
   "outputs": [],
   "source": [
    "vaersvax20 = pd.read_csv('C:/Users/chris/Desktop/WozU_Data_Science/VAERS-data/VAERS_Messy/2020VAERSVAX.csv')"
   ]
  },
  {
   "cell_type": "code",
   "execution_count": 214,
   "id": "b6a6508f",
   "metadata": {},
   "outputs": [],
   "source": [
    "vax20 = vaersvax20[['VAERS_ID', 'VAX_TYPE', 'VAX_MANU', 'VAX_LOT', 'VAX_NAME']]"
   ]
  },
  {
   "cell_type": "code",
   "execution_count": 215,
   "id": "444aa63b",
   "metadata": {},
   "outputs": [],
   "source": [
    "data20 = vaersdata20[['VAERS_ID', 'AGE_YRS', 'STATE', 'SYMPTOM_TEXT', 'DIED', 'ER_VISIT']]"
   ]
  },
  {
   "cell_type": "code",
   "execution_count": 216,
   "id": "b980258e",
   "metadata": {},
   "outputs": [],
   "source": [
    "vaers2020 = pd.merge(vax20, data20, on= 'VAERS_ID')"
   ]
  },
  {
   "cell_type": "code",
   "execution_count": 217,
   "id": "a5944427",
   "metadata": {},
   "outputs": [],
   "source": [
    "vaers2020['Year'] = 2020"
   ]
  },
  {
   "cell_type": "code",
   "execution_count": 218,
   "id": "6516eba3",
   "metadata": {},
   "outputs": [],
   "source": [
    "vaers2020.to_csv('C:/Users/chris/Desktop/WozU_Data_Science/VAERS-data/VAERS_Clean/vaers2020.csv')"
   ]
  },
  {
   "cell_type": "code",
   "execution_count": 219,
   "id": "cdcef3e8",
   "metadata": {},
   "outputs": [],
   "source": [
    "vaers90_20 = pd.concat([vaers90_19, vaers2012])"
   ]
  },
  {
   "cell_type": "markdown",
   "id": "b6a7101b",
   "metadata": {},
   "source": [
    "# 2021"
   ]
  },
  {
   "cell_type": "code",
   "execution_count": 220,
   "id": "2d8a2264",
   "metadata": {},
   "outputs": [],
   "source": [
    "vaersdata21 = pd.read_excel('C:/Users/chris/Desktop/WozU_Data_Science/VAERS-data/VAERS_Messy/2021VAERSDATA.xlsx')"
   ]
  },
  {
   "cell_type": "code",
   "execution_count": 222,
   "id": "afee3969",
   "metadata": {},
   "outputs": [],
   "source": [
    "vaersvax21 = pd.read_excel('C:/Users/chris/Desktop/WozU_Data_Science/VAERS-data/VAERS_Messy/2021VAERSVAX.xlsx')"
   ]
  },
  {
   "cell_type": "code",
   "execution_count": 223,
   "id": "a384473a",
   "metadata": {},
   "outputs": [],
   "source": [
    "vax21 = vaersvax21[['VAERS_ID', 'VAX_TYPE', 'VAX_MANU', 'VAX_LOT', 'VAX_NAME']]"
   ]
  },
  {
   "cell_type": "code",
   "execution_count": 224,
   "id": "5025e0b6",
   "metadata": {},
   "outputs": [],
   "source": [
    "data21 = vaersdata21[['VAERS_ID', 'AGE_YRS', 'STATE', 'SYMPTOM_TEXT', 'DIED', 'ER_VISIT']]"
   ]
  },
  {
   "cell_type": "code",
   "execution_count": 225,
   "id": "ed0b927c",
   "metadata": {},
   "outputs": [],
   "source": [
    "vaers2021 = pd.merge(vax21, data21, on= 'VAERS_ID')"
   ]
  },
  {
   "cell_type": "code",
   "execution_count": 226,
   "id": "7c8fda8e",
   "metadata": {},
   "outputs": [],
   "source": [
    "vaers2021['Year'] = 2021"
   ]
  },
  {
   "cell_type": "code",
   "execution_count": 229,
   "id": "c673dbe0",
   "metadata": {},
   "outputs": [],
   "source": [
    "vaers2021.to_csv('C:/Users/chris/Desktop/WozU_Data_Science/VAERS-data/VAERS_Clean/vaers2021.csv')"
   ]
  },
  {
   "cell_type": "code",
   "execution_count": 230,
   "id": "747b1551",
   "metadata": {},
   "outputs": [],
   "source": [
    "vaers90_21 = pd.concat([vaers90_20, vaers2021])"
   ]
  },
  {
   "cell_type": "code",
   "execution_count": 231,
   "id": "ad5841d8",
   "metadata": {},
   "outputs": [],
   "source": [
    "vaers90_21.to_csv('C:/Users/chris/Desktop/WozU_Data_Science/VAERS-data/VAERS_Clean/vaers90_21.csv')"
   ]
  },
  {
   "cell_type": "markdown",
   "id": "978e22cd",
   "metadata": {},
   "source": [
    "# 2022"
   ]
  },
  {
   "cell_type": "code",
   "execution_count": 232,
   "id": "b772dcd6",
   "metadata": {},
   "outputs": [],
   "source": [
    "vaersdata22 = pd.read_excel('C:/Users/chris/Desktop/WozU_Data_Science/VAERS-data/VAERS_Messy/2022VAERSDATA.xlsx')"
   ]
  },
  {
   "cell_type": "code",
   "execution_count": 234,
   "id": "8384beef",
   "metadata": {},
   "outputs": [],
   "source": [
    "vaersvax22 = pd.read_excel('C:/Users/chris/Desktop/WozU_Data_Science/VAERS-data/VAERS_Messy/2022VAERSVAX.xlsx')"
   ]
  },
  {
   "cell_type": "code",
   "execution_count": 235,
   "id": "68efbc19",
   "metadata": {},
   "outputs": [],
   "source": [
    "vax22 = vaersvax22[['VAERS_ID', 'VAX_TYPE', 'VAX_MANU', 'VAX_LOT', 'VAX_NAME']]"
   ]
  },
  {
   "cell_type": "code",
   "execution_count": 236,
   "id": "2d17973c",
   "metadata": {},
   "outputs": [],
   "source": [
    "data22 = vaersdata22[['VAERS_ID', 'AGE_YRS', 'STATE', 'SYMPTOM_TEXT', 'DIED', 'ER_VISIT']]"
   ]
  },
  {
   "cell_type": "code",
   "execution_count": 237,
   "id": "1a243fce",
   "metadata": {},
   "outputs": [],
   "source": [
    "vaers2022 = pd.merge(vax22, data22, on= 'VAERS_ID')"
   ]
  },
  {
   "cell_type": "code",
   "execution_count": 238,
   "id": "72d5390f",
   "metadata": {},
   "outputs": [],
   "source": [
    "vaers2022['Year'] = 2022"
   ]
  },
  {
   "cell_type": "code",
   "execution_count": 239,
   "id": "e6d2f981",
   "metadata": {},
   "outputs": [],
   "source": [
    "vaers2022.to_csv('C:/Users/chris/Desktop/WozU_Data_Science/VAERS-data/VAERS_Clean/vaers2022.csv')"
   ]
  },
  {
   "cell_type": "code",
   "execution_count": 240,
   "id": "81103fe6",
   "metadata": {},
   "outputs": [],
   "source": [
    "vaers90_22 = pd.concat([vaers90_21, vaers2022])"
   ]
  },
  {
   "cell_type": "code",
   "execution_count": 241,
   "id": "fc10cdb9",
   "metadata": {},
   "outputs": [],
   "source": [
    "vaers90_22.to_csv('C:/Users/chris/Desktop/WozU_Data_Science/VAERS-data/VAERS_Clean/vaers90_22.csv')"
   ]
  },
  {
   "cell_type": "code",
   "execution_count": null,
   "id": "dc305868",
   "metadata": {},
   "outputs": [],
   "source": []
  }
 ],
 "metadata": {
  "kernelspec": {
   "display_name": "Python 3 (ipykernel)",
   "language": "python",
   "name": "python3"
  },
  "language_info": {
   "codemirror_mode": {
    "name": "ipython",
    "version": 3
   },
   "file_extension": ".py",
   "mimetype": "text/x-python",
   "name": "python",
   "nbconvert_exporter": "python",
   "pygments_lexer": "ipython3",
   "version": "3.11.0"
  }
 },
 "nbformat": 4,
 "nbformat_minor": 5
}
