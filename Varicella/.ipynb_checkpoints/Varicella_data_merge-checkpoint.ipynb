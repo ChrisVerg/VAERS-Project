{
 "cells": [
  {
   "cell_type": "code",
   "execution_count": 2,
   "id": "6183c760",
   "metadata": {},
   "outputs": [],
   "source": [
    "import pandas as pd"
   ]
  },
  {
   "cell_type": "markdown",
   "id": "427de67a",
   "metadata": {},
   "source": [
    "# Import complete and clean dataset for VAERS"
   ]
  },
  {
   "cell_type": "code",
   "execution_count": null,
   "id": "1ea334cc",
   "metadata": {},
   "outputs": [],
   "source": [
    "vaers  = pd.read_csv('C:\\Users\\chris\\Desktop\\WozU_Data_Science\\VAERS_CleanData')"
   ]
  }
 ],
 "metadata": {
  "kernelspec": {
   "display_name": "Python 3 (ipykernel)",
   "language": "python",
   "name": "python3"
  },
  "language_info": {
   "codemirror_mode": {
    "name": "ipython",
    "version": 3
   },
   "file_extension": ".py",
   "mimetype": "text/x-python",
   "name": "python",
   "nbconvert_exporter": "python",
   "pygments_lexer": "ipython3",
   "version": "3.11.0"
  }
 },
 "nbformat": 4,
 "nbformat_minor": 5
}
