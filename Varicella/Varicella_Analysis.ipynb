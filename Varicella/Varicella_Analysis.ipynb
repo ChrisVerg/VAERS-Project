{
 "cells": [
  {
   "cell_type": "markdown",
   "id": "77aa65e1",
   "metadata": {},
   "source": [
    "# Varicella Analysis and Clean Data Exploration\n",
    "\n",
    "## Below is the code, analysis and visualization comparing the Varicella (Chicken Pox) Vaccine injuries against the drop in cases during the progression of the Varicella Vaccine Program. "
   ]
  },
  {
   "cell_type": "code",
   "execution_count": 1,
   "id": "376e75a4",
   "metadata": {},
   "outputs": [],
   "source": [
    "import pandas as pd"
   ]
  },
  {
   "cell_type": "code",
   "execution_count": 2,
   "id": "ef62d536",
   "metadata": {},
   "outputs": [
    {
     "name": "stderr",
     "output_type": "stream",
     "text": [
      "C:\\Users\\chris\\AppData\\Local\\Temp\\ipykernel_15040\\2034063615.py:2: DtypeWarning: Columns (10) have mixed types. Specify dtype option on import or set low_memory=False.\n",
      "  vaers_all = pd.read_csv('C:/Users/chris/Desktop/WozU_Data_Science/VAERS_CleanData/vaers_all.csv')\n"
     ]
    }
   ],
   "source": [
    "# Import the complete clean vaers data from 1990 to 2022\n",
    "vaers_all = pd.read_csv('C:/Users/chris/Desktop/WozU_Data_Science/VAERS_CleanData/vaers_all.csv')"
   ]
  },
  {
   "cell_type": "code",
   "execution_count": 3,
   "id": "0fd831f2",
   "metadata": {},
   "outputs": [],
   "source": [
    "# Import the recorded number of Varicella Cases\n",
    "varicella_cases = pd.read_csv('C:/Users/chris/Desktop/WozU_Data_Science/VAERS_CleanData/varicella_cases.csv')"
   ]
  },
  {
   "cell_type": "code",
   "execution_count": 4,
   "id": "85265592",
   "metadata": {},
   "outputs": [],
   "source": [
    "# Prepare notebook to view data\n",
    "pd.options.display.max_rows = None\n",
    "pd.options.display.max_columns = None"
   ]
  },
  {
   "cell_type": "markdown",
   "id": "ba1154da",
   "metadata": {},
   "source": [
    "# Explore data a merge the information for visualization. \n",
    "\n",
    "## * vaers_all"
   ]
  },
  {
   "cell_type": "code",
   "execution_count": 5,
   "id": "eeffd5d9",
   "metadata": {},
   "outputs": [
    {
     "data": {
      "text/plain": [
       "Index(['Unnamed: 0', 'VAERS_ID', 'VAX_TYPE', 'VAX_MANU', 'VAX_LOT', 'VAX_NAME',\n",
       "       'AGE_YRS', 'STATE', 'SYMPTOM_TEXT', 'DIED', 'ER_VISIT', 'Year'],\n",
       "      dtype='object')"
      ]
     },
     "execution_count": 5,
     "metadata": {},
     "output_type": "execute_result"
    }
   ],
   "source": [
    "vaers_all.columns"
   ]
  },
  {
   "cell_type": "code",
   "execution_count": 6,
   "id": "94c13cda",
   "metadata": {},
   "outputs": [
    {
     "data": {
      "text/html": [
       "<div>\n",
       "<style scoped>\n",
       "    .dataframe tbody tr th:only-of-type {\n",
       "        vertical-align: middle;\n",
       "    }\n",
       "\n",
       "    .dataframe tbody tr th {\n",
       "        vertical-align: top;\n",
       "    }\n",
       "\n",
       "    .dataframe thead th {\n",
       "        text-align: right;\n",
       "    }\n",
       "</style>\n",
       "<table border=\"1\" class=\"dataframe\">\n",
       "  <thead>\n",
       "    <tr style=\"text-align: right;\">\n",
       "      <th></th>\n",
       "      <th>Unnamed: 0</th>\n",
       "      <th>VAERS_ID</th>\n",
       "      <th>VAX_TYPE</th>\n",
       "      <th>VAX_MANU</th>\n",
       "      <th>VAX_LOT</th>\n",
       "      <th>VAX_NAME</th>\n",
       "      <th>AGE_YRS</th>\n",
       "      <th>STATE</th>\n",
       "      <th>SYMPTOM_TEXT</th>\n",
       "      <th>DIED</th>\n",
       "      <th>ER_VISIT</th>\n",
       "      <th>Year</th>\n",
       "    </tr>\n",
       "  </thead>\n",
       "  <tbody>\n",
       "    <tr>\n",
       "      <th>0</th>\n",
       "      <td>0</td>\n",
       "      <td>25001</td>\n",
       "      <td>DTP</td>\n",
       "      <td>CONNAUGHT LABORATORIES</td>\n",
       "      <td>9Q01042</td>\n",
       "      <td>DTP (NO BRAND NAME)</td>\n",
       "      <td>0.2</td>\n",
       "      <td>WI</td>\n",
       "      <td>Loud intense cry with screaming for 1 1/2 hrs....</td>\n",
       "      <td>NaN</td>\n",
       "      <td>NaN</td>\n",
       "      <td>1990</td>\n",
       "    </tr>\n",
       "    <tr>\n",
       "      <th>1</th>\n",
       "      <td>1</td>\n",
       "      <td>25003</td>\n",
       "      <td>DTP</td>\n",
       "      <td>LEDERLE LABORATORIES</td>\n",
       "      <td>259962</td>\n",
       "      <td>DTP (TRI-IMMUNOL)</td>\n",
       "      <td>0.8</td>\n",
       "      <td>TX</td>\n",
       "      <td>Hypotonic, Hyporesponsive episode, Infant died...</td>\n",
       "      <td>Y</td>\n",
       "      <td>NaN</td>\n",
       "      <td>1990</td>\n",
       "    </tr>\n",
       "    <tr>\n",
       "      <th>2</th>\n",
       "      <td>2</td>\n",
       "      <td>25003</td>\n",
       "      <td>OPV</td>\n",
       "      <td>PFIZER\\WYETH</td>\n",
       "      <td>241950</td>\n",
       "      <td>POLIO VIRUS, ORAL (ORIMUNE)</td>\n",
       "      <td>0.8</td>\n",
       "      <td>TX</td>\n",
       "      <td>Hypotonic, Hyporesponsive episode, Infant died...</td>\n",
       "      <td>Y</td>\n",
       "      <td>NaN</td>\n",
       "      <td>1990</td>\n",
       "    </tr>\n",
       "    <tr>\n",
       "      <th>3</th>\n",
       "      <td>3</td>\n",
       "      <td>25004</td>\n",
       "      <td>OPV</td>\n",
       "      <td>PFIZER\\WYETH</td>\n",
       "      <td>232961</td>\n",
       "      <td>POLIO VIRUS, ORAL (ORIMUNE)</td>\n",
       "      <td>0.9</td>\n",
       "      <td>NY</td>\n",
       "      <td>Pt developed chills for approx. 1 hr, felt ach...</td>\n",
       "      <td>NaN</td>\n",
       "      <td>NaN</td>\n",
       "      <td>1990</td>\n",
       "    </tr>\n",
       "    <tr>\n",
       "      <th>4</th>\n",
       "      <td>4</td>\n",
       "      <td>25005</td>\n",
       "      <td>TD</td>\n",
       "      <td>LEDERLE LABORATORIES</td>\n",
       "      <td>247955</td>\n",
       "      <td>TD ADSORBED (NO BRAND NAME)</td>\n",
       "      <td>NaN</td>\n",
       "      <td>OK</td>\n",
       "      <td>7 patients within 2 weeks have reported joint ...</td>\n",
       "      <td>NaN</td>\n",
       "      <td>NaN</td>\n",
       "      <td>1990</td>\n",
       "    </tr>\n",
       "  </tbody>\n",
       "</table>\n",
       "</div>"
      ],
      "text/plain": [
       "   Unnamed: 0  VAERS_ID VAX_TYPE                VAX_MANU  VAX_LOT  \\\n",
       "0           0     25001      DTP  CONNAUGHT LABORATORIES  9Q01042   \n",
       "1           1     25003      DTP    LEDERLE LABORATORIES   259962   \n",
       "2           2     25003      OPV            PFIZER\\WYETH   241950   \n",
       "3           3     25004      OPV            PFIZER\\WYETH   232961   \n",
       "4           4     25005       TD    LEDERLE LABORATORIES   247955   \n",
       "\n",
       "                      VAX_NAME  AGE_YRS STATE  \\\n",
       "0          DTP (NO BRAND NAME)      0.2    WI   \n",
       "1            DTP (TRI-IMMUNOL)      0.8    TX   \n",
       "2  POLIO VIRUS, ORAL (ORIMUNE)      0.8    TX   \n",
       "3  POLIO VIRUS, ORAL (ORIMUNE)      0.9    NY   \n",
       "4  TD ADSORBED (NO BRAND NAME)      NaN    OK   \n",
       "\n",
       "                                        SYMPTOM_TEXT DIED ER_VISIT  Year  \n",
       "0  Loud intense cry with screaming for 1 1/2 hrs....  NaN      NaN  1990  \n",
       "1  Hypotonic, Hyporesponsive episode, Infant died...    Y      NaN  1990  \n",
       "2  Hypotonic, Hyporesponsive episode, Infant died...    Y      NaN  1990  \n",
       "3  Pt developed chills for approx. 1 hr, felt ach...  NaN      NaN  1990  \n",
       "4  7 patients within 2 weeks have reported joint ...  NaN      NaN  1990  "
      ]
     },
     "execution_count": 6,
     "metadata": {},
     "output_type": "execute_result"
    }
   ],
   "source": [
    "vaers_all.head()"
   ]
  },
  {
   "cell_type": "code",
   "execution_count": 7,
   "id": "68cac83a",
   "metadata": {},
   "outputs": [],
   "source": [
    "vaers = vaers_all[['Year', 'VAX_NAME', 'VAERS_ID']]"
   ]
  },
  {
   "cell_type": "code",
   "execution_count": null,
   "id": "341690bf",
   "metadata": {},
   "outputs": [],
   "source": []
  },
  {
   "cell_type": "markdown",
   "id": "d0721cee",
   "metadata": {},
   "source": [
    "## * varicella_cases"
   ]
  },
  {
   "cell_type": "code",
   "execution_count": 10,
   "id": "7e12f9d6",
   "metadata": {},
   "outputs": [],
   "source": [
    "# Varicella_cases represents the number of actual Chicken Pox cases (Varicella) from 1993 to 2021\n",
    "\n",
    "pox_cases = varicella_cases[['Year', 'Number_of_Cases']]"
   ]
  },
  {
   "cell_type": "code",
   "execution_count": 14,
   "id": "ab5889f7",
   "metadata": {
    "scrolled": true
   },
   "outputs": [
    {
     "data": {
      "text/html": [
       "<div>\n",
       "<style scoped>\n",
       "    .dataframe tbody tr th:only-of-type {\n",
       "        vertical-align: middle;\n",
       "    }\n",
       "\n",
       "    .dataframe tbody tr th {\n",
       "        vertical-align: top;\n",
       "    }\n",
       "\n",
       "    .dataframe thead th {\n",
       "        text-align: right;\n",
       "    }\n",
       "</style>\n",
       "<table border=\"1\" class=\"dataframe\">\n",
       "  <thead>\n",
       "    <tr style=\"text-align: right;\">\n",
       "      <th></th>\n",
       "      <th>Year</th>\n",
       "      <th>Number_of_Cases</th>\n",
       "    </tr>\n",
       "  </thead>\n",
       "  <tbody>\n",
       "    <tr>\n",
       "      <th>0</th>\n",
       "      <td>1993</td>\n",
       "      <td>134722</td>\n",
       "    </tr>\n",
       "    <tr>\n",
       "      <th>1</th>\n",
       "      <td>1994</td>\n",
       "      <td>151219</td>\n",
       "    </tr>\n",
       "    <tr>\n",
       "      <th>2</th>\n",
       "      <td>1995</td>\n",
       "      <td>120624</td>\n",
       "    </tr>\n",
       "    <tr>\n",
       "      <th>3</th>\n",
       "      <td>1996</td>\n",
       "      <td>83511</td>\n",
       "    </tr>\n",
       "    <tr>\n",
       "      <th>4</th>\n",
       "      <td>1997</td>\n",
       "      <td>98727</td>\n",
       "    </tr>\n",
       "    <tr>\n",
       "      <th>5</th>\n",
       "      <td>1998</td>\n",
       "      <td>82455</td>\n",
       "    </tr>\n",
       "    <tr>\n",
       "      <th>6</th>\n",
       "      <td>1999</td>\n",
       "      <td>46016</td>\n",
       "    </tr>\n",
       "    <tr>\n",
       "      <th>7</th>\n",
       "      <td>2000</td>\n",
       "      <td>27382</td>\n",
       "    </tr>\n",
       "    <tr>\n",
       "      <th>8</th>\n",
       "      <td>2001</td>\n",
       "      <td>22536</td>\n",
       "    </tr>\n",
       "    <tr>\n",
       "      <th>9</th>\n",
       "      <td>2002</td>\n",
       "      <td>22841</td>\n",
       "    </tr>\n",
       "    <tr>\n",
       "      <th>10</th>\n",
       "      <td>2003</td>\n",
       "      <td>20948</td>\n",
       "    </tr>\n",
       "    <tr>\n",
       "      <th>11</th>\n",
       "      <td>2004</td>\n",
       "      <td>32931</td>\n",
       "    </tr>\n",
       "    <tr>\n",
       "      <th>12</th>\n",
       "      <td>2005</td>\n",
       "      <td>32242</td>\n",
       "    </tr>\n",
       "    <tr>\n",
       "      <th>13</th>\n",
       "      <td>2006</td>\n",
       "      <td>48445</td>\n",
       "    </tr>\n",
       "    <tr>\n",
       "      <th>14</th>\n",
       "      <td>2007</td>\n",
       "      <td>40146</td>\n",
       "    </tr>\n",
       "    <tr>\n",
       "      <th>15</th>\n",
       "      <td>2008</td>\n",
       "      <td>30386</td>\n",
       "    </tr>\n",
       "    <tr>\n",
       "      <th>16</th>\n",
       "      <td>2009</td>\n",
       "      <td>20480</td>\n",
       "    </tr>\n",
       "    <tr>\n",
       "      <th>17</th>\n",
       "      <td>2010</td>\n",
       "      <td>15427</td>\n",
       "    </tr>\n",
       "    <tr>\n",
       "      <th>18</th>\n",
       "      <td>2011</td>\n",
       "      <td>14513</td>\n",
       "    </tr>\n",
       "    <tr>\n",
       "      <th>19</th>\n",
       "      <td>2012</td>\n",
       "      <td>13447</td>\n",
       "    </tr>\n",
       "    <tr>\n",
       "      <th>20</th>\n",
       "      <td>2013</td>\n",
       "      <td>11359</td>\n",
       "    </tr>\n",
       "    <tr>\n",
       "      <th>21</th>\n",
       "      <td>2014</td>\n",
       "      <td>10172</td>\n",
       "    </tr>\n",
       "    <tr>\n",
       "      <th>22</th>\n",
       "      <td>2015</td>\n",
       "      <td>9789</td>\n",
       "    </tr>\n",
       "    <tr>\n",
       "      <th>23</th>\n",
       "      <td>2016</td>\n",
       "      <td>8953</td>\n",
       "    </tr>\n",
       "    <tr>\n",
       "      <th>24</th>\n",
       "      <td>2017</td>\n",
       "      <td>8775</td>\n",
       "    </tr>\n",
       "    <tr>\n",
       "      <th>25</th>\n",
       "      <td>2018</td>\n",
       "      <td>8201</td>\n",
       "    </tr>\n",
       "    <tr>\n",
       "      <th>26</th>\n",
       "      <td>2019</td>\n",
       "      <td>8297</td>\n",
       "    </tr>\n",
       "  </tbody>\n",
       "</table>\n",
       "</div>"
      ],
      "text/plain": [
       "    Year  Number_of_Cases\n",
       "0   1993           134722\n",
       "1   1994           151219\n",
       "2   1995           120624\n",
       "3   1996            83511\n",
       "4   1997            98727\n",
       "5   1998            82455\n",
       "6   1999            46016\n",
       "7   2000            27382\n",
       "8   2001            22536\n",
       "9   2002            22841\n",
       "10  2003            20948\n",
       "11  2004            32931\n",
       "12  2005            32242\n",
       "13  2006            48445\n",
       "14  2007            40146\n",
       "15  2008            30386\n",
       "16  2009            20480\n",
       "17  2010            15427\n",
       "18  2011            14513\n",
       "19  2012            13447\n",
       "20  2013            11359\n",
       "21  2014            10172\n",
       "22  2015             9789\n",
       "23  2016             8953\n",
       "24  2017             8775\n",
       "25  2018             8201\n",
       "26  2019             8297"
      ]
     },
     "execution_count": 14,
     "metadata": {},
     "output_type": "execute_result"
    }
   ],
   "source": [
    "pox_cases\n"
   ]
  },
  {
   "cell_type": "code",
   "execution_count": 12,
   "id": "4cdd507a",
   "metadata": {},
   "outputs": [],
   "source": [
    "pox_cases.to_csv('C:/Users/chris/Desktop/WozU_Data_Science/VAERS_CleanData/varicella_cases.csv')"
   ]
  },
  {
   "cell_type": "code",
   "execution_count": 6,
   "id": "13d5270f",
   "metadata": {},
   "outputs": [],
   "source": [
    "import jupytab as jpy"
   ]
  },
  {
   "cell_type": "code",
   "execution_count": 2,
   "id": "5fce3103",
   "metadata": {},
   "outputs": [
    {
     "data": {
      "text/html": [
       "<div class='tableauPlaceholder' id='viz1677275432772' style='position: relative'><noscript><a href='#'><img alt='Varicella Cases vs. Vax Injuries ' src='https:&#47;&#47;public.tableau.com&#47;static&#47;images&#47;Va&#47;Varicella&#47;VaricellaCasesvs_VaxInjuries&#47;1_rss.png' style='border: none' /></a></noscript><object class='tableauViz'  style='display:none;'><param name='host_url' value='https%3A%2F%2Fpublic.tableau.com%2F' /> <param name='embed_code_version' value='3' /> <param name='site_root' value='' /><param name='name' value='Varicella&#47;VaricellaCasesvs_VaxInjuries' /><param name='tabs' value='no' /><param name='toolbar' value='yes' /><param name='static_image' value='https:&#47;&#47;public.tableau.com&#47;static&#47;images&#47;Va&#47;Varicella&#47;VaricellaCasesvs_VaxInjuries&#47;1.png' /> <param name='animate_transition' value='yes' /><param name='display_static_image' value='yes' /><param name='display_spinner' value='yes' /><param name='display_overlay' value='yes' /><param name='display_count' value='yes' /><param name='language' value='en-US' /></object></div>                <script type='text/javascript'>                    var divElement = document.getElementById('viz1677275432772');                    var vizElement = divElement.getElementsByTagName('object')[0];                    if ( divElement.offsetWidth > 800 ) { vizElement.style.minWidth='420px';vizElement.style.maxWidth='650px';vizElement.style.width='100%';vizElement.style.minHeight='587px';vizElement.style.maxHeight='887px';vizElement.style.height=(divElement.offsetWidth*0.75)+'px';} else if ( divElement.offsetWidth > 500 ) { vizElement.style.minWidth='420px';vizElement.style.maxWidth='650px';vizElement.style.width='100%';vizElement.style.minHeight='587px';vizElement.style.maxHeight='887px';vizElement.style.height=(divElement.offsetWidth*0.75)+'px';} else { vizElement.style.width='100%';vizElement.style.height='727px';}                     var scriptElement = document.createElement('script');                    scriptElement.src = 'https://public.tableau.com/javascripts/api/viz_v1.js';                    vizElement.parentNode.insertBefore(scriptElement, vizElement);                </script>\n"
      ],
      "text/plain": [
       "<IPython.core.display.HTML object>"
      ]
     },
     "metadata": {},
     "output_type": "display_data"
    }
   ],
   "source": [
    "%%html\n",
    "<div class='tableauPlaceholder' id='viz1677275432772' style='position: relative'><noscript><a href='#'><img alt='Varicella Cases vs. Vax Injuries ' src='https:&#47;&#47;public.tableau.com&#47;static&#47;images&#47;Va&#47;Varicella&#47;VaricellaCasesvs_VaxInjuries&#47;1_rss.png' style='border: none' /></a></noscript><object class='tableauViz'  style='display:none;'><param name='host_url' value='https%3A%2F%2Fpublic.tableau.com%2F' /> <param name='embed_code_version' value='3' /> <param name='site_root' value='' /><param name='name' value='Varicella&#47;VaricellaCasesvs_VaxInjuries' /><param name='tabs' value='no' /><param name='toolbar' value='yes' /><param name='static_image' value='https:&#47;&#47;public.tableau.com&#47;static&#47;images&#47;Va&#47;Varicella&#47;VaricellaCasesvs_VaxInjuries&#47;1.png' /> <param name='animate_transition' value='yes' /><param name='display_static_image' value='yes' /><param name='display_spinner' value='yes' /><param name='display_overlay' value='yes' /><param name='display_count' value='yes' /><param name='language' value='en-US' /></object></div>                <script type='text/javascript'>                    var divElement = document.getElementById('viz1677275432772');                    var vizElement = divElement.getElementsByTagName('object')[0];                    if ( divElement.offsetWidth > 800 ) { vizElement.style.minWidth='420px';vizElement.style.maxWidth='650px';vizElement.style.width='100%';vizElement.style.minHeight='587px';vizElement.style.maxHeight='887px';vizElement.style.height=(divElement.offsetWidth*0.75)+'px';} else if ( divElement.offsetWidth > 500 ) { vizElement.style.minWidth='420px';vizElement.style.maxWidth='650px';vizElement.style.width='100%';vizElement.style.minHeight='587px';vizElement.style.maxHeight='887px';vizElement.style.height=(divElement.offsetWidth*0.75)+'px';} else { vizElement.style.width='100%';vizElement.style.height='727px';}                     var scriptElement = document.createElement('script');                    scriptElement.src = 'https://public.tableau.com/javascripts/api/viz_v1.js';                    vizElement.parentNode.insertBefore(scriptElement, vizElement);                </script>"
   ]
  },
  {
   "cell_type": "code",
   "execution_count": null,
   "id": "67285cd4",
   "metadata": {},
   "outputs": [],
   "source": []
  }
 ],
 "metadata": {
  "kernelspec": {
   "display_name": "Python 3 (ipykernel)",
   "language": "python",
   "name": "python3"
  },
  "language_info": {
   "codemirror_mode": {
    "name": "ipython",
    "version": 3
   },
   "file_extension": ".py",
   "mimetype": "text/x-python",
   "name": "python",
   "nbconvert_exporter": "python",
   "pygments_lexer": "ipython3",
   "version": "3.11.0"
  }
 },
 "nbformat": 4,
 "nbformat_minor": 5
}
