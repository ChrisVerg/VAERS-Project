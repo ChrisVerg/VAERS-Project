{
 "cells": [
  {
   "cell_type": "markdown",
   "id": "77aa65e1",
   "metadata": {},
   "source": [
    "# VAERS Analysis and Clean Data Exploration"
   ]
  },
  {
   "cell_type": "code",
   "execution_count": 2,
   "id": "376e75a4",
   "metadata": {},
   "outputs": [],
   "source": [
    "import pandas as pd"
   ]
  },
  {
   "cell_type": "code",
   "execution_count": 3,
   "id": "d349d7d3",
   "metadata": {},
   "outputs": [
    {
     "name": "stderr",
     "output_type": "stream",
     "text": [
      "C:\\Users\\chris\\AppData\\Local\\Temp\\ipykernel_13912\\252520913.py:1: DtypeWarning: Columns (11) have mixed types. Specify dtype option on import or set low_memory=False.\n",
      "  vaers90_22 = pd.read_csv('C:/Users/chris/Desktop/WozU_Data_Science/VAERS-data/VAERS_Clean/vaers90_22.csv')\n"
     ]
    }
   ],
   "source": [
    "vaers90_22 = pd.read_csv('C:/Users/chris/Desktop/WozU_Data_Science/VAERS-data/VAERS_Clean/vaers90_22.csv')"
   ]
  },
  {
   "cell_type": "code",
   "execution_count": 5,
   "id": "24c10561",
   "metadata": {},
   "outputs": [
    {
     "data": {
      "text/plain": [
       "Index(['Unnamed: 0.1', 'Unnamed: 0', 'VAERS_ID', 'VAX_TYPE', 'VAX_MANU',\n",
       "       'VAX_LOT', 'VAX_NAME', 'AGE_YRS', 'STATE', 'SYMPTOM_TEXT', 'DIED',\n",
       "       'ER_VISIT', 'Year'],\n",
       "      dtype='object')"
      ]
     },
     "execution_count": 5,
     "metadata": {},
     "output_type": "execute_result"
    }
   ],
   "source": [
    "vaers90_22.columns"
   ]
  },
  {
   "cell_type": "code",
   "execution_count": 10,
   "id": "0c76bc91",
   "metadata": {},
   "outputs": [
    {
     "data": {
      "text/plain": [
       "2021    783502\n",
       "2022    276445\n",
       "2012     82302\n",
       "2018     62302\n",
       "2019     61192\n",
       "2016     60449\n",
       "2015     57224\n",
       "2017     52751\n",
       "2008     51020\n",
       "2009     50525\n",
       "2010     49602\n",
       "2007     48349\n",
       "2014     47165\n",
       "2013     43336\n",
       "2011     41201\n",
       "2006     31347\n",
       "2003     31243\n",
       "2005     28663\n",
       "2004     28656\n",
       "2002     26852\n",
       "2001     25492\n",
       "2000     23113\n",
       "1999     20072\n",
       "1994     18441\n",
       "1992     18392\n",
       "1995     17794\n",
       "1993     17655\n",
       "1996     17592\n",
       "1997     17247\n",
       "1991     16657\n",
       "1998     15997\n",
       "1990      2787\n",
       "Name: Year, dtype: int64"
      ]
     },
     "execution_count": 10,
     "metadata": {},
     "output_type": "execute_result"
    }
   ],
   "source": [
    "vaers90_22.Year.value_counts()"
   ]
  },
  {
   "cell_type": "code",
   "execution_count": null,
   "id": "ef62d536",
   "metadata": {},
   "outputs": [],
   "source": []
  }
 ],
 "metadata": {
  "kernelspec": {
   "display_name": "Python 3 (ipykernel)",
   "language": "python",
   "name": "python3"
  },
  "language_info": {
   "codemirror_mode": {
    "name": "ipython",
    "version": 3
   },
   "file_extension": ".py",
   "mimetype": "text/x-python",
   "name": "python",
   "nbconvert_exporter": "python",
   "pygments_lexer": "ipython3",
   "version": "3.11.0"
  }
 },
 "nbformat": 4,
 "nbformat_minor": 5
}
