{
 "cells": [
  {
   "cell_type": "code",
   "execution_count": 2,
   "id": "68ec47ef",
   "metadata": {},
   "outputs": [],
   "source": [
    "import pandas as pd"
   ]
  },
  {
   "cell_type": "code",
   "execution_count": 3,
   "id": "cb3ced30",
   "metadata": {},
   "outputs": [],
   "source": [
    "import os "
   ]
  },
  {
   "cell_type": "code",
   "execution_count": 4,
   "id": "b1e18b4d",
   "metadata": {},
   "outputs": [],
   "source": [
    "import glob"
   ]
  },
  {
   "cell_type": "code",
   "execution_count": 5,
   "id": "bcd6d994",
   "metadata": {},
   "outputs": [],
   "source": [
    "import chardet"
   ]
  },
  {
   "cell_type": "markdown",
   "id": "44560371",
   "metadata": {},
   "source": [
    "# This purpose of this notebook is to run a combiner to combine all the vaccine data from CDC's VAERS. "
   ]
  },
  {
   "cell_type": "markdown",
   "id": "cc0ea35e",
   "metadata": {},
   "source": [
    "This code identifies the directory that the shell is currently working in. "
   ]
  },
  {
   "cell_type": "code",
   "execution_count": 6,
   "id": "89c7f95d",
   "metadata": {},
   "outputs": [
    {
     "data": {
      "text/plain": [
       "'C:\\\\Users\\\\chris\\\\Desktop\\\\WozU_Data_Science\\\\VAERS-Project'"
      ]
     },
     "execution_count": 6,
     "metadata": {},
     "output_type": "execute_result"
    }
   ],
   "source": [
    "os.getcwd()"
   ]
  },
  {
   "cell_type": "markdown",
   "id": "e88cdc6a",
   "metadata": {},
   "source": [
    "The directory path needs to reflect the dirctory where the raw data are stored. \n",
    "Then list the files"
   ]
  },
  {
   "cell_type": "code",
   "execution_count": 7,
   "id": "9125d584",
   "metadata": {},
   "outputs": [],
   "source": [
    "os.chdir('C:/Users/chris/Desktop/WozU_Data_Science/VAERS-data')"
   ]
  },
  {
   "cell_type": "code",
   "execution_count": 8,
   "id": "8f17b29b",
   "metadata": {},
   "outputs": [
    {
     "data": {
      "text/plain": [
       "'C:\\\\Users\\\\chris\\\\Desktop\\\\WozU_Data_Science\\\\VAERS-data'"
      ]
     },
     "execution_count": 8,
     "metadata": {},
     "output_type": "execute_result"
    }
   ],
   "source": [
    "os.getcwd()"
   ]
  },
  {
   "cell_type": "code",
   "execution_count": 9,
   "id": "75404a42",
   "metadata": {},
   "outputs": [
    {
     "name": "stdout",
     "output_type": "stream",
     "text": [
      " Volume in drive C is OS\n",
      " Volume Serial Number is A231-A822\n",
      "\n",
      " Directory of C:\\Users\\chris\\Desktop\\WozU_Data_Science\\VAERS-data\n",
      "\n",
      "01/15/2023  04:09 PM    <DIR>          .\n",
      "01/02/2023  12:03 PM    <DIR>          ..\n",
      "01/15/2023  10:03 AM    <DIR>          1990\n",
      "01/15/2023  10:03 AM    <DIR>          1991\n",
      "01/15/2023  10:03 AM    <DIR>          1992\n",
      "01/15/2023  10:03 AM    <DIR>          1993\n",
      "01/15/2023  10:03 AM    <DIR>          1994\n",
      "01/15/2023  10:03 AM    <DIR>          1995\n",
      "01/15/2023  10:07 AM    <DIR>          1996\n",
      "01/15/2023  10:07 AM    <DIR>          1997\n",
      "01/15/2023  10:07 AM    <DIR>          1998\n",
      "01/15/2023  03:57 PM    <DIR>          1999\n",
      "01/15/2023  03:58 PM    <DIR>          2000\n",
      "01/15/2023  03:58 PM    <DIR>          2001\n",
      "01/15/2023  03:58 PM    <DIR>          2002\n",
      "01/15/2023  03:58 PM    <DIR>          2003\n",
      "01/15/2023  03:58 PM    <DIR>          2004\n",
      "01/15/2023  03:58 PM    <DIR>          2005\n",
      "01/15/2023  03:58 PM    <DIR>          2006\n",
      "01/15/2023  03:58 PM    <DIR>          2007\n",
      "01/15/2023  03:59 PM    <DIR>          2008\n",
      "01/15/2023  03:59 PM    <DIR>          2009\n",
      "01/15/2023  03:59 PM    <DIR>          2010\n",
      "01/15/2023  03:59 PM    <DIR>          2011\n",
      "01/15/2023  03:59 PM    <DIR>          2012\n",
      "01/15/2023  03:59 PM    <DIR>          2013\n",
      "01/15/2023  03:59 PM    <DIR>          2014\n",
      "01/15/2023  03:59 PM    <DIR>          2015\n",
      "01/15/2023  03:59 PM    <DIR>          2016\n",
      "01/15/2023  03:59 PM    <DIR>          2017\n",
      "01/15/2023  03:59 PM    <DIR>          2018\n",
      "01/15/2023  04:00 PM    <DIR>          2019\n",
      "01/15/2023  04:00 PM    <DIR>          2020\n",
      "01/15/2023  04:00 PM    <DIR>          2021\n",
      "01/15/2023  04:00 PM    <DIR>          2022\n",
      "01/15/2023  04:09 PM       513,568,636 combined.csv\n",
      "               1 File(s)    513,568,636 bytes\n",
      "              35 Dir(s)  885,677,232,128 bytes free\n"
     ]
    }
   ],
   "source": [
    "ls"
   ]
  },
  {
   "cell_type": "markdown",
   "id": "f2f6da54",
   "metadata": {},
   "source": [
    "Before the files can be combined they must all be converted to utf-8, some are cp-1252\n",
    "\n",
    "Using chardet, check the encoding. "
   ]
  },
  {
   "cell_type": "code",
   "execution_count": null,
   "id": "0576d755",
   "metadata": {},
   "outputs": [],
   "source": []
  }
 ],
 "metadata": {
  "kernelspec": {
   "display_name": "Python 3 (ipykernel)",
   "language": "python",
   "name": "python3"
  },
  "language_info": {
   "codemirror_mode": {
    "name": "ipython",
    "version": 3
   },
   "file_extension": ".py",
   "mimetype": "text/x-python",
   "name": "python",
   "nbconvert_exporter": "python",
   "pygments_lexer": "ipython3",
   "version": "3.11.0"
  }
 },
 "nbformat": 4,
 "nbformat_minor": 5
}
