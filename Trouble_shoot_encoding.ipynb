{
 "cells": [
  {
   "cell_type": "code",
   "execution_count": 1,
   "id": "57b8cbe8",
   "metadata": {},
   "outputs": [],
   "source": [
    "import chardet"
   ]
  },
  {
   "cell_type": "code",
   "execution_count": 2,
   "id": "55208ef8",
   "metadata": {},
   "outputs": [],
   "source": [
    "# import chardet\n",
    "\n",
    "def detect_encoding(filepath):\n",
    "    with open(filepath, 'rb') as f:\n",
    "        result = chardet.detect(f.read())\n",
    "        return result['encoding']\n",
    "\n",
    "# filepath = 'C:/Users/chris/Desktop/WozU_Data_Science/VAERS-data/2021/2021VAERSDATA.csv'\n",
    "# encoding = detect_encoding(filepath)\n",
    "# print(f'Encoding of {filepath} is {encoding}')"
   ]
  },
  {
   "cell_type": "code",
   "execution_count": 3,
   "id": "867ea8a7",
   "metadata": {},
   "outputs": [
    {
     "data": {
      "text/plain": [
       "'utf-8'"
      ]
     },
     "execution_count": 3,
     "metadata": {},
     "output_type": "execute_result"
    }
   ],
   "source": [
    "\n",
    "\n",
    "detect_encoding('C:/Users/chris/Desktop/WozU_Data_Science/VAERS-data/2021/2021VAERSDATA.csv')"
   ]
  },
  {
   "cell_type": "code",
   "execution_count": null,
   "id": "0afcd60b",
   "metadata": {},
   "outputs": [],
   "source": []
  }
 ],
 "metadata": {
  "kernelspec": {
   "display_name": "Python 3 (ipykernel)",
   "language": "python",
   "name": "python3"
  },
  "language_info": {
   "codemirror_mode": {
    "name": "ipython",
    "version": 3
   },
   "file_extension": ".py",
   "mimetype": "text/x-python",
   "name": "python",
   "nbconvert_exporter": "python",
   "pygments_lexer": "ipython3",
   "version": "3.11.0"
  }
 },
 "nbformat": 4,
 "nbformat_minor": 5
}
